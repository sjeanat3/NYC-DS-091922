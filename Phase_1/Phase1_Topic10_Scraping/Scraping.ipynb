{
 "cells": [
  {
   "cell_type": "markdown",
   "metadata": {
    "slideshow": {
     "slide_type": "slide"
    }
   },
   "source": [
    "<div style=\"color:white;\n",
    "           display:fill;\n",
    "           border-radius:5px;\n",
    "           background-color:#5642C5;\n",
    "           font-size:200%;\n",
    "           font-\\amily:Arial;letter-spacing:0.5px\">\n",
    "\n",
    "<p width = 20%, style=\"padding: 10px;\n",
    "              color:white;\">\n",
    "Web Scraping\n",
    "              \n",
    "</p>\n",
    "</div>\n",
    "\n",
    "Data Science Cohort Live NYC Sept 2022\n",
    "<p>Phase 1: Topic 10</p>\n",
    "<br>\n",
    "<br>\n",
    "\n",
    "<div align = \"right\">\n",
    "<img src=\"Images/flatiron-school-logo.png\" align = \"right\" width=\"200\"/>\n",
    "</div>\n",
    "    \n",
    "   "
   ]
  },
  {
   "cell_type": "markdown",
   "metadata": {
    "slideshow": {
     "slide_type": "slide"
    }
   },
   "source": [
    "Previously:\n",
    "    \n",
    "- Accessed data via API\n",
    "\n",
    "Sometimes no programmatic access to data!\n",
    "- No API exists\n",
    "- No SQL server to interact with.\n",
    "- No csv files to download."
   ]
  },
  {
   "cell_type": "markdown",
   "metadata": {
    "slideshow": {
     "slide_type": "slide"
    }
   },
   "source": [
    "Many ecommerce sites: no APIs or databases to interact with.\n",
    "<br>\n",
    "<br>\n",
    "\n",
    "<div>\n",
    "<center><img src=\"Images/prod_page.png\" width=\"600\"/></center>\n",
    "</div>\n",
    "<center> Master of Malt</center>\n",
    "   "
   ]
  },
  {
   "cell_type": "markdown",
   "metadata": {
    "slideshow": {
     "slide_type": "subslide"
    }
   },
   "source": [
    "<div>\n",
    "<center><img src=\"Images/ardbeg_page.png\" width=\"700\"/></center>\n",
    "</div>   "
   ]
  },
  {
   "cell_type": "markdown",
   "metadata": {
    "slideshow": {
     "slide_type": "subslide"
    }
   },
   "source": [
    "There is data on the page\n",
    "<div>\n",
    "<center><img src=\"Images/ardbeg_tast_nt.png\" width=\"600\"/></center>\n",
    "</div>   "
   ]
  },
  {
   "cell_type": "markdown",
   "metadata": {
    "slideshow": {
     "slide_type": "slide"
    }
   },
   "source": [
    "Find the data is in the web site source code...\n",
    "<div>\n",
    "<center><img src=\"Images/source_whiskex.png\" width=\"1800\"/></center>\n",
    "</div>\n",
    "    <center> Data embedded within a soup of HTML tags </center>   "
   ]
  },
  {
   "cell_type": "markdown",
   "metadata": {
    "slideshow": {
     "slide_type": "slide"
    }
   },
   "source": [
    "Let's take a look at a very simple sample web site."
   ]
  },
  {
   "cell_type": "markdown",
   "metadata": {
    "slideshow": {
     "slide_type": "slide"
    }
   },
   "source": [
    "#### HyperText Markup Language (HTML)\n",
    "\n",
    "Tells a browser how to layout content.\n",
    "\n",
    "- Consists of elements called tags. \n",
    "- The most basic tag is the html tag: specfies everything inside of opening/closing tags is HTML. \n",
    "\n",
    "Take a look at an example website.\n"
   ]
  },
  {
   "cell_type": "markdown",
   "metadata": {
    "slideshow": {
     "slide_type": "slide"
    }
   },
   "source": [
    "### Let's take a look at Yelp\n",
    "- Open up yelp.com in your browser.\n",
    "- Open up the inspector\n",
    "    - Mac: cmd+option+c\n",
    "    - Windows: ctrl+shift+c\n",
    "- Click on the elements tab, and click on an element"
   ]
  },
  {
   "cell_type": "markdown",
   "metadata": {
    "slideshow": {
     "slide_type": "slide"
    }
   },
   "source": [
    "| Tag | Function | \n",
    "| --- | --- |\n",
    "| html | Denotes extent of HTML document |\n",
    "| head | External style sheet definition, metadata, titles |\n",
    "| title | Web page title |\n",
    "| body | Specifies main web page content block |\n",
    "| h1-h6 | Section heading (ordered by decreasing size)|\n",
    "| p | Represents paragraph |\n",
    "| div | Defines division or section of document |\n",
    "| span | Meant for inline or small selection  |\n",
    "| img | Signifies image and defines source |\n",
    "| a | Linking to external sites or internal events  |\n",
    "| ul | Declare unordered (bulleted) list |\n",
    "| li | List item |"
   ]
  },
  {
   "cell_type": "markdown",
   "metadata": {
    "slideshow": {
     "slide_type": "slide"
    }
   },
   "source": [
    "#### CSS (Cascading Style Sheets)\n",
    "\n",
    "- Uses class and id modifiers on tag.\n",
    "- Styling:\n",
    "    - Color\n",
    "    - Font\n",
    "    - Spacing,\n",
    "    - etc.\n",
    "- Can use external sheet for styling\n",
    "- Separate content and styling."
   ]
  },
  {
   "cell_type": "markdown",
   "metadata": {
    "slideshow": {
     "slide_type": "slide"
    }
   },
   "source": [
    "#### Structure of tag levels\n",
    "- HTML document structured as tree structure:\n",
    "<br>\n",
    "<br>\n",
    "<div>\n",
    "    <center><img src=\"Images/html_tree.png\" width=\"500\"/></center>\n",
    "</div>"
   ]
  },
  {
   "cell_type": "markdown",
   "metadata": {
    "slideshow": {
     "slide_type": "slide"
    }
   },
   "source": [
    "#### Goal\n",
    "Extract information structured by tags.\n",
    "\n",
    "- Get HTML documents as text.\n",
    "- Parse tags and extract data."
   ]
  },
  {
   "cell_type": "markdown",
   "metadata": {
    "slideshow": {
     "slide_type": "slide"
    }
   },
   "source": [
    "#### Web scraping frameworks\n",
    "\n",
    "<div>\n",
    "    <center><img src=\"Images/scrapy.png\" width=\"180\"/></center>\n",
    "</div>\n",
    "<div>\n",
    "<center><img src=\"Images/selenium.png\" width=\"300\"/></center>\n",
    "</div>\n",
    "<div>\n",
    "<center><img src=\"Images/bs4.png\" width=\"300\"/></center>\n",
    "</div>"
   ]
  },
  {
   "cell_type": "markdown",
   "metadata": {
    "cell_style": "split",
    "slideshow": {
     "slide_type": "slide"
    }
   },
   "source": [
    "We will use:\n",
    "\n",
    "<div>\n",
    "<center><img src=\"Images/bs4.png\" width=\"400\"/></center>\n",
    "</div>"
   ]
  },
  {
   "cell_type": "markdown",
   "metadata": {
    "cell_style": "split",
    "slideshow": {
     "slide_type": "fragment"
    }
   },
   "source": [
    "<div>\n",
    "<center><img src=\"Images/requests.png\" width=\"300\"/></center>\n",
    "</div>"
   ]
  },
  {
   "cell_type": "markdown",
   "metadata": {
    "slideshow": {
     "slide_type": "fragment"
    }
   },
   "source": [
    "- **Requests**: grab the HTML content as text.\n",
    "- **BeautifulSoup**: parse the content and extract data."
   ]
  },
  {
   "cell_type": "code",
   "execution_count": 1,
   "metadata": {
    "slideshow": {
     "slide_type": "slide"
    }
   },
   "outputs": [],
   "source": [
    "# import requests\n",
    "import requests"
   ]
  },
  {
   "cell_type": "markdown",
   "metadata": {
    "slideshow": {
     "slide_type": "slide"
    }
   },
   "source": [
    "Make requests on a simple webpage:"
   ]
  },
  {
   "cell_type": "code",
   "execution_count": 2,
   "metadata": {
    "slideshow": {
     "slide_type": "fragment"
    }
   },
   "outputs": [],
   "source": [
    "sample_url = \"http://dataquestio.github.io/web-scraping-pages/simple.html\"\n",
    "r = requests.get(sample_url)"
   ]
  },
  {
   "cell_type": "markdown",
   "metadata": {
    "slideshow": {
     "slide_type": "slide"
    }
   },
   "source": [
    "Let's get the content:\n",
    "- like .text attribute\n",
    "- returns in byte representation."
   ]
  },
  {
   "cell_type": "code",
   "execution_count": 3,
   "metadata": {
    "slideshow": {
     "slide_type": "fragment"
    }
   },
   "outputs": [
    {
     "data": {
      "text/plain": [
       "b'<!DOCTYPE html>\\n<html>\\n    <head>\\n        <title>A simple example page</title>\\n    </head>\\n    <body>\\n        <p>Here is some simple content for this page.</p>\\n    </body>\\n</html>'"
      ]
     },
     "execution_count": 3,
     "metadata": {},
     "output_type": "execute_result"
    }
   ],
   "source": [
    "req_content = r.content\n",
    "req_content "
   ]
  },
  {
   "cell_type": "markdown",
   "metadata": {
    "slideshow": {
     "slide_type": "slide"
    }
   },
   "source": [
    "- Pretty ugly.\n",
    "- Parse and get relevant data:\n",
    "    - Want to use HTML tree structure.\n",
    "    - Class and id structure.\n",
    "    \n",
    "BeautifulSoup helps us with this:"
   ]
  },
  {
   "cell_type": "code",
   "execution_count": 4,
   "metadata": {
    "slideshow": {
     "slide_type": "slide"
    }
   },
   "outputs": [],
   "source": [
    "from bs4 import BeautifulSoup"
   ]
  },
  {
   "cell_type": "markdown",
   "metadata": {
    "slideshow": {
     "slide_type": "fragment"
    }
   },
   "source": [
    "Create Soup object with web site content as input."
   ]
  },
  {
   "cell_type": "code",
   "execution_count": 5,
   "metadata": {
    "scrolled": false,
    "slideshow": {
     "slide_type": "fragment"
    }
   },
   "outputs": [],
   "source": [
    "soup = BeautifulSoup(req_content, 'html.parser') "
   ]
  },
  {
   "cell_type": "code",
   "execution_count": 6,
   "metadata": {
    "slideshow": {
     "slide_type": "subslide"
    }
   },
   "outputs": [
    {
     "name": "stdout",
     "output_type": "stream",
     "text": [
      "<!DOCTYPE html>\n",
      "<html>\n",
      " <head>\n",
      "  <title>\n",
      "   A simple example page\n",
      "  </title>\n",
      " </head>\n",
      " <body>\n",
      "  <p>\n",
      "   Here is some simple content for this page.\n",
      "  </p>\n",
      " </body>\n",
      "</html>\n"
     ]
    }
   ],
   "source": [
    "print(soup.prettify())"
   ]
  },
  {
   "cell_type": "markdown",
   "metadata": {
    "slideshow": {
     "slide_type": "subslide"
    }
   },
   "source": [
    "Soup is parsing structure and hierarchy of tags and content in HTML document.\n",
    "\n",
    "Can go tranverse through tree hierarchy:"
   ]
  },
  {
   "cell_type": "markdown",
   "metadata": {
    "slideshow": {
     "slide_type": "slide"
    }
   },
   "source": [
    "#### Descending through hierarchy"
   ]
  },
  {
   "cell_type": "code",
   "execution_count": 7,
   "metadata": {
    "slideshow": {
     "slide_type": "fragment"
    }
   },
   "outputs": [
    {
     "data": {
      "text/plain": [
       "<!DOCTYPE html>\n",
       "\n",
       "<html>\n",
       "<head>\n",
       "<title>A simple example page</title>\n",
       "</head>\n",
       "<body>\n",
       "<p>Here is some simple content for this page.</p>\n",
       "</body>\n",
       "</html>"
      ]
     },
     "execution_count": 7,
     "metadata": {},
     "output_type": "execute_result"
    }
   ],
   "source": [
    "soup"
   ]
  },
  {
   "cell_type": "code",
   "execution_count": 8,
   "metadata": {
    "cell_style": "split",
    "slideshow": {
     "slide_type": "slide"
    }
   },
   "outputs": [
    {
     "data": {
      "text/plain": [
       "<html>\n",
       "<head>\n",
       "<title>A simple example page</title>\n",
       "</head>\n",
       "<body>\n",
       "<p>Here is some simple content for this page.</p>\n",
       "</body>\n",
       "</html>"
      ]
     },
     "execution_count": 8,
     "metadata": {},
     "output_type": "execute_result"
    }
   ],
   "source": [
    "html_level = soup.html\n",
    "html_level"
   ]
  },
  {
   "cell_type": "markdown",
   "metadata": {
    "cell_style": "split",
    "slideshow": {
     "slide_type": "fragment"
    }
   },
   "source": [
    "Tag element contains:\n",
    "- node tag\n",
    "- node contents (children nodes, text, etc.)"
   ]
  },
  {
   "cell_type": "code",
   "execution_count": 9,
   "metadata": {
    "cell_style": "split",
    "slideshow": {
     "slide_type": "fragment"
    }
   },
   "outputs": [
    {
     "data": {
      "text/plain": [
       "bs4.element.Tag"
      ]
     },
     "execution_count": 9,
     "metadata": {},
     "output_type": "execute_result"
    }
   ],
   "source": [
    "type(html_level)"
   ]
  },
  {
   "cell_type": "markdown",
   "metadata": {
    "cell_style": "center",
    "slideshow": {
     "slide_type": "slide"
    }
   },
   "source": [
    "**.name** attribute \n",
    "\n",
    "Can get the name of the node that you are at:\n",
    "- .name attribute of Soup/Tag objects    "
   ]
  },
  {
   "cell_type": "code",
   "execution_count": 10,
   "metadata": {
    "cell_style": "center",
    "slideshow": {
     "slide_type": "fragment"
    }
   },
   "outputs": [
    {
     "data": {
      "text/plain": [
       "'html'"
      ]
     },
     "execution_count": 10,
     "metadata": {},
     "output_type": "execute_result"
    }
   ],
   "source": [
    "html_level.name"
   ]
  },
  {
   "cell_type": "markdown",
   "metadata": {
    "slideshow": {
     "slide_type": "slide"
    }
   },
   "source": [
    "**.contents** attribute\n",
    "\n",
    "- gets list of tag's children"
   ]
  },
  {
   "cell_type": "code",
   "execution_count": 11,
   "metadata": {
    "slideshow": {
     "slide_type": "fragment"
    }
   },
   "outputs": [
    {
     "data": {
      "text/plain": [
       "['\\n',\n",
       " <head>\n",
       " <title>A simple example page</title>\n",
       " </head>,\n",
       " '\\n',\n",
       " <body>\n",
       " <p>Here is some simple content for this page.</p>\n",
       " </body>,\n",
       " '\\n']"
      ]
     },
     "execution_count": 11,
     "metadata": {},
     "output_type": "execute_result"
    }
   ],
   "source": [
    "html_level.contents"
   ]
  },
  {
   "cell_type": "markdown",
   "metadata": {
    "slideshow": {
     "slide_type": "slide"
    }
   },
   "source": [
    "**.children** attribute\n",
    "\n",
    "Can also yield the children as generator:\n",
    "- as opposed to .contents which yields entire list of children.\n",
    "- useful when creating list comprehensions off the tag's children."
   ]
  },
  {
   "cell_type": "code",
   "execution_count": 12,
   "metadata": {
    "cell_style": "center",
    "slideshow": {
     "slide_type": "fragment"
    }
   },
   "outputs": [
    {
     "data": {
      "text/plain": [
       "<list_iterator at 0x7fd810609760>"
      ]
     },
     "execution_count": 12,
     "metadata": {},
     "output_type": "execute_result"
    }
   ],
   "source": [
    "html_level.children"
   ]
  },
  {
   "cell_type": "markdown",
   "metadata": {
    "cell_style": "split",
    "slideshow": {
     "slide_type": "slide"
    }
   },
   "source": [
    "Get the name of the tags of html's direct children:\n",
    "- need to exclude line breaks."
   ]
  },
  {
   "cell_type": "code",
   "execution_count": 13,
   "metadata": {
    "cell_style": "split",
    "slideshow": {
     "slide_type": "fragment"
    }
   },
   "outputs": [],
   "source": [
    "children_names = \\\n",
    "[child.name for child \n",
    " in html_level.children \n",
    " if child != '\\n']"
   ]
  },
  {
   "cell_type": "code",
   "execution_count": 14,
   "metadata": {
    "cell_style": "split",
    "slideshow": {
     "slide_type": "fragment"
    }
   },
   "outputs": [
    {
     "data": {
      "text/plain": [
       "['head', 'body']"
      ]
     },
     "execution_count": 14,
     "metadata": {},
     "output_type": "execute_result"
    }
   ],
   "source": [
    "children_names"
   ]
  },
  {
   "cell_type": "markdown",
   "metadata": {
    "cell_style": "split",
    "slideshow": {
     "slide_type": "slide"
    }
   },
   "source": [
    "Let's access the body child and go down the branch:\n",
    "- Can address body child as an attribute of previous level."
   ]
  },
  {
   "cell_type": "code",
   "execution_count": 15,
   "metadata": {
    "cell_style": "split",
    "slideshow": {
     "slide_type": "fragment"
    }
   },
   "outputs": [
    {
     "data": {
      "text/plain": [
       "<body>\n",
       "<p>Here is some simple content for this page.</p>\n",
       "</body>"
      ]
     },
     "execution_count": 15,
     "metadata": {},
     "output_type": "execute_result"
    }
   ],
   "source": [
    "body_level = html_level.body\n",
    "body_level"
   ]
  },
  {
   "cell_type": "markdown",
   "metadata": {
    "slideshow": {
     "slide_type": "slide"
    }
   },
   "source": [
    "There's another level left down this branch:"
   ]
  },
  {
   "cell_type": "code",
   "execution_count": 16,
   "metadata": {
    "cell_style": "split",
    "slideshow": {
     "slide_type": "fragment"
    }
   },
   "outputs": [
    {
     "data": {
      "text/plain": [
       "<body>\n",
       "<p>Here is some simple content for this page.</p>\n",
       "</body>"
      ]
     },
     "execution_count": 16,
     "metadata": {},
     "output_type": "execute_result"
    }
   ],
   "source": [
    "body_level"
   ]
  },
  {
   "cell_type": "markdown",
   "metadata": {
    "cell_style": "split",
    "slideshow": {
     "slide_type": "fragment"
    }
   },
   "source": [
    "Accessing the paragraph <p> child:"
   ]
  },
  {
   "cell_type": "code",
   "execution_count": 17,
   "metadata": {
    "cell_style": "split",
    "slideshow": {
     "slide_type": "fragment"
    }
   },
   "outputs": [
    {
     "data": {
      "text/plain": [
       "<p>Here is some simple content for this page.</p>"
      ]
     },
     "execution_count": 17,
     "metadata": {},
     "output_type": "execute_result"
    }
   ],
   "source": [
    "p_level = body_level.p\n",
    "p_level"
   ]
  },
  {
   "cell_type": "markdown",
   "metadata": {
    "slideshow": {
     "slide_type": "slide"
    }
   },
   "source": [
    "**.text** attribute\n",
    "\n",
    "Get the text inside the tag:\n",
    "- .text attribute"
   ]
  },
  {
   "cell_type": "code",
   "execution_count": 18,
   "metadata": {
    "slideshow": {
     "slide_type": "fragment"
    }
   },
   "outputs": [
    {
     "data": {
      "text/plain": [
       "'Here is some simple content for this page.'"
      ]
     },
     "execution_count": 18,
     "metadata": {},
     "output_type": "execute_result"
    }
   ],
   "source": [
    "p_level.text"
   ]
  },
  {
   "cell_type": "markdown",
   "metadata": {
    "slideshow": {
     "slide_type": "slide"
    }
   },
   "source": [
    "#### Going up levels:\n",
    "**.parent** attribute:\n",
    "- We can also go the other way:"
   ]
  },
  {
   "cell_type": "code",
   "execution_count": 19,
   "metadata": {
    "slideshow": {
     "slide_type": "fragment"
    }
   },
   "outputs": [
    {
     "data": {
      "text/plain": [
       "<body>\n",
       "<p>Here is some simple content for this page.</p>\n",
       "</body>"
      ]
     },
     "execution_count": 19,
     "metadata": {},
     "output_type": "execute_result"
    }
   ],
   "source": [
    "p_level.parent"
   ]
  },
  {
   "cell_type": "markdown",
   "metadata": {
    "slideshow": {
     "slide_type": "fragment"
    }
   },
   "source": [
    "Not too shabby."
   ]
  },
  {
   "cell_type": "markdown",
   "metadata": {
    "slideshow": {
     "slide_type": "slide"
    }
   },
   "source": [
    "#### Going sideways\n",
    "- Traversing through siblings"
   ]
  },
  {
   "cell_type": "markdown",
   "metadata": {
    "slideshow": {
     "slide_type": "slide"
    }
   },
   "source": [
    "**.previous_siblings** attribute\n",
    "- generator that creates previous siblings"
   ]
  },
  {
   "cell_type": "code",
   "execution_count": 20,
   "metadata": {
    "cell_style": "split",
    "slideshow": {
     "slide_type": "fragment"
    }
   },
   "outputs": [
    {
     "data": {
      "text/plain": [
       "<html>\n",
       "<head>\n",
       "<title>A simple example page</title>\n",
       "</head>\n",
       "<body>\n",
       "<p>Here is some simple content for this page.</p>\n",
       "</body>\n",
       "</html>"
      ]
     },
     "execution_count": 20,
     "metadata": {},
     "output_type": "execute_result"
    }
   ],
   "source": [
    "html_level"
   ]
  },
  {
   "cell_type": "code",
   "execution_count": 21,
   "metadata": {
    "cell_style": "split",
    "slideshow": {
     "slide_type": "fragment"
    }
   },
   "outputs": [
    {
     "data": {
      "text/plain": [
       "<body>\n",
       "<p>Here is some simple content for this page.</p>\n",
       "</body>"
      ]
     },
     "execution_count": 21,
     "metadata": {},
     "output_type": "execute_result"
    }
   ],
   "source": [
    "body_level"
   ]
  },
  {
   "cell_type": "code",
   "execution_count": 22,
   "metadata": {
    "cell_style": "split",
    "slideshow": {
     "slide_type": "fragment"
    }
   },
   "outputs": [
    {
     "data": {
      "text/plain": [
       "<generator object PageElement.previous_siblings at 0x7fd810618190>"
      ]
     },
     "execution_count": 22,
     "metadata": {},
     "output_type": "execute_result"
    }
   ],
   "source": [
    "prev_sibs = body_level.previous_siblings\n",
    "prev_sibs"
   ]
  },
  {
   "cell_type": "markdown",
   "metadata": {
    "cell_style": "split",
    "slideshow": {
     "slide_type": "slide"
    }
   },
   "source": [
    "Traversing the generator:\n",
    "- goes backwards through previous siblings with next() operator\n",
    "- terminates when exhausts previous siblings"
   ]
  },
  {
   "cell_type": "code",
   "execution_count": 23,
   "metadata": {
    "cell_style": "split",
    "slideshow": {
     "slide_type": "fragment"
    }
   },
   "outputs": [
    {
     "data": {
      "text/plain": [
       "'\\n'"
      ]
     },
     "execution_count": 23,
     "metadata": {},
     "output_type": "execute_result"
    }
   ],
   "source": [
    "next(prev_sibs)"
   ]
  },
  {
   "cell_type": "markdown",
   "metadata": {
    "slideshow": {
     "slide_type": "slide"
    }
   },
   "source": [
    "Can be used in a list comprehension as well:\n",
    "- get tag names of previous siblings excluding line breaks"
   ]
  },
  {
   "cell_type": "code",
   "execution_count": 24,
   "metadata": {
    "slideshow": {
     "slide_type": "fragment"
    }
   },
   "outputs": [
    {
     "data": {
      "text/plain": [
       "['head']"
      ]
     },
     "execution_count": 24,
     "metadata": {},
     "output_type": "execute_result"
    }
   ],
   "source": [
    "prevsib_names = [prev_sib.name for prev_sib in body_level.previous_siblings if prev_sib != \"\\n\"]\n",
    "prevsib_names"
   ]
  },
  {
   "cell_type": "markdown",
   "metadata": {
    "cell_style": "split",
    "slideshow": {
     "slide_type": "slide"
    }
   },
   "source": [
    "**.next_siblings** attribute: \n",
    "- does the same thing but for siblings following the current tag"
   ]
  },
  {
   "cell_type": "code",
   "execution_count": 25,
   "metadata": {
    "cell_style": "split",
    "slideshow": {
     "slide_type": "fragment"
    }
   },
   "outputs": [
    {
     "data": {
      "text/plain": [
       "['\\n',\n",
       " <body>\n",
       " <p>Here is some simple content for this page.</p>\n",
       " </body>,\n",
       " '\\n']"
      ]
     },
     "execution_count": 25,
     "metadata": {},
     "output_type": "execute_result"
    }
   ],
   "source": [
    "head_level = html_level.head\n",
    "list(head_level.next_siblings)"
   ]
  },
  {
   "cell_type": "markdown",
   "metadata": {
    "slideshow": {
     "slide_type": "slide"
    }
   },
   "source": [
    "Previous web-site was very simple. Website usually has more complex tree structures:\n",
    "- A given tag can have many children of the same type. Want all children of a given type.\n",
    "- Dealing with nested structures: divs within divs \n",
    "- A set of children with a given class. \n",
    "- Specific tag with a unique id  "
   ]
  },
  {
   "cell_type": "markdown",
   "metadata": {
    "slideshow": {
     "slide_type": "slide"
    }
   },
   "source": [
    "A more complex but still simple example might help:"
   ]
  },
  {
   "cell_type": "code",
   "execution_count": 26,
   "metadata": {
    "slideshow": {
     "slide_type": "slide"
    }
   },
   "outputs": [
    {
     "data": {
      "text/plain": [
       "<html>\n",
       "<head>\n",
       "<title>A simple example page</title>\n",
       "</head>\n",
       "<body>\n",
       "<div>\n",
       "<p class=\"inner-text first-item\" id=\"first\">\n",
       "                First paragraph.\n",
       "            </p>\n",
       "<p class=\"inner-text\">\n",
       "                Second paragraph.\n",
       "            </p>\n",
       "</div>\n",
       "<p class=\"outer-text first-item\" id=\"second\">\n",
       "<b>\n",
       "                First outer paragraph.\n",
       "            </b>\n",
       "</p>\n",
       "<p class=\"outer-text\">\n",
       "<b>\n",
       "                Second outer paragraph.\n",
       "            </b>\n",
       "</p>\n",
       "</body>\n",
       "</html>"
      ]
     },
     "execution_count": 26,
     "metadata": {},
     "output_type": "execute_result"
    }
   ],
   "source": [
    "page = requests.get(\"http://dataquestio.github.io/web-scraping-pages/ids_and_classes.html\")\n",
    "soup = BeautifulSoup(page.content)\n",
    "soup"
   ]
  },
  {
   "cell_type": "markdown",
   "metadata": {
    "slideshow": {
     "slide_type": "slide"
    }
   },
   "source": [
    "Going down to the body level:"
   ]
  },
  {
   "cell_type": "code",
   "execution_count": 27,
   "metadata": {
    "slideshow": {
     "slide_type": "fragment"
    }
   },
   "outputs": [
    {
     "data": {
      "text/plain": [
       "<body>\n",
       "<div>\n",
       "<p class=\"inner-text first-item\" id=\"first\">\n",
       "                First paragraph.\n",
       "            </p>\n",
       "<p class=\"inner-text\">\n",
       "                Second paragraph.\n",
       "            </p>\n",
       "</div>\n",
       "<p class=\"outer-text first-item\" id=\"second\">\n",
       "<b>\n",
       "                First outer paragraph.\n",
       "            </b>\n",
       "</p>\n",
       "<p class=\"outer-text\">\n",
       "<b>\n",
       "                Second outer paragraph.\n",
       "            </b>\n",
       "</p>\n",
       "</body>"
      ]
     },
     "execution_count": 27,
     "metadata": {},
     "output_type": "execute_result"
    }
   ],
   "source": [
    "body_level = soup.html.body\n",
    "body_level"
   ]
  },
  {
   "cell_type": "markdown",
   "metadata": {
    "slideshow": {
     "slide_type": "slide"
    }
   },
   "source": [
    "There are many p tags.\n",
    "- Want all p tags:"
   ]
  },
  {
   "cell_type": "code",
   "execution_count": 28,
   "metadata": {
    "slideshow": {
     "slide_type": "fragment"
    }
   },
   "outputs": [
    {
     "data": {
      "text/plain": [
       "<p class=\"inner-text first-item\" id=\"first\">\n",
       "                First paragraph.\n",
       "            </p>"
      ]
     },
     "execution_count": 28,
     "metadata": {},
     "output_type": "execute_result"
    }
   ],
   "source": [
    "body_level.p"
   ]
  },
  {
   "cell_type": "markdown",
   "metadata": {
    "slideshow": {
     "slide_type": "fragment"
    }
   },
   "source": [
    "Only got the first."
   ]
  },
  {
   "cell_type": "markdown",
   "metadata": {
    "cell_style": "split",
    "slideshow": {
     "slide_type": "slide"
    }
   },
   "source": [
    "We need:\n",
    "    \n",
    ".find_all() \n",
    "- finds all instances of specified tags contained in current node.\n",
    "- returns a list"
   ]
  },
  {
   "cell_type": "code",
   "execution_count": 29,
   "metadata": {
    "cell_style": "split",
    "slideshow": {
     "slide_type": "fragment"
    }
   },
   "outputs": [
    {
     "data": {
      "text/plain": [
       "[<p class=\"inner-text first-item\" id=\"first\">\n",
       "                 First paragraph.\n",
       "             </p>,\n",
       " <p class=\"inner-text\">\n",
       "                 Second paragraph.\n",
       "             </p>,\n",
       " <p class=\"outer-text first-item\" id=\"second\">\n",
       " <b>\n",
       "                 First outer paragraph.\n",
       "             </b>\n",
       " </p>,\n",
       " <p class=\"outer-text\">\n",
       " <b>\n",
       "                 Second outer paragraph.\n",
       "             </b>\n",
       " </p>]"
      ]
     },
     "execution_count": 29,
     "metadata": {},
     "output_type": "execute_result"
    }
   ],
   "source": [
    "body_level.find_all('p')"
   ]
  },
  {
   "cell_type": "markdown",
   "metadata": {
    "cell_style": "split",
    "slideshow": {
     "slide_type": "slide"
    }
   },
   "source": [
    "But let's take a closer look at the body structure:\n",
    "- .prettify() can sometimes be useful"
   ]
  },
  {
   "cell_type": "code",
   "execution_count": 30,
   "metadata": {
    "cell_style": "split",
    "slideshow": {
     "slide_type": "fragment"
    }
   },
   "outputs": [
    {
     "name": "stdout",
     "output_type": "stream",
     "text": [
      "<body>\n",
      " <div>\n",
      "  <p class=\"inner-text first-item\" id=\"first\">\n",
      "   First paragraph.\n",
      "  </p>\n",
      "  <p class=\"inner-text\">\n",
      "   Second paragraph.\n",
      "  </p>\n",
      " </div>\n",
      " <p class=\"outer-text first-item\" id=\"second\">\n",
      "  <b>\n",
      "   First outer paragraph.\n",
      "  </b>\n",
      " </p>\n",
      " <p class=\"outer-text\">\n",
      "  <b>\n",
      "   Second outer paragraph.\n",
      "  </b>\n",
      " </p>\n",
      "</body>\n",
      "\n"
     ]
    }
   ],
   "source": [
    "print(body_level.prettify())"
   ]
  },
  {
   "cell_type": "markdown",
   "metadata": {
    "cell_style": "split",
    "slideshow": {
     "slide_type": "slide"
    }
   },
   "source": [
    "**Nested structures**\n",
    "- One set of paragraphs p tags contained in a div\n",
    "- Other set as direct children of body.\n",
    "\n",
    "May want to access p tags that are direct children."
   ]
  },
  {
   "cell_type": "markdown",
   "metadata": {
    "cell_style": "split",
    "slideshow": {
     "slide_type": "fragment"
    }
   },
   "source": [
    ".find_all() has recursive argument (True as default)\n",
    "- recursive = False:\n",
    "- gets immediate children satisying requirement"
   ]
  },
  {
   "cell_type": "code",
   "execution_count": 31,
   "metadata": {
    "cell_style": "center",
    "slideshow": {
     "slide_type": "slide"
    }
   },
   "outputs": [
    {
     "data": {
      "text/plain": [
       "[<p class=\"outer-text first-item\" id=\"second\">\n",
       " <b>\n",
       "                 First outer paragraph.\n",
       "             </b>\n",
       " </p>,\n",
       " <p class=\"outer-text\">\n",
       " <b>\n",
       "                 Second outer paragraph.\n",
       "             </b>\n",
       " </p>]"
      ]
     },
     "execution_count": 31,
     "metadata": {},
     "output_type": "execute_result"
    }
   ],
   "source": [
    "body_level.find_all('p', recursive = False)"
   ]
  },
  {
   "cell_type": "markdown",
   "metadata": {
    "cell_style": "center",
    "slideshow": {
     "slide_type": "fragment"
    }
   },
   "source": [
    "This is the paragraph tags on the outer level.\n",
    "- direct children of the body"
   ]
  },
  {
   "cell_type": "markdown",
   "metadata": {
    "slideshow": {
     "slide_type": "slide"
    }
   },
   "source": [
    "**Exercise**: get me the paragraph Tags nested in the div layer."
   ]
  },
  {
   "cell_type": "code",
   "execution_count": 32,
   "metadata": {
    "slideshow": {
     "slide_type": "fragment"
    }
   },
   "outputs": [],
   "source": [
    "# do it!\n",
    "#body_level"
   ]
  },
  {
   "cell_type": "markdown",
   "metadata": {
    "cell_style": "split",
    "slideshow": {
     "slide_type": "fragment"
    }
   },
   "source": [
    "<details>\n",
    "    <summary><b><u>Solution</u></b></summary>\n",
    "\n",
    "```python \n",
    "body_level.div.find_all('p')\n",
    "\n",
    "```\n",
    "</details>\n"
   ]
  },
  {
   "cell_type": "code",
   "execution_count": 33,
   "metadata": {
    "cell_style": "center",
    "slideshow": {
     "slide_type": "fragment"
    }
   },
   "outputs": [
    {
     "data": {
      "text/plain": [
       "[<p class=\"inner-text first-item\" id=\"first\">\n",
       "                 First paragraph.\n",
       "             </p>,\n",
       " <p class=\"inner-text\">\n",
       "                 Second paragraph.\n",
       "             </p>]"
      ]
     },
     "execution_count": 33,
     "metadata": {},
     "output_type": "execute_result"
    }
   ],
   "source": [
    "# can be useful if div had class arguments\n",
    "# id arguments\n",
    "\n",
    "body_level.find('div').find_all('p')"
   ]
  },
  {
   "cell_type": "markdown",
   "metadata": {
    "cell_style": "center",
    "slideshow": {
     "slide_type": "slide"
    }
   },
   "source": [
    "#### Class and id selectors\n",
    "\n",
    "- a grouping of tags (class)\n",
    "- naming a specific tag instance (id).\n",
    "\n",
    "Used in CSS styling.\n",
    "\n",
    "Can also use this for data selection / scraping."
   ]
  },
  {
   "cell_type": "markdown",
   "metadata": {
    "cell_style": "center",
    "slideshow": {
     "slide_type": "slide"
    }
   },
   "source": [
    "**Class and id selectors with**:\n",
    "- .find()\n",
    "- .find_all()\n",
    "\n",
    "Take additional arguments for class/id"
   ]
  },
  {
   "cell_type": "code",
   "execution_count": 34,
   "metadata": {
    "cell_style": "split",
    "scrolled": true,
    "slideshow": {
     "slide_type": "subslide"
    }
   },
   "outputs": [
    {
     "name": "stdout",
     "output_type": "stream",
     "text": [
      "<body>\n",
      " <div>\n",
      "  <p class=\"inner-text first-item\" id=\"first\">\n",
      "   First paragraph.\n",
      "  </p>\n",
      "  <p class=\"inner-text\">\n",
      "   Second paragraph.\n",
      "  </p>\n",
      " </div>\n",
      " <p class=\"outer-text first-item\" id=\"second\">\n",
      "  <b>\n",
      "   First outer paragraph.\n",
      "  </b>\n",
      " </p>\n",
      " <p class=\"outer-text\">\n",
      "  <b>\n",
      "   Second outer paragraph.\n",
      "  </b>\n",
      " </p>\n",
      "</body>\n",
      "\n"
     ]
    }
   ],
   "source": [
    "print(body_level.prettify())"
   ]
  },
  {
   "cell_type": "markdown",
   "metadata": {
    "cell_style": "split",
    "slideshow": {
     "slide_type": "fragment"
    }
   },
   "source": [
    "Get the group of paragraph tags in the inner-text class."
   ]
  },
  {
   "cell_type": "code",
   "execution_count": 35,
   "metadata": {
    "cell_style": "split",
    "slideshow": {
     "slide_type": "-"
    }
   },
   "outputs": [
    {
     "data": {
      "text/plain": [
       "[<p class=\"inner-text first-item\" id=\"first\">\n",
       "                 First paragraph.\n",
       "             </p>,\n",
       " <p class=\"inner-text\">\n",
       "                 Second paragraph.\n",
       "             </p>]"
      ]
     },
     "execution_count": 35,
     "metadata": {},
     "output_type": "execute_result"
    }
   ],
   "source": [
    "body_level.find_all('p', class_ = 'inner-text')"
   ]
  },
  {
   "cell_type": "markdown",
   "metadata": {
    "slideshow": {
     "slide_type": "slide"
    }
   },
   "source": [
    "**Class and id selectors with**:\n",
    "- .find()\n",
    "- .find_all()\n",
    "\n",
    "Take additional arguments for class/id"
   ]
  },
  {
   "cell_type": "code",
   "execution_count": 36,
   "metadata": {
    "cell_style": "split",
    "slideshow": {
     "slide_type": "slide"
    }
   },
   "outputs": [
    {
     "data": {
      "text/plain": [
       "<body>\n",
       "<div>\n",
       "<p class=\"inner-text first-item\" id=\"first\">\n",
       "                First paragraph.\n",
       "            </p>\n",
       "<p class=\"inner-text\">\n",
       "                Second paragraph.\n",
       "            </p>\n",
       "</div>\n",
       "<p class=\"outer-text first-item\" id=\"second\">\n",
       "<b>\n",
       "                First outer paragraph.\n",
       "            </b>\n",
       "</p>\n",
       "<p class=\"outer-text\">\n",
       "<b>\n",
       "                Second outer paragraph.\n",
       "            </b>\n",
       "</p>\n",
       "</body>"
      ]
     },
     "execution_count": 36,
     "metadata": {},
     "output_type": "execute_result"
    }
   ],
   "source": [
    "body_level"
   ]
  },
  {
   "cell_type": "markdown",
   "metadata": {
    "cell_style": "split",
    "slideshow": {
     "slide_type": "fragment"
    }
   },
   "source": [
    "Extract by id:"
   ]
  },
  {
   "cell_type": "code",
   "execution_count": 37,
   "metadata": {
    "cell_style": "split",
    "slideshow": {
     "slide_type": "fragment"
    }
   },
   "outputs": [
    {
     "data": {
      "text/plain": [
       "<p class=\"outer-text first-item\" id=\"second\">\n",
       "<b>\n",
       "                First outer paragraph.\n",
       "            </b>\n",
       "</p>"
      ]
     },
     "execution_count": 37,
     "metadata": {},
     "output_type": "execute_result"
    }
   ],
   "source": [
    "body_level.find('p', id = 'second')\n",
    "#body_level.find_all('p', id = 'second')"
   ]
  },
  {
   "cell_type": "markdown",
   "metadata": {
    "slideshow": {
     "slide_type": "slide"
    }
   },
   "source": [
    "#### Going back to our whisky page\n",
    "\n",
    "- Get bottling details (age, ABV, distillery, etc)"
   ]
  },
  {
   "cell_type": "code",
   "execution_count": 38,
   "metadata": {
    "slideshow": {
     "slide_type": "fragment"
    }
   },
   "outputs": [],
   "source": [
    "ardbeg_url = \"https://www.thewhiskyexchange.com/p/114/ardbeg-uigeadail\""
   ]
  },
  {
   "cell_type": "code",
   "execution_count": 39,
   "metadata": {
    "slideshow": {
     "slide_type": "fragment"
    }
   },
   "outputs": [],
   "source": [
    "ardbeg_req = requests.get(ardbeg_url)\n",
    "ardbeg_soup = BeautifulSoup(ardbeg_req.content)"
   ]
  },
  {
   "cell_type": "markdown",
   "metadata": {
    "cell_style": "split",
    "slideshow": {
     "slide_type": "slide"
    }
   },
   "source": [
    "Let's get the whisky facts:\n",
    "- Bottler\n",
    "- Country\n",
    "- Chill filtered\n",
    "- etc."
   ]
  },
  {
   "cell_type": "code",
   "execution_count": 40,
   "metadata": {
    "cell_style": "split",
    "slideshow": {
     "slide_type": "fragment"
    }
   },
   "outputs": [
    {
     "data": {
      "text/plain": [
       "<ul class=\"product-facts\">\n",
       "<li class=\"product-facts__item\">\n",
       "<img alt=\"Bottler Icon\" class=\"product-facts__icon\" height=\"400\" loading=\"lazy\" src=\"/media/rtwe/assets/application/images/facts/fact--bottler.svg\" width=\"400\"/>\n",
       "<h3 class=\"product-facts__type\">Bottler</h3>\n",
       "<p class=\"product-facts__data\">Distillery Bottling</p>\n",
       "</li>\n",
       "<li class=\"product-facts__item\">\n",
       "<img alt=\"Country Icon\" class=\"product-facts__icon\" height=\"400\" loading=\"lazy\" src=\"/media/rtwe/assets/application/images/facts/fact--country.svg\" width=\"400\"/>\n",
       "<h3 class=\"product-facts__type\">Country</h3>\n",
       "<p class=\"product-facts__data\">Scotland</p>\n",
       "</li>\n",
       "<li class=\"product-facts__item\">\n",
       "<img alt=\"Region Icon\" class=\"product-facts__icon\" height=\"400\" loading=\"lazy\" src=\"/media/rtwe/assets/application/images/facts/fact--region.svg\" width=\"400\"/>\n",
       "<h3 class=\"product-facts__type\">Region</h3>\n",
       "<p class=\"product-facts__data\">Islay</p>\n",
       "</li>\n",
       "<li class=\"product-facts__item\">\n",
       "<img alt=\"Chill Filtered Icon\" class=\"product-facts__icon\" height=\"400\" loading=\"lazy\" src=\"/media/rtwe/assets/application/images/facts/fact--chillfiltered.svg\" width=\"400\"/>\n",
       "<h3 class=\"product-facts__type\">Chill Filtered</h3>\n",
       "<p class=\"product-facts__data\">No</p>\n",
       "</li>\n",
       "<li class=\"product-facts__item\">\n",
       "<img alt=\"Colouring Icon\" class=\"product-facts__icon\" height=\"400\" loading=\"lazy\" src=\"/media/rtwe/assets/application/images/facts/fact--colouring.svg\" width=\"400\"/>\n",
       "<h3 class=\"product-facts__type\">Colouring</h3>\n",
       "<p class=\"product-facts__data\">Yes</p>\n",
       "</li>\n",
       "<li class=\"product-facts__item\">\n",
       "<img alt=\"Certification Icon\" class=\"product-facts__icon\" height=\"400\" loading=\"lazy\" src=\"/media/rtwe/assets/application/images/facts/fact--certification.svg\" width=\"400\"/>\n",
       "<h3 class=\"product-facts__type\">Certification</h3>\n",
       "<p class=\"product-facts__data\">Vegan</p>\n",
       "</li>\n",
       "</ul>"
      ]
     },
     "execution_count": 40,
     "metadata": {},
     "output_type": "execute_result"
    }
   ],
   "source": [
    "# returns the match as a tag object\n",
    "prod_fact = ardbeg_soup.find('ul', \n",
    "                 class_ = \"product-facts\" )\n",
    "\n",
    "prod_fact"
   ]
  },
  {
   "cell_type": "markdown",
   "metadata": {
    "cell_style": "split",
    "slideshow": {
     "slide_type": "slide"
    }
   },
   "source": [
    "Clearly have a list with each element (li) containing:\n",
    "- attribute image\n",
    "- key in h3 tag of class \"product-facts__type\"\n",
    "- value in p tag of class \"product-facts__data\"\n"
   ]
  },
  {
   "cell_type": "markdown",
   "metadata": {
    "cell_style": "split",
    "slideshow": {
     "slide_type": "fragment"
    }
   },
   "source": [
    "Let's get the first li item:\n",
    "- prod_fact.find('li')\n",
    "- prod_fact.li"
   ]
  },
  {
   "cell_type": "code",
   "execution_count": 41,
   "metadata": {
    "cell_style": "split",
    "slideshow": {
     "slide_type": "fragment"
    }
   },
   "outputs": [
    {
     "data": {
      "text/plain": [
       "<li class=\"product-facts__item\">\n",
       "<img alt=\"Bottler Icon\" class=\"product-facts__icon\" height=\"400\" loading=\"lazy\" src=\"/media/rtwe/assets/application/images/facts/fact--bottler.svg\" width=\"400\"/>\n",
       "<h3 class=\"product-facts__type\">Bottler</h3>\n",
       "<p class=\"product-facts__data\">Distillery Bottling</p>\n",
       "</li>"
      ]
     },
     "execution_count": 41,
     "metadata": {},
     "output_type": "execute_result"
    }
   ],
   "source": [
    "first_li_elem = prod_fact.find('li')\n",
    "first_li_elem"
   ]
  },
  {
   "cell_type": "markdown",
   "metadata": {
    "slideshow": {
     "slide_type": "slide"
    }
   },
   "source": [
    "Now we want the key-value pairs:"
   ]
  },
  {
   "cell_type": "code",
   "execution_count": 42,
   "metadata": {
    "cell_style": "center",
    "slideshow": {
     "slide_type": "fragment"
    }
   },
   "outputs": [
    {
     "data": {
      "text/plain": [
       "'Bottler'"
      ]
     },
     "execution_count": 42,
     "metadata": {},
     "output_type": "execute_result"
    }
   ],
   "source": [
    "# using .find() because we know there is only one of these tags\n",
    "detail_key = first_li_elem.find('h3', class_ = \"product-facts__type\").text\n",
    "detail_key"
   ]
  },
  {
   "cell_type": "code",
   "execution_count": 43,
   "metadata": {
    "cell_style": "center",
    "slideshow": {
     "slide_type": "fragment"
    }
   },
   "outputs": [
    {
     "data": {
      "text/plain": [
       "'Distillery Bottling'"
      ]
     },
     "execution_count": 43,
     "metadata": {},
     "output_type": "execute_result"
    }
   ],
   "source": [
    "# using .find() because we know there is only one of these tags\n",
    "detail_val = first_li_elem.find('p', class_ = \"product-facts__data\").text\n",
    "detail_val"
   ]
  },
  {
   "cell_type": "markdown",
   "metadata": {
    "slideshow": {
     "slide_type": "slide"
    }
   },
   "source": [
    "We can get the key,value pairs for all of these list elements in the product fact list:\n",
    "- iterate over .children\n",
    "- or use .find_all('li')"
   ]
  },
  {
   "cell_type": "code",
   "execution_count": 44,
   "metadata": {
    "cell_style": "split",
    "slideshow": {
     "slide_type": "fragment"
    }
   },
   "outputs": [
    {
     "data": {
      "text/plain": [
       "[<li class=\"product-facts__item\">\n",
       " <img alt=\"Bottler Icon\" class=\"product-facts__icon\" height=\"400\" loading=\"lazy\" src=\"/media/rtwe/assets/application/images/facts/fact--bottler.svg\" width=\"400\"/>\n",
       " <h3 class=\"product-facts__type\">Bottler</h3>\n",
       " <p class=\"product-facts__data\">Distillery Bottling</p>\n",
       " </li>,\n",
       " <li class=\"product-facts__item\">\n",
       " <img alt=\"Country Icon\" class=\"product-facts__icon\" height=\"400\" loading=\"lazy\" src=\"/media/rtwe/assets/application/images/facts/fact--country.svg\" width=\"400\"/>\n",
       " <h3 class=\"product-facts__type\">Country</h3>\n",
       " <p class=\"product-facts__data\">Scotland</p>\n",
       " </li>,\n",
       " <li class=\"product-facts__item\">\n",
       " <img alt=\"Region Icon\" class=\"product-facts__icon\" height=\"400\" loading=\"lazy\" src=\"/media/rtwe/assets/application/images/facts/fact--region.svg\" width=\"400\"/>\n",
       " <h3 class=\"product-facts__type\">Region</h3>\n",
       " <p class=\"product-facts__data\">Islay</p>\n",
       " </li>,\n",
       " <li class=\"product-facts__item\">\n",
       " <img alt=\"Chill Filtered Icon\" class=\"product-facts__icon\" height=\"400\" loading=\"lazy\" src=\"/media/rtwe/assets/application/images/facts/fact--chillfiltered.svg\" width=\"400\"/>\n",
       " <h3 class=\"product-facts__type\">Chill Filtered</h3>\n",
       " <p class=\"product-facts__data\">No</p>\n",
       " </li>,\n",
       " <li class=\"product-facts__item\">\n",
       " <img alt=\"Colouring Icon\" class=\"product-facts__icon\" height=\"400\" loading=\"lazy\" src=\"/media/rtwe/assets/application/images/facts/fact--colouring.svg\" width=\"400\"/>\n",
       " <h3 class=\"product-facts__type\">Colouring</h3>\n",
       " <p class=\"product-facts__data\">Yes</p>\n",
       " </li>,\n",
       " <li class=\"product-facts__item\">\n",
       " <img alt=\"Certification Icon\" class=\"product-facts__icon\" height=\"400\" loading=\"lazy\" src=\"/media/rtwe/assets/application/images/facts/fact--certification.svg\" width=\"400\"/>\n",
       " <h3 class=\"product-facts__type\">Certification</h3>\n",
       " <p class=\"product-facts__data\">Vegan</p>\n",
       " </li>]"
      ]
     },
     "execution_count": 44,
     "metadata": {},
     "output_type": "execute_result"
    }
   ],
   "source": [
    "factTag_list = prod_fact.find_all('li')\n",
    "factTag_list"
   ]
  },
  {
   "cell_type": "markdown",
   "metadata": {
    "cell_style": "split",
    "slideshow": {
     "slide_type": "fragment"
    }
   },
   "source": [
    "Each element is a Tag object."
   ]
  },
  {
   "cell_type": "code",
   "execution_count": 45,
   "metadata": {
    "cell_style": "split",
    "slideshow": {
     "slide_type": "-"
    }
   },
   "outputs": [
    {
     "name": "stdout",
     "output_type": "stream",
     "text": [
      "<class 'bs4.element.Tag'>\n"
     ]
    }
   ],
   "source": [
    "print(type(factTag_list[0]))"
   ]
  },
  {
   "cell_type": "markdown",
   "metadata": {
    "slideshow": {
     "slide_type": "slide"
    }
   },
   "source": [
    "Let's iterate over the list and extract keys and pairs:"
   ]
  },
  {
   "cell_type": "code",
   "execution_count": 46,
   "metadata": {
    "slideshow": {
     "slide_type": "fragment"
    }
   },
   "outputs": [],
   "source": [
    "data_dict = {}\n",
    "\n",
    "for elem in factTag_list:\n",
    "    \n",
    "    detail_key = elem.find('h3', class_ = \"product-facts__type\").text\n",
    "    detail_val = elem.find('p', class_ = \"product-facts__data\").text\n",
    "    \n",
    "    data_dict.update({detail_key: detail_val})"
   ]
  },
  {
   "cell_type": "markdown",
   "metadata": {
    "slideshow": {
     "slide_type": "slide"
    }
   },
   "source": [
    "Take a look at out data dictionary:"
   ]
  },
  {
   "cell_type": "code",
   "execution_count": 47,
   "metadata": {
    "slideshow": {
     "slide_type": "fragment"
    }
   },
   "outputs": [
    {
     "data": {
      "text/plain": [
       "{'Bottler': 'Distillery Bottling',\n",
       " 'Country': 'Scotland',\n",
       " 'Region': 'Islay',\n",
       " 'Chill Filtered': 'No',\n",
       " 'Colouring': 'Yes',\n",
       " 'Certification': 'Vegan'}"
      ]
     },
     "execution_count": 47,
     "metadata": {},
     "output_type": "execute_result"
    }
   ],
   "source": [
    "data_dict"
   ]
  },
  {
   "cell_type": "markdown",
   "metadata": {
    "slideshow": {
     "slide_type": "fragment"
    }
   },
   "source": [
    "Starting to look a lot like data that could be a row in a table or DataFrame."
   ]
  },
  {
   "cell_type": "markdown",
   "metadata": {
    "slideshow": {
     "slide_type": "slide"
    }
   },
   "source": [
    "Let's try and extract some other information about this whisky as well:\n",
    "- Get the header for the Flavour Profile subsection\n",
    "- Get the contents"
   ]
  },
  {
   "cell_type": "markdown",
   "metadata": {
    "slideshow": {
     "slide_type": "slide"
    }
   },
   "source": [
    "- notice that all are in the header h2 tag with id = FlavourProfile\n",
    "- let's access this h2"
   ]
  },
  {
   "cell_type": "code",
   "execution_count": 48,
   "metadata": {
    "cell_style": "split",
    "slideshow": {
     "slide_type": "fragment"
    }
   },
   "outputs": [
    {
     "data": {
      "text/plain": [
       "<h2 class=\"product-title product-title--bravo\" id=\"FlavourProfile\">Flavour Profile</h2>"
      ]
     },
     "execution_count": 48,
     "metadata": {},
     "output_type": "execute_result"
    }
   ],
   "source": [
    "flavorheader = ardbeg_soup.find(\n",
    "    'h2', id = \"FlavourProfile\")\n",
    "flavorheader"
   ]
  },
  {
   "cell_type": "code",
   "execution_count": 49,
   "metadata": {
    "cell_style": "split",
    "slideshow": {
     "slide_type": "fragment"
    }
   },
   "outputs": [
    {
     "data": {
      "text/plain": [
       "'Flavour Profile'"
      ]
     },
     "execution_count": 49,
     "metadata": {},
     "output_type": "execute_result"
    }
   ],
   "source": [
    "header_text = flavorheader.text\n",
    "header_text"
   ]
  },
  {
   "cell_type": "markdown",
   "metadata": {
    "slideshow": {
     "slide_type": "slide"
    }
   },
   "source": [
    "- the corresponding content is in a div with class = \"flavour-profile\"\n",
    "- let's access this"
   ]
  },
  {
   "cell_type": "code",
   "execution_count": 50,
   "metadata": {
    "cell_style": "split",
    "slideshow": {
     "slide_type": "fragment"
    }
   },
   "outputs": [
    {
     "name": "stdout",
     "output_type": "stream",
     "text": [
      "<div class=\"flavour-profile\">\n",
      " <div class=\"flavour-profile__group flavour-profile__group--style\">\n",
      "  <h3 class=\"flavour-profile__title\">\n",
      "   Style\n",
      "  </h3>\n",
      "  <ul class=\"flavour-profile__list flavour-profile__list--style\">\n",
      "   <li class=\"flavour-profile__item flavour-profile__item--style\">\n",
      "    <div class=\"flavour-profile__gauge js-flavour-profile__gauge\" data-part=\"4\" data-text=\"4\" data-total=\"5\">\n",
      "    </div>\n",
      "    <span class=\"flavour-profile__label\">\n",
      "     Body\n",
      "    </span>\n",
      "   </li>\n",
      "   <li class=\"flavour-profile__item flavour-profile__item--style\">\n",
      "    <div class=\"flavour-profile__gauge js-flavour-profile__gauge\" data-part=\"4\" data-text=\"4\" data-total=\"5\">\n",
      "    </div>\n",
      "    <span class=\"flavour-profile__label\">\n",
      "     Richness\n",
      "    </span>\n",
      "   </li>\n",
      "   <li class=\"flavour-profile__item flavour-profile__item--style\">\n",
      "    <div class=\"flavour-profile__gauge js-flavour-profile__gauge\" data-part=\"5\" data-text=\"5\" data-total=\"5\">\n",
      "    </div>\n",
      "    <span class=\"flavour-profile__label\">\n",
      "     Smoke\n",
      "    </span>\n",
      "   </li>\n",
      "   <li class=\"flavour-profile__item flavour-profile__item--style\">\n",
      "    <div class=\"flavour-profile__gauge js-flavour-profile__gauge\" data-part=\"2\" data-text=\"2\" data-total=\"5\">\n",
      "    </div>\n",
      "    <span class=\"flavour-profile__label\">\n",
      "     Sweetness\n",
      "    </span>\n",
      "   </li>\n",
      "  </ul>\n",
      " </div>\n",
      " <div class=\"flavour-profile__group flavour-profile__group--character\">\n",
      "  <h3 class=\"flavour-profile__title\">\n",
      "   Character\n",
      "  </h3>\n",
      "  <ul class=\"flavour-profile__list flavour-profile__list--character\">\n",
      "   <li class=\"flavour-profile__item flavour-profile__item--character\">\n",
      "    <img alt=\"Honey \" class=\"flavour-profile__image\" height=\"180\" loading=\"lazy\" src=\"/media/rtwe/uploads/flavour/honey.png\" width=\"180\"/>\n",
      "    <span class=\"flavour-profile__label\">\n",
      "     Honey\n",
      "    </span>\n",
      "   </li>\n",
      "   <li class=\"flavour-profile__item flavour-profile__item--character\">\n",
      "    <img alt=\"Malt\" class=\"flavour-profile__image\" height=\"180\" loading=\"lazy\" src=\"/media/rtwe/uploads/flavour/malt.png\" width=\"180\"/>\n",
      "    <span class=\"flavour-profile__label\">\n",
      "     Malt\n",
      "    </span>\n",
      "   </li>\n",
      "   <li class=\"flavour-profile__item flavour-profile__item--character\">\n",
      "    <img alt=\"Fruit Cake\" class=\"flavour-profile__image\" height=\"180\" loading=\"lazy\" src=\"/media/rtwe/uploads/flavour/fruitcake.png\" width=\"180\"/>\n",
      "    <span class=\"flavour-profile__label\">\n",
      "     Fruit Cake\n",
      "    </span>\n",
      "   </li>\n",
      "   <li class=\"flavour-profile__item flavour-profile__item--character\">\n",
      "    <img alt=\"Meat\" class=\"flavour-profile__image\" height=\"180\" loading=\"lazy\" src=\"/media/rtwe/uploads/flavour/meat.png\" width=\"180\"/>\n",
      "    <span class=\"flavour-profile__label\">\n",
      "     Meat\n",
      "    </span>\n",
      "   </li>\n",
      "  </ul>\n",
      " </div>\n",
      "</div>\n",
      "\n"
     ]
    }
   ],
   "source": [
    "flavor_content = ardbeg_soup.find(\n",
    "    'div', class_ = \"flavour-profile\")\n",
    "\n",
    "print(flavor_content.prettify())"
   ]
  },
  {
   "cell_type": "markdown",
   "metadata": {
    "cell_style": "split",
    "slideshow": {
     "slide_type": "fragment"
    }
   },
   "source": [
    "The whisky has four flavor scores that we are interested in extracting:\n",
    "- Body\n",
    "- Richness\n",
    "- Smoke\n",
    "- Sweetness\n",
    "\n",
    "These are contained in the first of the children div nodes."
   ]
  },
  {
   "cell_type": "code",
   "execution_count": 51,
   "metadata": {
    "cell_style": "split"
   },
   "outputs": [
    {
     "data": {
      "text/plain": [
       "['div', 'div']"
      ]
     },
     "execution_count": 51,
     "metadata": {},
     "output_type": "execute_result"
    }
   ],
   "source": [
    "[child.name for child \n",
    " in flavor_content.children if child != '\\n']"
   ]
  },
  {
   "cell_type": "markdown",
   "metadata": {
    "slideshow": {
     "slide_type": "slide"
    }
   },
   "source": [
    "A list with the strength of various taste characteristics:"
   ]
  },
  {
   "cell_type": "code",
   "execution_count": 52,
   "metadata": {
    "cell_style": "center",
    "slideshow": {
     "slide_type": "-"
    }
   },
   "outputs": [
    {
     "data": {
      "text/plain": [
       "<div class=\"flavour-profile__group flavour-profile__group--style\">\n",
       "<h3 class=\"flavour-profile__title\">Style</h3>\n",
       "<ul class=\"flavour-profile__list flavour-profile__list--style\">\n",
       "<li class=\"flavour-profile__item flavour-profile__item--style\">\n",
       "<div class=\"flavour-profile__gauge js-flavour-profile__gauge\" data-part=\"4\" data-text=\"4\" data-total=\"5\"></div>\n",
       "<span class=\"flavour-profile__label\">Body</span>\n",
       "</li>\n",
       "<li class=\"flavour-profile__item flavour-profile__item--style\">\n",
       "<div class=\"flavour-profile__gauge js-flavour-profile__gauge\" data-part=\"4\" data-text=\"4\" data-total=\"5\"></div>\n",
       "<span class=\"flavour-profile__label\">Richness</span>\n",
       "</li>\n",
       "<li class=\"flavour-profile__item flavour-profile__item--style\">\n",
       "<div class=\"flavour-profile__gauge js-flavour-profile__gauge\" data-part=\"5\" data-text=\"5\" data-total=\"5\"></div>\n",
       "<span class=\"flavour-profile__label\">Smoke</span>\n",
       "</li>\n",
       "<li class=\"flavour-profile__item flavour-profile__item--style\">\n",
       "<div class=\"flavour-profile__gauge js-flavour-profile__gauge\" data-part=\"2\" data-text=\"2\" data-total=\"5\"></div>\n",
       "<span class=\"flavour-profile__label\">Sweetness</span>\n",
       "</li>\n",
       "</ul>\n",
       "</div>"
      ]
     },
     "execution_count": 52,
     "metadata": {},
     "output_type": "execute_result"
    }
   ],
   "source": [
    "flavor_style = flavor_content.div\n",
    "flavor_style"
   ]
  },
  {
   "cell_type": "markdown",
   "metadata": {
    "slideshow": {
     "slide_type": "slide"
    }
   },
   "source": [
    "Ther is another sibling div that contains other information:\n",
    "- A list with similar taste descriptors"
   ]
  },
  {
   "cell_type": "code",
   "execution_count": 53,
   "metadata": {
    "slideshow": {
     "slide_type": "-"
    }
   },
   "outputs": [
    {
     "data": {
      "text/plain": [
       "<div class=\"flavour-profile__group flavour-profile__group--character\">\n",
       "<h3 class=\"flavour-profile__title\">Character</h3>\n",
       "<ul class=\"flavour-profile__list flavour-profile__list--character\">\n",
       "<li class=\"flavour-profile__item flavour-profile__item--character\">\n",
       "<img alt=\"Honey \" class=\"flavour-profile__image\" height=\"180\" loading=\"lazy\" src=\"/media/rtwe/uploads/flavour/honey.png\" width=\"180\"/>\n",
       "<span class=\"flavour-profile__label\">Honey </span>\n",
       "</li>\n",
       "<li class=\"flavour-profile__item flavour-profile__item--character\">\n",
       "<img alt=\"Malt\" class=\"flavour-profile__image\" height=\"180\" loading=\"lazy\" src=\"/media/rtwe/uploads/flavour/malt.png\" width=\"180\"/>\n",
       "<span class=\"flavour-profile__label\">Malt</span>\n",
       "</li>\n",
       "<li class=\"flavour-profile__item flavour-profile__item--character\">\n",
       "<img alt=\"Fruit Cake\" class=\"flavour-profile__image\" height=\"180\" loading=\"lazy\" src=\"/media/rtwe/uploads/flavour/fruitcake.png\" width=\"180\"/>\n",
       "<span class=\"flavour-profile__label\">Fruit Cake</span>\n",
       "</li>\n",
       "<li class=\"flavour-profile__item flavour-profile__item--character\">\n",
       "<img alt=\"Meat\" class=\"flavour-profile__image\" height=\"180\" loading=\"lazy\" src=\"/media/rtwe/uploads/flavour/meat.png\" width=\"180\"/>\n",
       "<span class=\"flavour-profile__label\">Meat</span>\n",
       "</li>\n",
       "</ul>\n",
       "</div>"
      ]
     },
     "execution_count": 53,
     "metadata": {},
     "output_type": "execute_result"
    }
   ],
   "source": [
    "# first sibiling is a \\n character\n",
    "flavor_style.next_sibling.next_sibling"
   ]
  },
  {
   "cell_type": "code",
   "execution_count": 54,
   "metadata": {
    "slideshow": {
     "slide_type": "slide"
    }
   },
   "outputs": [
    {
     "name": "stdout",
     "output_type": "stream",
     "text": [
      "<div class=\"flavour-profile__group flavour-profile__group--style\">\n",
      " <h3 class=\"flavour-profile__title\">\n",
      "  Style\n",
      " </h3>\n",
      " <ul class=\"flavour-profile__list flavour-profile__list--style\">\n",
      "  <li class=\"flavour-profile__item flavour-profile__item--style\">\n",
      "   <div class=\"flavour-profile__gauge js-flavour-profile__gauge\" data-part=\"4\" data-text=\"4\" data-total=\"5\">\n",
      "   </div>\n",
      "   <span class=\"flavour-profile__label\">\n",
      "    Body\n",
      "   </span>\n",
      "  </li>\n",
      "  <li class=\"flavour-profile__item flavour-profile__item--style\">\n",
      "   <div class=\"flavour-profile__gauge js-flavour-profile__gauge\" data-part=\"4\" data-text=\"4\" data-total=\"5\">\n",
      "   </div>\n",
      "   <span class=\"flavour-profile__label\">\n",
      "    Richness\n",
      "   </span>\n",
      "  </li>\n",
      "  <li class=\"flavour-profile__item flavour-profile__item--style\">\n",
      "   <div class=\"flavour-profile__gauge js-flavour-profile__gauge\" data-part=\"5\" data-text=\"5\" data-total=\"5\">\n",
      "   </div>\n",
      "   <span class=\"flavour-profile__label\">\n",
      "    Smoke\n",
      "   </span>\n",
      "  </li>\n",
      "  <li class=\"flavour-profile__item flavour-profile__item--style\">\n",
      "   <div class=\"flavour-profile__gauge js-flavour-profile__gauge\" data-part=\"2\" data-text=\"2\" data-total=\"5\">\n",
      "   </div>\n",
      "   <span class=\"flavour-profile__label\">\n",
      "    Sweetness\n",
      "   </span>\n",
      "  </li>\n",
      " </ul>\n",
      "</div>\n",
      "\n"
     ]
    }
   ],
   "source": [
    "print(flavor_style.prettify())"
   ]
  },
  {
   "cell_type": "markdown",
   "metadata": {
    "cell_style": "center",
    "slideshow": {
     "slide_type": "slide"
    }
   },
   "source": [
    "Get the keys for the flavor profile:\n",
    "- Contained as text in span of class=\"flavour-profile__label\""
   ]
  },
  {
   "cell_type": "code",
   "execution_count": 55,
   "metadata": {
    "cell_style": "split",
    "slideshow": {
     "slide_type": "fragment"
    }
   },
   "outputs": [],
   "source": [
    "flav_key_spans  = \\\n",
    "flavor_style.find_all(\n",
    "    'span', \n",
    "    class_ = 'flavour-profile__label')"
   ]
  },
  {
   "cell_type": "code",
   "execution_count": 56,
   "metadata": {
    "cell_style": "split",
    "slideshow": {
     "slide_type": "fragment"
    }
   },
   "outputs": [
    {
     "data": {
      "text/plain": [
       "['Body', 'Richness', 'Smoke', 'Sweetness']"
      ]
     },
     "execution_count": 56,
     "metadata": {},
     "output_type": "execute_result"
    }
   ],
   "source": [
    "flav_profile_keys = \\\n",
    "[ span.text for span in flav_key_spans ]\n",
    "flav_profile_keys"
   ]
  },
  {
   "cell_type": "markdown",
   "metadata": {
    "cell_style": "split",
    "slideshow": {
     "slide_type": "slide"
    }
   },
   "source": [
    "For getting the values:\n",
    "- Value is inside the tag as the data-text attribute\n",
    "\n",
    "**How can we extract it**?"
   ]
  },
  {
   "cell_type": "code",
   "execution_count": 57,
   "metadata": {
    "cell_style": "split",
    "slideshow": {
     "slide_type": "-"
    }
   },
   "outputs": [
    {
     "data": {
      "text/plain": [
       "[<div class=\"flavour-profile__gauge js-flavour-profile__gauge\" data-part=\"4\" data-text=\"4\" data-total=\"5\"></div>,\n",
       " <div class=\"flavour-profile__gauge js-flavour-profile__gauge\" data-part=\"4\" data-text=\"4\" data-total=\"5\"></div>,\n",
       " <div class=\"flavour-profile__gauge js-flavour-profile__gauge\" data-part=\"5\" data-text=\"5\" data-total=\"5\"></div>,\n",
       " <div class=\"flavour-profile__gauge js-flavour-profile__gauge\" data-part=\"2\" data-text=\"2\" data-total=\"5\"></div>]"
      ]
     },
     "execution_count": 57,
     "metadata": {},
     "output_type": "execute_result"
    }
   ],
   "source": [
    "flav_profile_gauges = \\\n",
    "flavor_style.find_all(\n",
    "    'div', \n",
    "    class_ = 'flavour-profile__gauge')\n",
    "\n",
    "flav_profile_gauges"
   ]
  },
  {
   "cell_type": "markdown",
   "metadata": {
    "cell_style": "split",
    "slideshow": {
     "slide_type": "slide"
    }
   },
   "source": [
    "Tags are addressable as dictionaries:\n",
    "- tag attribute name is key"
   ]
  },
  {
   "cell_type": "code",
   "execution_count": 58,
   "metadata": {
    "cell_style": "split",
    "slideshow": {
     "slide_type": "fragment"
    }
   },
   "outputs": [
    {
     "data": {
      "text/plain": [
       "<div class=\"flavour-profile__gauge js-flavour-profile__gauge\" data-part=\"4\" data-text=\"4\" data-total=\"5\"></div>"
      ]
     },
     "execution_count": 58,
     "metadata": {},
     "output_type": "execute_result"
    }
   ],
   "source": [
    "flav_profile_gauges[0]"
   ]
  },
  {
   "cell_type": "code",
   "execution_count": 59,
   "metadata": {
    "cell_style": "center",
    "slideshow": {
     "slide_type": "slide"
    }
   },
   "outputs": [
    {
     "data": {
      "text/plain": [
       "'4'"
      ]
     },
     "execution_count": 59,
     "metadata": {},
     "output_type": "execute_result"
    }
   ],
   "source": [
    "flav_profile_gauges[0]['data-text']"
   ]
  },
  {
   "cell_type": "markdown",
   "metadata": {
    "slideshow": {
     "slide_type": "slide"
    }
   },
   "source": [
    "Extracting the values for the flavor profile is straightforward:"
   ]
  },
  {
   "cell_type": "code",
   "execution_count": 60,
   "metadata": {
    "cell_style": "center",
    "slideshow": {
     "slide_type": "fragment"
    }
   },
   "outputs": [
    {
     "data": {
      "text/plain": [
       "['4', '4', '5', '2']"
      ]
     },
     "execution_count": 60,
     "metadata": {},
     "output_type": "execute_result"
    }
   ],
   "source": [
    "value_list = [gauge['data-text'] for gauge in flav_profile_gauges]\n",
    "value_list"
   ]
  },
  {
   "cell_type": "code",
   "execution_count": 61,
   "metadata": {
    "cell_style": "split",
    "slideshow": {
     "slide_type": "slide"
    }
   },
   "outputs": [
    {
     "data": {
      "text/plain": [
       "{'Body': '4', 'Richness': '4', 'Smoke': '5', 'Sweetness': '2'}"
      ]
     },
     "execution_count": 61,
     "metadata": {},
     "output_type": "execute_result"
    }
   ],
   "source": [
    "# Zipping this together and making a dictionary\n",
    "flav_dict = \\\n",
    "dict(zip(flav_profile_keys, value_list))\n",
    "\n",
    "flav_dict"
   ]
  },
  {
   "cell_type": "markdown",
   "metadata": {
    "cell_style": "split",
    "slideshow": {
     "slide_type": "fragment"
    }
   },
   "source": [
    "And we can update our data dictionary:"
   ]
  },
  {
   "cell_type": "code",
   "execution_count": 62,
   "metadata": {
    "cell_style": "split",
    "slideshow": {
     "slide_type": "fragment"
    }
   },
   "outputs": [
    {
     "data": {
      "text/plain": [
       "{'Bottler': 'Distillery Bottling',\n",
       " 'Country': 'Scotland',\n",
       " 'Region': 'Islay',\n",
       " 'Chill Filtered': 'No',\n",
       " 'Colouring': 'Yes',\n",
       " 'Certification': 'Vegan',\n",
       " 'Body': '4',\n",
       " 'Richness': '4',\n",
       " 'Smoke': '5',\n",
       " 'Sweetness': '2'}"
      ]
     },
     "execution_count": 62,
     "metadata": {},
     "output_type": "execute_result"
    }
   ],
   "source": [
    "# and we can update our data dictionary\n",
    "data_dict.update(flav_dict)\n",
    "\n",
    "data_dict"
   ]
  },
  {
   "cell_type": "markdown",
   "metadata": {
    "cell_style": "split",
    "slideshow": {
     "slide_type": "slide"
    }
   },
   "source": [
    "There are many places where we can get the name of the Whisky:\n",
    "- A meta tag below the html level\n",
    "- with attributes name = 'twitter:title' and content = \"Ardbeg Uigeadail\""
   ]
  },
  {
   "cell_type": "markdown",
   "metadata": {
    "cell_style": "split",
    "slideshow": {
     "slide_type": "fragment"
    }
   },
   "source": [
    ".find() and .find_all()\n",
    "- has way to select a tag by attributes\n",
    "- attrs takes in a dictionary of attributes"
   ]
  },
  {
   "cell_type": "code",
   "execution_count": 63,
   "metadata": {
    "slideshow": {
     "slide_type": "fragment"
    }
   },
   "outputs": [
    {
     "data": {
      "text/plain": [
       "<meta content=\"Ardbeg Uigeadail\" name=\"twitter:title\"/>"
      ]
     },
     "execution_count": 63,
     "metadata": {},
     "output_type": "execute_result"
    }
   ],
   "source": [
    "name_meta_tag = ardbeg_soup.html.find(\n",
    "    'meta', attrs = {'name': 'twitter:title'})\n",
    "name_meta_tag"
   ]
  },
  {
   "cell_type": "markdown",
   "metadata": {
    "slideshow": {
     "slide_type": "slide"
    }
   },
   "source": [
    "Extract the content attribute from tag:\n",
    "- update data dictionary"
   ]
  },
  {
   "cell_type": "code",
   "execution_count": 64,
   "metadata": {
    "cell_style": "split",
    "slideshow": {
     "slide_type": "fragment"
    }
   },
   "outputs": [
    {
     "data": {
      "text/plain": [
       "'Ardbeg Uigeadail'"
      ]
     },
     "execution_count": 64,
     "metadata": {},
     "output_type": "execute_result"
    }
   ],
   "source": [
    "name_meta_tag['content']"
   ]
  },
  {
   "cell_type": "code",
   "execution_count": 65,
   "metadata": {
    "cell_style": "split",
    "slideshow": {
     "slide_type": "fragment"
    }
   },
   "outputs": [
    {
     "data": {
      "text/plain": [
       "{'Bottler': 'Distillery Bottling',\n",
       " 'Country': 'Scotland',\n",
       " 'Region': 'Islay',\n",
       " 'Chill Filtered': 'No',\n",
       " 'Colouring': 'Yes',\n",
       " 'Certification': 'Vegan',\n",
       " 'Body': '4',\n",
       " 'Richness': '4',\n",
       " 'Smoke': '5',\n",
       " 'Sweetness': '2',\n",
       " 'name': 'Ardbeg Uigeadail'}"
      ]
     },
     "execution_count": 65,
     "metadata": {},
     "output_type": "execute_result"
    }
   ],
   "source": [
    "data_dict.update(\n",
    "    {'name': name_meta_tag['content'] })\n",
    "\n",
    "data_dict"
   ]
  },
  {
   "cell_type": "markdown",
   "metadata": {
    "cell_style": "split",
    "slideshow": {
     "slide_type": "slide"
    }
   },
   "source": [
    "A lot of:\n",
    "- html tree traversing\n",
    "- exploring scheme\n",
    "- searches to extract data"
   ]
  },
  {
   "cell_type": "markdown",
   "metadata": {
    "cell_style": "split",
    "slideshow": {
     "slide_type": "fragment"
    }
   },
   "source": [
    "When each product site has same tagging structure:\n",
    "\n",
    "- Build function that extracts data like we did.\n",
    "- Can be used while looping through multiple products."
   ]
  },
  {
   "cell_type": "markdown",
   "metadata": {
    "slideshow": {
     "slide_type": "slide"
    }
   },
   "source": [
    "#### Build Function"
   ]
  },
  {
   "cell_type": "code",
   "execution_count": 75,
   "metadata": {
    "slideshow": {
     "slide_type": "slide"
    }
   },
   "outputs": [],
   "source": [
    "def extract_data_dict(product_page):\n",
    "    \n",
    "    data_dict = {}\n",
    "    product_req = requests.get(product_page)\n",
    "    product_soup = BeautifulSoup(product_req.content)\n",
    "    \n",
    "    # get name\n",
    "    name_meta_tag = product_soup.html.find('meta', attrs = {'name': 'twitter:title'})\n",
    "    data_dict.update({'name': name_meta_tag['content'] })\n",
    "    \n",
    "    # get product facts and extract information\n",
    "\n",
    "    prod_fact = product_soup.find('ul', class_ = \"product-facts\" )\n",
    "    \n",
    "    # loops through to update data_dict with bottling information\n",
    "    for elem in prod_fact.find_all('li'):\n",
    "    \n",
    "        detail_key = elem.find('h3', class_ = \"product-facts__type\").text\n",
    "        detail_val = elem.find('p', class_ = \"product-facts__data\").text\n",
    "        data_dict.update({detail_key: detail_val})\n",
    "    \n",
    "    # get flavor ratings\n",
    "    flavor_style = product_soup.find('div', class_ = \"flavour-profile\").div\n",
    "    flav_profile_keys = [ span.text for span in flavor_style.find_all('span', class_ = 'flavour-profile__label') ]\n",
    "    value_list = [gauge['data-text'] for gauge in flavor_style.find_all('div', class_ = 'flavour-profile__gauge')]\n",
    "    data_dict.update(dict(zip(flav_profile_keys, value_list)))\n",
    "\n",
    "    return data_dict"
   ]
  },
  {
   "cell_type": "markdown",
   "metadata": {
    "slideshow": {
     "slide_type": "slide"
    }
   },
   "source": [
    "Use function on a product page url:"
   ]
  },
  {
   "cell_type": "code",
   "execution_count": 76,
   "metadata": {
    "slideshow": {
     "slide_type": "fragment"
    }
   },
   "outputs": [
    {
     "data": {
      "text/plain": [
       "{'name': 'Bunnahabhain 12 Year Old',\n",
       " 'Bottler': 'Distillery Bottling',\n",
       " 'Age': '12 Year Old',\n",
       " 'Country': 'Scotland',\n",
       " 'Region': 'Islay',\n",
       " 'Chill Filtered': 'No',\n",
       " 'Colouring': 'No',\n",
       " 'Body': '3',\n",
       " 'Richness': '3',\n",
       " 'Smoke': '1',\n",
       " 'Sweetness': '3'}"
      ]
     },
     "execution_count": 76,
     "metadata": {},
     "output_type": "execute_result"
    }
   ],
   "source": [
    "extract_data_dict('https://www.thewhiskyexchange.com/p/114/ardbeg-uigeadail')\n",
    "extract_data_dict('https://www.thewhiskyexchange.com/p/12827/bunnahabhain-12-year-old')"
   ]
  },
  {
   "cell_type": "markdown",
   "metadata": {
    "slideshow": {
     "slide_type": "slide"
    }
   },
   "source": [
    "#### Crawling a page of products"
   ]
  },
  {
   "cell_type": "markdown",
   "metadata": {
    "cell_style": "center",
    "slideshow": {
     "slide_type": "fragment"
    }
   },
   "source": [
    "Let's end this by applying our function to a page with a list of products:\n",
    "- need to extract product list\n",
    "- get link urls\n",
    "- apply our function to the link urls."
   ]
  },
  {
   "cell_type": "markdown",
   "metadata": {
    "cell_style": "center",
    "slideshow": {
     "slide_type": "slide"
    }
   },
   "source": [
    "Soupify the products page."
   ]
  },
  {
   "cell_type": "code",
   "execution_count": 77,
   "metadata": {
    "cell_style": "center",
    "slideshow": {
     "slide_type": "fragment"
    }
   },
   "outputs": [],
   "source": [
    "scotchproducts_page = \"https://www.thewhiskyexchange.com/c/40/single-malt-scotch-whisky\"\n",
    "prodpage_req = requests.get(scotchproducts_page)\n",
    "scotchproducts_soup = BeautifulSoup(prodpage_req.content)"
   ]
  },
  {
   "cell_type": "markdown",
   "metadata": {
    "cell_style": "center",
    "slideshow": {
     "slide_type": "slide"
    }
   },
   "source": [
    "Parse the source code and get a list of the product urls:"
   ]
  },
  {
   "cell_type": "code",
   "execution_count": 78,
   "metadata": {
    "scrolled": true,
    "slideshow": {
     "slide_type": "fragment"
    }
   },
   "outputs": [
    {
     "data": {
      "text/plain": [
       "['https://www.thewhiskyexchange.com/p/3121/lagavulin-16-year-old',\n",
       " 'https://www.thewhiskyexchange.com/p/68622/talisker-11-year-old-special-releases-2022',\n",
       " 'https://www.thewhiskyexchange.com/p/47802/deanston-18-year-old',\n",
       " 'https://www.thewhiskyexchange.com/p/67780/scapa-2003-19-year-old-exclusive-to-the-whisky-exchange',\n",
       " 'https://www.thewhiskyexchange.com/p/68623/oban-10-year-old-sherry-cask-finish-special-releases-2022',\n",
       " 'https://www.thewhiskyexchange.com/p/34537/macallan-12-year-old-double-cask',\n",
       " 'https://www.thewhiskyexchange.com/p/284/balvenie-12-year-old-doublewood',\n",
       " 'https://www.thewhiskyexchange.com/p/68214/bunnahabhain-12-year-old-cask-strength-2022-release',\n",
       " 'https://www.thewhiskyexchange.com/p/63731/lagavulin-2006-distillers-edition-bot2021',\n",
       " 'https://www.thewhiskyexchange.com/p/48763/balblair-18-year-old']"
      ]
     },
     "execution_count": 78,
     "metadata": {},
     "output_type": "execute_result"
    }
   ],
   "source": [
    "li_items = scotchproducts_soup.find_all('li', class_=\"product-grid__item\")\n",
    "prod_urls = [ 'https://www.thewhiskyexchange.com' + elem.a['href'] for elem in li_items][0:10]\n",
    "prod_urls"
   ]
  },
  {
   "cell_type": "markdown",
   "metadata": {
    "cell_style": "split",
    "slideshow": {
     "slide_type": "slide"
    }
   },
   "source": [
    "Now apply our function:\n",
    "- Thread it through the list\n",
    "- map() is useful here.\n",
    "\n",
    "A list of dicts."
   ]
  },
  {
   "cell_type": "code",
   "execution_count": 79,
   "metadata": {
    "cell_style": "split",
    "slideshow": {
     "slide_type": "fragment"
    }
   },
   "outputs": [
    {
     "ename": "AttributeError",
     "evalue": "'NoneType' object has no attribute 'div'",
     "output_type": "error",
     "traceback": [
      "\u001b[0;31m---------------------------------------------------------------------------\u001b[0m",
      "\u001b[0;31mAttributeError\u001b[0m                            Traceback (most recent call last)",
      "\u001b[0;32m<ipython-input-79-0b1ec75db3b2>\u001b[0m in \u001b[0;36m<module>\u001b[0;34m\u001b[0m\n\u001b[0;32m----> 1\u001b[0;31m \u001b[0mextracted_data\u001b[0m \u001b[0;34m=\u001b[0m \u001b[0mlist\u001b[0m\u001b[0;34m(\u001b[0m\u001b[0mmap\u001b[0m\u001b[0;34m(\u001b[0m\u001b[0mextract_data_dict\u001b[0m\u001b[0;34m,\u001b[0m \u001b[0mprod_urls\u001b[0m\u001b[0;34m)\u001b[0m\u001b[0;34m)\u001b[0m\u001b[0;34m\u001b[0m\u001b[0;34m\u001b[0m\u001b[0m\n\u001b[0m\u001b[1;32m      2\u001b[0m \u001b[0;34m\u001b[0m\u001b[0m\n\u001b[1;32m      3\u001b[0m \u001b[0mextracted_data\u001b[0m\u001b[0;34m\u001b[0m\u001b[0;34m\u001b[0m\u001b[0m\n",
      "\u001b[0;32m<ipython-input-75-d4d96a2f824d>\u001b[0m in \u001b[0;36mextract_data_dict\u001b[0;34m(product_page)\u001b[0m\n\u001b[1;32m     21\u001b[0m \u001b[0;34m\u001b[0m\u001b[0m\n\u001b[1;32m     22\u001b[0m     \u001b[0;31m# get flavor ratings\u001b[0m\u001b[0;34m\u001b[0m\u001b[0;34m\u001b[0m\u001b[0;34m\u001b[0m\u001b[0m\n\u001b[0;32m---> 23\u001b[0;31m     \u001b[0mflavor_style\u001b[0m \u001b[0;34m=\u001b[0m \u001b[0mproduct_soup\u001b[0m\u001b[0;34m.\u001b[0m\u001b[0mfind\u001b[0m\u001b[0;34m(\u001b[0m\u001b[0;34m'div'\u001b[0m\u001b[0;34m,\u001b[0m \u001b[0mclass_\u001b[0m \u001b[0;34m=\u001b[0m \u001b[0;34m\"flavour-profile\"\u001b[0m\u001b[0;34m)\u001b[0m\u001b[0;34m.\u001b[0m\u001b[0mdiv\u001b[0m\u001b[0;34m\u001b[0m\u001b[0;34m\u001b[0m\u001b[0m\n\u001b[0m\u001b[1;32m     24\u001b[0m     \u001b[0mflav_profile_keys\u001b[0m \u001b[0;34m=\u001b[0m \u001b[0;34m[\u001b[0m \u001b[0mspan\u001b[0m\u001b[0;34m.\u001b[0m\u001b[0mtext\u001b[0m \u001b[0;32mfor\u001b[0m \u001b[0mspan\u001b[0m \u001b[0;32min\u001b[0m \u001b[0mflavor_style\u001b[0m\u001b[0;34m.\u001b[0m\u001b[0mfind_all\u001b[0m\u001b[0;34m(\u001b[0m\u001b[0;34m'span'\u001b[0m\u001b[0;34m,\u001b[0m \u001b[0mclass_\u001b[0m \u001b[0;34m=\u001b[0m \u001b[0;34m'flavour-profile__label'\u001b[0m\u001b[0;34m)\u001b[0m \u001b[0;34m]\u001b[0m\u001b[0;34m\u001b[0m\u001b[0;34m\u001b[0m\u001b[0m\n\u001b[1;32m     25\u001b[0m     \u001b[0mvalue_list\u001b[0m \u001b[0;34m=\u001b[0m \u001b[0;34m[\u001b[0m\u001b[0mgauge\u001b[0m\u001b[0;34m[\u001b[0m\u001b[0;34m'data-text'\u001b[0m\u001b[0;34m]\u001b[0m \u001b[0;32mfor\u001b[0m \u001b[0mgauge\u001b[0m \u001b[0;32min\u001b[0m \u001b[0mflavor_style\u001b[0m\u001b[0;34m.\u001b[0m\u001b[0mfind_all\u001b[0m\u001b[0;34m(\u001b[0m\u001b[0;34m'div'\u001b[0m\u001b[0;34m,\u001b[0m \u001b[0mclass_\u001b[0m \u001b[0;34m=\u001b[0m \u001b[0;34m'flavour-profile__gauge'\u001b[0m\u001b[0;34m)\u001b[0m\u001b[0;34m]\u001b[0m\u001b[0;34m\u001b[0m\u001b[0;34m\u001b[0m\u001b[0m\n",
      "\u001b[0;31mAttributeError\u001b[0m: 'NoneType' object has no attribute 'div'"
     ]
    }
   ],
   "source": [
    "extracted_data = list(map(extract_data_dict, prod_urls))\n",
    "\n",
    "extracted_data"
   ]
  },
  {
   "cell_type": "markdown",
   "metadata": {
    "slideshow": {
     "slide_type": "slide"
    }
   },
   "source": [
    "This is a tabular format:\n",
    "- put this in a dataframe.\n",
    "- can save to csv, etc."
   ]
  },
  {
   "cell_type": "code",
   "execution_count": 72,
   "metadata": {
    "cell_style": "center",
    "scrolled": true,
    "slideshow": {
     "slide_type": "fragment"
    }
   },
   "outputs": [
    {
     "ename": "NameError",
     "evalue": "name 'extracted_data' is not defined",
     "output_type": "error",
     "traceback": [
      "\u001b[0;31m---------------------------------------------------------------------------\u001b[0m",
      "\u001b[0;31mNameError\u001b[0m                                 Traceback (most recent call last)",
      "\u001b[0;32m<ipython-input-72-4ee8225ff7cb>\u001b[0m in \u001b[0;36m<module>\u001b[0;34m\u001b[0m\n\u001b[1;32m      1\u001b[0m \u001b[0;32mimport\u001b[0m \u001b[0mpandas\u001b[0m \u001b[0;32mas\u001b[0m \u001b[0mpd\u001b[0m\u001b[0;34m\u001b[0m\u001b[0;34m\u001b[0m\u001b[0m\n\u001b[0;32m----> 2\u001b[0;31m \u001b[0mwhisky_df\u001b[0m \u001b[0;34m=\u001b[0m \u001b[0mpd\u001b[0m\u001b[0;34m.\u001b[0m\u001b[0mDataFrame\u001b[0m\u001b[0;34m(\u001b[0m\u001b[0mextracted_data\u001b[0m\u001b[0;34m)\u001b[0m\u001b[0;34m\u001b[0m\u001b[0;34m\u001b[0m\u001b[0m\n\u001b[0m\u001b[1;32m      3\u001b[0m \u001b[0mwhisky_df\u001b[0m\u001b[0;34m\u001b[0m\u001b[0;34m\u001b[0m\u001b[0m\n",
      "\u001b[0;31mNameError\u001b[0m: name 'extracted_data' is not defined"
     ]
    }
   ],
   "source": [
    "import pandas as pd\n",
    "whisky_df = pd.DataFrame(extracted_data)\n",
    "whisky_df"
   ]
  },
  {
   "cell_type": "markdown",
   "metadata": {
    "cell_style": "split",
    "slideshow": {
     "slide_type": "slide"
    }
   },
   "source": [
    "If you want to scrape the entire set of product pages:\n",
    "- need to loop through product list pages.\n",
    "- extract all urls.\n",
    "- apply function to url list."
   ]
  },
  {
   "cell_type": "markdown",
   "metadata": {
    "cell_style": "split",
    "slideshow": {
     "slide_type": "fragment"
    }
   },
   "source": [
    "**Not always easy**\n",
    "- Some product pages have some tag elements missing\n",
    "- slightly different page structure.\n",
    "- Error handling required."
   ]
  },
  {
   "cell_type": "markdown",
   "metadata": {
    "slideshow": {
     "slide_type": "slide"
    }
   },
   "source": [
    "#### A final important etiquette note"
   ]
  },
  {
   "cell_type": "markdown",
   "metadata": {
    "cell_style": "split",
    "slideshow": {
     "slide_type": "fragment"
    }
   },
   "source": [
    "**Throttle requests**\n",
    "- limit the time between each request/product page scrape\n",
    "- server limits scrape rate: \n",
    "    - cut access to you if you scrape too much, too fast"
   ]
  },
  {
   "cell_type": "markdown",
   "metadata": {
    "cell_style": "split",
    "slideshow": {
     "slide_type": "fragment"
    }
   },
   "source": [
    "- time.sleep(t)\n",
    "- t is in seconds\n",
    "\n",
    "Try every second."
   ]
  },
  {
   "cell_type": "code",
   "execution_count": null,
   "metadata": {
    "slideshow": {
     "slide_type": "slide"
    }
   },
   "outputs": [],
   "source": [
    "import time\n",
    "\n",
    "def extract_data_dict(product_page):\n",
    "    \n",
    "    # essential to not getting blocked by server\n",
    "    time.sleep(1) #this waits 500 ms before executing code\n",
    "    \n",
    "    data_dict = {}\n",
    "    product_req = requests.get(product_page)\n",
    "    product_soup = BeautifulSoup(product_req.content)\n",
    "    \n",
    "    # get name\n",
    "    name_meta_tag = product_soup.html.find('meta', attrs = {'name': 'twitter:title'})\n",
    "    data_dict.update({'name': name_meta_tag['content'] })\n",
    "    \n",
    "    # get product facts and extract information\n",
    "\n",
    "    prod_fact = product_soup.find('ul', class_ = \"product-facts\" )\n",
    "    \n",
    "    # loops through to update data_dict with bottling information\n",
    "    for elem in prod_fact.find_all('li'):\n",
    "    \n",
    "        detail_key = elem.find('h3', class_ = \"product-facts__type\").text\n",
    "        detail_val = elem.find('p', class_ = \"product-facts__data\").text\n",
    "        data_dict.update({detail_key: detail_val})\n",
    "    \n",
    "    # get flavor ratings\n",
    "    flavor_style = product_soup.find('div', class_ = \"flavour-profile\").div\n",
    "    flav_profile_keys = [ span.text for span in flavor_style.find_all('span', class_ = 'flavour-profile__label') ]\n",
    "    value_list = [gauge['data-text'] for gauge in flavor_style.find_all('div', class_ = 'flavour-profile__gauge')]\n",
    "    data_dict.update(dict(zip(flav_profile_keys, value_list)))\n",
    "\n",
    "    return data_dict"
   ]
  },
  {
   "cell_type": "markdown",
   "metadata": {
    "slideshow": {
     "slide_type": "slide"
    }
   },
   "source": [
    "Running the data extractor will take more time:"
   ]
  },
  {
   "cell_type": "code",
   "execution_count": null,
   "metadata": {
    "slideshow": {
     "slide_type": "fragment"
    }
   },
   "outputs": [],
   "source": [
    "extracted_data = \\\n",
    "list(map(extract_data_dict, prod_urls))\n",
    "\n",
    "extracted_data"
   ]
  },
  {
   "cell_type": "markdown",
   "metadata": {
    "slideshow": {
     "slide_type": "slide"
    }
   },
   "source": [
    "Given:\n",
    "\n",
    "- errors might pop up\n",
    "- connection may be severed\n",
    "- with wait time: takes a long time\n",
    "\n",
    "Good idea to append requested data to a .json or .csv file as you scrape.\n"
   ]
  }
 ],
 "metadata": {
  "kernelspec": {
   "display_name": "Python (learn-env)",
   "language": "python",
   "name": "learn-env"
  },
  "language_info": {
   "codemirror_mode": {
    "name": "ipython",
    "version": 3
   },
   "file_extension": ".py",
   "mimetype": "text/x-python",
   "name": "python",
   "nbconvert_exporter": "python",
   "pygments_lexer": "ipython3",
   "version": "3.8.5"
  }
 },
 "nbformat": 4,
 "nbformat_minor": 5
}
