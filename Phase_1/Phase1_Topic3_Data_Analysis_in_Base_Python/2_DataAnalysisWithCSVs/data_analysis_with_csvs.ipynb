{
 "cells": [
  {
   "cell_type": "markdown",
   "metadata": {
    "toc": true
   },
   "source": [
    "<h1>Table of Contents<span class=\"tocSkip\"></span></h1>\n",
    "<div class=\"toc\"><ul class=\"toc-item\"><li><span><a href=\"#Data-Analysis-with-CSVs\" data-toc-modified-id=\"Data-Analysis-with-CSVs-1\"><span class=\"toc-item-num\">1&nbsp;&nbsp;</span>Data Analysis with CSVs</a></span></li><li><span><a href=\"#Objectives\" data-toc-modified-id=\"Objectives-2\"><span class=\"toc-item-num\">2&nbsp;&nbsp;</span>Objectives</a></span></li><li><span><a href=\"#Loading-a-CSV\" data-toc-modified-id=\"Loading-a-CSV-3\"><span class=\"toc-item-num\">3&nbsp;&nbsp;</span>Loading a CSV</a></span><ul class=\"toc-item\"><li><span><a href=\"#Get-the-File-Path\" data-toc-modified-id=\"Get-the-File-Path-3.1\"><span class=\"toc-item-num\">3.1&nbsp;&nbsp;</span>Get the File Path</a></span></li><li><span><a href=\"#Inspecting-CSV-files\" data-toc-modified-id=\"Inspecting-CSV-files-3.2\"><span class=\"toc-item-num\">3.2&nbsp;&nbsp;</span>Inspecting CSV files</a></span><ul class=\"toc-item\"><li><span><a href=\"#Printing-Lines-in-Python\" data-toc-modified-id=\"Printing-Lines-in-Python-3.2.1\"><span class=\"toc-item-num\">3.2.1&nbsp;&nbsp;</span>Printing Lines in Python</a></span></li><li><span><a href=\"#Printing-Lines-in-bash\" data-toc-modified-id=\"Printing-Lines-in-bash-3.2.2\"><span class=\"toc-item-num\">3.2.2&nbsp;&nbsp;</span>Printing Lines in bash</a></span></li><li><span><a href=\"#Discussion\" data-toc-modified-id=\"Discussion-3.2.3\"><span class=\"toc-item-num\">3.2.3&nbsp;&nbsp;</span>Discussion</a></span></li></ul></li><li><span><a href=\"#Using-the-csv-library\" data-toc-modified-id=\"Using-the-csv-library-3.3\"><span class=\"toc-item-num\">3.3&nbsp;&nbsp;</span>Using the <code>csv</code> library</a></span></li></ul></li><li><span><a href=\"#Data-Preparation\" data-toc-modified-id=\"Data-Preparation-4\"><span class=\"toc-item-num\">4&nbsp;&nbsp;</span>Data Preparation</a></span><ul class=\"toc-item\"><li><span><a href=\"#Clean-the-Sale-Prices\" data-toc-modified-id=\"Clean-the-Sale-Prices-4.1\"><span class=\"toc-item-num\">4.1&nbsp;&nbsp;</span>Clean the Sale Prices</a></span></li><li><span><a href=\"#Clean-the-Dates\" data-toc-modified-id=\"Clean-the-Dates-4.2\"><span class=\"toc-item-num\">4.2&nbsp;&nbsp;</span>Clean the Dates</a></span><ul class=\"toc-item\"><li><span><a href=\"#Using-Python-built-in-methods\" data-toc-modified-id=\"Using-Python-built-in-methods-4.2.1\"><span class=\"toc-item-num\">4.2.1&nbsp;&nbsp;</span>Using Python built-in methods</a></span></li></ul></li></ul></li><li><span><a href=\"#Data-Analysis\" data-toc-modified-id=\"Data-Analysis-5\"><span class=\"toc-item-num\">5&nbsp;&nbsp;</span>Data Analysis</a></span><ul class=\"toc-item\"><li><span><a href=\"#Question-1:-What-is-the-range-of-years-for-which-we-have-sales-data?\" data-toc-modified-id=\"Question-1:-What-is-the-range-of-years-for-which-we-have-sales-data?-5.1\"><span class=\"toc-item-num\">5.1&nbsp;&nbsp;</span>Question 1: What is the range of years for which we have sales data?</a></span></li><li><span><a href=\"#Question-2:-How-many-properties-sold-in-2020?\" data-toc-modified-id=\"Question-2:-How-many-properties-sold-in-2020?-5.2\"><span class=\"toc-item-num\">5.2&nbsp;&nbsp;</span>Question 2: How many properties sold in 2020?</a></span></li><li><span><a href=\"#Question-3:-What-was-the-mean-sale-price-in-2020?\" data-toc-modified-id=\"Question-3:-What-was-the-mean-sale-price-in-2020?-5.3\"><span class=\"toc-item-num\">5.3&nbsp;&nbsp;</span>Question 3: What was the mean sale price in 2020?</a></span></li><li><span><a href=\"#Question-4:-How-many-properties-sold-in-each-year?\" data-toc-modified-id=\"Question-4:-How-many-properties-sold-in-each-year?-5.4\"><span class=\"toc-item-num\">5.4&nbsp;&nbsp;</span>Question 4: How many properties sold in each year?</a></span></li></ul></li><li><span><a href=\"#Chart-the-Data\" data-toc-modified-id=\"Chart-the-Data-6\"><span class=\"toc-item-num\">6&nbsp;&nbsp;</span>Chart the Data</a></span></li><li><span><a href=\"#Level-Up:-Counter\" data-toc-modified-id=\"Level-Up:-Counter-7\"><span class=\"toc-item-num\">7&nbsp;&nbsp;</span>Level Up: <code>Counter</code></a></span></li><li><span><a href=\"#Level-Up:-Using-datetime\" data-toc-modified-id=\"Level-Up:-Using-datetime-8\"><span class=\"toc-item-num\">8&nbsp;&nbsp;</span>Level Up: Using <code>datetime</code></a></span></li></ul></div>"
   ]
  },
  {
   "cell_type": "markdown",
   "metadata": {
    "slideshow": {
     "slide_type": "slide"
    }
   },
   "source": [
    "<div style=\"color:white;\n",
    "           display:fill;\n",
    "           border-radius:5px;\n",
    "           background-color:#5642C5;\n",
    "           font-size:200%;\n",
    "           font-family:Arial;letter-spacing:0.5px\">\n",
    "\n",
    "<p width = 20%, style=\"padding: 10px;\n",
    "              color:white;\">\n",
    "Base Python: Comma Separated Value (CSV) Files\n",
    "              \n",
    "</p>\n",
    "</div>\n",
    "\n",
    "Data Science Cohort Live NYC May 2022\n",
    "<p>Phase 1: Topic 3</p>\n",
    "<br>\n",
    "<br>\n",
    "\n",
    "<div align = \"right\">\n",
    "<img src=\"images/flatiron-school-logo.png\" align = \"right\" width=\"200\"/>\n",
    "</div>\n"
   ]
  },
  {
   "cell_type": "markdown",
   "metadata": {
    "slideshow": {
     "slide_type": "slide"
    }
   },
   "source": [
    "# Data Analysis with CSVs"
   ]
  },
  {
   "cell_type": "markdown",
   "metadata": {
    "slideshow": {
     "slide_type": "fragment"
    }
   },
   "source": [
    "In this lesson, we'll complete a full data analysis with a raw data file. Comma Separated Values files, known as CSVs, are one of the most common file formats for storing tabular data. In this lesson, we'll show you how to load one into memory and work with it using Python."
   ]
  },
  {
   "cell_type": "markdown",
   "metadata": {
    "slideshow": {
     "slide_type": "slide"
    }
   },
   "source": [
    "# Objectives"
   ]
  },
  {
   "cell_type": "markdown",
   "metadata": {
    "slideshow": {
     "slide_type": "fragment"
    }
   },
   "source": [
    "Perform a complete data analysis by...\n",
    "\n",
    "- Creating a Python data structure from a .csv file\n",
    "- Exploring and cleaning the data \n",
    "- Conducting descriptive analysis\n",
    "- Visualizing the results"
   ]
  },
  {
   "cell_type": "markdown",
   "metadata": {
    "slideshow": {
     "slide_type": "slide"
    }
   },
   "source": [
    "#### Comma Separated Value Format\n",
    "\n",
    "- Tabular data\n",
    "- Column entries separated by commas\n",
    "- Typical file extensions: .csv, .dat, .txt\n",
    "- Very common data format\n",
    "\n",
    "Example: Track times (s) for 100m dash for four athletes across 3 meets."
   ]
  },
  {
   "cell_type": "markdown",
   "metadata": {
    "slideshow": {
     "slide_type": "slide"
    }
   },
   "source": [
    "# Loading a CSV"
   ]
  },
  {
   "cell_type": "markdown",
   "metadata": {
    "slideshow": {
     "slide_type": "fragment"
    }
   },
   "source": [
    "The before you can work with a CSV file, you need to load it into memory."
   ]
  },
  {
   "cell_type": "markdown",
   "metadata": {
    "slideshow": {
     "slide_type": "slide"
    }
   },
   "source": [
    "## Get the File Path"
   ]
  },
  {
   "cell_type": "markdown",
   "metadata": {
    "slideshow": {
     "slide_type": "fragment"
    }
   },
   "source": [
    "Make sure you have the path to your data file. For this example, it is in the root folder of this repository."
   ]
  },
  {
   "cell_type": "code",
   "execution_count": 1,
   "metadata": {
    "scrolled": true,
    "slideshow": {
     "slide_type": "fragment"
    }
   },
   "outputs": [
    {
     "name": "stdout",
     "output_type": "stream",
     "text": [
<<<<<<< HEAD
      "\u001b[34mdata\u001b[m\u001b[m                          \u001b[34mimages\u001b[m\u001b[m\r\n",
      "data_analysis_with_csvs.ipynb\r\n"
=======
      "README.md                     data_analysis_with_csvs.ipynb\r\n",
      "\u001b[34mdata\u001b[m\u001b[m                          \u001b[34mimages\u001b[m\u001b[m\r\n"
>>>>>>> upstream/main
     ]
    }
   ],
   "source": [
    "# This will only work on Mac, Linux, or a separate bash terminal in Windows\n",
    "\n",
    "!ls"
   ]
  },
  {
   "cell_type": "markdown",
   "metadata": {
    "slideshow": {
     "slide_type": "fragment"
    }
   },
   "source": [
    "We use `.` to indicate the root folder of the repository when working within this notebook."
   ]
  },
  {
   "cell_type": "code",
   "execution_count": 2,
   "metadata": {
    "slideshow": {
     "slide_type": "fragment"
    }
   },
   "outputs": [],
   "source": [
    "csv_file_path = \"./data/King_County_Real_Estate_Sales.csv\""
   ]
  },
  {
   "cell_type": "markdown",
   "metadata": {
    "slideshow": {
     "slide_type": "slide"
    }
   },
   "source": [
    "## Inspecting CSV files"
   ]
  },
  {
   "cell_type": "markdown",
   "metadata": {
    "slideshow": {
     "slide_type": "fragment"
    }
   },
   "source": [
    "In a CSV file, each line represents one row of tabular data, and consecutive values in that row are separated by a comma. Often, the first row contains the column names separated by commas, also known as field names. Let's confirm that this is the case and learn about our dataset by printing the first two lines of the file."
   ]
  },
  {
   "cell_type": "markdown",
   "metadata": {
    "slideshow": {
     "slide_type": "slide"
    }
   },
   "source": [
    "### Printing Lines in Python"
   ]
  },
  {
   "cell_type": "markdown",
   "metadata": {
    "slideshow": {
     "slide_type": "fragment"
    }
   },
   "source": [
    "We use the `with open()` syntax to easily open and read the file in the notebook. Using this syntax will automatically close the file once the statement is done running."
   ]
  },
  {
   "cell_type": "code",
   "execution_count": 3,
   "metadata": {
    "slideshow": {
     "slide_type": "fragment"
    }
   },
   "outputs": [
    {
     "name": "stdout",
     "output_type": "stream",
     "text": [
      "ExciseTaxNbr,Major,Minor,DocumentDate,SalePrice,RecordingNbr,Volume,Page,PlatNbr,PlatType,PlatLot,PlatBlock,SellerName,BuyerName,PropertyType,PrincipalUse,SaleInstrument,AFForestLand,AFCurrentUseLand,AFNonProfitUse,AFHistoricProperty,SaleReason,PropertyClass,SaleWarning\n",
      "\n"
     ]
    }
   ],
   "source": [
    "# This code prints the first line of the CSV file\n",
    "\n",
    "with open(csv_file_path) as csvfile:\n",
    "    print(csvfile.readline())"
   ]
  },
  {
   "cell_type": "markdown",
   "metadata": {
    "slideshow": {
     "slide_type": "slide"
    }
   },
   "source": [
    "Next, we can print the second line to look at an example of one observation from our dataset. This represents one real estate sale in Kings County."
   ]
  },
  {
   "cell_type": "code",
   "execution_count": 4,
   "metadata": {
    "slideshow": {
     "slide_type": "fragment"
    }
   },
   "outputs": [
    {
     "name": "stdout",
     "output_type": "stream",
     "text": [
      "2687551,138860,110,08/21/2014,245000,20140828001436,   ,   ,      , ,              ,       ,WENKLE NOEL SMITH -TRUSTEE                        ,ALEXANDER APRIL                                   ,3,6,3,N,N,N,N,1,8, \n",
      "\n"
     ]
    }
   ],
   "source": [
    "# This code prints the second line of the CSV file\n",
    "\n",
    "with open(csv_file_path) as csvfile:\n",
    "    csvfile.readline()\n",
    "    print(csvfile.readline())"
   ]
  },
  {
   "cell_type": "markdown",
   "metadata": {
    "slideshow": {
     "slide_type": "slide"
    }
   },
   "source": [
    "### Printing Lines in bash"
   ]
  },
  {
   "cell_type": "markdown",
   "metadata": {
    "slideshow": {
     "slide_type": "fragment"
    }
   },
   "source": [
    "Alternatively, you could use a bash command to print the first two lines."
   ]
  },
  {
   "cell_type": "code",
   "execution_count": 5,
   "metadata": {
    "scrolled": true,
    "slideshow": {
     "slide_type": "fragment"
    }
   },
   "outputs": [
    {
     "name": "stdout",
     "output_type": "stream",
     "text": [
      "ExciseTaxNbr,Major,Minor,DocumentDate,SalePrice,RecordingNbr,Volume,Page,PlatNbr,PlatType,PlatLot,PlatBlock,SellerName,BuyerName,PropertyType,PrincipalUse,SaleInstrument,AFForestLand,AFCurrentUseLand,AFNonProfitUse,AFHistoricProperty,SaleReason,PropertyClass,SaleWarning\r\n",
      "2687551,138860,110,08/21/2014,245000,20140828001436,   ,   ,      , ,              ,       ,WENKLE NOEL SMITH -TRUSTEE                        ,ALEXANDER APRIL                                   ,3,6,3,N,N,N,N,1,8, \r\n"
     ]
    }
   ],
   "source": [
    "# This will only work on Mac, Linux, or a separate bash terminal in Windows\n",
    "\n",
    "!head -n 2 ./data/King_County_Real_Estate_Sales.csv"
   ]
  },
  {
   "cell_type": "markdown",
   "metadata": {
    "slideshow": {
     "slide_type": "fragment"
    }
   },
   "source": [
    "### Discussion\n",
    "Based on these two lines, what can we infer about the contents of the data file? What questions arise for you about the data?"
   ]
  },
  {
   "cell_type": "markdown",
   "metadata": {
    "slideshow": {
     "slide_type": "slide"
    }
   },
   "source": [
    "## Using the `csv` module"
   ]
  },
  {
   "cell_type": "markdown",
   "metadata": {
    "slideshow": {
     "slide_type": "fragment"
    }
   },
   "source": [
    "The [`csv` module](https://docs.python.org/3/library/csv.html) lets us easily process data in CSV files. We will use it to read each row in the `.csv` file and store its information in a Python object we can use for further analysis. "
   ]
  },
  {
   "cell_type": "code",
   "execution_count": 6,
   "metadata": {
    "slideshow": {
     "slide_type": "slide"
    }
   },
   "outputs": [],
   "source": [
    "import csv"
   ]
  },
  {
   "cell_type": "markdown",
   "metadata": {
    "slideshow": {
     "slide_type": "fragment"
    }
   },
   "source": [
    "The [`csv.DictReader`](https://docs.python.org/3/library/csv.html#csv.DictReader) object is a file reader, reading each row and then converting it to a dictionary. By default, it turns each row into a dictionary, using the field names from the first row as the keys."
   ]
  },
  {
   "cell_type": "code",
   "execution_count": 7,
   "metadata": {
    "slideshow": {
     "slide_type": "fragment"
    }
   },
   "outputs": [
    {
     "name": "stdout",
     "output_type": "stream",
     "text": [
      "{'ExciseTaxNbr': '2687551', 'Major': '138860', 'Minor': '110', 'DocumentDate': '08/21/2014', 'SalePrice': '245000', 'RecordingNbr': '20140828001436', 'Volume': '   ', 'Page': '   ', 'PlatNbr': '      ', 'PlatType': ' ', 'PlatLot': '              ', 'PlatBlock': '       ', 'SellerName': 'WENKLE NOEL SMITH -TRUSTEE                        ', 'BuyerName': 'ALEXANDER APRIL                                   ', 'PropertyType': '3', 'PrincipalUse': '6', 'SaleInstrument': '3', 'AFForestLand': 'N', 'AFCurrentUseLand': 'N', 'AFNonProfitUse': 'N', 'AFHistoricProperty': 'N', 'SaleReason': '1', 'PropertyClass': '8', 'SaleWarning': ' '}\n"
     ]
    }
   ],
   "source": [
    "# Print OrderedDict from first row of CSV file \n",
    "\n",
    "with open(csv_file_path) as csvfile:\n",
    "    reader = csv.DictReader(csvfile)\n",
    "    print(next(reader))"
   ]
  },
  {
   "cell_type": "markdown",
   "metadata": {
    "slideshow": {
     "slide_type": "slide"
    }
   },
   "source": [
    "Let's get all of the data out of our file and into dictionaries, and store those dictionaries in a new list called `sales`."
   ]
  },
  {
   "cell_type": "code",
   "execution_count": 8,
   "metadata": {
    "slideshow": {
     "slide_type": "fragment"
    }
   },
   "outputs": [],
   "source": [
    "sales = []\n",
    "\n",
    "with open(csv_file_path) as csvfile:\n",
    "    reader = csv.DictReader(csvfile)\n",
    "    for row in reader:\n",
    "        sales.append(row)"
   ]
  },
  {
   "cell_type": "code",
   "execution_count": 9,
   "metadata": {
    "slideshow": {
     "slide_type": "slide"
    }
   },
   "outputs": [
    {
     "data": {
      "text/plain": [
       "[{'ExciseTaxNbr': '2687551',\n",
       "  'Major': '138860',\n",
       "  'Minor': '110',\n",
       "  'DocumentDate': '08/21/2014',\n",
       "  'SalePrice': '245000',\n",
       "  'RecordingNbr': '20140828001436',\n",
       "  'Volume': '   ',\n",
       "  'Page': '   ',\n",
       "  'PlatNbr': '      ',\n",
       "  'PlatType': ' ',\n",
       "  'PlatLot': '              ',\n",
       "  'PlatBlock': '       ',\n",
       "  'SellerName': 'WENKLE NOEL SMITH -TRUSTEE                        ',\n",
       "  'BuyerName': 'ALEXANDER APRIL                                   ',\n",
       "  'PropertyType': '3',\n",
       "  'PrincipalUse': '6',\n",
       "  'SaleInstrument': '3',\n",
       "  'AFForestLand': 'N',\n",
       "  'AFCurrentUseLand': 'N',\n",
       "  'AFNonProfitUse': 'N',\n",
       "  'AFHistoricProperty': 'N',\n",
       "  'SaleReason': '1',\n",
       "  'PropertyClass': '8',\n",
       "  'SaleWarning': ' '},\n",
       " {'ExciseTaxNbr': '3080093',\n",
       "  'Major': '82204',\n",
       "  'Minor': '9037',\n",
       "  'DocumentDate': '10/27/2020',\n",
       "  'SalePrice': '0',\n",
       "  'RecordingNbr': '20201102000765',\n",
       "  'Volume': '   ',\n",
       "  'Page': '   ',\n",
       "  'PlatNbr': '      ',\n",
       "  'PlatType': ' ',\n",
       "  'PlatLot': '              ',\n",
       "  'PlatBlock': '       ',\n",
       "  'SellerName': 'BALA RAJNI                                        ',\n",
       "  'BuyerName': 'SINGH JOGA+BALA RAJNI                             ',\n",
       "  'PropertyType': '11',\n",
       "  'PrincipalUse': '6',\n",
       "  'SaleInstrument': '15',\n",
       "  'AFForestLand': 'N',\n",
       "  'AFCurrentUseLand': 'N',\n",
       "  'AFNonProfitUse': 'N',\n",
       "  'AFHistoricProperty': 'N',\n",
       "  'SaleReason': '18',\n",
       "  'PropertyClass': '8',\n",
       "  'SaleWarning': '18 51'},\n",
       " {'ExciseTaxNbr': '1235111',\n",
       "  'Major': '664885',\n",
       "  'Minor': '40',\n",
       "  'DocumentDate': '07/09/1991',\n",
       "  'SalePrice': '0',\n",
       "  'RecordingNbr': '199203161090  ',\n",
       "  'Volume': '071',\n",
       "  'Page': '001',\n",
       "  'PlatNbr': '664885',\n",
       "  'PlatType': 'C',\n",
       "  'PlatLot': 'B102          ',\n",
       "  'PlatBlock': '       ',\n",
       "  'SellerName': 'HERRMAN JEFFREY A+PAULINE A                       ',\n",
       "  'BuyerName': 'HERRMAN PAULINE A TTEE                            ',\n",
       "  'PropertyType': '3',\n",
       "  'PrincipalUse': '0',\n",
       "  'SaleInstrument': '26',\n",
       "  'AFForestLand': 'N',\n",
       "  'AFCurrentUseLand': 'N',\n",
       "  'AFNonProfitUse': 'N',\n",
       "  'AFHistoricProperty': 'N',\n",
       "  'SaleReason': '18',\n",
       "  'PropertyClass': '3',\n",
       "  'SaleWarning': '11'}]"
      ]
     },
     "execution_count": 9,
     "metadata": {},
     "output_type": "execute_result"
    }
   ],
   "source": [
    "sales[0:3]"
   ]
  },
  {
   "cell_type": "markdown",
   "metadata": {
    "slideshow": {
     "slide_type": "slide"
    }
   },
   "source": [
    "# Data Preparation"
   ]
  },
  {
   "cell_type": "markdown",
   "metadata": {
    "slideshow": {
     "slide_type": "fragment"
    }
   },
   "source": [
    "Now that we've gotten all of our data into a Python object, we can prepare it for analysis. Let's look at a sample observation and consider how we might want to process it to make it easier to analyze."
   ]
  },
  {
   "cell_type": "code",
   "execution_count": 10,
   "metadata": {
    "cell_style": "center",
    "slideshow": {
     "slide_type": "slide"
    }
   },
   "outputs": [
    {
     "data": {
      "text/plain": [
       "{'ExciseTaxNbr': '2687551',\n",
       " 'Major': '138860',\n",
       " 'Minor': '110',\n",
       " 'DocumentDate': '08/21/2014',\n",
       " 'SalePrice': '245000',\n",
       " 'RecordingNbr': '20140828001436',\n",
       " 'Volume': '   ',\n",
       " 'Page': '   ',\n",
       " 'PlatNbr': '      ',\n",
       " 'PlatType': ' ',\n",
       " 'PlatLot': '              ',\n",
       " 'PlatBlock': '       ',\n",
       " 'SellerName': 'WENKLE NOEL SMITH -TRUSTEE                        ',\n",
       " 'BuyerName': 'ALEXANDER APRIL                                   ',\n",
       " 'PropertyType': '3',\n",
       " 'PrincipalUse': '6',\n",
       " 'SaleInstrument': '3',\n",
       " 'AFForestLand': 'N',\n",
       " 'AFCurrentUseLand': 'N',\n",
       " 'AFNonProfitUse': 'N',\n",
       " 'AFHistoricProperty': 'N',\n",
       " 'SaleReason': '1',\n",
       " 'PropertyClass': '8',\n",
       " 'SaleWarning': ' '}"
      ]
     },
     "execution_count": 10,
     "metadata": {},
     "output_type": "execute_result"
    }
   ],
   "source": [
    "sales[0]"
   ]
  },
  {
   "cell_type": "markdown",
   "metadata": {
    "slideshow": {
     "slide_type": "fragment"
    }
   },
   "source": [
    "**Discussion:** How might you clean these data to make them easier to analyze? SJ: Change the sale price to an integer, date should be a date"
   ]
  },
  {
   "cell_type": "markdown",
   "metadata": {
    "slideshow": {
     "slide_type": "slide"
    }
   },
   "source": [
    "## Clean the Sale Prices"
   ]
  },
  {
   "cell_type": "markdown",
   "metadata": {
    "slideshow": {
     "slide_type": "fragment"
    }
   },
   "source": [
    "First, let's convert the sale prices from strings to numbers, so we can do arithmetic with them. For example, we could calculate the average price."
   ]
  },
  {
   "cell_type": "code",
<<<<<<< HEAD
   "execution_count": 13,
=======
   "execution_count": 11,
>>>>>>> upstream/main
   "metadata": {
    "slideshow": {
     "slide_type": "fragment"
    }
   },
   "outputs": [],
   "source": [
    "for sale in sales: #for every element in that list, we will add a new value as sales price which will be an to int\n",
    "    # Save the document date to a variable\n",
    "    string_price = sale[\"SalePrice\"]\n",
    "    \n",
    "    # Cast the sale price to int and add it to each dictionary element of sales\n",
    "    sale[\"sale_price\"] = int(string_price)"
   ]
  },
  {
   "cell_type": "code",
<<<<<<< HEAD
   "execution_count": 19,
=======
   "execution_count": 12,
>>>>>>> upstream/main
   "metadata": {
    "slideshow": {
     "slide_type": "slide"
    }
   },
   "outputs": [
    {
     "data": {
      "text/plain": [
       "{'ExciseTaxNbr': '2687551',\n",
       " 'Major': '138860',\n",
       " 'Minor': '110',\n",
       " 'DocumentDate': '08/21/2014',\n",
       " 'SalePrice': '245000',\n",
       " 'RecordingNbr': '20140828001436',\n",
       " 'Volume': '   ',\n",
       " 'Page': '   ',\n",
       " 'PlatNbr': '      ',\n",
       " 'PlatType': ' ',\n",
       " 'PlatLot': '              ',\n",
       " 'PlatBlock': '       ',\n",
       " 'SellerName': 'WENKLE NOEL SMITH -TRUSTEE                        ',\n",
       " 'BuyerName': 'ALEXANDER APRIL                                   ',\n",
       " 'PropertyType': '3',\n",
       " 'PrincipalUse': '6',\n",
       " 'SaleInstrument': '3',\n",
       " 'AFForestLand': 'N',\n",
       " 'AFCurrentUseLand': 'N',\n",
       " 'AFNonProfitUse': 'N',\n",
       " 'AFHistoricProperty': 'N',\n",
       " 'SaleReason': '1',\n",
       " 'PropertyClass': '8',\n",
       " 'SaleWarning': ' ',\n",
       " 'sale_price': 245000}"
      ]
     },
<<<<<<< HEAD
     "execution_count": 19,
=======
     "execution_count": 12,
>>>>>>> upstream/main
     "metadata": {},
     "output_type": "execute_result"
    }
   ],
   "source": [
    "sales[0]"
   ]
  },
  {
   "cell_type": "markdown",
   "metadata": {
    "slideshow": {
     "slide_type": "slide"
    }
   },
   "source": [
    "## Clean the Dates"
   ]
  },
  {
   "cell_type": "markdown",
   "metadata": {
    "slideshow": {
     "slide_type": "fragment"
    }
   },
   "source": [
    "Next we'll clean the dates so that we can easily get the month and year of each sale. "
   ]
  },
  {
   "cell_type": "markdown",
   "metadata": {
    "slideshow": {
     "slide_type": "fragment"
    }
   },
   "source": [
    "### Using Python built-in methods"
   ]
  },
  {
   "cell_type": "markdown",
   "metadata": {
    "slideshow": {
     "slide_type": "fragment"
    }
   },
   "source": [
    "**Activity**: Process the `sales` list to add numeric values for month and year to each entry."
   ]
  },
  {
   "cell_type": "code",
<<<<<<< HEAD
   "execution_count": 24,
=======
   "execution_count": 13,
>>>>>>> upstream/main
   "metadata": {
    "slideshow": {
     "slide_type": "fragment"
    }
   },
   "outputs": [],
   "source": [
    "## Your work here\n",
    "for sale in sales:\n",
    "    string_date = sale['DocumentDate']\n",
    "    sale[\"sale_year\"] = int(string_date[-4:])\n",
    "    sale[\"sale_month\"] = int(string_date[:2])"
   ]
  },
  {
   "cell_type": "code",
   "execution_count": 89,
   "metadata": {},
   "outputs": [
    {
     "data": {
      "text/plain": [
       "{'ExciseTaxNbr': '2687551',\n",
       " 'Major': '138860',\n",
       " 'Minor': '110',\n",
       " 'DocumentDate': '08/21/2014',\n",
       " 'SalePrice': '245000',\n",
       " 'RecordingNbr': '20140828001436',\n",
       " 'Volume': '   ',\n",
       " 'Page': '   ',\n",
       " 'PlatNbr': '      ',\n",
       " 'PlatType': ' ',\n",
       " 'PlatLot': '              ',\n",
       " 'PlatBlock': '       ',\n",
       " 'SellerName': 'WENKLE NOEL SMITH -TRUSTEE                        ',\n",
       " 'BuyerName': 'ALEXANDER APRIL                                   ',\n",
       " 'PropertyType': '3',\n",
       " 'PrincipalUse': '6',\n",
       " 'SaleInstrument': '3',\n",
       " 'AFForestLand': 'N',\n",
       " 'AFCurrentUseLand': 'N',\n",
       " 'AFNonProfitUse': 'N',\n",
       " 'AFHistoricProperty': 'N',\n",
       " 'SaleReason': '1',\n",
       " 'PropertyClass': '8',\n",
       " 'SaleWarning': ' ',\n",
       " 'sale_price': 245000,\n",
       " 'sale_year': 2014,\n",
       " 'sale_month': 8}"
      ]
     },
     "execution_count": 89,
     "metadata": {},
     "output_type": "execute_result"
    }
   ],
   "source": [
    "sales[0]"
   ]
  },
  {
   "cell_type": "markdown",
   "metadata": {
    "slideshow": {
     "slide_type": "slide"
    }
   },
   "source": [
    "<details>\n",
    "    <summary><b><u>Click Here for Answer Code</u></b></summary>\n",
    "    \n",
    "```python    \n",
    "for sale in sales:\n",
    "    # Save the document date to a variable\n",
    "    string_date = sale[\"DocumentDate\"]\n",
    "\n",
    "    # Extract the sale year and month from the string, and cast to int\n",
    "    sale_year = int(string_date[6:10])\n",
    "    sale_month = int(string_date[0:2])    \n",
    "\n",
    "    # Add the sale year and month to each dictionary element of sales\n",
    "    sale[\"sale_year\"] = sale_year\n",
    "    sale[\"sale_month\"] = sale_month\n",
    "```\n",
    "</details>"
   ]
  },
  {
   "cell_type": "code",
   "execution_count": 14,
   "metadata": {
    "slideshow": {
     "slide_type": "fragment"
    }
   },
   "outputs": [
    {
     "data": {
      "text/plain": [
       "{'ExciseTaxNbr': '2687551',\n",
       " 'Major': '138860',\n",
       " 'Minor': '110',\n",
       " 'DocumentDate': '08/21/2014',\n",
       " 'SalePrice': '245000',\n",
       " 'RecordingNbr': '20140828001436',\n",
       " 'Volume': '   ',\n",
       " 'Page': '   ',\n",
       " 'PlatNbr': '      ',\n",
       " 'PlatType': ' ',\n",
       " 'PlatLot': '              ',\n",
       " 'PlatBlock': '       ',\n",
       " 'SellerName': 'WENKLE NOEL SMITH -TRUSTEE                        ',\n",
       " 'BuyerName': 'ALEXANDER APRIL                                   ',\n",
       " 'PropertyType': '3',\n",
       " 'PrincipalUse': '6',\n",
       " 'SaleInstrument': '3',\n",
       " 'AFForestLand': 'N',\n",
       " 'AFCurrentUseLand': 'N',\n",
       " 'AFNonProfitUse': 'N',\n",
       " 'AFHistoricProperty': 'N',\n",
       " 'SaleReason': '1',\n",
       " 'PropertyClass': '8',\n",
       " 'SaleWarning': ' ',\n",
       " 'sale_price': 245000}"
      ]
     },
     "execution_count": 14,
     "metadata": {},
     "output_type": "execute_result"
    }
   ],
   "source": [
    "sales[0]"
   ]
  },
  {
   "cell_type": "markdown",
   "metadata": {
    "slideshow": {
     "slide_type": "slide"
    }
   },
   "source": [
    "# Data Analysis"
   ]
  },
  {
   "cell_type": "markdown",
   "metadata": {
    "slideshow": {
     "slide_type": "fragment"
    }
   },
   "source": [
    "Now that you have a cleaned list with the property sales data, we can finally start to perform some data analysis."
   ]
  },
  {
   "cell_type": "markdown",
   "metadata": {
    "slideshow": {
     "slide_type": "slide"
    }
   },
   "source": [
    "## Question 1: What is the range of years for which we have sales data?"
   ]
  },
  {
   "cell_type": "code",
<<<<<<< HEAD
   "execution_count": 36,
=======
   "execution_count": 15,
>>>>>>> upstream/main
   "metadata": {
    "slideshow": {
     "slide_type": "fragment"
    }
   },
   "outputs": [
    {
     "name": "stdout",
     "output_type": "stream",
     "text": [
      "1958\n",
      "2021\n"
     ]
    }
   ],
   "source": [
    "## Your work here\n",
    "sale_year_list = [i['sale_year'] for i in sales]\n",
    "print(min(sale_year_list))\n",
    "print(max(sale_year_list))\n"
   ]
  },
  {
   "cell_type": "markdown",
   "metadata": {
    "slideshow": {
     "slide_type": "fragment"
    }
   },
   "source": [
    "<details>\n",
    "            <summary><b><u>Click Here for Answer Code</u></b></summary>\n",
    "\n",
    "```python\n",
    "sale_years = [sale['sale_year'] for sale in sales]\n",
    "print(min(sale_years))\n",
    "print(max(sale_years))\n",
    "```    \n",
    "</details>"
   ]
  },
  {
   "cell_type": "markdown",
   "metadata": {
    "slideshow": {
     "slide_type": "slide"
    }
   },
   "source": [
    "## Question 2: How many properties sold in 2020?"
   ]
  },
  {
   "cell_type": "code",
<<<<<<< HEAD
   "execution_count": 70,
   "metadata": {},
   "outputs": [
    {
     "data": {
      "text/plain": [
       "419"
      ]
     },
     "execution_count": 70,
     "metadata": {},
     "output_type": "execute_result"
=======
   "execution_count": 16,
   "metadata": {
    "slideshow": {
     "slide_type": "fragment"
>>>>>>> upstream/main
    }
   ],
   "source": [
    "len([i for i in sale_years if i == 2020])"
   ]
  },
  {
   "cell_type": "code",
   "execution_count": 71,
   "metadata": {},
   "outputs": [
    {
     "data": {
      "text/plain": [
       "419"
      ]
     },
     "execution_count": 71,
     "metadata": {},
     "output_type": "execute_result"
    }
   ],
   "source": [
    "#This was the answer given, above is skye's code\n",
    "sale_years = [sale['sale_year'] for sale in sales]\n",
    "sale_years_2020 = [year for year in sale_years if year == 2020]\n",
    "len(sale_years_2020)"
   ]
  },
  {
   "cell_type": "markdown",
   "metadata": {
    "slideshow": {
     "slide_type": "fragment"
    }
   },
   "source": [
    "<details>\n",
    "            <summary><b><u>Click Here for Answer Code</u></b></summary>\n",
    "\n",
    "```python\n",
    "sale_years = [sale['sale_year'] for sale in sales]\n",
    "sale_years_2020 = [year for year in sale_years if year == 2020]\n",
    "len(sale_years_2020)\n",
    "```\n",
    "</details>"
   ]
  },
  {
   "cell_type": "markdown",
   "metadata": {
    "slideshow": {
     "slide_type": "slide"
    }
   },
   "source": [
    "## Question 3: What was the mean sale price in 2020?"
   ]
  },
  {
   "cell_type": "code",
<<<<<<< HEAD
   "execution_count": 72,
=======
   "execution_count": 39,
>>>>>>> upstream/main
   "metadata": {
    "slideshow": {
     "slide_type": "fragment"
    }
   },
   "outputs": [
    {
     "data": {
      "text/plain": [
       "3575875"
      ]
     },
     "execution_count": 72,
     "metadata": {},
     "output_type": "execute_result"
    }
   ],
   "source": [
    "## Your work here\n",
    "sale_price_2020 = [sale['sale_price'] for sale in sales if sale['sale_year'] == 2020]\n",
    "round(sum(sale_price_2020) / len(sale_price_2020), )"
   ]
  },
  {
   "cell_type": "markdown",
   "metadata": {
    "slideshow": {
     "slide_type": "fragment"
    }
   },
   "source": [
    "<details>\n",
    "            <summary><b><u>Click Here for Answer Code</u></b></summary>\n",
    "\n",
    "```python\n",
    "sale_prices_2020 = [sale['sale_price'] for sale in sales if sale['sale_year'] == 2020]\n",
    "sum(sale_prices_2020)/len(sale_prices_2020)\n",
    "```\n",
    "</details>"
   ]
  },
  {
   "cell_type": "markdown",
   "metadata": {
    "slideshow": {
     "slide_type": "slide"
    }
   },
   "source": [
    "## Question 4: How many properties sold in each year?"
   ]
  },
  {
   "cell_type": "code",
<<<<<<< HEAD
   "execution_count": 87,
=======
   "execution_count": 18,
>>>>>>> upstream/main
   "metadata": {
    "slideshow": {
     "slide_type": "fragment"
    }
   },
   "outputs": [
    {
     "data": {
      "text/plain": [
       "[245000,\n",
       " 0,\n",
       " 0,\n",
       " 0,\n",
       " 0,\n",
       " 560000,\n",
       " 85000,\n",
       " 0,\n",
       " 5755000,\n",
       " 5755000,\n",
       " 5755000,\n",
       " 5755000,\n",
       " 5755000,\n",
       " 5755000,\n",
       " 5755000,\n",
       " 5755000,\n",
       " 5755000,\n",
       " 5755000,\n",
       " 5755000,\n",
       " 5755000,\n",
       " 5755000,\n",
       " 5755000,\n",
       " 5755000,\n",
       " 91500,\n",
       " 0,\n",
       " 0,\n",
       " 0,\n",
       " 0,\n",
       " 37500,\n",
       " 0,\n",
       " 0,\n",
       " 0,\n",
       " 292000,\n",
       " 287000,\n",
       " 5518000,\n",
       " 5518000,\n",
       " 5518000,\n",
       " 5518000,\n",
       " 5518000,\n",
       " 5518000,\n",
       " 5518000,\n",
       " 5518000,\n",
       " 5518000,\n",
       " 5518000,\n",
       " 5518000,\n",
       " 5518000,\n",
       " 0,\n",
       " 0,\n",
       " 335000,\n",
       " 209950,\n",
       " 0,\n",
       " 154950,\n",
       " 190000,\n",
       " 0,\n",
       " 2100000,\n",
       " 2100000,\n",
       " 2100000,\n",
       " 2100000,\n",
       " 2100000,\n",
       " 2100000,\n",
       " 2100000,\n",
       " 2100000,\n",
       " 2100000,\n",
       " 2100000,\n",
       " 2100000,\n",
       " 2100000,\n",
       " 2100000,\n",
       " 2100000,\n",
       " 2100000,\n",
       " 0,\n",
       " 0,\n",
       " 0,\n",
       " 0,\n",
       " 66500,\n",
       " 0,\n",
       " 0,\n",
       " 327500,\n",
       " 0,\n",
       " 150000,\n",
       " 505,\n",
       " 515000,\n",
       " 0,\n",
       " 0,\n",
       " 0,\n",
       " 0,\n",
       " 0,\n",
       " 0,\n",
       " 0,\n",
       " 0,\n",
       " 0,\n",
       " 0,\n",
       " 0,\n",
       " 2100000,\n",
       " 2100000,\n",
       " 130000,\n",
       " 435000,\n",
       " 389000,\n",
       " 400000,\n",
       " 86000,\n",
       " 0,\n",
       " 0,\n",
       " 615000,\n",
       " 133000,\n",
       " 51000,\n",
       " 180000,\n",
       " 0,\n",
       " 0,\n",
       " 0,\n",
       " 0,\n",
       " 0,\n",
       " 0,\n",
       " 0,\n",
       " 0,\n",
       " 0,\n",
       " 0,\n",
       " 215000,\n",
       " 0,\n",
       " 0,\n",
       " 192000,\n",
       " 0,\n",
       " 690576,\n",
       " 620000,\n",
       " 2340000,\n",
       " 2340000,\n",
       " 2340000,\n",
       " 2340000,\n",
       " 2340000,\n",
       " 2340000,\n",
       " 2340000,\n",
       " 2340000,\n",
       " 2340000,\n",
       " 2340000,\n",
       " 2340000,\n",
       " 2340000,\n",
       " 2340000,\n",
       " 2340000,\n",
       " 2340000,\n",
       " 2340000,\n",
       " 650000,\n",
       " 0,\n",
       " 0,\n",
       " 0,\n",
       " 0,\n",
       " 0,\n",
       " 0,\n",
       " 0,\n",
       " 0,\n",
       " 0,\n",
       " 0,\n",
       " 0,\n",
       " 0,\n",
       " 0,\n",
       " 0,\n",
       " 0,\n",
       " 0,\n",
       " 0,\n",
       " 394995,\n",
       " 0,\n",
       " 0,\n",
       " 292500,\n",
       " 304000,\n",
       " 0,\n",
       " 107000,\n",
       " 375000,\n",
       " 0,\n",
       " 164500,\n",
       " 140000,\n",
       " 185000,\n",
       " 0,\n",
       " 0,\n",
       " 0,\n",
       " 0,\n",
       " 0,\n",
       " 0,\n",
       " 0,\n",
       " 0,\n",
       " 0,\n",
       " 0,\n",
       " 0,\n",
       " 0,\n",
       " 0,\n",
       " 0,\n",
       " 0,\n",
       " 0,\n",
       " 699950,\n",
       " 125000,\n",
       " 542200,\n",
       " 443000,\n",
       " 225000,\n",
       " 818161,\n",
       " 129950,\n",
       " 1650000,\n",
       " 0,\n",
       " 589950,\n",
       " 0,\n",
       " 2025000,\n",
       " 2025000,\n",
       " 2025000,\n",
       " 2025000,\n",
       " 2025000,\n",
       " 2025000,\n",
       " 2025000,\n",
       " 2025000,\n",
       " 2025000,\n",
       " 0,\n",
       " 0,\n",
       " 129950,\n",
       " 285123,\n",
       " 413530,\n",
       " 189950,\n",
       " 0,\n",
       " 0,\n",
       " 0,\n",
       " 139950,\n",
       " 830000,\n",
       " 7330250,\n",
       " 7330250,\n",
       " 7330250,\n",
       " 7330250,\n",
       " 7330250,\n",
       " 7330250,\n",
       " 7330250,\n",
       " 7330250,\n",
       " 7330250,\n",
       " 7330250,\n",
       " 7330250,\n",
       " 7330250,\n",
       " 7330250,\n",
       " 7330250,\n",
       " 7330250,\n",
       " 7330250,\n",
       " 7330250,\n",
       " 7330250,\n",
       " 7330250,\n",
       " 7330250,\n",
       " 7330250,\n",
       " 7330250,\n",
       " 7330250,\n",
       " 7330250,\n",
       " 7330250,\n",
       " 7330250,\n",
       " 7330250,\n",
       " 7330250,\n",
       " 7330250,\n",
       " 7330250,\n",
       " 7330250,\n",
       " 7330250,\n",
       " 7330250,\n",
       " 7330250,\n",
       " 7330250,\n",
       " 7330250,\n",
       " 7330250,\n",
       " 7330250,\n",
       " 7330250,\n",
       " 7330250,\n",
       " 7330250,\n",
       " 7330250,\n",
       " 7330250,\n",
       " 7330250,\n",
       " 7330250,\n",
       " 7330250,\n",
       " 7330250,\n",
       " 7330250,\n",
       " 7330250,\n",
       " 7330250,\n",
       " 7330250,\n",
       " 7330250,\n",
       " 7330250,\n",
       " 7330250,\n",
       " 7330250,\n",
       " 7330250,\n",
       " 7330250,\n",
       " 7330250,\n",
       " 7330250,\n",
       " 7330250,\n",
       " 7330250,\n",
       " 7330250,\n",
       " 7330250,\n",
       " 7330250,\n",
       " 7330250,\n",
       " 7330250,\n",
       " 7330250,\n",
       " 7330250,\n",
       " 7330250,\n",
       " 7330250,\n",
       " 7330250,\n",
       " 7330250,\n",
       " 7330250,\n",
       " 7330250,\n",
       " 7330250,\n",
       " 7330250,\n",
       " 7330250,\n",
       " 7330250,\n",
       " 7330250,\n",
       " 7330250,\n",
       " 7330250,\n",
       " 7330250,\n",
       " 7330250,\n",
       " 7330250,\n",
       " 5518000,\n",
       " 5518000,\n",
       " 5518000,\n",
       " 5518000,\n",
       " 5518000,\n",
       " 5518000,\n",
       " 5518000,\n",
       " 5518000,\n",
       " 5518000,\n",
       " 5518000,\n",
       " 5518000,\n",
       " 5518000,\n",
       " 5518000,\n",
       " 5518000,\n",
       " 5518000,\n",
       " 5518000,\n",
       " 5518000,\n",
       " 5518000,\n",
       " 5518000,\n",
       " 361102,\n",
       " 1000,\n",
       " 1365000,\n",
       " 0,\n",
       " 304000,\n",
       " 304000,\n",
       " 0,\n",
       " 0,\n",
       " 159000,\n",
       " 550000,\n",
       " 290990,\n",
       " 200000,\n",
       " 750000,\n",
       " 830000,\n",
       " 0,\n",
       " 170000,\n",
       " 1500,\n",
       " 408000,\n",
       " 660000,\n",
       " 190000,\n",
       " 0,\n",
       " 0,\n",
       " 0,\n",
       " 0,\n",
       " 384200,\n",
       " 350000,\n",
       " 0,\n",
       " 535000,\n",
       " 700000,\n",
       " 230000,\n",
       " 309150,\n",
       " 811000,\n",
       " 790000,\n",
       " 0,\n",
       " 365000,\n",
       " 0,\n",
       " 97605,\n",
       " 172550,\n",
       " 172550,\n",
       " 13999986,\n",
       " 13999986,\n",
       " 13999986,\n",
       " 13999986,\n",
       " 13999986,\n",
       " 13999986,\n",
       " 13999986,\n",
       " 13999986,\n",
       " 13999986,\n",
       " 13999986,\n",
       " 13999986,\n",
       " 13999986,\n",
       " 13999986,\n",
       " 0,\n",
       " 193000,\n",
       " 25000,\n",
       " 0,\n",
       " 0,\n",
       " 417000,\n",
       " 0,\n",
       " 332950,\n",
       " 0,\n",
       " 0,\n",
       " 372500,\n",
       " 106950,\n",
       " 0,\n",
       " 0,\n",
       " 0,\n",
       " 379000,\n",
       " 13400000,\n",
       " 2800000,\n",
       " 2800000,\n",
       " 2800000,\n",
       " 20000,\n",
       " 91000,\n",
       " 237500,\n",
       " 285670,\n",
       " 565000,\n",
       " 13999986,\n",
       " 13999986,\n",
       " 13999986,\n",
       " 13999986,\n",
       " 13999986,\n",
       " 13999986,\n",
       " 13999986,\n",
       " 13999986,\n",
       " 13999986,\n",
       " 13999986,\n",
       " 13999986,\n",
       " 13999986,\n",
       " 13999986,\n",
       " 13999986,\n",
       " 13999986,\n",
       " 13999986,\n",
       " 13999986,\n",
       " 13999986,\n",
       " 13999986,\n",
       " 13999986,\n",
       " 13999986,\n",
       " 13999986,\n",
       " 13999986,\n",
       " 13999986,\n",
       " 13999986,\n",
       " 13999986,\n",
       " 13999986,\n",
       " 13999986,\n",
       " 13999986,\n",
       " 13999986,\n",
       " 13999986,\n",
       " 13999986,\n",
       " 13999986,\n",
       " 13999986,\n",
       " 13999986,\n",
       " 13999986,\n",
       " 13999986,\n",
       " 13999986,\n",
       " 13999986,\n",
       " 13999986,\n",
       " 13999986,\n",
       " 13999986,\n",
       " 13999986,\n",
       " 13999986,\n",
       " 13999986,\n",
       " 13999986,\n",
       " 13999986,\n",
       " 13999986,\n",
       " 13999986,\n",
       " 13999986,\n",
       " 13999986,\n",
       " 13999986,\n",
       " 13999986,\n",
       " 13999986,\n",
       " 13999986,\n",
       " 13999986,\n",
       " 13999986,\n",
       " 13999986,\n",
       " 13999986,\n",
       " 13999986,\n",
       " 13999986,\n",
       " 13999986,\n",
       " 13999986,\n",
       " 13999986,\n",
       " 13999986,\n",
       " 0,\n",
       " 323950,\n",
       " 1900000,\n",
       " 113000,\n",
       " 0,\n",
       " 0,\n",
       " 0,\n",
       " 0,\n",
       " 0,\n",
       " 0,\n",
       " 68000,\n",
       " 425000,\n",
       " 0,\n",
       " 0,\n",
       " 0,\n",
       " 21,\n",
       " 0,\n",
       " 380000,\n",
       " 0,\n",
       " 0,\n",
       " 0,\n",
       " 96000,\n",
       " 463000,\n",
       " 155000,\n",
       " 155000,\n",
       " 322000,\n",
       " 0,\n",
       " 395000,\n",
       " 625000,\n",
       " 0,\n",
       " 360000,\n",
       " 0,\n",
       " 0,\n",
       " 540000,\n",
       " 0,\n",
       " 420000,\n",
       " 420000,\n",
       " 420000,\n",
       " 420000,\n",
       " 420000,\n",
       " 0,\n",
       " 141000,\n",
       " 269950,\n",
       " 850000,\n",
       " 0,\n",
       " 0,\n",
       " 325000,\n",
       " 0,\n",
       " 7550000,\n",
       " 7550000,\n",
       " 73950,\n",
       " 1312000,\n",
       " 0,\n",
       " 0,\n",
       " 0,\n",
       " 5500000,\n",
       " 5500000,\n",
       " 5500000,\n",
       " 5500000,\n",
       " 105000,\n",
       " 0,\n",
       " 188500,\n",
       " 172000,\n",
       " 101000,\n",
       " 0,\n",
       " 75000,\n",
       " 368000,\n",
       " 0,\n",
       " 307000,\n",
       " 25000,\n",
       " 25000,\n",
       " 25000,\n",
       " 25000,\n",
       " 119000,\n",
       " 0,\n",
       " 320000,\n",
       " 48000,\n",
       " 0,\n",
       " 0,\n",
       " 249950,\n",
       " 247120,\n",
       " 0,\n",
       " 214000,\n",
       " 0,\n",
       " 215000,\n",
       " 370600,\n",
       " 185000,\n",
       " 0,\n",
       " 0,\n",
       " 0,\n",
       " 0,\n",
       " 0,\n",
       " 7330250,\n",
       " 7330250,\n",
       " 7330250,\n",
       " 7330250,\n",
       " 7330250,\n",
       " 7330250,\n",
       " 7330250,\n",
       " 7330250,\n",
       " 0,\n",
       " 10,\n",
       " 0,\n",
       " 307500,\n",
       " 230000,\n",
       " 0,\n",
       " 600000,\n",
       " 155000,\n",
       " 0,\n",
       " 420000,\n",
       " 645000,\n",
       " 0,\n",
       " 0,\n",
       " 0,\n",
       " 77000,\n",
       " 105000,\n",
       " 158200,\n",
       " 0,\n",
       " 0,\n",
       " 141500,\n",
       " 320000,\n",
       " 0,\n",
       " 0,\n",
       " 150000,\n",
       " 1000000,\n",
       " 0,\n",
       " 217500,\n",
       " 0,\n",
       " 1030000,\n",
       " 0,\n",
       " 260000,\n",
       " 48900,\n",
       " 243000,\n",
       " 0,\n",
       " 0,\n",
       " 0,\n",
       " 0,\n",
       " 0,\n",
       " 356950,\n",
       " 169950,\n",
       " 0,\n",
       " 0,\n",
       " 0,\n",
       " 181000,\n",
       " 350000,\n",
       " 0,\n",
       " 3500,\n",
       " 295000,\n",
       " 0,\n",
       " 607500,\n",
       " 480000,\n",
       " 168000,\n",
       " 379900,\n",
       " 485000,\n",
       " 539900,\n",
       " 405000,\n",
       " 905000,\n",
       " 0,\n",
       " 125000,\n",
       " 452990,\n",
       " 0,\n",
       " 384938,\n",
       " 134000,\n",
       " 60000,\n",
       " 625000,\n",
       " 165000,\n",
       " 490000,\n",
       " 373000,\n",
       " 0,\n",
       " 305000,\n",
       " 0,\n",
       " 2588000,\n",
       " 400000,\n",
       " 218500,\n",
       " 0,\n",
       " 351000,\n",
       " 71500,\n",
       " 427000,\n",
       " 61000,\n",
       " 234500,\n",
       " 0,\n",
       " 51668,\n",
       " 135000,\n",
       " 505000,\n",
       " 170300,\n",
       " 0,\n",
       " 496990,\n",
       " 232500,\n",
       " 493000,\n",
       " 450000,\n",
       " 355000,\n",
       " 355000,\n",
       " 0,\n",
       " 322000,\n",
       " 196990,\n",
       " 0,\n",
       " 710000,\n",
       " 0,\n",
       " 0,\n",
       " 0,\n",
       " 74000,\n",
       " 427500,\n",
       " 290000,\n",
       " 274715,\n",
       " 0,\n",
       " 40700,\n",
       " 0,\n",
       " 13999986,\n",
       " 13999986,\n",
       " 13999986,\n",
       " 13999986,\n",
       " 13999986,\n",
       " 13999986,\n",
       " 13999986,\n",
       " 13999986,\n",
       " 13999986,\n",
       " 13999986,\n",
       " 346000,\n",
       " 273000,\n",
       " 0,\n",
       " 329000,\n",
       " 580000,\n",
       " 72000,\n",
       " 243500,\n",
       " 114000,\n",
       " 0,\n",
       " 0,\n",
       " 0,\n",
       " 0,\n",
       " 275000,\n",
       " 0,\n",
       " 0,\n",
       " 9750000,\n",
       " 152000,\n",
       " 255000,\n",
       " 499000,\n",
       " 0,\n",
       " 0,\n",
       " 0,\n",
       " 0,\n",
       " 0,\n",
       " 145000,\n",
       " 219000,\n",
       " 671000,\n",
       " 0,\n",
       " 0,\n",
       " 631000,\n",
       " 631000,\n",
       " 260000,\n",
       " 260000,\n",
       " 260000,\n",
       " 260000,\n",
       " 0,\n",
       " 0,\n",
       " 211000,\n",
       " 183000,\n",
       " 60000,\n",
       " 220000,\n",
       " 0,\n",
       " 640000,\n",
       " 0,\n",
       " 0,\n",
       " 251000,\n",
       " 44000,\n",
       " 0,\n",
       " 0,\n",
       " 54500,\n",
       " 0,\n",
       " 411000,\n",
       " 280000,\n",
       " 0,\n",
       " 619000,\n",
       " 619000,\n",
       " 340000,\n",
       " 0,\n",
       " 815000,\n",
       " 2340000,\n",
       " 2340000,\n",
       " 399950,\n",
       " 200000,\n",
       " 145000,\n",
       " 0,\n",
       " 0,\n",
       " 0,\n",
       " 0,\n",
       " 164000,\n",
       " 0,\n",
       " 0,\n",
       " 300000,\n",
       " 284000,\n",
       " 136500,\n",
       " 565000,\n",
       " 355000,\n",
       " 363000,\n",
       " 819990,\n",
       " 137950,\n",
       " 272000,\n",
       " 0,\n",
       " 800000,\n",
       " 135000,\n",
       " 200000,\n",
       " 230000,\n",
       " 0,\n",
       " 115000,\n",
       " 250000,\n",
       " 0,\n",
       " 0,\n",
       " 0,\n",
       " 0,\n",
       " 0,\n",
       " 0,\n",
       " 0,\n",
       " 0,\n",
       " 0,\n",
       " 0,\n",
       " 0,\n",
       " 0,\n",
       " 0,\n",
       " 0,\n",
       " 69750,\n",
       " 257000,\n",
       " 195000,\n",
       " 5755000,\n",
       " 5755000,\n",
       " 184950,\n",
       " 0,\n",
       " 0,\n",
       " 0,\n",
       " 0,\n",
       " 0,\n",
       " 0,\n",
       " 0,\n",
       " 0,\n",
       " 0,\n",
       " 0,\n",
       " 13000,\n",
       " 217800,\n",
       " 103500,\n",
       " 0,\n",
       " 725000,\n",
       " 1838000,\n",
       " 399000,\n",
       " 379000,\n",
       " 209900,\n",
       " 1690000,\n",
       " 103500,\n",
       " 0,\n",
       " 0,\n",
       " 55000,\n",
       " 55000,\n",
       " 55000,\n",
       " 0,\n",
       " 815000,\n",
       " 0,\n",
       " 540000,\n",
       " 0,\n",
       " 0,\n",
       " 0,\n",
       " 467500,\n",
       " 425000,\n",
       " 982254,\n",
       " 396000,\n",
       " 0,\n",
       " 0,\n",
       " 219500,\n",
       " 160000,\n",
       " 0,\n",
       " 0,\n",
       " 174990,\n",
       " 0,\n",
       " 0,\n",
       " 140000,\n",
       " 318000,\n",
       " 460000,\n",
       " 0,\n",
       " 0,\n",
       " 358750,\n",
       " 245000,\n",
       " 129950,\n",
       " 475000,\n",
       " 142200,\n",
       " 975000,\n",
       " 975000,\n",
       " 975000,\n",
       " 975000,\n",
       " 975000,\n",
       " 210000,\n",
       " 123500,\n",
       " 214350,\n",
       " 0,\n",
       " 0,\n",
       " 0,\n",
       " 65000,\n",
       " 0,\n",
       " 124000,\n",
       " 220000,\n",
       " 310000,\n",
       " 400000,\n",
       " 495000,\n",
       " 235000,\n",
       " 873000,\n",
       " 321000,\n",
       " 138000,\n",
       " 25000,\n",
       " 25000,\n",
       " 593000,\n",
       " 485787,\n",
       " 0,\n",
       " 268000,\n",
       " 0,\n",
       " 280000,\n",
       " 450000,\n",
       " 500000,\n",
       " 0,\n",
       " 249900,\n",
       " 0,\n",
       " 0,\n",
       " 0,\n",
       " 100000,\n",
       " 395000,\n",
       " 305000,\n",
       " 156575,\n",
       " 447900,\n",
       " 0,\n",
       " 149500,\n",
       " 436500,\n",
       " 550000,\n",
       " 0,\n",
       " 393220,\n",
       " 659000,\n",
       " 559500,\n",
       " 9000,\n",
       " 9000,\n",
       " 0,\n",
       " 0,\n",
       " 0,\n",
       " 0,\n",
       " 499950,\n",
       " 165000,\n",
       " 756000,\n",
       " 187500,\n",
       " 0,\n",
       " 0,\n",
       " 302000,\n",
       " 0,\n",
       " 0,\n",
       " 333200,\n",
       " 670000,\n",
       " 0,\n",
       " 0,\n",
       " 645000,\n",
       " 0,\n",
       " 327500,\n",
       " 774950,\n",
       " 177225,\n",
       " 111297,\n",
       " 0,\n",
       " 0,\n",
       " 0,\n",
       " 270000,\n",
       " 0,\n",
       " 0,\n",
       " 340000,\n",
       " 0,\n",
       " 139990,\n",
       " 380000,\n",
       " 2395000,\n",
       " 255000,\n",
       " 205343,\n",
       " 0,\n",
       " 123900,\n",
       " 1296503,\n",
       " 305000,\n",
       " 164950,\n",
       " 535000,\n",
       " 148000,\n",
       " 342995,\n",
       " 162950,\n",
       " 0,\n",
       " 0,\n",
       " 1530000,\n",
       " 1530000,\n",
       " 325000,\n",
       " 499900,\n",
       " 0,\n",
       " 0,\n",
       " 0,\n",
       " 575000,\n",
       " 12000,\n",
       " 0,\n",
       " 147900,\n",
       " 121032,\n",
       " 0,\n",
       " 0,\n",
       " 0,\n",
       " 277000,\n",
       " 130000,\n",
       " 402000,\n",
       " 57000,\n",
       " 675000,\n",
       " 0,\n",
       " 535000,\n",
       " 0,\n",
       " 0,\n",
       " 0,\n",
       " 0,\n",
       " 547500,\n",
       " 0,\n",
       " 130000,\n",
       " 100,\n",
       " 421000,\n",
       " 0,\n",
       " 537000,\n",
       " 234950,\n",
       " 119000,\n",
       " 400000,\n",
       " 0,\n",
       " 396000,\n",
       " 769000,\n",
       " 0,\n",
       " 0,\n",
       " 0,\n",
       " 0,\n",
       " 0,\n",
       " 0,\n",
       " 0,\n",
       " 0,\n",
       " 0,\n",
       " 0,\n",
       " 0,\n",
       " 212500,\n",
       " 0,\n",
       " 201972,\n",
       " 0,\n",
       " 0,\n",
       " 0,\n",
       " 775000,\n",
       " 0,\n",
       " 175000,\n",
       " 247000,\n",
       " ...]"
      ]
     },
     "execution_count": 87,
     "metadata": {},
     "output_type": "execute_result"
    }
   ],
   "source": [
    "## Your work here\n",
    "\n",
    "sale_year_list = [i['sale_year'] for i in sales]\n",
    "sale_year_list\n",
    "\n",
    "sale_prices = [i['sale_price'] for i in sales]\n",
    "sale_prices\n"
   ]
  },
  {
   "cell_type": "code",
   "execution_count": 97,
   "metadata": {},
   "outputs": [
    {
     "name": "stdout",
     "output_type": "stream",
     "text": [
      "1958 1\n",
      "1966 1\n",
      "1974 1\n",
      "1976 1\n",
      "1979 1\n",
      "1981 2\n",
      "1982 32\n",
      "1983 36\n",
      "1984 48\n",
      "1985 44\n",
      "1986 74\n",
      "1987 77\n",
      "1988 66\n",
      "1989 75\n",
      "1990 68\n",
      "1991 81\n",
      "1992 338\n",
      "1993 353\n",
      "1994 267\n",
      "1995 246\n",
      "1996 347\n",
      "1997 306\n",
      "1998 349\n",
      "1999 406\n",
      "2000 279\n",
      "2001 342\n",
      "2002 325\n",
      "2003 380\n",
      "2004 447\n",
      "2005 442\n",
      "2006 389\n",
      "2007 319\n",
      "2008 231\n",
      "2009 264\n",
      "2010 230\n",
      "2011 218\n",
      "2012 364\n",
      "2013 295\n",
      "2014 299\n",
      "2015 376\n",
      "2016 290\n",
      "2017 288\n",
      "2018 281\n",
      "2019 241\n",
      "2020 419\n",
      "2021 61\n"
     ]
    }
   ],
   "source": [
    "sale_year_count = []\n",
    "sale_years = [sale['sale_year'] for sale in sales]\n",
    "unique_sale_years = set(sale_years)\n",
    "for unique_year in unique_sale_years:\n",
    "    num_sales = len([year for year in sale_years if year == unique_year]) #this takes the unique year for the test \n",
    "    sale_year_count.append((unique_year, num_sales))\n",
    "    print(unique_year, num_sales)"
   ]
  },
  {
   "cell_type": "code",
   "execution_count": 98,
   "metadata": {},
   "outputs": [
    {
     "name": "stdout",
     "output_type": "stream",
     "text": [
      "[(2021, 61), (2020, 419), (2019, 241), (2018, 281), (2017, 288), (2016, 290), (2015, 376), (2014, 299), (2013, 295), (2012, 364), (2011, 218), (2010, 230), (2009, 264), (2008, 231), (2007, 319), (2006, 389), (2005, 442), (2004, 447), (2003, 380), (2002, 325), (2001, 342), (2000, 279), (1999, 406), (1998, 349), (1997, 306), (1996, 347), (1995, 246), (1994, 267), (1993, 353), (1992, 338), (1991, 81), (1990, 68), (1989, 75), (1988, 66), (1987, 77), (1986, 74), (1985, 44), (1984, 48), (1983, 36), (1982, 32), (1981, 2), (1979, 1), (1976, 1), (1974, 1), (1966, 1), (1958, 1)]\n"
     ]
    }
   ],
   "source": [
    "## Another example\n",
    "sales_per_year = {k: sale_years.count(k) for k in sale_years}\n",
    "#sales_per_year = [(k, sale_years.count(k)) for k in sale_years]\n",
    "sales_per_year = list(sales_per_year.items())\n",
    "sales_per_year.sort(reverse=True, key=lambda sum: sum[0])\n",
    "print(sales_per_year)"
   ]
  },
  {
   "cell_type": "markdown",
   "metadata": {
    "slideshow": {
     "slide_type": "fragment"
    }
   },
   "source": [
    "<details>\n",
    "            <summary><b><u>Click Here for Answer Code</u></b></summary>\n",
    "\n",
    "```python\n",
    "sale_year_count = []\n",
    "sale_years = [sale['sale_year'] for sale in sales]\n",
    "unique_sale_years = set(sale_years)\n",
    "for unique_year in unique_sale_years:\n",
    "    num_sales = len([year for year in sale_years if year == unique_year]) \n",
    "    sale_year_count.append((unique_year, num_sales))\n",
    "    print(unique_year, num_sales)\n",
    "```\n",
    "</details>"
   ]
  },
  {
   "cell_type": "markdown",
   "metadata": {
    "slideshow": {
     "slide_type": "slide"
    }
   },
   "source": [
    "# Chart the Data"
   ]
  },
  {
   "cell_type": "markdown",
   "metadata": {
    "slideshow": {
     "slide_type": "fragment"
    }
   },
   "source": [
    "This `list` of `tuples` is helpful, but it takes a lot of effort to read it and make sense of the trends - let's visualize the results to make this easier."
   ]
  },
  {
   "cell_type": "code",
<<<<<<< HEAD
   "execution_count": 99,
=======
   "execution_count": 19,
>>>>>>> upstream/main
   "metadata": {
    "slideshow": {
     "slide_type": "slide"
    }
   },
   "outputs": [],
   "source": [
    "from matplotlib import pyplot as plt"
   ]
  },
  {
   "cell_type": "code",
<<<<<<< HEAD
   "execution_count": 100,
=======
   "execution_count": 29,
>>>>>>> upstream/main
   "metadata": {
    "scrolled": true,
    "slideshow": {
     "slide_type": "fragment"
    }
   },
   "outputs": [],
   "source": [
    "## Ensuring we have the data coded in earlier questions\n",
    "\n",
    "# Sale Years\n",
    "for sale in sales:\n",
    "    # Save the document date to a variable\n",
    "    string_date = sale[\"DocumentDate\"]\n",
    "\n",
    "    # Extract the sale year and month from the string, and cast to int\n",
    "    sale_year = int(string_date[6:10])\n",
    "    sale_month = int(string_date[0:2])    \n",
    "\n",
    "    # Add the sale year and month to each dictionary element of sales\n",
    "    sale[\"sale_year\"] = sale_year\n",
    "    sale[\"sale_month\"] = sale_month\n",
    "\n",
    "# Sale Years Count\n",
    "sale_year_count = []\n",
    "sale_years = [sale['sale_year'] for sale in sales]\n",
    "unique_sale_years = set(sale_years)\n",
    "for unique_year in unique_sale_years:\n",
    "    num_sales = len([year for year in sale_years if year == unique_year])\n",
    "    sale_year_count.append((unique_year, num_sales))"
   ]
  },
  {
   "cell_type": "code",
<<<<<<< HEAD
   "execution_count": 101,
=======
   "execution_count": 30,
>>>>>>> upstream/main
   "metadata": {
    "slideshow": {
     "slide_type": "slide"
    }
   },
   "outputs": [
    {
     "data": {
<<<<<<< HEAD
      "image/png": "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\n",
=======
      "image/png": "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\n",
>>>>>>> upstream/main
      "text/plain": [
       "<Figure size 720x360 with 1 Axes>"
      ]
     },
     "metadata": {
      "needs_background": "light"
     },
     "output_type": "display_data"
    }
   ],
   "source": [
    "# create a figure and one plot\n",
    "fig, ax = plt.subplots(nrows=1, ncols=1, figsize=(10, 5))\n",
    "\n",
    "# place data in a bar chart \n",
    "# where the x-axis is each year and \n",
    "# the y-axis is the number of sales per year\n",
    "ax.bar(x=[sale[0] for sale in sale_year_count],\n",
    "       height=[sale[1] for sale in sale_year_count])\n",
    "\n",
    "\n",
    "ax.bar(x=[sale[0] for sale in sale_year_count],\n",
    "       height=[sale[1] for sale in sale_year_count])\n",
    "\n",
    "\n",
    "# set axis labels\n",
    "ax.set_xlabel(\"Year\")\n",
    "ax.set_ylabel(\"Number of property sales\")\n",
    "\n",
    "# give the bar chart a title\n",
    "ax.set_title(\"Property sales in King County, WA (1900 to 2021)\")\n",
    "\n",
    "# display bar chart clearly\n",
    "fig.tight_layout()"
   ]
  },
  {
   "cell_type": "markdown",
   "metadata": {
    "slideshow": {
     "slide_type": "fragment"
    }
   },
   "source": [
    "**Discussion:** What can we learn from this graph?"
   ]
  },
  {
   "cell_type": "markdown",
   "metadata": {},
   "source": [
    "# Level Up: `Counter`"
   ]
  },
  {
   "cell_type": "markdown",
   "metadata": {},
   "source": [
    "The `collections` package has a lot of useful tools for working with Python objects containing multiple elements. You can use the `Counter` class to easily count the number of values in a list.\n",
    "\n",
    "For example, let's say that for all dictionaries in `sales`, we want to count how many property sales occured in each year. "
   ]
  },
  {
   "cell_type": "code",
<<<<<<< HEAD
   "execution_count": 102,
=======
   "execution_count": 35,
>>>>>>> upstream/main
   "metadata": {},
   "outputs": [],
   "source": [
    "from collections import Counter\n",
    "\n",
    "sale_year_count = Counter([sale['sale_year'] for sale in sales])"
   ]
  },
  {
   "cell_type": "markdown",
   "metadata": {
    "slideshow": {
     "slide_type": "slide"
    }
   },
   "source": [
    "Let's sort these by year. Since the value in `sale_year` is an integer, we can use Python's built-in [`sorted`](https://docs.python.org/3/library/functions.html#sorted) function to transform the `Counter` object into a `list` of `tuples` - `(year, count)` which are sorted in ascending order by year."
   ]
  },
  {
   "cell_type": "code",
<<<<<<< HEAD
   "execution_count": 103,
=======
   "execution_count": 23,
>>>>>>> upstream/main
   "metadata": {
    "slideshow": {
     "slide_type": "fragment"
    }
   },
   "outputs": [
    {
     "data": {
      "text/plain": [
       "[(1958, 1),\n",
       " (1966, 1),\n",
       " (1974, 1),\n",
       " (1976, 1),\n",
       " (1979, 1),\n",
       " (1981, 2),\n",
       " (1982, 32),\n",
       " (1983, 36),\n",
       " (1984, 48),\n",
       " (1985, 44),\n",
       " (1986, 74),\n",
       " (1987, 77),\n",
       " (1988, 66),\n",
       " (1989, 75),\n",
       " (1990, 68),\n",
       " (1991, 81),\n",
       " (1992, 338),\n",
       " (1993, 353),\n",
       " (1994, 267),\n",
       " (1995, 246),\n",
       " (1996, 347),\n",
       " (1997, 306),\n",
       " (1998, 349),\n",
       " (1999, 406),\n",
       " (2000, 279),\n",
       " (2001, 342),\n",
       " (2002, 325),\n",
       " (2003, 380),\n",
       " (2004, 447),\n",
       " (2005, 442),\n",
       " (2006, 389),\n",
       " (2007, 319),\n",
       " (2008, 231),\n",
       " (2009, 264),\n",
       " (2010, 230),\n",
       " (2011, 218),\n",
       " (2012, 364),\n",
       " (2013, 295),\n",
       " (2014, 299),\n",
       " (2015, 376),\n",
       " (2016, 290),\n",
       " (2017, 288),\n",
       " (2018, 281),\n",
       " (2019, 241),\n",
       " (2020, 419),\n",
       " (2021, 61)]"
      ]
     },
<<<<<<< HEAD
     "execution_count": 103,
=======
     "execution_count": 23,
>>>>>>> upstream/main
     "metadata": {},
     "output_type": "execute_result"
    }
   ],
   "source": [
    "sale_year_count = sorted(sale_year_count.items())\n",
    "sale_year_count"
   ]
  },
  {
   "cell_type": "markdown",
   "metadata": {
    "slideshow": {
     "slide_type": "slide"
    }
   },
   "source": [
    "# Level Up: Using `datetime`"
   ]
  },
  {
   "cell_type": "markdown",
   "metadata": {
    "slideshow": {
     "slide_type": "fragment"
    }
   },
   "source": [
    "Python has a [`datetime`](https://docs.python.org/3.7/library/datetime.html) package that is the standard tool for handling dates and times. `datetime` objects make it easy to do fun things like subtract dates to calculate how far apart they are."
   ]
  },
  {
   "cell_type": "code",
<<<<<<< HEAD
   "execution_count": 105,
=======
   "execution_count": 24,
>>>>>>> upstream/main
   "metadata": {
    "slideshow": {
     "slide_type": "fragment"
    }
   },
   "outputs": [],
   "source": [
    "from datetime import datetime"
   ]
  },
  {
   "cell_type": "code",
<<<<<<< HEAD
   "execution_count": 106,
=======
   "execution_count": 25,
>>>>>>> upstream/main
   "metadata": {
    "slideshow": {
     "slide_type": "fragment"
    }
   },
   "outputs": [],
   "source": [
    "for sale in sales:\n",
    "    # Transform DocumentDate from string to datetime\n",
    "    sale[\"clean_date\"] = datetime.strptime(sale[\"DocumentDate\"], \n",
    "                                           \"%m/%d/%Y\")\n",
    "    \n",
    "    # Add the sale year and month to each dictionary element of sales\n",
    "    sale[\"sale_year\"] = sale[\"clean_date\"].year\n",
    "    sale[\"sale_month\"] = sale[\"clean_date\"].month"
   ]
  },
  {
   "cell_type": "markdown",
   "metadata": {
    "slideshow": {
     "slide_type": "fragment"
    }
   },
   "source": [
    "Let's inspect our work"
   ]
  },
  {
   "cell_type": "code",
<<<<<<< HEAD
   "execution_count": 107,
=======
   "execution_count": 26,
>>>>>>> upstream/main
   "metadata": {
    "slideshow": {
     "slide_type": "slide"
    }
   },
   "outputs": [
    {
     "data": {
      "text/plain": [
       "{'ExciseTaxNbr': '2687551',\n",
       " 'Major': '138860',\n",
       " 'Minor': '110',\n",
       " 'DocumentDate': '08/21/2014',\n",
       " 'SalePrice': '245000',\n",
       " 'RecordingNbr': '20140828001436',\n",
       " 'Volume': '   ',\n",
       " 'Page': '   ',\n",
       " 'PlatNbr': '      ',\n",
       " 'PlatType': ' ',\n",
       " 'PlatLot': '              ',\n",
       " 'PlatBlock': '       ',\n",
       " 'SellerName': 'WENKLE NOEL SMITH -TRUSTEE                        ',\n",
       " 'BuyerName': 'ALEXANDER APRIL                                   ',\n",
       " 'PropertyType': '3',\n",
       " 'PrincipalUse': '6',\n",
       " 'SaleInstrument': '3',\n",
       " 'AFForestLand': 'N',\n",
       " 'AFCurrentUseLand': 'N',\n",
       " 'AFNonProfitUse': 'N',\n",
       " 'AFHistoricProperty': 'N',\n",
       " 'SaleReason': '1',\n",
       " 'PropertyClass': '8',\n",
       " 'SaleWarning': ' ',\n",
       " 'sale_price': 245000,\n",
       " 'sale_year': 2014,\n",
       " 'sale_month': 8,\n",
       " 'clean_date': datetime.datetime(2014, 8, 21, 0, 0)}"
      ]
     },
<<<<<<< HEAD
     "execution_count": 107,
=======
     "execution_count": 26,
>>>>>>> upstream/main
     "metadata": {},
     "output_type": "execute_result"
    }
   ],
   "source": [
    "sales[0]"
   ]
  }
 ],
 "metadata": {
  "celltoolbar": "Slideshow",
  "kernelspec": {
<<<<<<< HEAD
   "display_name": "Python (learn-env)",
   "language": "python",
   "name": "learn-env"
=======
   "display_name": "Python 3 (ipykernel)",
   "language": "python",
   "name": "python3"
>>>>>>> upstream/main
  },
  "language_info": {
   "codemirror_mode": {
    "name": "ipython",
    "version": 3
   },
   "file_extension": ".py",
   "mimetype": "text/x-python",
   "name": "python",
   "nbconvert_exporter": "python",
   "pygments_lexer": "ipython3",
<<<<<<< HEAD
   "version": "3.8.5"
=======
   "version": "3.10.4"
>>>>>>> upstream/main
  },
  "toc": {
   "base_numbering": 1,
   "nav_menu": {},
   "number_sections": true,
   "sideBar": true,
   "skip_h1_title": false,
   "title_cell": "Table of Contents",
   "title_sidebar": "Contents",
   "toc_cell": true,
   "toc_position": {},
   "toc_section_display": true,
   "toc_window_display": true
  }
 },
 "nbformat": 4,
 "nbformat_minor": 2
}
