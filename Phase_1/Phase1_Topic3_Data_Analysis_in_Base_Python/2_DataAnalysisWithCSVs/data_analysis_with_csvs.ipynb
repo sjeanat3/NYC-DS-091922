{
 "cells": [
  {
   "cell_type": "markdown",
   "metadata": {
    "slideshow": {
     "slide_type": "slide"
    }
   },
   "source": [
    "<div style=\"color:white;\n",
    "           display:fill;\n",
    "           border-radius:5px;\n",
    "           background-color:#5642C5;\n",
    "           font-size:200%;\n",
    "           font-family:Arial;letter-spacing:0.5px\">\n",
    "\n",
    "<p width = 20%, style=\"padding: 10px;\n",
    "              color:white;\">\n",
    "Base Python: Comma Separated Value (CSV) Files\n",
    "              \n",
    "</p>\n",
    "</div>\n",
    "\n",
    "Data Science Cohort Live NYC Sept 2022\n",
    "<p>Phase 1: Topic 3</p>\n",
    "<br>\n",
    "<br>\n",
    "\n",
    "<div align = \"right\">\n",
    "<img src=\"images/flatiron-school-logo.png\" align = \"right\" width=\"200\"/>\n",
    "</div>\n"
   ]
  },
  {
   "cell_type": "markdown",
   "metadata": {
    "slideshow": {
     "slide_type": "slide"
    }
   },
   "source": [
    "# Data Analysis with CSVs"
   ]
  },
  {
   "cell_type": "markdown",
   "metadata": {
    "slideshow": {
     "slide_type": "fragment"
    }
   },
   "source": [
    "In this lesson, we'll complete a full data analysis with a raw data file. Comma Separated Values files, known as CSVs, are one of the most common file formats for storing tabular data. In this lesson, we'll show you how to load one into memory and work with it using Python."
   ]
  },
  {
   "cell_type": "markdown",
   "metadata": {
    "slideshow": {
     "slide_type": "slide"
    }
   },
   "source": [
    "# Objectives"
   ]
  },
  {
   "cell_type": "markdown",
   "metadata": {
    "slideshow": {
     "slide_type": "fragment"
    }
   },
   "source": [
    "Perform a complete data analysis by...\n",
    "\n",
    "- Creating a Python data structure from a .csv file\n",
    "- Exploring and cleaning the data \n",
    "- Conducting descriptive analysis\n",
    "- Visualizing the results"
   ]
  },
  {
   "cell_type": "markdown",
   "metadata": {
    "slideshow": {
     "slide_type": "slide"
    }
   },
   "source": [
    "#### Comma Separated Value Format\n",
    "\n",
    "- Tabular data\n",
    "- Column entries separated by commas\n",
    "- Typical file extensions: .csv, .dat, .txt\n",
    "- Very common data format\n",
    "\n",
    "Example: Track times (s) for 100m dash for four athletes across 3 meets."
   ]
  },
  {
   "cell_type": "markdown",
   "metadata": {
    "slideshow": {
     "slide_type": "slide"
    }
   },
   "source": [
    "# Loading a CSV"
   ]
  },
  {
   "cell_type": "markdown",
   "metadata": {
    "slideshow": {
     "slide_type": "fragment"
    }
   },
   "source": [
    "The before you can work with a CSV file, you need to load it into memory."
   ]
  },
  {
   "cell_type": "markdown",
   "metadata": {
    "slideshow": {
     "slide_type": "slide"
    }
   },
   "source": [
    "## Get the File Path"
   ]
  },
  {
   "cell_type": "markdown",
   "metadata": {
    "slideshow": {
     "slide_type": "fragment"
    }
   },
   "source": [
    "Make sure you have the path to your data file. For this example, it is in the root folder of this repository."
   ]
  },
  {
   "cell_type": "code",
   "execution_count": 1,
   "metadata": {
    "scrolled": true,
    "slideshow": {
     "slide_type": "fragment"
    }
   },
   "outputs": [
    {
     "name": "stdout",
     "output_type": "stream",
     "text": [
      "\u001b[34mdata\u001b[m\u001b[m                          \u001b[34mimages\u001b[m\u001b[m\r\n",
      "data_analysis_with_csvs.ipynb\r\n"
     ]
    }
   ],
   "source": [
    "# This will only work on Mac, Linux, or a separate bash terminal in Windows\n",
    "\n",
    "!ls"
   ]
  },
  {
   "cell_type": "markdown",
   "metadata": {
    "slideshow": {
     "slide_type": "fragment"
    }
   },
   "source": [
    "We use `.` to indicate the root folder of the repository when working within this notebook."
   ]
  },
  {
   "cell_type": "code",
   "execution_count": 2,
   "metadata": {
    "slideshow": {
     "slide_type": "fragment"
    }
   },
   "outputs": [],
   "source": [
    "csv_file_path = \"./data/King_County_Real_Estate_Sales.csv\""
   ]
  },
  {
   "cell_type": "markdown",
   "metadata": {
    "slideshow": {
     "slide_type": "slide"
    }
   },
   "source": [
    "## Inspecting CSV files"
   ]
  },
  {
   "cell_type": "markdown",
   "metadata": {
    "slideshow": {
     "slide_type": "fragment"
    }
   },
   "source": [
    "In a CSV file, each line represents one row of tabular data, and consecutive values in that row are separated by a comma. Often, the first row contains the column names separated by commas, also known as field names. Let's confirm that this is the case and learn about our dataset by printing the first two lines of the file."
   ]
  },
  {
   "cell_type": "markdown",
   "metadata": {
    "slideshow": {
     "slide_type": "slide"
    }
   },
   "source": [
    "### Printing Lines in Python"
   ]
  },
  {
   "cell_type": "markdown",
   "metadata": {
    "slideshow": {
     "slide_type": "fragment"
    }
   },
   "source": [
    "We use the `with open()` syntax to easily open and read the file in the notebook. Using this syntax will automatically close the file once the statement is done running."
   ]
  },
  {
   "cell_type": "code",
   "execution_count": 3,
   "metadata": {
    "slideshow": {
     "slide_type": "fragment"
    }
   },
   "outputs": [
    {
     "name": "stdout",
     "output_type": "stream",
     "text": [
      "ExciseTaxNbr,Major,Minor,DocumentDate,SalePrice,RecordingNbr,Volume,Page,PlatNbr,PlatType,PlatLot,PlatBlock,SellerName,BuyerName,PropertyType,PrincipalUse,SaleInstrument,AFForestLand,AFCurrentUseLand,AFNonProfitUse,AFHistoricProperty,SaleReason,PropertyClass,SaleWarning\n",
      "\n"
     ]
    }
   ],
   "source": [
    "# This code prints the first line of the CSV file\n",
    "\n",
    "with open(csv_file_path) as csvfile:\n",
    "    print(csvfile.readline())"
   ]
  },
  {
   "cell_type": "markdown",
   "metadata": {
    "slideshow": {
     "slide_type": "slide"
    }
   },
   "source": [
    "Next, we can print the second line to look at an example of one observation from our dataset. This represents one real estate sale in Kings County."
   ]
  },
  {
   "cell_type": "code",
   "execution_count": 4,
   "metadata": {
    "slideshow": {
     "slide_type": "fragment"
    }
   },
   "outputs": [
    {
     "name": "stdout",
     "output_type": "stream",
     "text": [
      "2687551,138860,110,08/21/2014,245000,20140828001436,   ,   ,      , ,              ,       ,WENKLE NOEL SMITH -TRUSTEE                        ,ALEXANDER APRIL                                   ,3,6,3,N,N,N,N,1,8, \n",
      "\n"
     ]
    }
   ],
   "source": [
    "# This code prints the second line of the CSV file\n",
    "\n",
    "with open(csv_file_path) as csvfile:\n",
    "    csvfile.readline()\n",
    "    print(csvfile.readline())"
   ]
  },
  {
   "cell_type": "markdown",
   "metadata": {
    "slideshow": {
     "slide_type": "slide"
    }
   },
   "source": [
    "### Printing Lines in bash"
   ]
  },
  {
   "cell_type": "markdown",
   "metadata": {
    "slideshow": {
     "slide_type": "fragment"
    }
   },
   "source": [
    "Alternatively, you could use a bash command to print the first two lines."
   ]
  },
  {
   "cell_type": "code",
   "execution_count": 5,
   "metadata": {
    "scrolled": true,
    "slideshow": {
     "slide_type": "fragment"
    }
   },
   "outputs": [
    {
     "name": "stdout",
     "output_type": "stream",
     "text": [
      "ExciseTaxNbr,Major,Minor,DocumentDate,SalePrice,RecordingNbr,Volume,Page,PlatNbr,PlatType,PlatLot,PlatBlock,SellerName,BuyerName,PropertyType,PrincipalUse,SaleInstrument,AFForestLand,AFCurrentUseLand,AFNonProfitUse,AFHistoricProperty,SaleReason,PropertyClass,SaleWarning\r\n",
      "2687551,138860,110,08/21/2014,245000,20140828001436,   ,   ,      , ,              ,       ,WENKLE NOEL SMITH -TRUSTEE                        ,ALEXANDER APRIL                                   ,3,6,3,N,N,N,N,1,8, \r\n"
     ]
    }
   ],
   "source": [
    "# This will only work on Mac, Linux, or a separate bash terminal in Windows\n",
    "\n",
    "!head -n 2 ./data/King_County_Real_Estate_Sales.csv"
   ]
  },
  {
   "cell_type": "markdown",
   "metadata": {
    "slideshow": {
     "slide_type": "fragment"
    }
   },
   "source": [
    "### Discussion\n",
    "Based on these two lines, what can we infer about the contents of the data file? What questions arise for you about the data?"
   ]
  },
  {
   "cell_type": "markdown",
   "metadata": {
    "slideshow": {
     "slide_type": "slide"
    }
   },
   "source": [
    "## Using the `csv` module"
   ]
  },
  {
   "cell_type": "markdown",
   "metadata": {
    "slideshow": {
     "slide_type": "fragment"
    }
   },
   "source": [
    "The [`csv` module](https://docs.python.org/3/library/csv.html) lets us easily process data in CSV files. We will use it to read each row in the `.csv` file and store its information in a Python object we can use for further analysis. "
   ]
  },
  {
   "cell_type": "code",
   "execution_count": 6,
   "metadata": {
    "slideshow": {
     "slide_type": "slide"
    }
   },
   "outputs": [],
   "source": [
    "import csv"
   ]
  },
  {
   "cell_type": "markdown",
   "metadata": {
    "slideshow": {
     "slide_type": "fragment"
    }
   },
   "source": [
    "The [`csv.DictReader`](https://docs.python.org/3/library/csv.html#csv.DictReader) object is a file reader, reading each row and then converting it to a dictionary. By default, it turns each row into a dictionary, using the field names from the first row as the keys."
   ]
  },
  {
   "cell_type": "code",
   "execution_count": 7,
   "metadata": {
    "slideshow": {
     "slide_type": "fragment"
    }
   },
   "outputs": [
    {
     "name": "stdout",
     "output_type": "stream",
     "text": [
      "{'ExciseTaxNbr': '2687551', 'Major': '138860', 'Minor': '110', 'DocumentDate': '08/21/2014', 'SalePrice': '245000', 'RecordingNbr': '20140828001436', 'Volume': '   ', 'Page': '   ', 'PlatNbr': '      ', 'PlatType': ' ', 'PlatLot': '              ', 'PlatBlock': '       ', 'SellerName': 'WENKLE NOEL SMITH -TRUSTEE                        ', 'BuyerName': 'ALEXANDER APRIL                                   ', 'PropertyType': '3', 'PrincipalUse': '6', 'SaleInstrument': '3', 'AFForestLand': 'N', 'AFCurrentUseLand': 'N', 'AFNonProfitUse': 'N', 'AFHistoricProperty': 'N', 'SaleReason': '1', 'PropertyClass': '8', 'SaleWarning': ' '}\n"
     ]
    }
   ],
   "source": [
    "# Print OrderedDict from first row of CSV file \n",
    "\n",
    "with open(csv_file_path) as csvfile:\n",
    "    reader = csv.DictReader(csvfile)\n",
    "    print(next(reader))"
   ]
  },
  {
   "cell_type": "markdown",
   "metadata": {
    "slideshow": {
     "slide_type": "slide"
    }
   },
   "source": [
    "Let's get all of the data out of our file and into dictionaries, and store those dictionaries in a new list called `sales`."
   ]
  },
  {
   "cell_type": "code",
   "execution_count": 8,
   "metadata": {
    "slideshow": {
     "slide_type": "fragment"
    }
   },
   "outputs": [],
   "source": [
    "sales = []\n",
    "\n",
    "with open(csv_file_path) as csvfile:\n",
    "    reader = csv.DictReader(csvfile)\n",
    "    for row in reader:\n",
    "        sales.append(row)"
   ]
  },
  {
   "cell_type": "code",
   "execution_count": 9,
   "metadata": {
    "slideshow": {
     "slide_type": "slide"
    }
   },
   "outputs": [
    {
     "data": {
      "text/plain": [
       "[{'ExciseTaxNbr': '2687551',\n",
       "  'Major': '138860',\n",
       "  'Minor': '110',\n",
       "  'DocumentDate': '08/21/2014',\n",
       "  'SalePrice': '245000',\n",
       "  'RecordingNbr': '20140828001436',\n",
       "  'Volume': '   ',\n",
       "  'Page': '   ',\n",
       "  'PlatNbr': '      ',\n",
       "  'PlatType': ' ',\n",
       "  'PlatLot': '              ',\n",
       "  'PlatBlock': '       ',\n",
       "  'SellerName': 'WENKLE NOEL SMITH -TRUSTEE                        ',\n",
       "  'BuyerName': 'ALEXANDER APRIL                                   ',\n",
       "  'PropertyType': '3',\n",
       "  'PrincipalUse': '6',\n",
       "  'SaleInstrument': '3',\n",
       "  'AFForestLand': 'N',\n",
       "  'AFCurrentUseLand': 'N',\n",
       "  'AFNonProfitUse': 'N',\n",
       "  'AFHistoricProperty': 'N',\n",
       "  'SaleReason': '1',\n",
       "  'PropertyClass': '8',\n",
       "  'SaleWarning': ' '},\n",
       " {'ExciseTaxNbr': '3080093',\n",
       "  'Major': '82204',\n",
       "  'Minor': '9037',\n",
       "  'DocumentDate': '10/27/2020',\n",
       "  'SalePrice': '0',\n",
       "  'RecordingNbr': '20201102000765',\n",
       "  'Volume': '   ',\n",
       "  'Page': '   ',\n",
       "  'PlatNbr': '      ',\n",
       "  'PlatType': ' ',\n",
       "  'PlatLot': '              ',\n",
       "  'PlatBlock': '       ',\n",
       "  'SellerName': 'BALA RAJNI                                        ',\n",
       "  'BuyerName': 'SINGH JOGA+BALA RAJNI                             ',\n",
       "  'PropertyType': '11',\n",
       "  'PrincipalUse': '6',\n",
       "  'SaleInstrument': '15',\n",
       "  'AFForestLand': 'N',\n",
       "  'AFCurrentUseLand': 'N',\n",
       "  'AFNonProfitUse': 'N',\n",
       "  'AFHistoricProperty': 'N',\n",
       "  'SaleReason': '18',\n",
       "  'PropertyClass': '8',\n",
       "  'SaleWarning': '18 51'},\n",
       " {'ExciseTaxNbr': '1235111',\n",
       "  'Major': '664885',\n",
       "  'Minor': '40',\n",
       "  'DocumentDate': '07/09/1991',\n",
       "  'SalePrice': '0',\n",
       "  'RecordingNbr': '199203161090  ',\n",
       "  'Volume': '071',\n",
       "  'Page': '001',\n",
       "  'PlatNbr': '664885',\n",
       "  'PlatType': 'C',\n",
       "  'PlatLot': 'B102          ',\n",
       "  'PlatBlock': '       ',\n",
       "  'SellerName': 'HERRMAN JEFFREY A+PAULINE A                       ',\n",
       "  'BuyerName': 'HERRMAN PAULINE A TTEE                            ',\n",
       "  'PropertyType': '3',\n",
       "  'PrincipalUse': '0',\n",
       "  'SaleInstrument': '26',\n",
       "  'AFForestLand': 'N',\n",
       "  'AFCurrentUseLand': 'N',\n",
       "  'AFNonProfitUse': 'N',\n",
       "  'AFHistoricProperty': 'N',\n",
       "  'SaleReason': '18',\n",
       "  'PropertyClass': '3',\n",
       "  'SaleWarning': '11'}]"
      ]
     },
     "execution_count": 9,
     "metadata": {},
     "output_type": "execute_result"
    }
   ],
   "source": [
    "sales[0:3]"
   ]
  },
  {
   "cell_type": "markdown",
   "metadata": {
    "slideshow": {
     "slide_type": "slide"
    }
   },
   "source": [
    "# Data Preparation"
   ]
  },
  {
   "cell_type": "markdown",
   "metadata": {
    "slideshow": {
     "slide_type": "fragment"
    }
   },
   "source": [
    "Now that we've gotten all of our data into a Python object, we can prepare it for analysis. Let's look at a sample observation and consider how we might want to process it to make it easier to analyze."
   ]
  },
  {
   "cell_type": "code",
   "execution_count": 10,
   "metadata": {
    "cell_style": "center",
    "slideshow": {
     "slide_type": "slide"
    }
   },
   "outputs": [
    {
     "data": {
      "text/plain": [
       "{'ExciseTaxNbr': '2687551',\n",
       " 'Major': '138860',\n",
       " 'Minor': '110',\n",
       " 'DocumentDate': '08/21/2014',\n",
       " 'SalePrice': '245000',\n",
       " 'RecordingNbr': '20140828001436',\n",
       " 'Volume': '   ',\n",
       " 'Page': '   ',\n",
       " 'PlatNbr': '      ',\n",
       " 'PlatType': ' ',\n",
       " 'PlatLot': '              ',\n",
       " 'PlatBlock': '       ',\n",
       " 'SellerName': 'WENKLE NOEL SMITH -TRUSTEE                        ',\n",
       " 'BuyerName': 'ALEXANDER APRIL                                   ',\n",
       " 'PropertyType': '3',\n",
       " 'PrincipalUse': '6',\n",
       " 'SaleInstrument': '3',\n",
       " 'AFForestLand': 'N',\n",
       " 'AFCurrentUseLand': 'N',\n",
       " 'AFNonProfitUse': 'N',\n",
       " 'AFHistoricProperty': 'N',\n",
       " 'SaleReason': '1',\n",
       " 'PropertyClass': '8',\n",
       " 'SaleWarning': ' '}"
      ]
     },
     "execution_count": 10,
     "metadata": {},
     "output_type": "execute_result"
    }
   ],
   "source": [
    "sales[0]"
   ]
  },
  {
   "cell_type": "markdown",
   "metadata": {
    "slideshow": {
     "slide_type": "fragment"
    }
   },
   "source": [
    "**Discussion:** How might you clean these data to make them easier to analyze? SJ: Change the sale price to an integer, date should be a date"
   ]
  },
  {
   "cell_type": "markdown",
   "metadata": {
    "slideshow": {
     "slide_type": "slide"
    }
   },
   "source": [
    "## Clean the Sale Prices"
   ]
  },
  {
   "cell_type": "markdown",
   "metadata": {
    "slideshow": {
     "slide_type": "fragment"
    }
   },
   "source": [
    "First, let's convert the sale prices from strings to numbers, so we can do arithmetic with them. For example, we could calculate the average price."
   ]
  },
  {
   "cell_type": "code",
   "execution_count": 13,
   "metadata": {
    "slideshow": {
     "slide_type": "fragment"
    }
   },
   "outputs": [],
   "source": [
    "for sale in sales: #for every element in that list, we will add a new value as sales price which will be an to int\n",
    "    # Save the document date to a variable\n",
    "    string_price = sale[\"SalePrice\"]\n",
    "    \n",
    "    # Cast the sale price to int and add it to each dictionary element of sales\n",
    "    sale[\"sale_price\"] = int(string_price)"
   ]
  },
  {
   "cell_type": "code",
   "execution_count": 19,
   "metadata": {
    "slideshow": {
     "slide_type": "slide"
    }
   },
   "outputs": [
    {
     "data": {
      "text/plain": [
       "{'ExciseTaxNbr': '2687551',\n",
       " 'Major': '138860',\n",
       " 'Minor': '110',\n",
       " 'DocumentDate': '08/21/2014',\n",
       " 'SalePrice': '245000',\n",
       " 'RecordingNbr': '20140828001436',\n",
       " 'Volume': '   ',\n",
       " 'Page': '   ',\n",
       " 'PlatNbr': '      ',\n",
       " 'PlatType': ' ',\n",
       " 'PlatLot': '              ',\n",
       " 'PlatBlock': '       ',\n",
       " 'SellerName': 'WENKLE NOEL SMITH -TRUSTEE                        ',\n",
       " 'BuyerName': 'ALEXANDER APRIL                                   ',\n",
       " 'PropertyType': '3',\n",
       " 'PrincipalUse': '6',\n",
       " 'SaleInstrument': '3',\n",
       " 'AFForestLand': 'N',\n",
       " 'AFCurrentUseLand': 'N',\n",
       " 'AFNonProfitUse': 'N',\n",
       " 'AFHistoricProperty': 'N',\n",
       " 'SaleReason': '1',\n",
       " 'PropertyClass': '8',\n",
       " 'SaleWarning': ' ',\n",
       " 'sale_price': 245000}"
      ]
     },
     "execution_count": 19,
     "metadata": {},
     "output_type": "execute_result"
    }
   ],
   "source": [
    "sales[0]"
   ]
  },
  {
   "cell_type": "markdown",
   "metadata": {
    "slideshow": {
     "slide_type": "slide"
    }
   },
   "source": [
    "## Clean the Dates"
   ]
  },
  {
   "cell_type": "markdown",
   "metadata": {
    "slideshow": {
     "slide_type": "fragment"
    }
   },
   "source": [
    "Next we'll clean the dates so that we can easily get the month and year of each sale. "
   ]
  },
  {
   "cell_type": "markdown",
   "metadata": {
    "slideshow": {
     "slide_type": "fragment"
    }
   },
   "source": [
    "### Using Python built-in methods"
   ]
  },
  {
   "cell_type": "markdown",
   "metadata": {
    "slideshow": {
     "slide_type": "fragment"
    }
   },
   "source": [
    "**Activity**: Process the `sales` list to add numeric values for month and year to each entry."
   ]
  },
  {
   "cell_type": "code",
   "execution_count": 24,
   "metadata": {
    "slideshow": {
     "slide_type": "fragment"
    }
   },
   "outputs": [],
   "source": [
    "## Your work here\n",
    "for sale in sales:\n",
    "    string_date = sale['DocumentDate']\n",
    "    sale[\"sale_year\"] = int(string_date[-4:])\n",
    "    sale[\"sale_month\"] = int(string_date[:2])"
   ]
  },
  {
   "cell_type": "code",
   "execution_count": 89,
   "metadata": {},
   "outputs": [
    {
     "data": {
      "text/plain": [
       "{'ExciseTaxNbr': '2687551',\n",
       " 'Major': '138860',\n",
       " 'Minor': '110',\n",
       " 'DocumentDate': '08/21/2014',\n",
       " 'SalePrice': '245000',\n",
       " 'RecordingNbr': '20140828001436',\n",
       " 'Volume': '   ',\n",
       " 'Page': '   ',\n",
       " 'PlatNbr': '      ',\n",
       " 'PlatType': ' ',\n",
       " 'PlatLot': '              ',\n",
       " 'PlatBlock': '       ',\n",
       " 'SellerName': 'WENKLE NOEL SMITH -TRUSTEE                        ',\n",
       " 'BuyerName': 'ALEXANDER APRIL                                   ',\n",
       " 'PropertyType': '3',\n",
       " 'PrincipalUse': '6',\n",
       " 'SaleInstrument': '3',\n",
       " 'AFForestLand': 'N',\n",
       " 'AFCurrentUseLand': 'N',\n",
       " 'AFNonProfitUse': 'N',\n",
       " 'AFHistoricProperty': 'N',\n",
       " 'SaleReason': '1',\n",
       " 'PropertyClass': '8',\n",
       " 'SaleWarning': ' ',\n",
       " 'sale_price': 245000,\n",
       " 'sale_year': 2014,\n",
       " 'sale_month': 8}"
      ]
     },
     "execution_count": 89,
     "metadata": {},
     "output_type": "execute_result"
    }
   ],
   "source": [
    "sales[0]"
   ]
  },
  {
   "cell_type": "markdown",
   "metadata": {
    "slideshow": {
     "slide_type": "slide"
    }
   },
   "source": [
    "<details>\n",
    "    <summary><b><u>Click Here for Answer Code</u></b></summary>\n",
    "    \n",
    "```python    \n",
    "for sale in sales:\n",
    "    # Save the document date to a variable\n",
    "    string_date = sale[\"DocumentDate\"]\n",
    "\n",
    "    # Extract the sale year and month from the string, and cast to int\n",
    "    sale_year = int(string_date[6:10])\n",
    "    sale_month = int(string_date[0:2])    \n",
    "\n",
    "    # Add the sale year and month to each dictionary element of sales\n",
    "    sale[\"sale_year\"] = sale_year\n",
    "    sale[\"sale_month\"] = sale_month\n",
    "```\n",
    "</details>"
   ]
  },
  {
   "cell_type": "code",
   "execution_count": null,
   "metadata": {
    "slideshow": {
     "slide_type": "fragment"
    }
   },
   "outputs": [],
   "source": [
    "sales[0]"
   ]
  },
  {
   "cell_type": "markdown",
   "metadata": {
    "slideshow": {
     "slide_type": "slide"
    }
   },
   "source": [
    "# Data Analysis"
   ]
  },
  {
   "cell_type": "markdown",
   "metadata": {
    "slideshow": {
     "slide_type": "fragment"
    }
   },
   "source": [
    "Now that you have a cleaned list with the property sales data, we can finally start to perform some data analysis."
   ]
  },
  {
   "cell_type": "markdown",
   "metadata": {
    "slideshow": {
     "slide_type": "slide"
    }
   },
   "source": [
    "## Question 1: What is the range of years for which we have sales data?"
   ]
  },
  {
   "cell_type": "code",
   "execution_count": 36,
   "metadata": {
    "slideshow": {
     "slide_type": "fragment"
    }
   },
   "outputs": [
    {
     "name": "stdout",
     "output_type": "stream",
     "text": [
      "1958\n",
      "2021\n"
     ]
    }
   ],
   "source": [
    "## Your work here\n",
    "sale_year_list = [i['sale_year'] for i in sales]\n",
    "print(min(sale_year_list))\n",
    "print(max(sale_year_list))\n"
   ]
  },
  {
   "cell_type": "markdown",
   "metadata": {
    "slideshow": {
     "slide_type": "fragment"
    }
   },
   "source": [
    "<details>\n",
    "            <summary><b><u>Click Here for Answer Code</u></b></summary>\n",
    "\n",
    "```python\n",
    "sale_years = [sale['sale_year'] for sale in sales]\n",
    "print(min(sale_years))\n",
    "print(max(sale_years))\n",
    "```    \n",
    "</details>"
   ]
  },
  {
   "cell_type": "markdown",
   "metadata": {
    "slideshow": {
     "slide_type": "slide"
    }
   },
   "source": [
    "## Question 2: How many properties sold in 2020?"
   ]
  },
  {
   "cell_type": "code",
   "execution_count": 70,
   "metadata": {},
   "outputs": [
    {
     "data": {
      "text/plain": [
       "419"
      ]
     },
     "execution_count": 70,
     "metadata": {},
     "output_type": "execute_result"
    }
   ],
   "source": [
    "len([i for i in sale_years if i == 2020])"
   ]
  },
  {
   "cell_type": "code",
   "execution_count": 71,
   "metadata": {},
   "outputs": [
    {
     "data": {
      "text/plain": [
       "419"
      ]
     },
     "execution_count": 71,
     "metadata": {},
     "output_type": "execute_result"
    }
   ],
   "source": [
    "#This was the answer given, above is skye's code\n",
    "sale_years = [sale['sale_year'] for sale in sales]\n",
    "sale_years_2020 = [year for year in sale_years if year == 2020]\n",
    "len(sale_years_2020)"
   ]
  },
  {
   "cell_type": "markdown",
   "metadata": {
    "slideshow": {
     "slide_type": "fragment"
    }
   },
   "source": [
    "<details>\n",
    "            <summary><b><u>Click Here for Answer Code</u></b></summary>\n",
    "\n",
    "```python\n",
    "sale_years = [sale['sale_year'] for sale in sales]\n",
    "sale_years_2020 = [year for year in sale_years if year == 2020]\n",
    "len(sale_years_2020)\n",
    "```\n",
    "</details>"
   ]
  },
  {
   "cell_type": "markdown",
   "metadata": {
    "slideshow": {
     "slide_type": "slide"
    }
   },
   "source": [
    "## Question 3: What was the mean sale price in 2020?"
   ]
  },
  {
   "cell_type": "code",
   "execution_count": 72,
   "metadata": {
    "slideshow": {
     "slide_type": "fragment"
    }
   },
   "outputs": [
    {
     "data": {
      "text/plain": [
       "3575875"
      ]
     },
     "execution_count": 72,
     "metadata": {},
     "output_type": "execute_result"
    }
   ],
   "source": [
    "## Your work here\n",
    "sale_price_2020 = [sale['sale_price'] for sale in sales if sale['sale_year'] == 2020]\n",
    "round(sum(sale_price_2020) / len(sale_price_2020), )"
   ]
  },
  {
   "cell_type": "markdown",
   "metadata": {
    "slideshow": {
     "slide_type": "fragment"
    }
   },
   "source": [
    "<details>\n",
    "            <summary><b><u>Click Here for Answer Code</u></b></summary>\n",
    "\n",
    "```python\n",
    "sale_prices_2020 = [sale['sale_price'] for sale in sales if sale['sale_year'] == 2020]\n",
    "sum(sale_prices_2020)/len(sale_prices_2020)\n",
    "```\n",
    "</details>"
   ]
  },
  {
   "cell_type": "markdown",
   "metadata": {
    "slideshow": {
     "slide_type": "slide"
    }
   },
   "source": [
    "## Question 4: How many properties sold in each year?"
   ]
  },
  {
   "cell_type": "code",
   "execution_count": 87,
   "metadata": {
    "slideshow": {
     "slide_type": "fragment"
    }
   },
   "outputs": [
    {
     "data": {
      "text/plain": [
       "[245000,\n",
       " 0,\n",
       " 0,\n",
       " 0,\n",
       " 0,\n",
       " 560000,\n",
       " 85000,\n",
       " 0,\n",
       " 5755000,\n",
       " 5755000,\n",
       " 5755000,\n",
       " 5755000,\n",
       " 5755000,\n",
       " 5755000,\n",
       " 5755000,\n",
       " 5755000,\n",
       " 5755000,\n",
       " 5755000,\n",
       " 5755000,\n",
       " 5755000,\n",
       " 5755000,\n",
       " 5755000,\n",
       " 5755000,\n",
       " 91500,\n",
       " 0,\n",
       " 0,\n",
       " 0,\n",
       " 0,\n",
       " 37500,\n",
       " 0,\n",
       " 0,\n",
       " 0,\n",
       " 292000,\n",
       " 287000,\n",
       " 5518000,\n",
       " 5518000,\n",
       " 5518000,\n",
       " 5518000,\n",
       " 5518000,\n",
       " 5518000,\n",
       " 5518000,\n",
       " 5518000,\n",
       " 5518000,\n",
       " 5518000,\n",
       " 5518000,\n",
       " 5518000,\n",
       " 0,\n",
       " 0,\n",
       " 335000,\n",
       " 209950,\n",
       " 0,\n",
       " 154950,\n",
       " 190000,\n",
       " 0,\n",
       " 2100000,\n",
       " 2100000,\n",
       " 2100000,\n",
       " 2100000,\n",
       " 2100000,\n",
       " 2100000,\n",
       " 2100000,\n",
       " 2100000,\n",
       " 2100000,\n",
       " 2100000,\n",
       " 2100000,\n",
       " 2100000,\n",
       " 2100000,\n",
       " 2100000,\n",
       " 2100000,\n",
       " 0,\n",
       " 0,\n",
       " 0,\n",
       " 0,\n",
       " 66500,\n",
       " 0,\n",
       " 0,\n",
       " 327500,\n",
       " 0,\n",
       " 150000,\n",
       " 505,\n",
       " 515000,\n",
       " 0,\n",
       " 0,\n",
       " 0,\n",
       " 0,\n",
       " 0,\n",
       " 0,\n",
       " 0,\n",
       " 0,\n",
       " 0,\n",
       " 0,\n",
       " 0,\n",
       " 2100000,\n",
       " 2100000,\n",
       " 130000,\n",
       " 435000,\n",
       " 389000,\n",
       " 400000,\n",
       " 86000,\n",
       " 0,\n",
       " 0,\n",
       " 615000,\n",
       " 133000,\n",
       " 51000,\n",
       " 180000,\n",
       " 0,\n",
       " 0,\n",
       " 0,\n",
       " 0,\n",
       " 0,\n",
       " 0,\n",
       " 0,\n",
       " 0,\n",
       " 0,\n",
       " 0,\n",
       " 215000,\n",
       " 0,\n",
       " 0,\n",
       " 192000,\n",
       " 0,\n",
       " 690576,\n",
       " 620000,\n",
       " 2340000,\n",
       " 2340000,\n",
       " 2340000,\n",
       " 2340000,\n",
       " 2340000,\n",
       " 2340000,\n",
       " 2340000,\n",
       " 2340000,\n",
       " 2340000,\n",
       " 2340000,\n",
       " 2340000,\n",
       " 2340000,\n",
       " 2340000,\n",
       " 2340000,\n",
       " 2340000,\n",
       " 2340000,\n",
       " 650000,\n",
       " 0,\n",
       " 0,\n",
       " 0,\n",
       " 0,\n",
       " 0,\n",
       " 0,\n",
       " 0,\n",
       " 0,\n",
       " 0,\n",
       " 0,\n",
       " 0,\n",
       " 0,\n",
       " 0,\n",
       " 0,\n",
       " 0,\n",
       " 0,\n",
       " 0,\n",
       " 394995,\n",
       " 0,\n",
       " 0,\n",
       " 292500,\n",
       " 304000,\n",
       " 0,\n",
       " 107000,\n",
       " 375000,\n",
       " 0,\n",
       " 164500,\n",
       " 140000,\n",
       " 185000,\n",
       " 0,\n",
       " 0,\n",
       " 0,\n",
       " 0,\n",
       " 0,\n",
       " 0,\n",
       " 0,\n",
       " 0,\n",
       " 0,\n",
       " 0,\n",
       " 0,\n",
       " 0,\n",
       " 0,\n",
       " 0,\n",
       " 0,\n",
       " 0,\n",
       " 699950,\n",
       " 125000,\n",
       " 542200,\n",
       " 443000,\n",
       " 225000,\n",
       " 818161,\n",
       " 129950,\n",
       " 1650000,\n",
       " 0,\n",
       " 589950,\n",
       " 0,\n",
       " 2025000,\n",
       " 2025000,\n",
       " 2025000,\n",
       " 2025000,\n",
       " 2025000,\n",
       " 2025000,\n",
       " 2025000,\n",
       " 2025000,\n",
       " 2025000,\n",
       " 0,\n",
       " 0,\n",
       " 129950,\n",
       " 285123,\n",
       " 413530,\n",
       " 189950,\n",
       " 0,\n",
       " 0,\n",
       " 0,\n",
       " 139950,\n",
       " 830000,\n",
       " 7330250,\n",
       " 7330250,\n",
       " 7330250,\n",
       " 7330250,\n",
       " 7330250,\n",
       " 7330250,\n",
       " 7330250,\n",
       " 7330250,\n",
       " 7330250,\n",
       " 7330250,\n",
       " 7330250,\n",
       " 7330250,\n",
       " 7330250,\n",
       " 7330250,\n",
       " 7330250,\n",
       " 7330250,\n",
       " 7330250,\n",
       " 7330250,\n",
       " 7330250,\n",
       " 7330250,\n",
       " 7330250,\n",
       " 7330250,\n",
       " 7330250,\n",
       " 7330250,\n",
       " 7330250,\n",
       " 7330250,\n",
       " 7330250,\n",
       " 7330250,\n",
       " 7330250,\n",
       " 7330250,\n",
       " 7330250,\n",
       " 7330250,\n",
       " 7330250,\n",
       " 7330250,\n",
       " 7330250,\n",
       " 7330250,\n",
       " 7330250,\n",
       " 7330250,\n",
       " 7330250,\n",
       " 7330250,\n",
       " 7330250,\n",
       " 7330250,\n",
       " 7330250,\n",
       " 7330250,\n",
       " 7330250,\n",
       " 7330250,\n",
       " 7330250,\n",
       " 7330250,\n",
       " 7330250,\n",
       " 7330250,\n",
       " 7330250,\n",
       " 7330250,\n",
       " 7330250,\n",
       " 7330250,\n",
       " 7330250,\n",
       " 7330250,\n",
       " 7330250,\n",
       " 7330250,\n",
       " 7330250,\n",
       " 7330250,\n",
       " 7330250,\n",
       " 7330250,\n",
       " 7330250,\n",
       " 7330250,\n",
       " 7330250,\n",
       " 7330250,\n",
       " 7330250,\n",
       " 7330250,\n",
       " 7330250,\n",
       " 7330250,\n",
       " 7330250,\n",
       " 7330250,\n",
       " 7330250,\n",
       " 7330250,\n",
       " 7330250,\n",
       " 7330250,\n",
       " 7330250,\n",
       " 7330250,\n",
       " 7330250,\n",
       " 7330250,\n",
       " 7330250,\n",
       " 7330250,\n",
       " 7330250,\n",
       " 7330250,\n",
       " 5518000,\n",
       " 5518000,\n",
       " 5518000,\n",
       " 5518000,\n",
       " 5518000,\n",
       " 5518000,\n",
       " 5518000,\n",
       " 5518000,\n",
       " 5518000,\n",
       " 5518000,\n",
       " 5518000,\n",
       " 5518000,\n",
       " 5518000,\n",
       " 5518000,\n",
       " 5518000,\n",
       " 5518000,\n",
       " 5518000,\n",
       " 5518000,\n",
       " 5518000,\n",
       " 361102,\n",
       " 1000,\n",
       " 1365000,\n",
       " 0,\n",
       " 304000,\n",
       " 304000,\n",
       " 0,\n",
       " 0,\n",
       " 159000,\n",
       " 550000,\n",
       " 290990,\n",
       " 200000,\n",
       " 750000,\n",
       " 830000,\n",
       " 0,\n",
       " 170000,\n",
       " 1500,\n",
       " 408000,\n",
       " 660000,\n",
       " 190000,\n",
       " 0,\n",
       " 0,\n",
       " 0,\n",
       " 0,\n",
       " 384200,\n",
       " 350000,\n",
       " 0,\n",
       " 535000,\n",
       " 700000,\n",
       " 230000,\n",
       " 309150,\n",
       " 811000,\n",
       " 790000,\n",
       " 0,\n",
       " 365000,\n",
       " 0,\n",
       " 97605,\n",
       " 172550,\n",
       " 172550,\n",
       " 13999986,\n",
       " 13999986,\n",
       " 13999986,\n",
       " 13999986,\n",
       " 13999986,\n",
       " 13999986,\n",
       " 13999986,\n",
       " 13999986,\n",
       " 13999986,\n",
       " 13999986,\n",
       " 13999986,\n",
       " 13999986,\n",
       " 13999986,\n",
       " 0,\n",
       " 193000,\n",
       " 25000,\n",
       " 0,\n",
       " 0,\n",
       " 417000,\n",
       " 0,\n",
       " 332950,\n",
       " 0,\n",
       " 0,\n",
       " 372500,\n",
       " 106950,\n",
       " 0,\n",
       " 0,\n",
       " 0,\n",
       " 379000,\n",
       " 13400000,\n",
       " 2800000,\n",
       " 2800000,\n",
       " 2800000,\n",
       " 20000,\n",
       " 91000,\n",
       " 237500,\n",
       " 285670,\n",
       " 565000,\n",
       " 13999986,\n",
       " 13999986,\n",
       " 13999986,\n",
       " 13999986,\n",
       " 13999986,\n",
       " 13999986,\n",
       " 13999986,\n",
       " 13999986,\n",
       " 13999986,\n",
       " 13999986,\n",
       " 13999986,\n",
       " 13999986,\n",
       " 13999986,\n",
       " 13999986,\n",
       " 13999986,\n",
       " 13999986,\n",
       " 13999986,\n",
       " 13999986,\n",
       " 13999986,\n",
       " 13999986,\n",
       " 13999986,\n",
       " 13999986,\n",
       " 13999986,\n",
       " 13999986,\n",
       " 13999986,\n",
       " 13999986,\n",
       " 13999986,\n",
       " 13999986,\n",
       " 13999986,\n",
       " 13999986,\n",
       " 13999986,\n",
       " 13999986,\n",
       " 13999986,\n",
       " 13999986,\n",
       " 13999986,\n",
       " 13999986,\n",
       " 13999986,\n",
       " 13999986,\n",
       " 13999986,\n",
       " 13999986,\n",
       " 13999986,\n",
       " 13999986,\n",
       " 13999986,\n",
       " 13999986,\n",
       " 13999986,\n",
       " 13999986,\n",
       " 13999986,\n",
       " 13999986,\n",
       " 13999986,\n",
       " 13999986,\n",
       " 13999986,\n",
       " 13999986,\n",
       " 13999986,\n",
       " 13999986,\n",
       " 13999986,\n",
       " 13999986,\n",
       " 13999986,\n",
       " 13999986,\n",
       " 13999986,\n",
       " 13999986,\n",
       " 13999986,\n",
       " 13999986,\n",
       " 13999986,\n",
       " 13999986,\n",
       " 13999986,\n",
       " 0,\n",
       " 323950,\n",
       " 1900000,\n",
       " 113000,\n",
       " 0,\n",
       " 0,\n",
       " 0,\n",
       " 0,\n",
       " 0,\n",
       " 0,\n",
       " 68000,\n",
       " 425000,\n",
       " 0,\n",
       " 0,\n",
       " 0,\n",
       " 21,\n",
       " 0,\n",
       " 380000,\n",
       " 0,\n",
       " 0,\n",
       " 0,\n",
       " 96000,\n",
       " 463000,\n",
       " 155000,\n",
       " 155000,\n",
       " 322000,\n",
       " 0,\n",
       " 395000,\n",
       " 625000,\n",
       " 0,\n",
       " 360000,\n",
       " 0,\n",
       " 0,\n",
       " 540000,\n",
       " 0,\n",
       " 420000,\n",
       " 420000,\n",
       " 420000,\n",
       " 420000,\n",
       " 420000,\n",
       " 0,\n",
       " 141000,\n",
       " 269950,\n",
       " 850000,\n",
       " 0,\n",
       " 0,\n",
       " 325000,\n",
       " 0,\n",
       " 7550000,\n",
       " 7550000,\n",
       " 73950,\n",
       " 1312000,\n",
       " 0,\n",
       " 0,\n",
       " 0,\n",
       " 5500000,\n",
       " 5500000,\n",
       " 5500000,\n",
       " 5500000,\n",
       " 105000,\n",
       " 0,\n",
       " 188500,\n",
       " 172000,\n",
       " 101000,\n",
       " 0,\n",
       " 75000,\n",
       " 368000,\n",
       " 0,\n",
       " 307000,\n",
       " 25000,\n",
       " 25000,\n",
       " 25000,\n",
       " 25000,\n",
       " 119000,\n",
       " 0,\n",
       " 320000,\n",
       " 48000,\n",
       " 0,\n",
       " 0,\n",
       " 249950,\n",
       " 247120,\n",
       " 0,\n",
       " 214000,\n",
       " 0,\n",
       " 215000,\n",
       " 370600,\n",
       " 185000,\n",
       " 0,\n",
       " 0,\n",
       " 0,\n",
       " 0,\n",
       " 0,\n",
       " 7330250,\n",
       " 7330250,\n",
       " 7330250,\n",
       " 7330250,\n",
       " 7330250,\n",
       " 7330250,\n",
       " 7330250,\n",
       " 7330250,\n",
       " 0,\n",
       " 10,\n",
       " 0,\n",
       " 307500,\n",
       " 230000,\n",
       " 0,\n",
       " 600000,\n",
       " 155000,\n",
       " 0,\n",
       " 420000,\n",
       " 645000,\n",
       " 0,\n",
       " 0,\n",
       " 0,\n",
       " 77000,\n",
       " 105000,\n",
       " 158200,\n",
       " 0,\n",
       " 0,\n",
       " 141500,\n",
       " 320000,\n",
       " 0,\n",
       " 0,\n",
       " 150000,\n",
       " 1000000,\n",
       " 0,\n",
       " 217500,\n",
       " 0,\n",
       " 1030000,\n",
       " 0,\n",
       " 260000,\n",
       " 48900,\n",
       " 243000,\n",
       " 0,\n",
       " 0,\n",
       " 0,\n",
       " 0,\n",
       " 0,\n",
       " 356950,\n",
       " 169950,\n",
       " 0,\n",
       " 0,\n",
       " 0,\n",
       " 181000,\n",
       " 350000,\n",
       " 0,\n",
       " 3500,\n",
       " 295000,\n",
       " 0,\n",
       " 607500,\n",
       " 480000,\n",
       " 168000,\n",
       " 379900,\n",
       " 485000,\n",
       " 539900,\n",
       " 405000,\n",
       " 905000,\n",
       " 0,\n",
       " 125000,\n",
       " 452990,\n",
       " 0,\n",
       " 384938,\n",
       " 134000,\n",
       " 60000,\n",
       " 625000,\n",
       " 165000,\n",
       " 490000,\n",
       " 373000,\n",
       " 0,\n",
       " 305000,\n",
       " 0,\n",
       " 2588000,\n",
       " 400000,\n",
       " 218500,\n",
       " 0,\n",
       " 351000,\n",
       " 71500,\n",
       " 427000,\n",
       " 61000,\n",
       " 234500,\n",
       " 0,\n",
       " 51668,\n",
       " 135000,\n",
       " 505000,\n",
       " 170300,\n",
       " 0,\n",
       " 496990,\n",
       " 232500,\n",
       " 493000,\n",
       " 450000,\n",
       " 355000,\n",
       " 355000,\n",
       " 0,\n",
       " 322000,\n",
       " 196990,\n",
       " 0,\n",
       " 710000,\n",
       " 0,\n",
       " 0,\n",
       " 0,\n",
       " 74000,\n",
       " 427500,\n",
       " 290000,\n",
       " 274715,\n",
       " 0,\n",
       " 40700,\n",
       " 0,\n",
       " 13999986,\n",
       " 13999986,\n",
       " 13999986,\n",
       " 13999986,\n",
       " 13999986,\n",
       " 13999986,\n",
       " 13999986,\n",
       " 13999986,\n",
       " 13999986,\n",
       " 13999986,\n",
       " 346000,\n",
       " 273000,\n",
       " 0,\n",
       " 329000,\n",
       " 580000,\n",
       " 72000,\n",
       " 243500,\n",
       " 114000,\n",
       " 0,\n",
       " 0,\n",
       " 0,\n",
       " 0,\n",
       " 275000,\n",
       " 0,\n",
       " 0,\n",
       " 9750000,\n",
       " 152000,\n",
       " 255000,\n",
       " 499000,\n",
       " 0,\n",
       " 0,\n",
       " 0,\n",
       " 0,\n",
       " 0,\n",
       " 145000,\n",
       " 219000,\n",
       " 671000,\n",
       " 0,\n",
       " 0,\n",
       " 631000,\n",
       " 631000,\n",
       " 260000,\n",
       " 260000,\n",
       " 260000,\n",
       " 260000,\n",
       " 0,\n",
       " 0,\n",
       " 211000,\n",
       " 183000,\n",
       " 60000,\n",
       " 220000,\n",
       " 0,\n",
       " 640000,\n",
       " 0,\n",
       " 0,\n",
       " 251000,\n",
       " 44000,\n",
       " 0,\n",
       " 0,\n",
       " 54500,\n",
       " 0,\n",
       " 411000,\n",
       " 280000,\n",
       " 0,\n",
       " 619000,\n",
       " 619000,\n",
       " 340000,\n",
       " 0,\n",
       " 815000,\n",
       " 2340000,\n",
       " 2340000,\n",
       " 399950,\n",
       " 200000,\n",
       " 145000,\n",
       " 0,\n",
       " 0,\n",
       " 0,\n",
       " 0,\n",
       " 164000,\n",
       " 0,\n",
       " 0,\n",
       " 300000,\n",
       " 284000,\n",
       " 136500,\n",
       " 565000,\n",
       " 355000,\n",
       " 363000,\n",
       " 819990,\n",
       " 137950,\n",
       " 272000,\n",
       " 0,\n",
       " 800000,\n",
       " 135000,\n",
       " 200000,\n",
       " 230000,\n",
       " 0,\n",
       " 115000,\n",
       " 250000,\n",
       " 0,\n",
       " 0,\n",
       " 0,\n",
       " 0,\n",
       " 0,\n",
       " 0,\n",
       " 0,\n",
       " 0,\n",
       " 0,\n",
       " 0,\n",
       " 0,\n",
       " 0,\n",
       " 0,\n",
       " 0,\n",
       " 69750,\n",
       " 257000,\n",
       " 195000,\n",
       " 5755000,\n",
       " 5755000,\n",
       " 184950,\n",
       " 0,\n",
       " 0,\n",
       " 0,\n",
       " 0,\n",
       " 0,\n",
       " 0,\n",
       " 0,\n",
       " 0,\n",
       " 0,\n",
       " 0,\n",
       " 13000,\n",
       " 217800,\n",
       " 103500,\n",
       " 0,\n",
       " 725000,\n",
       " 1838000,\n",
       " 399000,\n",
       " 379000,\n",
       " 209900,\n",
       " 1690000,\n",
       " 103500,\n",
       " 0,\n",
       " 0,\n",
       " 55000,\n",
       " 55000,\n",
       " 55000,\n",
       " 0,\n",
       " 815000,\n",
       " 0,\n",
       " 540000,\n",
       " 0,\n",
       " 0,\n",
       " 0,\n",
       " 467500,\n",
       " 425000,\n",
       " 982254,\n",
       " 396000,\n",
       " 0,\n",
       " 0,\n",
       " 219500,\n",
       " 160000,\n",
       " 0,\n",
       " 0,\n",
       " 174990,\n",
       " 0,\n",
       " 0,\n",
       " 140000,\n",
       " 318000,\n",
       " 460000,\n",
       " 0,\n",
       " 0,\n",
       " 358750,\n",
       " 245000,\n",
       " 129950,\n",
       " 475000,\n",
       " 142200,\n",
       " 975000,\n",
       " 975000,\n",
       " 975000,\n",
       " 975000,\n",
       " 975000,\n",
       " 210000,\n",
       " 123500,\n",
       " 214350,\n",
       " 0,\n",
       " 0,\n",
       " 0,\n",
       " 65000,\n",
       " 0,\n",
       " 124000,\n",
       " 220000,\n",
       " 310000,\n",
       " 400000,\n",
       " 495000,\n",
       " 235000,\n",
       " 873000,\n",
       " 321000,\n",
       " 138000,\n",
       " 25000,\n",
       " 25000,\n",
       " 593000,\n",
       " 485787,\n",
       " 0,\n",
       " 268000,\n",
       " 0,\n",
       " 280000,\n",
       " 450000,\n",
       " 500000,\n",
       " 0,\n",
       " 249900,\n",
       " 0,\n",
       " 0,\n",
       " 0,\n",
       " 100000,\n",
       " 395000,\n",
       " 305000,\n",
       " 156575,\n",
       " 447900,\n",
       " 0,\n",
       " 149500,\n",
       " 436500,\n",
       " 550000,\n",
       " 0,\n",
       " 393220,\n",
       " 659000,\n",
       " 559500,\n",
       " 9000,\n",
       " 9000,\n",
       " 0,\n",
       " 0,\n",
       " 0,\n",
       " 0,\n",
       " 499950,\n",
       " 165000,\n",
       " 756000,\n",
       " 187500,\n",
       " 0,\n",
       " 0,\n",
       " 302000,\n",
       " 0,\n",
       " 0,\n",
       " 333200,\n",
       " 670000,\n",
       " 0,\n",
       " 0,\n",
       " 645000,\n",
       " 0,\n",
       " 327500,\n",
       " 774950,\n",
       " 177225,\n",
       " 111297,\n",
       " 0,\n",
       " 0,\n",
       " 0,\n",
       " 270000,\n",
       " 0,\n",
       " 0,\n",
       " 340000,\n",
       " 0,\n",
       " 139990,\n",
       " 380000,\n",
       " 2395000,\n",
       " 255000,\n",
       " 205343,\n",
       " 0,\n",
       " 123900,\n",
       " 1296503,\n",
       " 305000,\n",
       " 164950,\n",
       " 535000,\n",
       " 148000,\n",
       " 342995,\n",
       " 162950,\n",
       " 0,\n",
       " 0,\n",
       " 1530000,\n",
       " 1530000,\n",
       " 325000,\n",
       " 499900,\n",
       " 0,\n",
       " 0,\n",
       " 0,\n",
       " 575000,\n",
       " 12000,\n",
       " 0,\n",
       " 147900,\n",
       " 121032,\n",
       " 0,\n",
       " 0,\n",
       " 0,\n",
       " 277000,\n",
       " 130000,\n",
       " 402000,\n",
       " 57000,\n",
       " 675000,\n",
       " 0,\n",
       " 535000,\n",
       " 0,\n",
       " 0,\n",
       " 0,\n",
       " 0,\n",
       " 547500,\n",
       " 0,\n",
       " 130000,\n",
       " 100,\n",
       " 421000,\n",
       " 0,\n",
       " 537000,\n",
       " 234950,\n",
       " 119000,\n",
       " 400000,\n",
       " 0,\n",
       " 396000,\n",
       " 769000,\n",
       " 0,\n",
       " 0,\n",
       " 0,\n",
       " 0,\n",
       " 0,\n",
       " 0,\n",
       " 0,\n",
       " 0,\n",
       " 0,\n",
       " 0,\n",
       " 0,\n",
       " 212500,\n",
       " 0,\n",
       " 201972,\n",
       " 0,\n",
       " 0,\n",
       " 0,\n",
       " 775000,\n",
       " 0,\n",
       " 175000,\n",
       " 247000,\n",
       " ...]"
      ]
     },
     "execution_count": 87,
     "metadata": {},
     "output_type": "execute_result"
    }
   ],
   "source": [
    "## Your work here\n",
    "\n",
    "sale_year_list = [i['sale_year'] for i in sales]\n",
    "sale_year_list\n",
    "\n",
    "sale_prices = [i['sale_price'] for i in sales]\n",
    "sale_prices\n"
   ]
  },
  {
   "cell_type": "code",
   "execution_count": 97,
   "metadata": {},
   "outputs": [
    {
     "name": "stdout",
     "output_type": "stream",
     "text": [
      "1958 1\n",
      "1966 1\n",
      "1974 1\n",
      "1976 1\n",
      "1979 1\n",
      "1981 2\n",
      "1982 32\n",
      "1983 36\n",
      "1984 48\n",
      "1985 44\n",
      "1986 74\n",
      "1987 77\n",
      "1988 66\n",
      "1989 75\n",
      "1990 68\n",
      "1991 81\n",
      "1992 338\n",
      "1993 353\n",
      "1994 267\n",
      "1995 246\n",
      "1996 347\n",
      "1997 306\n",
      "1998 349\n",
      "1999 406\n",
      "2000 279\n",
      "2001 342\n",
      "2002 325\n",
      "2003 380\n",
      "2004 447\n",
      "2005 442\n",
      "2006 389\n",
      "2007 319\n",
      "2008 231\n",
      "2009 264\n",
      "2010 230\n",
      "2011 218\n",
      "2012 364\n",
      "2013 295\n",
      "2014 299\n",
      "2015 376\n",
      "2016 290\n",
      "2017 288\n",
      "2018 281\n",
      "2019 241\n",
      "2020 419\n",
      "2021 61\n"
     ]
    }
   ],
   "source": [
    "sale_year_count = []\n",
    "sale_years = [sale['sale_year'] for sale in sales]\n",
    "unique_sale_years = set(sale_years)\n",
    "for unique_year in unique_sale_years:\n",
    "    num_sales = len([year for year in sale_years if year == unique_year]) #this takes the unique year for the test \n",
    "    sale_year_count.append((unique_year, num_sales))\n",
    "    print(unique_year, num_sales)"
   ]
  },
  {
   "cell_type": "code",
   "execution_count": 98,
   "metadata": {},
   "outputs": [
    {
     "name": "stdout",
     "output_type": "stream",
     "text": [
      "[(2021, 61), (2020, 419), (2019, 241), (2018, 281), (2017, 288), (2016, 290), (2015, 376), (2014, 299), (2013, 295), (2012, 364), (2011, 218), (2010, 230), (2009, 264), (2008, 231), (2007, 319), (2006, 389), (2005, 442), (2004, 447), (2003, 380), (2002, 325), (2001, 342), (2000, 279), (1999, 406), (1998, 349), (1997, 306), (1996, 347), (1995, 246), (1994, 267), (1993, 353), (1992, 338), (1991, 81), (1990, 68), (1989, 75), (1988, 66), (1987, 77), (1986, 74), (1985, 44), (1984, 48), (1983, 36), (1982, 32), (1981, 2), (1979, 1), (1976, 1), (1974, 1), (1966, 1), (1958, 1)]\n"
     ]
    }
   ],
   "source": [
    "## Another example\n",
    "sales_per_year = {k: sale_years.count(k) for k in sale_years}\n",
    "#sales_per_year = [(k, sale_years.count(k)) for k in sale_years]\n",
    "sales_per_year = list(sales_per_year.items())\n",
    "sales_per_year.sort(reverse=True, key=lambda sum: sum[0])\n",
    "print(sales_per_year)"
   ]
  },
  {
   "cell_type": "markdown",
   "metadata": {
    "slideshow": {
     "slide_type": "fragment"
    }
   },
   "source": [
    "<details>\n",
    "            <summary><b><u>Click Here for Answer Code</u></b></summary>\n",
    "\n",
    "```python\n",
    "sale_year_count = []\n",
    "sale_years = [sale['sale_year'] for sale in sales]\n",
    "unique_sale_years = set(sale_years)\n",
    "for unique_year in unique_sale_years:\n",
    "    num_sales = len([year for year in sale_years if year == unique_year]) \n",
    "    sale_year_count.append((unique_year, num_sales))\n",
    "    print(unique_year, num_sales)\n",
    "```\n",
    "</details>"
   ]
  },
  {
   "cell_type": "markdown",
   "metadata": {
    "slideshow": {
     "slide_type": "slide"
    }
   },
   "source": [
    "# Chart the Data"
   ]
  },
  {
   "cell_type": "markdown",
   "metadata": {
    "slideshow": {
     "slide_type": "fragment"
    }
   },
   "source": [
    "This `list` of `tuples` is helpful, but it takes a lot of effort to read it and make sense of the trends - let's visualize the results to make this easier."
   ]
  },
  {
   "cell_type": "code",
   "execution_count": 99,
   "metadata": {
    "slideshow": {
     "slide_type": "slide"
    }
   },
   "outputs": [],
   "source": [
    "from matplotlib import pyplot as plt"
   ]
  },
  {
   "cell_type": "code",
   "execution_count": 100,
   "metadata": {
    "scrolled": true,
    "slideshow": {
     "slide_type": "fragment"
    }
   },
   "outputs": [],
   "source": [
    "## Ensuring we have the data coded in earlier questions\n",
    "\n",
    "# Sale Years\n",
    "for sale in sales:\n",
    "    # Save the document date to a variable\n",
    "    string_date = sale[\"DocumentDate\"]\n",
    "\n",
    "    # Extract the sale year and month from the string, and cast to int\n",
    "    sale_year = int(string_date[6:10])\n",
    "    sale_month = int(string_date[0:2])    \n",
    "\n",
    "    # Add the sale year and month to each dictionary element of sales\n",
    "    sale[\"sale_year\"] = sale_year\n",
    "    sale[\"sale_month\"] = sale_month\n",
    "\n",
    "# Sale Years Count\n",
    "sale_year_count = []\n",
    "sale_years = [sale['sale_year'] for sale in sales]\n",
    "unique_sale_years = set(sale_years)\n",
    "for unique_year in unique_sale_years:\n",
    "    num_sales = len([year for year in sale_years if year == unique_year])\n",
    "    sale_year_count.append((unique_year, num_sales))"
   ]
  },
  {
   "cell_type": "code",
   "execution_count": 101,
   "metadata": {
    "slideshow": {
     "slide_type": "slide"
    }
   },
   "outputs": [
    {
     "data": {
      "image/png": "[encoded data removed]",
      "text/plain": [
       "<Figure size 720x360 with 1 Axes>"
      ]
     },
     "metadata": {
      "needs_background": "light"
     },
     "output_type": "display_data"
    }
   ],
   "source": [
    "# create a figure and one plot\n",
    "fig, ax = plt.subplots(nrows=1, ncols=1, figsize=(10, 5))\n",
    "\n",
    "# place data in a bar chart \n",
    "# where the x-axis is each year and \n",
    "# the y-axis is the number of sales per year\n",
    "ax.bar(x=[sale[0] for sale in sale_year_count],\n",
    "       height=[year[1] for year in sale_year_count], color = 'orange')\n",
    "\n",
    "\n",
    "\n",
    "# set axis labels\n",
    "ax.set_xlabel(\"Year\")\n",
    "ax.set_ylabel(\"Number of property sales\")\n",
    "\n",
    "# give the bar chart a title\n",
    "ax.set_title(\"Property sales in King County, WA (1900 to 2021)\")\n",
    "\n",
    "# display bar chart clearly\n",
    "fig.tight_layout()"
   ]
  },
  {
   "cell_type": "markdown",
   "metadata": {
    "slideshow": {
     "slide_type": "fragment"
    }
   },
   "source": [
    "**Discussion:** What can we learn from this graph?"
   ]
  },
  {
   "cell_type": "markdown",
   "metadata": {},
   "source": [
    "# Level Up: `Counter`"
   ]
  },
  {
   "cell_type": "markdown",
   "metadata": {},
   "source": [
    "The `collections` package has a lot of useful tools for working with Python objects containing multiple elements. You can use the `Counter` class to easily count the number of values in a list.\n",
    "\n",
    "For example, let's say that for all dictionaries in `sales`, we want to count how many property sales occured in each year. "
   ]
  },
  {
   "cell_type": "code",
   "execution_count": 102,
   "metadata": {},
   "outputs": [],
   "source": [
    "from collections import Counter\n",
    "\n",
    "sale_year_count = Counter([sale['sale_year'] for sale in sales])"
   ]
  },
  {
   "cell_type": "markdown",
   "metadata": {
    "slideshow": {
     "slide_type": "slide"
    }
   },
   "source": [
    "Let's sort these by year. Since the value in `sale_year` is an integer, we can use Python's built-in [`sorted`](https://docs.python.org/3/library/functions.html#sorted) function to transform the `Counter` object into a `list` of `tuples` - `(year, count)` which are sorted in ascending order by year."
   ]
  },
  {
   "cell_type": "code",
   "execution_count": 103,
   "metadata": {
    "slideshow": {
     "slide_type": "fragment"
    }
   },
   "outputs": [
    {
     "data": {
      "text/plain": [
       "[(1958, 1),\n",
       " (1966, 1),\n",
       " (1974, 1),\n",
       " (1976, 1),\n",
       " (1979, 1),\n",
       " (1981, 2),\n",
       " (1982, 32),\n",
       " (1983, 36),\n",
       " (1984, 48),\n",
       " (1985, 44),\n",
       " (1986, 74),\n",
       " (1987, 77),\n",
       " (1988, 66),\n",
       " (1989, 75),\n",
       " (1990, 68),\n",
       " (1991, 81),\n",
       " (1992, 338),\n",
       " (1993, 353),\n",
       " (1994, 267),\n",
       " (1995, 246),\n",
       " (1996, 347),\n",
       " (1997, 306),\n",
       " (1998, 349),\n",
       " (1999, 406),\n",
       " (2000, 279),\n",
       " (2001, 342),\n",
       " (2002, 325),\n",
       " (2003, 380),\n",
       " (2004, 447),\n",
       " (2005, 442),\n",
       " (2006, 389),\n",
       " (2007, 319),\n",
       " (2008, 231),\n",
       " (2009, 264),\n",
       " (2010, 230),\n",
       " (2011, 218),\n",
       " (2012, 364),\n",
       " (2013, 295),\n",
       " (2014, 299),\n",
       " (2015, 376),\n",
       " (2016, 290),\n",
       " (2017, 288),\n",
       " (2018, 281),\n",
       " (2019, 241),\n",
       " (2020, 419),\n",
       " (2021, 61)]"
      ]
     },
     "execution_count": 103,
     "metadata": {},
     "output_type": "execute_result"
    }
   ],
   "source": [
    "sale_year_count = sorted(sale_year_count.items())\n",
    "sale_year_count"
   ]
  },
  {
   "cell_type": "markdown",
   "metadata": {
    "slideshow": {
     "slide_type": "slide"
    }
   },
   "source": [
    "# Level Up: Using `datetime`"
   ]
  },
  {
   "cell_type": "markdown",
   "metadata": {
    "slideshow": {
     "slide_type": "fragment"
    }
   },
   "source": [
    "Python has a [`datetime`](https://docs.python.org/3.7/library/datetime.html) package that is the standard tool for handling dates and times. `datetime` objects make it easy to do fun things like subtract dates to calculate how far apart they are."
   ]
  },
  {
   "cell_type": "code",
   "execution_count": 105,
   "metadata": {
    "slideshow": {
     "slide_type": "fragment"
    }
   },
   "outputs": [],
   "source": [
    "from datetime import datetime"
   ]
  },
  {
   "cell_type": "code",
   "execution_count": 106,
   "metadata": {
    "slideshow": {
     "slide_type": "fragment"
    }
   },
   "outputs": [],
   "source": [
    "for sale in sales:\n",
    "    # Transform DocumentDate from string to datetime\n",
    "    sale[\"clean_date\"] = datetime.strptime(sale[\"DocumentDate\"], \n",
    "                                           \"%m/%d/%Y\")\n",
    "    \n",
    "    # Add the sale year and month to each dictionary element of sales\n",
    "    sale[\"sale_year\"] = sale[\"clean_date\"].year\n",
    "    sale[\"sale_month\"] = sale[\"clean_date\"].month"
   ]
  },
  {
   "cell_type": "markdown",
   "metadata": {
    "slideshow": {
     "slide_type": "fragment"
    }
   },
   "source": [
    "Let's inspect our work"
   ]
  },
  {
   "cell_type": "code",
   "execution_count": 107,
   "metadata": {
    "slideshow": {
     "slide_type": "slide"
    }
   },
   "outputs": [
    {
     "data": {
      "text/plain": [
       "{'ExciseTaxNbr': '2687551',\n",
       " 'Major': '138860',\n",
       " 'Minor': '110',\n",
       " 'DocumentDate': '08/21/2014',\n",
       " 'SalePrice': '245000',\n",
       " 'RecordingNbr': '20140828001436',\n",
       " 'Volume': '   ',\n",
       " 'Page': '   ',\n",
       " 'PlatNbr': '      ',\n",
       " 'PlatType': ' ',\n",
       " 'PlatLot': '              ',\n",
       " 'PlatBlock': '       ',\n",
       " 'SellerName': 'WENKLE NOEL SMITH -TRUSTEE                        ',\n",
       " 'BuyerName': 'ALEXANDER APRIL                                   ',\n",
       " 'PropertyType': '3',\n",
       " 'PrincipalUse': '6',\n",
       " 'SaleInstrument': '3',\n",
       " 'AFForestLand': 'N',\n",
       " 'AFCurrentUseLand': 'N',\n",
       " 'AFNonProfitUse': 'N',\n",
       " 'AFHistoricProperty': 'N',\n",
       " 'SaleReason': '1',\n",
       " 'PropertyClass': '8',\n",
       " 'SaleWarning': ' ',\n",
       " 'sale_price': 245000,\n",
       " 'sale_year': 2014,\n",
       " 'sale_month': 8,\n",
       " 'clean_date': datetime.datetime(2014, 8, 21, 0, 0)}"
      ]
     },
     "execution_count": 107,
     "metadata": {},
     "output_type": "execute_result"
    }
   ],
   "source": [
    "sales[0]"
   ]
  }
 ],
 "metadata": {
  "kernelspec": {
   "display_name": "Python (learn-env)",
   "language": "python",
   "name": "learn-env"
  },
  "language_info": {
   "codemirror_mode": {
    "name": "ipython",
    "version": 3
   },
   "file_extension": ".py",
   "mimetype": "text/x-python",
   "name": "python",
   "nbconvert_exporter": "python",
   "pygments_lexer": "ipython3",
   "version": "3.8.5"
  },
  "toc": {
   "base_numbering": 1,
   "nav_menu": {},
   "number_sections": true,
   "sideBar": true,
   "skip_h1_title": false,
   "title_cell": "Table of Contents",
   "title_sidebar": "Contents",
   "toc_cell": true,
   "toc_position": {},
   "toc_section_display": true,
   "toc_window_display": true
  }
 },
 "nbformat": 4,
 "nbformat_minor": 2
}
