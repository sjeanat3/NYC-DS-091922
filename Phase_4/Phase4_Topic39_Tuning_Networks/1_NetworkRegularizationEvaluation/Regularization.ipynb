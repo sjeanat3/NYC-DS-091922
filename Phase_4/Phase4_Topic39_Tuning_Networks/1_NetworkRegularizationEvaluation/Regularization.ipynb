{
 "cells": [
  {
   "cell_type": "markdown",
   "metadata": {
    "slideshow": {
     "slide_type": "slide"
    }
   },
   "source": [
    "<div style=\"color:white;\n",
    "           display:fill;\n",
    "           border-radius:5px;\n",
    "           background-color:#5642C5;\n",
    "           font-size:200%;\n",
    "           font-family:Arial;letter-spacing:0.5px\">\n",
    "\n",
    "<p width = 20%, style=\"padding: 10px;\n",
    "              color:white;\">\n",
    "Neural Networks: Regularization\n",
    "</p>\n",
    "</div>\n",
    "\n",
    "Data Science Cohort Live NYC Jully 2022\n",
    "<p>Phase 4: Topic 41</p>\n",
    "<br>\n",
    "<br>\n",
    "\n",
    "<div align = \"right\">\n",
    "<img src=\"Images/flatiron-school-logo.png\" align = \"right\" width=\"200\"/>\n",
    "</div>\n",
    "    \n",
    "    "
   ]
  },
  {
   "cell_type": "code",
   "execution_count": 16,
   "metadata": {
    "slideshow": {
     "slide_type": "skip"
    }
   },
   "outputs": [],
   "source": [
    "from sklearn.datasets import load_sample_images\n",
    "from sklearn.datasets import load_digits\n",
    "from sklearn.model_selection import train_test_split, cross_val_score\n",
    "from sklearn.preprocessing import OneHotEncoder\n",
    "from sklearn.metrics import accuracy_score, confusion_matrix\n",
    "import matplotlib.pyplot as plt\n",
    "import matplotlib.image as mpimg\n",
    "import numpy as np\n",
    "import pandas as pd\n",
    "from sklearn.metrics import ConfusionMatrixDisplay\n",
    "import seaborn as sns\n",
    "\n",
    "from tensorflow.keras import datasets\n",
    "from tensorflow.keras.models import Sequential\n",
    "from tensorflow.keras.layers import Dense, Dropout\n",
    "from tensorflow.keras.callbacks import EarlyStopping\n",
    "from tensorflow.keras.utils import to_categorical\n",
    "from tensorflow.keras.layers import Flatten # takes 2D input and turns into 1D array\n",
    "\n",
    "import os\n",
    "import sys\n",
    "module_path = os.path.abspath(os.path.join(os.pardir, os.pardir))\n",
    "if module_path not in sys.path:\n",
    "    sys.path.append(module_path)\n",
    "    \n",
    "%load_ext autoreload\n",
    "%autoreload 2"
   ]
  },
  {
   "cell_type": "markdown",
   "metadata": {
    "slideshow": {
     "slide_type": "slide"
    }
   },
   "source": [
    "### Things to remember:\n"
   ]
  },
  {
   "cell_type": "markdown",
   "metadata": {
    "slideshow": {
     "slide_type": "fragment"
    }
   },
   "source": [
    "## STEPS ##\n",
    "\n",
    "1. Load Data\n",
    "2. Define Keras Model\n",
    "3. Compile Keras Model\n",
    "4. Fit Keras Model\n",
    "5. Evaluate Keras Model\n",
    "6. Make Predictions"
   ]
  },
  {
   "cell_type": "markdown",
   "metadata": {
    "slideshow": {
     "slide_type": "fragment"
    }
   },
   "source": [
    "\n",
    "- The data and labels in `fit()` need to be numpy arrays, not `pandas` dfs.\n",
    "- Scaling your data will have a large impact on your model.\n",
    "   > For our traditional input features, we would use a scaler object. For images, as long as the minimum value is 0, we can simply divide through by the maximum pixel intensity."
   ]
  },
  {
   "cell_type": "markdown",
   "metadata": {
    "slideshow": {
     "slide_type": "slide"
    }
   },
   "source": [
    "#### Regularization\n",
    "- Retain complexity of neural network: many weights to learn interesting relationships\n",
    "- Make our weights less susceptible to overfitting\n",
    "\n",
    "**Getting neural networks to perform really well**"
   ]
  },
  {
   "cell_type": "markdown",
   "metadata": {
    "slideshow": {
     "slide_type": "slide"
    }
   },
   "source": [
    "In neural networks, two main forms of regularization:\n",
    "- L2 Regularization (something familiar)\n",
    "- Dropout Regularization (something a little new)"
   ]
  },
  {
   "cell_type": "markdown",
   "metadata": {
    "slideshow": {
     "slide_type": "slide"
    }
   },
   "source": [
    "**L2 Regularization**\n",
    "\n",
    "- Add penalty on weight **matrices**.\n",
    "$$ J \\rightarrow J' $$\n",
    "$$ J = \\sum_{i=1}^m \\frac{1}{m}L(y_i, \\hat{y}_i) $$\n",
    "$$ J' = \\sum_{i=1}^m \\frac{1}{m}L(y_i, \\hat{y}_i) + \\frac{\\lambda}{2} \\sum_{l=1}^L \\lVert  W^{[l]}   \\rVert_F^2 $$"
   ]
  },
  {
   "cell_type": "markdown",
   "metadata": {
    "slideshow": {
     "slide_type": "fragment"
    }
   },
   "source": [
    "where $F$ denotes the Frobenius norm."
   ]
  },
  {
   "cell_type": "markdown",
   "metadata": {
    "cell_style": "center",
    "slideshow": {
     "slide_type": "slide"
    }
   },
   "source": [
    "Frobenius norm is square root of sum of of element-wise square:\n",
    "i.e. \n",
    "$$ \\lVert  A   \\rVert_F = \\sqrt{\\sum_{i,j} A_{ij}^2 }$$"
   ]
  },
  {
   "cell_type": "code",
   "execution_count": 3,
   "metadata": {
    "slideshow": {
     "slide_type": "fragment"
    }
   },
   "outputs": [],
   "source": [
    "import numpy as np\n",
    "from numpy.linalg import norm"
   ]
  },
  {
   "cell_type": "code",
   "execution_count": 4,
   "metadata": {
    "cell_style": "split",
    "slideshow": {
     "slide_type": "fragment"
    }
   },
   "outputs": [
    {
     "data": {
      "text/plain": [
       "array([[1, 2],\n",
       "       [0, 3]])"
      ]
     },
     "execution_count": 4,
     "metadata": {},
     "output_type": "execute_result"
    }
   ],
   "source": [
    "A = np.array([[1,2],[0,3]])\n",
    "A"
   ]
  },
  {
   "cell_type": "code",
   "execution_count": 5,
   "metadata": {
    "cell_style": "split",
    "slideshow": {
     "slide_type": "fragment"
    }
   },
   "outputs": [
    {
     "data": {
      "text/plain": [
       "3.7416573867739413"
      ]
     },
     "execution_count": 5,
     "metadata": {},
     "output_type": "execute_result"
    }
   ],
   "source": [
    "norm(A, 'fro')"
   ]
  },
  {
   "cell_type": "code",
   "execution_count": 6,
   "metadata": {
    "cell_style": "split",
    "slideshow": {
     "slide_type": "fragment"
    }
   },
   "outputs": [
    {
     "data": {
      "text/plain": [
       "3.7416573867739413"
      ]
     },
     "execution_count": 6,
     "metadata": {},
     "output_type": "execute_result"
    }
   ],
   "source": [
    "np.sqrt(1**2 + 0**2 + 2**2 + 3**2)"
   ]
  },
  {
   "cell_type": "markdown",
   "metadata": {
    "cell_style": "split",
    "slideshow": {
     "slide_type": "slide"
    }
   },
   "source": [
    "Modiied objective functon:\n",
    "\n",
    "$$ J' = \\sum_{i=1}^m \\frac{1}{m}L(y_i, \\hat{y}_i) + \\frac{\\lambda}{2} \\sum_{l=1}^L \\lVert  W^{[l]}   \\rVert_F^2 $$"
   ]
  },
  {
   "cell_type": "markdown",
   "metadata": {
    "cell_style": "split",
    "slideshow": {
     "slide_type": "fragment"
    }
   },
   "source": [
    "Regularization serves to penalize any particular weight from being too large:\n",
    "- smoothens/redistributes weights for each weight matrix\n",
    "- aids in generalization"
   ]
  },
  {
   "cell_type": "markdown",
   "metadata": {
    "cell_style": "center",
    "slideshow": {
     "slide_type": "slide"
    }
   },
   "source": [
    "L2 regularization: often known as weight decay\n",
    "- Perspective: gradient descent\n",
    "$$ J' = \\sum_{i=1}^m \\frac{1}{m}L(y_i, \\hat{y}_i) + \\frac{\\lambda}{2} \\sum_{l=1}^L \\lVert  W^{[l]}   \\rVert_F^2 $$\n",
    "$$ W^{[l]} \\rightarrow W^{[l]} - \\alpha \\frac{\\partial J'}{\\partial W^{[l]}} $$ "
   ]
  },
  {
   "cell_type": "markdown",
   "metadata": {
    "cell_style": "center",
    "slideshow": {
     "slide_type": "fragment"
    }
   },
   "source": [
    "$$ J = \\sum_{i=1}^m \\frac{1}{m}L(y_i, \\hat{y}_i) $$\n",
    "$$ W^{[l]} \\rightarrow \\Big(W^{[l]}  - \\alpha \\frac{\\lambda}{2 m}  W^{[l]} \\Big) - \\alpha \\frac{\\partial J}{\\partial W^{[l]}}$$ \n",
    "\n",
    "- At each iteration regularization tries to reduce magnitude of weight matrix."
   ]
  },
  {
   "cell_type": "markdown",
   "metadata": {
    "slideshow": {
     "slide_type": "slide"
    }
   },
   "source": [
    "#### Implementing L2 regularization in Keras"
   ]
  },
  {
   "cell_type": "code",
   "execution_count": 17,
   "metadata": {
    "slideshow": {
     "slide_type": "fragment"
    }
   },
   "outputs": [],
   "source": [
    "# creates keras regularizer object\n",
    "from tensorflow.keras.regularizers import l2"
   ]
  },
  {
   "cell_type": "markdown",
   "metadata": {
    "cell_style": "center",
    "slideshow": {
     "slide_type": "slide"
    }
   },
   "source": [
    "L2 regularizer object takes in $\\lambda$ parameter as argument"
   ]
  },
  {
   "cell_type": "code",
   "execution_count": 18,
   "metadata": {
    "cell_style": "center",
    "slideshow": {
     "slide_type": "fragment"
    }
   },
   "outputs": [],
   "source": [
    "reg = l2(3e-3) # 1e-5 to .1"
   ]
  },
  {
   "cell_type": "markdown",
   "metadata": {
    "cell_style": "split",
    "slideshow": {
     "slide_type": "slide"
    }
   },
   "source": [
    "Implementing regularization to weights in Keras:\n",
    "- Dense(kernel_regularizer = __)\n",
    "- takes in string ('l2') or regularizer object"
   ]
  },
  {
   "cell_type": "markdown",
   "metadata": {
    "cell_style": "split",
    "slideshow": {
     "slide_type": "fragment"
    }
   },
   "source": [
    "Less common but also used:\n",
    "\n",
    "- can apply regularization to bias terms \n",
    "- Dense(bias_regularizer = __)"
   ]
  },
  {
   "cell_type": "code",
   "execution_count": 19,
   "metadata": {
    "slideshow": {
     "slide_type": "slide"
    }
   },
   "outputs": [],
   "source": [
    "# load in the data\n",
    "(x_train, y_train), (x_test, y_test) = datasets.mnist.load_data()\n",
    "\n",
    "x_train = x_train/255 # normalization\n",
    "x_test = x_test/255\n",
    "\n",
    "# Keras requires multi-class labels to be one-hot encoded\n",
    "y_tr_one_hot = to_categorical(y_train)\n",
    "y_tt_one_hot = to_categorical(y_test)"
   ]
  },
  {
   "cell_type": "code",
   "execution_count": 20,
   "metadata": {
    "slideshow": {
     "slide_type": "slide"
    }
   },
<<<<<<< HEAD
   "outputs": [
    {
     "name": "stdout",
     "output_type": "stream",
     "text": [
      "Metal device set to: Apple M1 Pro\n"
     ]
    },
    {
     "name": "stderr",
     "output_type": "stream",
     "text": [
      "2022-12-06 23:16:27.293750: I tensorflow/core/common_runtime/pluggable_device/pluggable_device_factory.cc:305] Could not identify NUMA node of platform GPU ID 0, defaulting to 0. Your kernel may not have been built with NUMA support.\n",
      "2022-12-06 23:16:27.293876: I tensorflow/core/common_runtime/pluggable_device/pluggable_device_factory.cc:271] Created TensorFlow device (/job:localhost/replica:0/task:0/device:GPU:0 with 0 MB memory) -> physical PluggableDevice (device: 0, name: METAL, pci bus id: <undefined>)\n"
     ]
    }
   ],
=======
   "outputs": [],
>>>>>>> upstream/main
   "source": [
    "model_images = Sequential()\n",
    "model_images.add(Flatten(input_shape=(28, 28))) # flattens each 28x28 image into a vector\n",
    "model_images.add(Dense(32, activation='relu', kernel_regularizer = reg)) # take in regularizer\n",
    "model_images.add(Dense(8, activation='relu', kernel_regularizer = reg))\n",
    "model_images.add(Dense(10, activation='softmax')) # number of units = number of target classes"
   ]
  },
  {
   "cell_type": "code",
   "execution_count": 11,
   "metadata": {
    "slideshow": {
     "slide_type": "fragment"
    }
   },
   "outputs": [],
   "source": [
    "model_images.compile(optimizer='Adam', loss='categorical_crossentropy', metrics=['accuracy'] )"
   ]
  },
  {
   "cell_type": "code",
   "execution_count": 12,
   "metadata": {
    "scrolled": false,
    "slideshow": {
     "slide_type": "slide"
    }
   },
   "outputs": [
    {
     "name": "stdout",
     "output_type": "stream",
     "text": [
      "Epoch 1/50\n"
     ]
    },
    {
     "name": "stderr",
     "output_type": "stream",
     "text": [
      "2022-12-06 23:16:27.588424: W tensorflow/core/platform/profile_utils/cpu_utils.cc:128] Failed to get CPU frequency: 0 Hz\n",
      "2022-12-06 23:16:27.722154: I tensorflow/core/grappler/optimizers/custom_graph_optimizer_registry.cc:113] Plugin optimizer for device_type GPU is enabled.\n"
     ]
    },
    {
     "name": "stdout",
     "output_type": "stream",
     "text": [
      "1494/1500 [============================>.] - ETA: 0s - loss: 0.6868 - accuracy: 0.8490"
     ]
    },
    {
     "name": "stderr",
     "output_type": "stream",
     "text": [
      "2022-12-06 23:16:38.778843: I tensorflow/core/grappler/optimizers/custom_graph_optimizer_registry.cc:113] Plugin optimizer for device_type GPU is enabled.\n"
     ]
    },
    {
     "name": "stdout",
     "output_type": "stream",
     "text": [
      "1500/1500 [==============================] - 13s 8ms/step - loss: 0.6860 - accuracy: 0.8492 - val_loss: 0.4547 - val_accuracy: 0.9167\n",
      "Epoch 2/50\n",
      "1500/1500 [==============================] - 12s 8ms/step - loss: 0.4445 - accuracy: 0.9204 - val_loss: 0.3965 - val_accuracy: 0.9336\n",
      "Epoch 3/50\n",
      "1500/1500 [==============================] - 12s 8ms/step - loss: 0.4009 - accuracy: 0.9303 - val_loss: 0.3704 - val_accuracy: 0.9375\n",
      "Epoch 4/50\n",
      "1500/1500 [==============================] - 12s 8ms/step - loss: 0.3717 - accuracy: 0.9374 - val_loss: 0.3509 - val_accuracy: 0.9427\n",
      "Epoch 5/50\n",
      "1500/1500 [==============================] - 13s 8ms/step - loss: 0.3518 - accuracy: 0.9410 - val_loss: 0.3364 - val_accuracy: 0.9448\n",
      "Epoch 6/50\n",
      "1500/1500 [==============================] - 13s 8ms/step - loss: 0.3364 - accuracy: 0.9436 - val_loss: 0.3151 - val_accuracy: 0.9501\n",
      "Epoch 7/50\n",
      "1500/1500 [==============================] - 12s 8ms/step - loss: 0.3233 - accuracy: 0.9470 - val_loss: 0.3118 - val_accuracy: 0.9519\n",
      "Epoch 8/50\n",
      "1500/1500 [==============================] - 12s 8ms/step - loss: 0.3137 - accuracy: 0.9484 - val_loss: 0.3026 - val_accuracy: 0.9522\n",
      "Epoch 9/50\n",
      "1500/1500 [==============================] - 13s 8ms/step - loss: 0.3048 - accuracy: 0.9495 - val_loss: 0.2870 - val_accuracy: 0.9552\n",
      "Epoch 10/50\n",
      "1500/1500 [==============================] - 13s 8ms/step - loss: 0.2954 - accuracy: 0.9511 - val_loss: 0.2950 - val_accuracy: 0.9515\n",
      "Epoch 11/50\n",
      "1500/1500 [==============================] - 12s 8ms/step - loss: 0.2885 - accuracy: 0.9527 - val_loss: 0.2824 - val_accuracy: 0.9568\n",
      "Epoch 12/50\n",
      "1500/1500 [==============================] - 13s 8ms/step - loss: 0.2817 - accuracy: 0.9538 - val_loss: 0.2766 - val_accuracy: 0.9563\n",
      "Epoch 13/50\n",
      "1500/1500 [==============================] - 12s 8ms/step - loss: 0.2747 - accuracy: 0.9544 - val_loss: 0.2739 - val_accuracy: 0.9582\n",
      "Epoch 14/50\n",
      "1500/1500 [==============================] - 13s 9ms/step - loss: 0.2711 - accuracy: 0.9555 - val_loss: 0.2885 - val_accuracy: 0.9501\n",
      "Epoch 15/50\n",
      "1500/1500 [==============================] - 13s 9ms/step - loss: 0.2647 - accuracy: 0.9575 - val_loss: 0.2639 - val_accuracy: 0.9591\n",
      "Epoch 16/50\n",
      "1500/1500 [==============================] - 13s 8ms/step - loss: 0.2613 - accuracy: 0.9577 - val_loss: 0.2631 - val_accuracy: 0.9592\n",
      "Epoch 17/50\n",
      "1500/1500 [==============================] - 13s 8ms/step - loss: 0.2575 - accuracy: 0.9584 - val_loss: 0.2487 - val_accuracy: 0.9628\n",
      "Epoch 18/50\n",
      "1500/1500 [==============================] - 13s 9ms/step - loss: 0.2528 - accuracy: 0.9585 - val_loss: 0.2667 - val_accuracy: 0.9542\n",
      "Epoch 19/50\n",
      "1500/1500 [==============================] - 13s 9ms/step - loss: 0.2494 - accuracy: 0.9598 - val_loss: 0.2526 - val_accuracy: 0.9602\n",
      "Epoch 20/50\n",
      "1500/1500 [==============================] - 13s 9ms/step - loss: 0.2478 - accuracy: 0.9588 - val_loss: 0.2780 - val_accuracy: 0.9500\n",
      "Epoch 21/50\n",
      "1500/1500 [==============================] - 13s 9ms/step - loss: 0.2435 - accuracy: 0.9605 - val_loss: 0.2571 - val_accuracy: 0.9571\n",
      "Epoch 22/50\n",
      "1500/1500 [==============================] - 13s 9ms/step - loss: 0.2429 - accuracy: 0.9600 - val_loss: 0.2443 - val_accuracy: 0.9624\n",
      "Epoch 23/50\n",
      "1500/1500 [==============================] - 13s 9ms/step - loss: 0.2399 - accuracy: 0.9614 - val_loss: 0.2398 - val_accuracy: 0.9625\n",
      "Epoch 24/50\n",
      "1500/1500 [==============================] - 13s 8ms/step - loss: 0.2356 - accuracy: 0.9617 - val_loss: 0.2298 - val_accuracy: 0.9660\n",
      "Epoch 25/50\n",
      "1500/1500 [==============================] - 13s 9ms/step - loss: 0.2355 - accuracy: 0.9616 - val_loss: 0.2490 - val_accuracy: 0.9575\n",
      "Epoch 26/50\n",
      "1500/1500 [==============================] - 13s 8ms/step - loss: 0.2324 - accuracy: 0.9620 - val_loss: 0.2435 - val_accuracy: 0.9567\n",
      "Epoch 27/50\n",
      "1500/1500 [==============================] - 12s 8ms/step - loss: 0.2314 - accuracy: 0.9615 - val_loss: 0.2443 - val_accuracy: 0.9584\n",
      "Epoch 28/50\n",
      "1500/1500 [==============================] - 12s 8ms/step - loss: 0.2278 - accuracy: 0.9617 - val_loss: 0.2386 - val_accuracy: 0.9607\n",
      "Epoch 29/50\n",
      "1500/1500 [==============================] - 13s 9ms/step - loss: 0.2277 - accuracy: 0.9617 - val_loss: 0.2284 - val_accuracy: 0.9617\n",
      "Epoch 30/50\n",
      "1500/1500 [==============================] - 14s 9ms/step - loss: 0.2258 - accuracy: 0.9631 - val_loss: 0.2182 - val_accuracy: 0.9646\n",
      "Epoch 31/50\n",
      "1500/1500 [==============================] - 14s 9ms/step - loss: 0.2257 - accuracy: 0.9623 - val_loss: 0.2188 - val_accuracy: 0.9656\n",
      "Epoch 32/50\n",
      "1500/1500 [==============================] - 13s 9ms/step - loss: 0.2214 - accuracy: 0.9626 - val_loss: 0.2273 - val_accuracy: 0.9616\n",
      "Epoch 33/50\n",
      "1500/1500 [==============================] - 12s 8ms/step - loss: 0.2225 - accuracy: 0.9625 - val_loss: 0.2247 - val_accuracy: 0.9647\n",
      "Epoch 34/50\n",
      "1500/1500 [==============================] - 13s 8ms/step - loss: 0.2204 - accuracy: 0.9627 - val_loss: 0.2309 - val_accuracy: 0.9597\n",
      "Epoch 35/50\n",
      "1500/1500 [==============================] - 14s 9ms/step - loss: 0.2188 - accuracy: 0.9629 - val_loss: 0.2420 - val_accuracy: 0.9544\n",
      "Epoch 36/50\n",
      "1500/1500 [==============================] - 12s 8ms/step - loss: 0.2168 - accuracy: 0.9638 - val_loss: 0.2247 - val_accuracy: 0.9609\n",
      "Epoch 37/50\n",
      "1500/1500 [==============================] - 12s 8ms/step - loss: 0.2163 - accuracy: 0.9639 - val_loss: 0.2344 - val_accuracy: 0.9595\n",
      "Epoch 38/50\n",
      "1500/1500 [==============================] - 12s 8ms/step - loss: 0.2164 - accuracy: 0.9634 - val_loss: 0.2280 - val_accuracy: 0.9603\n",
      "Epoch 39/50\n",
      "1500/1500 [==============================] - 12s 8ms/step - loss: 0.2141 - accuracy: 0.9641 - val_loss: 0.2331 - val_accuracy: 0.9572\n",
      "Epoch 40/50\n",
      "1500/1500 [==============================] - 12s 8ms/step - loss: 0.2135 - accuracy: 0.9640 - val_loss: 0.2459 - val_accuracy: 0.9534\n",
      "Epoch 41/50\n",
      "1500/1500 [==============================] - 12s 8ms/step - loss: 0.2126 - accuracy: 0.9647 - val_loss: 0.2191 - val_accuracy: 0.9607\n",
      "Epoch 42/50\n",
      "1500/1500 [==============================] - 12s 8ms/step - loss: 0.2124 - accuracy: 0.9626 - val_loss: 0.2233 - val_accuracy: 0.9604\n",
      "Epoch 43/50\n",
      "1500/1500 [==============================] - 12s 8ms/step - loss: 0.2108 - accuracy: 0.9642 - val_loss: 0.2107 - val_accuracy: 0.9645\n",
      "Epoch 44/50\n",
      "1500/1500 [==============================] - 12s 8ms/step - loss: 0.2107 - accuracy: 0.9640 - val_loss: 0.2129 - val_accuracy: 0.9642\n",
      "Epoch 45/50\n",
      "1500/1500 [==============================] - 13s 9ms/step - loss: 0.2099 - accuracy: 0.9643 - val_loss: 0.2162 - val_accuracy: 0.9634\n",
      "Epoch 46/50\n",
      "1500/1500 [==============================] - 13s 9ms/step - loss: 0.2076 - accuracy: 0.9644 - val_loss: 0.2188 - val_accuracy: 0.9617\n",
      "Epoch 47/50\n",
      "1500/1500 [==============================] - 13s 9ms/step - loss: 0.2069 - accuracy: 0.9650 - val_loss: 0.2140 - val_accuracy: 0.9641\n",
      "Epoch 48/50\n",
      "1500/1500 [==============================] - 13s 9ms/step - loss: 0.2071 - accuracy: 0.9644 - val_loss: 0.2140 - val_accuracy: 0.9614\n",
      "Epoch 49/50\n",
      "1500/1500 [==============================] - 13s 9ms/step - loss: 0.2081 - accuracy: 0.9640 - val_loss: 0.2145 - val_accuracy: 0.9634\n",
      "Epoch 50/50\n",
      "1500/1500 [==============================] - 13s 9ms/step - loss: 0.2064 - accuracy: 0.9648 - val_loss: 0.2115 - val_accuracy: 0.9637\n"
     ]
    }
   ],
   "source": [
    "# verbose=1 allows you to see the output.\n",
    "# To see only the metrics at the end of each epoch, set verbose=2.\n",
    "history_mnist = model_images.fit(x_train, y_tr_one_hot, epochs=50, batch_size= 32, validation_split = 0.2)"
   ]
  },
  {
   "cell_type": "code",
   "execution_count": 13,
   "metadata": {
    "cell_style": "split",
    "slideshow": {
     "slide_type": "slide"
    }
   },
   "outputs": [
    {
     "name": "stdout",
     "output_type": "stream",
     "text": [
      " 89/313 [=======>......................] - ETA: 0s"
     ]
    },
    {
     "name": "stderr",
     "output_type": "stream",
     "text": [
      "2022-12-06 23:27:04.203731: I tensorflow/core/grappler/optimizers/custom_graph_optimizer_registry.cc:113] Plugin optimizer for device_type GPU is enabled.\n"
     ]
    },
    {
     "name": "stdout",
     "output_type": "stream",
     "text": [
      "313/313 [==============================] - 1s 2ms/step\n"
     ]
    },
    {
     "data": {
      "text/plain": [
       "array([[1.9321396e-04, 7.2679509e-06, 3.6297736e-03, ..., 9.9475259e-01,\n",
       "        2.6569869e-05, 7.8837133e-05],\n",
       "       [2.3793182e-05, 8.6522195e-04, 9.9176687e-01, ..., 1.8683414e-06,\n",
       "        1.0773930e-03, 3.7312287e-10],\n",
       "       [3.0461868e-05, 9.9130380e-01, 2.5764306e-03, ..., 1.6136874e-03,\n",
       "        2.6558754e-03, 2.4847097e-06],\n",
       "       ...,\n",
       "       [9.7258113e-09, 1.0573995e-05, 1.0267998e-09, ..., 2.3152441e-05,\n",
       "        2.4549201e-05, 4.3873549e-03],\n",
       "       [7.3235010e-04, 1.8423994e-05, 4.4170506e-06, ..., 1.1312945e-06,\n",
       "        5.5081868e-03, 2.8720619e-06],\n",
       "       [6.5535016e-05, 3.6495221e-10, 2.3640578e-05, ..., 3.6296161e-11,\n",
       "        7.4448621e-08, 2.1861066e-09]], dtype=float32)"
      ]
     },
     "execution_count": 13,
     "metadata": {},
     "output_type": "execute_result"
    }
   ],
   "source": [
    "# probability for each class\n",
    "y_proba = model_images.predict(x_test)\n",
    "y_proba"
   ]
  },
  {
   "cell_type": "code",
   "execution_count": 14,
   "metadata": {
    "cell_style": "split",
    "slideshow": {
     "slide_type": "fragment"
    }
   },
   "outputs": [
    {
     "name": "stderr",
     "output_type": "stream",
     "text": [
      "2022-12-06 23:27:04.880374: I tensorflow/core/grappler/optimizers/custom_graph_optimizer_registry.cc:113] Plugin optimizer for device_type GPU is enabled.\n"
     ]
    },
    {
     "name": "stdout",
     "output_type": "stream",
     "text": [
      "313/313 - 2s - loss: 0.2101 - accuracy: 0.9630 - 2s/epoch - 6ms/step\n"
     ]
    },
    {
     "data": {
      "text/plain": [
       "[0.2101164609193802, 0.9630000591278076]"
      ]
     },
     "execution_count": 14,
     "metadata": {},
     "output_type": "execute_result"
    }
   ],
   "source": [
    "model_images.evaluate(x_test, y_tt_one_hot, verbose = 2)"
   ]
  },
  {
   "cell_type": "code",
   "execution_count": 15,
   "metadata": {
    "cell_style": "split",
    "slideshow": {
     "slide_type": "fragment"
    }
   },
   "outputs": [
    {
     "data": {
      "image/png": "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\n",
      "text/plain": [
       "<Figure size 640x480 with 1 Axes>"
      ]
     },
     "metadata": {},
     "output_type": "display_data"
    }
   ],
   "source": [
    "train_mnist_history = pd.DataFrame(history_mnist.history)\n",
    "train_mnist_history.index.name = 'epochs'\n",
    "\n",
    "col_list = ['loss', 'val_loss']\n",
    "train_mnist_history[col_list].plot()\n",
    "plt.ylabel('Categorical cross entropy')\n",
    "plt.title('Training loss history')\n",
    "plt.show()"
   ]
  },
  {
   "cell_type": "code",
   "execution_count": 16,
   "metadata": {
    "cell_style": "split",
    "slideshow": {
     "slide_type": "slide"
    }
   },
   "outputs": [
    {
     "data": {
      "image/png": "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\n",
      "text/plain": [
       "<Figure size 640x480 with 1 Axes>"
      ]
     },
     "metadata": {},
     "output_type": "display_data"
    }
   ],
   "source": [
    "col_list = ['accuracy', 'val_accuracy']\n",
    "train_mnist_history[col_list].plot()\n",
    "plt.ylabel('Accuracy')\n",
    "plt.title('Training loss history')\n",
    "plt.show()"
   ]
  },
  {
   "cell_type": "markdown",
   "metadata": {
    "cell_style": "split",
    "slideshow": {
     "slide_type": "fragment"
    }
   },
   "source": [
    "Better validation accuracy:\n",
    "- 94.5\\% to 96.3\\% with regularization\n",
    "- no overfitting"
   ]
  },
  {
   "cell_type": "code",
   "execution_count": 22,
   "metadata": {},
   "outputs": [
    {
     "data": {
      "text/plain": [
       "array([7, 2, 1, ..., 4, 5, 6], dtype=uint8)"
      ]
     },
     "execution_count": 22,
     "metadata": {},
     "output_type": "execute_result"
    }
   ],
   "source": [
    "y_test"
   ]
  },
  {
   "cell_type": "code",
   "execution_count": 23,
   "metadata": {},
   "outputs": [
    {
     "data": {
      "text/plain": [
       "array([7, 2, 1, ..., 4, 5, 6])"
      ]
     },
     "execution_count": 23,
     "metadata": {},
     "output_type": "execute_result"
    }
   ],
   "source": [
    "predicted"
   ]
  },
  {
   "cell_type": "code",
   "execution_count": 17,
   "metadata": {
    "slideshow": {
     "slide_type": "slide"
    }
   },
   "outputs": [
    {
     "data": {
      "text/plain": [
       "array([7, 2, 1, ..., 4, 5, 6])"
      ]
     },
     "execution_count": 17,
     "metadata": {},
     "output_type": "execute_result"
    }
   ],
   "source": [
    "# argmax axis = -1 gets the column index of maximum probability for each row.\n",
    "# column index corresponds to digit classes (numbers 0 -9)\n",
    "predicted = np.argmax(y_proba, axis=-1)\n",
    "predicted"
   ]
  },
  {
   "cell_type": "code",
   "execution_count": 18,
   "metadata": {
    "cell_style": "split",
    "scrolled": true,
    "slideshow": {
     "slide_type": "fragment"
    }
   },
   "outputs": [
    {
     "data": {
      "image/png": "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\n",
      "text/plain": [
       "<Figure size 640x480 with 2 Axes>"
      ]
     },
     "metadata": {},
     "output_type": "display_data"
    }
   ],
   "source": [
    "cm_digits = confusion_matrix(y_test, predicted)\n",
    "disp = ConfusionMatrixDisplay(\n",
    "    confusion_matrix=cm_digits)\n",
    "\n",
    "disp.plot(cmap=plt.cm.Blues)\n",
    "plt.show()"
   ]
  },
  {
   "cell_type": "markdown",
   "metadata": {
    "slideshow": {
     "slide_type": "slide"
    }
   },
   "source": [
    "Regularization: \n",
    "- key component to training deeper networks (tend to overfit without regularization)\n",
    "- learn higher order features, but don't overtrain on specifics."
   ]
  },
  {
   "cell_type": "code",
   "execution_count": 19,
   "metadata": {
    "slideshow": {
     "slide_type": "fragment"
    }
   },
   "outputs": [],
   "source": [
    "deepermodel_images = Sequential()\n",
    "deepermodel_images.add(Flatten(input_shape=(28, 28))) # flattens each 28x28 image into a vector\n",
    "deepermodel_images.add(Dense(32, activation='relu', kernel_regularizer = reg)) # take in regularizer\n",
    "deepermodel_images.add(Dense(16, activation='relu', kernel_regularizer = reg)) # add another layer\n",
    "deepermodel_images.add(Dense(16, activation='relu', kernel_regularizer = reg)) # add another layer\n",
    "deepermodel_images.add(Dense(10, activation='relu', kernel_regularizer = reg))\n",
    "deepermodel_images.add(Dense(10, activation='softmax')) # number of units = number of target classes\n",
    "\n",
    "deepermodel_images.compile(optimizer='Adam', loss='categorical_crossentropy', metrics=['accuracy'] )"
   ]
  },
  {
   "cell_type": "code",
   "execution_count": 20,
   "metadata": {
    "slideshow": {
     "slide_type": "slide"
    }
   },
   "outputs": [
    {
     "name": "stdout",
     "output_type": "stream",
     "text": [
<<<<<<< HEAD
      "Epoch 1/200\n"
     ]
    },
    {
     "name": "stderr",
     "output_type": "stream",
     "text": [
      "2022-12-06 23:27:07.639868: I tensorflow/core/grappler/optimizers/custom_graph_optimizer_registry.cc:113] Plugin optimizer for device_type GPU is enabled.\n"
=======
      "Train on 48000 samples, validate on 12000 samples\n",
      "Epoch 1/200\n",
      "48000/48000 [==============================] - 6s 132us/sample - loss: 0.7949 - accuracy: 0.8305 - val_loss: 0.5210 - val_accuracy: 0.9153\n",
      "Epoch 2/200\n",
      "48000/48000 [==============================] - 6s 125us/sample - loss: 0.4924 - accuracy: 0.9216 - val_loss: 0.4544 - val_accuracy: 0.9308\n",
      "Epoch 3/200\n",
      "48000/48000 [==============================] - 7s 151us/sample - loss: 0.4340 - accuracy: 0.9357 - val_loss: 0.4065 - val_accuracy: 0.9455\n",
      "Epoch 4/200\n",
      "48000/48000 [==============================] - 7s 156us/sample - loss: 0.4008 - accuracy: 0.9434 - val_loss: 0.3846 - val_accuracy: 0.9477\n",
      "Epoch 5/200\n",
      "48000/48000 [==============================] - 132s 3ms/sample - loss: 0.3798 - accuracy: 0.9475 - val_loss: 0.3678 - val_accuracy: 0.9489\n",
      "Epoch 6/200\n",
      "48000/48000 [==============================] - 6s 133us/sample - loss: 0.3649 - accuracy: 0.9505 - val_loss: 0.3740 - val_accuracy: 0.9477\n",
      "Epoch 7/200\n",
      "48000/48000 [==============================] - 6s 125us/sample - loss: 0.3524 - accuracy: 0.9517 - val_loss: 0.3694 - val_accuracy: 0.9452\n",
      "Epoch 8/200\n",
      "48000/48000 [==============================] - 7s 142us/sample - loss: 0.3389 - accuracy: 0.9542 - val_loss: 0.3311 - val_accuracy: 0.9566\n",
      "Epoch 9/200\n",
      "48000/48000 [==============================] - 6s 132us/sample - loss: 0.3286 - accuracy: 0.9562 - val_loss: 0.3213 - val_accuracy: 0.9572\n",
      "Epoch 10/200\n",
      "48000/48000 [==============================] - 6s 133us/sample - loss: 0.3214 - accuracy: 0.9579 - val_loss: 0.3233 - val_accuracy: 0.9550\n",
      "Epoch 11/200\n",
      "48000/48000 [==============================] - 7s 152us/sample - loss: 0.3173 - accuracy: 0.9579 - val_loss: 0.3096 - val_accuracy: 0.9588\n",
      "Epoch 12/200\n",
      "48000/48000 [==============================] - 7s 152us/sample - loss: 0.3112 - accuracy: 0.9593 - val_loss: 0.3253 - val_accuracy: 0.9542\n",
      "Epoch 13/200\n",
      "48000/48000 [==============================] - 8s 163us/sample - loss: 0.3070 - accuracy: 0.9582 - val_loss: 0.2970 - val_accuracy: 0.9610\n",
      "Epoch 14/200\n",
      "48000/48000 [==============================] - 8s 164us/sample - loss: 0.3020 - accuracy: 0.9585 - val_loss: 0.3139 - val_accuracy: 0.9558\n",
      "Epoch 15/200\n",
      "48000/48000 [==============================] - 8s 167us/sample - loss: 0.2996 - accuracy: 0.9587 - val_loss: 0.3128 - val_accuracy: 0.9563\n",
      "Epoch 16/200\n",
      "48000/48000 [==============================] - 8s 173us/sample - loss: 0.2956 - accuracy: 0.9602 - val_loss: 0.3003 - val_accuracy: 0.9585\n",
      "Epoch 17/200\n",
      "48000/48000 [==============================] - 8s 169us/sample - loss: 0.2943 - accuracy: 0.9597 - val_loss: 0.3318 - val_accuracy: 0.9454\n",
      "Epoch 18/200\n",
      "48000/48000 [==============================] - 8s 163us/sample - loss: 0.2871 - accuracy: 0.9618 - val_loss: 0.3117 - val_accuracy: 0.9515\n",
      "Epoch 19/200\n",
      "48000/48000 [==============================] - 8s 171us/sample - loss: 0.2881 - accuracy: 0.9609 - val_loss: 0.3012 - val_accuracy: 0.9601\n",
      "Epoch 20/200\n",
      "48000/48000 [==============================] - 7s 154us/sample - loss: 0.2841 - accuracy: 0.9611 - val_loss: 0.2956 - val_accuracy: 0.9561\n",
      "Epoch 21/200\n",
      "48000/48000 [==============================] - 7s 155us/sample - loss: 0.2827 - accuracy: 0.9603 - val_loss: 0.2949 - val_accuracy: 0.9564\n",
      "Epoch 22/200\n",
      "48000/48000 [==============================] - 7s 146us/sample - loss: 0.2785 - accuracy: 0.9625 - val_loss: 0.3059 - val_accuracy: 0.9523\n",
      "Epoch 23/200\n",
      "48000/48000 [==============================] - 8s 173us/sample - loss: 0.2784 - accuracy: 0.9619 - val_loss: 0.2808 - val_accuracy: 0.9606\n",
      "Epoch 24/200\n",
      "48000/48000 [==============================] - 8s 171us/sample - loss: 0.2759 - accuracy: 0.9617 - val_loss: 0.2727 - val_accuracy: 0.9638\n",
      "Epoch 25/200\n",
      "48000/48000 [==============================] - 9s 178us/sample - loss: 0.2725 - accuracy: 0.9624 - val_loss: 0.3014 - val_accuracy: 0.9509\n",
      "Epoch 26/200\n",
      "48000/48000 [==============================] - 8s 169us/sample - loss: 0.2706 - accuracy: 0.9619 - val_loss: 0.2690 - val_accuracy: 0.9634\n",
      "Epoch 27/200\n",
      "48000/48000 [==============================] - 8s 162us/sample - loss: 0.2684 - accuracy: 0.9630 - val_loss: 0.3038 - val_accuracy: 0.9547\n",
      "Epoch 28/200\n",
      "48000/48000 [==============================] - 7s 154us/sample - loss: 0.2703 - accuracy: 0.9612 - val_loss: 0.2624 - val_accuracy: 0.9644\n",
      "Epoch 29/200\n",
      "48000/48000 [==============================] - 12s 245us/sample - loss: 0.2672 - accuracy: 0.9628 - val_loss: 0.2904 - val_accuracy: 0.9532\n",
      "Epoch 30/200\n",
      "48000/48000 [==============================] - 12s 252us/sample - loss: 0.2663 - accuracy: 0.9625 - val_loss: 0.2842 - val_accuracy: 0.9604\n",
      "Epoch 31/200\n",
      "48000/48000 [==============================] - 7s 153us/sample - loss: 0.2643 - accuracy: 0.9634 - val_loss: 0.2644 - val_accuracy: 0.9636\n",
      "Epoch 32/200\n",
      "48000/48000 [==============================] - 12s 256us/sample - loss: 0.2665 - accuracy: 0.9615 - val_loss: 0.2716 - val_accuracy: 0.9609\n",
      "Epoch 33/200\n",
      "48000/48000 [==============================] - 16s 333us/sample - loss: 0.2612 - accuracy: 0.9640 - val_loss: 0.2723 - val_accuracy: 0.9583\n",
      "Epoch 34/200\n",
      "48000/48000 [==============================] - 7s 151us/sample - loss: 0.2614 - accuracy: 0.9628 - val_loss: 0.2626 - val_accuracy: 0.9643\n",
      "Epoch 35/200\n",
      "48000/48000 [==============================] - 9s 197us/sample - loss: 0.2606 - accuracy: 0.9620 - val_loss: 0.2589 - val_accuracy: 0.9642\n",
      "Epoch 36/200\n",
      "48000/48000 [==============================] - 7s 151us/sample - loss: 0.2580 - accuracy: 0.9634 - val_loss: 0.2692 - val_accuracy: 0.9613\n",
      "Epoch 37/200\n",
      "48000/48000 [==============================] - 7s 150us/sample - loss: 0.2595 - accuracy: 0.9628 - val_loss: 0.2636 - val_accuracy: 0.9607\n",
      "Epoch 38/200\n",
      "48000/48000 [==============================] - 7s 155us/sample - loss: 0.2570 - accuracy: 0.9637 - val_loss: 0.2634 - val_accuracy: 0.9605\n",
      "Epoch 39/200\n",
      "48000/48000 [==============================] - 8s 162us/sample - loss: 0.2569 - accuracy: 0.9627 - val_loss: 0.2657 - val_accuracy: 0.9592\n",
      "Epoch 40/200\n",
      "48000/48000 [==============================] - 8s 161us/sample - loss: 0.2553 - accuracy: 0.9639 - val_loss: 0.2789 - val_accuracy: 0.9597\n",
      "Epoch 41/200\n",
      "48000/48000 [==============================] - 7s 151us/sample - loss: 0.2547 - accuracy: 0.9637 - val_loss: 0.2700 - val_accuracy: 0.9587\n",
      "Epoch 42/200\n",
      "48000/48000 [==============================] - 11s 220us/sample - loss: 0.2537 - accuracy: 0.9639 - val_loss: 0.2615 - val_accuracy: 0.9621\n",
      "Epoch 43/200\n",
      "48000/48000 [==============================] - 15s 320us/sample - loss: 0.2549 - accuracy: 0.9634 - val_loss: 0.2648 - val_accuracy: 0.9598\n",
      "Epoch 44/200\n",
      "48000/48000 [==============================] - 9s 188us/sample - loss: 0.2528 - accuracy: 0.9639 - val_loss: 0.2684 - val_accuracy: 0.9567\n",
      "Epoch 45/200\n",
      "48000/48000 [==============================] - 9s 185us/sample - loss: 0.2515 - accuracy: 0.9632 - val_loss: 0.2593 - val_accuracy: 0.9617\n",
      "Epoch 46/200\n",
      "48000/48000 [==============================] - 7s 152us/sample - loss: 0.2503 - accuracy: 0.9647 - val_loss: 0.2518 - val_accuracy: 0.9622\n",
      "Epoch 47/200\n",
      "48000/48000 [==============================] - 7s 149us/sample - loss: 0.2515 - accuracy: 0.9632 - val_loss: 0.2676 - val_accuracy: 0.9570\n",
      "Epoch 48/200\n",
      "48000/48000 [==============================] - 7s 143us/sample - loss: 0.2478 - accuracy: 0.9642 - val_loss: 0.2602 - val_accuracy: 0.9604\n",
      "Epoch 49/200\n",
      "48000/48000 [==============================] - 8s 172us/sample - loss: 0.2496 - accuracy: 0.9639 - val_loss: 0.2908 - val_accuracy: 0.9501\n",
      "Epoch 50/200\n",
      "48000/48000 [==============================] - 6s 130us/sample - loss: 0.2492 - accuracy: 0.9635 - val_loss: 0.2616 - val_accuracy: 0.9594\n",
      "Epoch 51/200\n",
      "48000/48000 [==============================] - 6s 131us/sample - loss: 0.2462 - accuracy: 0.9652 - val_loss: 0.2649 - val_accuracy: 0.9600\n",
      "Epoch 52/200\n",
      "48000/48000 [==============================] - 7s 136us/sample - loss: 0.2458 - accuracy: 0.9638 - val_loss: 0.2678 - val_accuracy: 0.9582\n",
      "Epoch 53/200\n",
      "48000/48000 [==============================] - 6s 132us/sample - loss: 0.2449 - accuracy: 0.9642 - val_loss: 0.2613 - val_accuracy: 0.9597\n",
      "Epoch 54/200\n",
      "48000/48000 [==============================] - 6s 130us/sample - loss: 0.2457 - accuracy: 0.9630 - val_loss: 0.2489 - val_accuracy: 0.9647\n",
      "Epoch 55/200\n",
      "48000/48000 [==============================] - 7s 152us/sample - loss: 0.2448 - accuracy: 0.9646 - val_loss: 0.2547 - val_accuracy: 0.9617\n",
      "Epoch 56/200\n",
      "48000/48000 [==============================] - 7s 151us/sample - loss: 0.2449 - accuracy: 0.9635 - val_loss: 0.2555 - val_accuracy: 0.9616\n",
      "Epoch 57/200\n",
      "48000/48000 [==============================] - 7s 146us/sample - loss: 0.2427 - accuracy: 0.9641 - val_loss: 0.2633 - val_accuracy: 0.9597\n",
      "Epoch 58/200\n",
      "48000/48000 [==============================] - 9s 179us/sample - loss: 0.2435 - accuracy: 0.9642 - val_loss: 0.2379 - val_accuracy: 0.9668\n",
      "Epoch 59/200\n",
      "48000/48000 [==============================] - 7s 151us/sample - loss: 0.2427 - accuracy: 0.9645 - val_loss: 0.2526 - val_accuracy: 0.9616\n",
      "Epoch 60/200\n",
      "48000/48000 [==============================] - 12s 240us/sample - loss: 0.2448 - accuracy: 0.9636 - val_loss: 0.2401 - val_accuracy: 0.9656\n",
      "Epoch 61/200\n",
      "48000/48000 [==============================] - 14s 302us/sample - loss: 0.2411 - accuracy: 0.9646 - val_loss: 0.2405 - val_accuracy: 0.9653\n",
      "Epoch 62/200\n",
      "48000/48000 [==============================] - 7s 139us/sample - loss: 0.2433 - accuracy: 0.9647 - val_loss: 0.2613 - val_accuracy: 0.9592\n",
      "Epoch 63/200\n",
      "48000/48000 [==============================] - 9s 197us/sample - loss: 0.2414 - accuracy: 0.9639 - val_loss: 0.2421 - val_accuracy: 0.9640\n",
      "Epoch 64/200\n",
      "48000/48000 [==============================] - 9s 178us/sample - loss: 0.2395 - accuracy: 0.9649 - val_loss: 0.2517 - val_accuracy: 0.9601\n",
      "Epoch 65/200\n",
      "48000/48000 [==============================] - 7s 140us/sample - loss: 0.2389 - accuracy: 0.9646 - val_loss: 0.2622 - val_accuracy: 0.9587\n",
      "Epoch 66/200\n",
      "48000/48000 [==============================] - 9s 180us/sample - loss: 0.2403 - accuracy: 0.9636 - val_loss: 0.2373 - val_accuracy: 0.9663\n",
      "Epoch 67/200\n",
      "48000/48000 [==============================] - 10s 206us/sample - loss: 0.2402 - accuracy: 0.9651 - val_loss: 0.2436 - val_accuracy: 0.9636\n",
      "Epoch 68/200\n",
      "48000/48000 [==============================] - 6s 130us/sample - loss: 0.2397 - accuracy: 0.9648 - val_loss: 0.2520 - val_accuracy: 0.9600\n",
      "Epoch 69/200\n",
      "48000/48000 [==============================] - 6s 132us/sample - loss: 0.2366 - accuracy: 0.9655 - val_loss: 0.2527 - val_accuracy: 0.9599\n",
      "Epoch 70/200\n",
      "48000/48000 [==============================] - 10s 210us/sample - loss: 0.2376 - accuracy: 0.9659 - val_loss: 0.2507 - val_accuracy: 0.9613\n",
      "Epoch 71/200\n",
      "48000/48000 [==============================] - 6s 130us/sample - loss: 0.2398 - accuracy: 0.9650 - val_loss: 0.3100 - val_accuracy: 0.9417\n",
      "Epoch 72/200\n",
      "48000/48000 [==============================] - 7s 148us/sample - loss: 0.2382 - accuracy: 0.9651 - val_loss: 0.2766 - val_accuracy: 0.9523\n",
      "Epoch 73/200\n",
      "48000/48000 [==============================] - 7s 136us/sample - loss: 0.2376 - accuracy: 0.9646 - val_loss: 0.2494 - val_accuracy: 0.9628\n",
      "Epoch 74/200\n",
      "48000/48000 [==============================] - 11s 225us/sample - loss: 0.2345 - accuracy: 0.9661 - val_loss: 0.2371 - val_accuracy: 0.9656\n",
      "Epoch 75/200\n",
      "48000/48000 [==============================] - 12s 259us/sample - loss: 0.2363 - accuracy: 0.9652 - val_loss: 0.2467 - val_accuracy: 0.9634\n",
      "Epoch 76/200\n",
      "48000/48000 [==============================] - 6s 132us/sample - loss: 0.2337 - accuracy: 0.9666 - val_loss: 0.2380 - val_accuracy: 0.9657\n",
      "Epoch 77/200\n",
      "48000/48000 [==============================] - 6s 129us/sample - loss: 0.2360 - accuracy: 0.9648 - val_loss: 0.2613 - val_accuracy: 0.9576\n",
      "Epoch 78/200\n",
      "48000/48000 [==============================] - 11s 220us/sample - loss: 0.2332 - accuracy: 0.9659 - val_loss: 0.2589 - val_accuracy: 0.9589\n",
      "Epoch 79/200\n",
      "48000/48000 [==============================] - 8s 160us/sample - loss: 0.2336 - accuracy: 0.9664 - val_loss: 0.2434 - val_accuracy: 0.9640\n",
      "Epoch 80/200\n",
      "48000/48000 [==============================] - 7s 136us/sample - loss: 0.2336 - accuracy: 0.9654 - val_loss: 0.2393 - val_accuracy: 0.9621\n",
      "Epoch 81/200\n",
      "48000/48000 [==============================] - 8s 173us/sample - loss: 0.2331 - accuracy: 0.9665 - val_loss: 0.2535 - val_accuracy: 0.9603\n",
      "Epoch 82/200\n",
      "48000/48000 [==============================] - 13s 272us/sample - loss: 0.2359 - accuracy: 0.9653 - val_loss: 0.2367 - val_accuracy: 0.9655\n",
      "Epoch 83/200\n",
      "48000/48000 [==============================] - 7s 141us/sample - loss: 0.2343 - accuracy: 0.9658 - val_loss: 0.2646 - val_accuracy: 0.9549\n",
      "Epoch 84/200\n",
      "48000/48000 [==============================] - 20s 422us/sample - loss: 0.2319 - accuracy: 0.9659 - val_loss: 0.2646 - val_accuracy: 0.9548\n",
      "Epoch 85/200\n",
      "48000/48000 [==============================] - 17s 357us/sample - loss: 0.2347 - accuracy: 0.9653 - val_loss: 0.2441 - val_accuracy: 0.9622\n",
      "Epoch 86/200\n",
      "48000/48000 [==============================] - 8s 164us/sample - loss: 0.2307 - accuracy: 0.9662 - val_loss: 0.2631 - val_accuracy: 0.9554\n",
      "Epoch 87/200\n",
      "48000/48000 [==============================] - 12s 250us/sample - loss: 0.2324 - accuracy: 0.9657 - val_loss: 0.2433 - val_accuracy: 0.9620\n",
      "Epoch 88/200\n",
      "48000/48000 [==============================] - 11s 227us/sample - loss: 0.2310 - accuracy: 0.9663 - val_loss: 0.2266 - val_accuracy: 0.9678\n",
      "Epoch 89/200\n",
      "48000/48000 [==============================] - 6s 135us/sample - loss: 0.2310 - accuracy: 0.9657 - val_loss: 0.2412 - val_accuracy: 0.9622\n",
      "Epoch 90/200\n",
      "48000/48000 [==============================] - 8s 170us/sample - loss: 0.2311 - accuracy: 0.9658 - val_loss: 0.2498 - val_accuracy: 0.9596\n",
      "Epoch 91/200\n",
      "48000/48000 [==============================] - 8s 166us/sample - loss: 0.2308 - accuracy: 0.9659 - val_loss: 0.2400 - val_accuracy: 0.9627\n",
      "Epoch 92/200\n",
      "48000/48000 [==============================] - 7s 136us/sample - loss: 0.2306 - accuracy: 0.9659 - val_loss: 0.2458 - val_accuracy: 0.9611\n",
      "Epoch 93/200\n",
      "48000/48000 [==============================] - 6s 129us/sample - loss: 0.2331 - accuracy: 0.9653 - val_loss: 0.2497 - val_accuracy: 0.9612\n",
      "Epoch 94/200\n",
      "48000/48000 [==============================] - 7s 146us/sample - loss: 0.2311 - accuracy: 0.9656 - val_loss: 0.2394 - val_accuracy: 0.9635\n",
      "Epoch 95/200\n",
      "48000/48000 [==============================] - 11s 221us/sample - loss: 0.2287 - accuracy: 0.9672 - val_loss: 0.2457 - val_accuracy: 0.9616\n",
      "Epoch 96/200\n",
      "48000/48000 [==============================] - 8s 170us/sample - loss: 0.2298 - accuracy: 0.9659 - val_loss: 0.2432 - val_accuracy: 0.9623\n",
      "Epoch 97/200\n",
      "48000/48000 [==============================] - 7s 139us/sample - loss: 0.2298 - accuracy: 0.9669 - val_loss: 0.2353 - val_accuracy: 0.9649\n",
      "Epoch 98/200\n",
      "48000/48000 [==============================] - 11s 227us/sample - loss: 0.2303 - accuracy: 0.9654 - val_loss: 0.2465 - val_accuracy: 0.9588\n",
      "Epoch 99/200\n",
      "48000/48000 [==============================] - 7s 155us/sample - loss: 0.2286 - accuracy: 0.9665 - val_loss: 0.2529 - val_accuracy: 0.9599\n",
      "Epoch 100/200\n",
      "48000/48000 [==============================] - 6s 129us/sample - loss: 0.2299 - accuracy: 0.9657 - val_loss: 0.2379 - val_accuracy: 0.9639\n",
      "Epoch 101/200\n",
      "48000/48000 [==============================] - 12s 250us/sample - loss: 0.2287 - accuracy: 0.9664 - val_loss: 0.2328 - val_accuracy: 0.9643\n",
      "Epoch 102/200\n",
      "48000/48000 [==============================] - 26s 535us/sample - loss: 0.2269 - accuracy: 0.9675 - val_loss: 0.2346 - val_accuracy: 0.9644\n",
      "Epoch 103/200\n",
      "48000/48000 [==============================] - 15s 311us/sample - loss: 0.2306 - accuracy: 0.9651 - val_loss: 0.2451 - val_accuracy: 0.9611\n",
      "Epoch 104/200\n",
      "48000/48000 [==============================] - 11s 225us/sample - loss: 0.2271 - accuracy: 0.9664 - val_loss: 0.2441 - val_accuracy: 0.9620\n",
      "Epoch 105/200\n",
      "48000/48000 [==============================] - 10s 198us/sample - loss: 0.2285 - accuracy: 0.9669 - val_loss: 0.2630 - val_accuracy: 0.9545\n",
      "Epoch 106/200\n",
      "48000/48000 [==============================] - 7s 145us/sample - loss: 0.2263 - accuracy: 0.9668 - val_loss: 0.2764 - val_accuracy: 0.9515\n",
      "Epoch 107/200\n",
      "48000/48000 [==============================] - 8s 157us/sample - loss: 0.2270 - accuracy: 0.9667 - val_loss: 0.2381 - val_accuracy: 0.9655\n"
>>>>>>> upstream/main
     ]
    },
    {
     "name": "stdout",
     "output_type": "stream",
     "text": [
<<<<<<< HEAD
      "1495/1500 [============================>.] - ETA: 0s - loss: 0.7934 - accuracy: 0.8337"
     ]
    },
    {
     "name": "stderr",
     "output_type": "stream",
     "text": [
      "2022-12-06 23:27:20.604285: I tensorflow/core/grappler/optimizers/custom_graph_optimizer_registry.cc:113] Plugin optimizer for device_type GPU is enabled.\n"
     ]
    },
    {
     "name": "stdout",
     "output_type": "stream",
     "text": [
      "1500/1500 [==============================] - 15s 10ms/step - loss: 0.7927 - accuracy: 0.8339 - val_loss: 0.4936 - val_accuracy: 0.9266\n",
      "Epoch 2/200\n",
      "1500/1500 [==============================] - 15s 10ms/step - loss: 0.4856 - accuracy: 0.9269 - val_loss: 0.4544 - val_accuracy: 0.9322\n",
      "Epoch 3/200\n",
      "1500/1500 [==============================] - 15s 10ms/step - loss: 0.4385 - accuracy: 0.9351 - val_loss: 0.4155 - val_accuracy: 0.9426\n",
      "Epoch 4/200\n",
      "1500/1500 [==============================] - 15s 10ms/step - loss: 0.4063 - accuracy: 0.9434 - val_loss: 0.3856 - val_accuracy: 0.9461\n",
      "Epoch 5/200\n",
      "1500/1500 [==============================] - 15s 10ms/step - loss: 0.3865 - accuracy: 0.9473 - val_loss: 0.3739 - val_accuracy: 0.9466\n",
      "Epoch 6/200\n",
      "1500/1500 [==============================] - 15s 10ms/step - loss: 0.3734 - accuracy: 0.9494 - val_loss: 0.3652 - val_accuracy: 0.9506\n",
      "Epoch 7/200\n",
      " 609/1500 [===========>..................] - ETA: 7s - loss: 0.3551 - accuracy: 0.9533"
     ]
    },
    {
     "ename": "KeyboardInterrupt",
     "evalue": "",
     "output_type": "error",
     "traceback": [
      "\u001b[0;31m---------------------------------------------------------------------------\u001b[0m",
      "\u001b[0;31mKeyboardInterrupt\u001b[0m                         Traceback (most recent call last)",
      "Cell \u001b[0;32mIn[20], line 2\u001b[0m\n\u001b[1;32m      1\u001b[0m \u001b[38;5;66;03m# will take a while\u001b[39;00m\n\u001b[0;32m----> 2\u001b[0m history_deepermnist \u001b[38;5;241m=\u001b[39m \u001b[43mdeepermodel_images\u001b[49m\u001b[38;5;241;43m.\u001b[39;49m\u001b[43mfit\u001b[49m\u001b[43m(\u001b[49m\u001b[43mx_train\u001b[49m\u001b[43m,\u001b[49m\u001b[43m \u001b[49m\u001b[43my_tr_one_hot\u001b[49m\u001b[43m,\u001b[49m\u001b[43m \u001b[49m\u001b[43mepochs\u001b[49m\u001b[38;5;241;43m=\u001b[39;49m\u001b[38;5;241;43m200\u001b[39;49m\u001b[43m,\u001b[49m\u001b[43m \u001b[49m\u001b[43mbatch_size\u001b[49m\u001b[38;5;241;43m=\u001b[39;49m\u001b[43m \u001b[49m\u001b[38;5;241;43m32\u001b[39;49m\u001b[43m,\u001b[49m\u001b[43m \u001b[49m\u001b[43mvalidation_split\u001b[49m\u001b[43m \u001b[49m\u001b[38;5;241;43m=\u001b[39;49m\u001b[43m \u001b[49m\u001b[38;5;241;43m0.2\u001b[39;49m\u001b[43m)\u001b[49m\n",
      "File \u001b[0;32m~/miniforge3/envs/tensorflow_env/lib/python3.8/site-packages/keras/utils/traceback_utils.py:64\u001b[0m, in \u001b[0;36mfilter_traceback.<locals>.error_handler\u001b[0;34m(*args, **kwargs)\u001b[0m\n\u001b[1;32m     62\u001b[0m filtered_tb \u001b[38;5;241m=\u001b[39m \u001b[38;5;28;01mNone\u001b[39;00m\n\u001b[1;32m     63\u001b[0m \u001b[38;5;28;01mtry\u001b[39;00m:\n\u001b[0;32m---> 64\u001b[0m   \u001b[38;5;28;01mreturn\u001b[39;00m \u001b[43mfn\u001b[49m\u001b[43m(\u001b[49m\u001b[38;5;241;43m*\u001b[39;49m\u001b[43margs\u001b[49m\u001b[43m,\u001b[49m\u001b[43m \u001b[49m\u001b[38;5;241;43m*\u001b[39;49m\u001b[38;5;241;43m*\u001b[39;49m\u001b[43mkwargs\u001b[49m\u001b[43m)\u001b[49m\n\u001b[1;32m     65\u001b[0m \u001b[38;5;28;01mexcept\u001b[39;00m \u001b[38;5;167;01mException\u001b[39;00m \u001b[38;5;28;01mas\u001b[39;00m e:  \u001b[38;5;66;03m# pylint: disable=broad-except\u001b[39;00m\n\u001b[1;32m     66\u001b[0m   filtered_tb \u001b[38;5;241m=\u001b[39m _process_traceback_frames(e\u001b[38;5;241m.\u001b[39m__traceback__)\n",
      "File \u001b[0;32m~/miniforge3/envs/tensorflow_env/lib/python3.8/site-packages/keras/engine/training.py:1409\u001b[0m, in \u001b[0;36mModel.fit\u001b[0;34m(self, x, y, batch_size, epochs, verbose, callbacks, validation_split, validation_data, shuffle, class_weight, sample_weight, initial_epoch, steps_per_epoch, validation_steps, validation_batch_size, validation_freq, max_queue_size, workers, use_multiprocessing)\u001b[0m\n\u001b[1;32m   1402\u001b[0m \u001b[38;5;28;01mwith\u001b[39;00m tf\u001b[38;5;241m.\u001b[39mprofiler\u001b[38;5;241m.\u001b[39mexperimental\u001b[38;5;241m.\u001b[39mTrace(\n\u001b[1;32m   1403\u001b[0m     \u001b[38;5;124m'\u001b[39m\u001b[38;5;124mtrain\u001b[39m\u001b[38;5;124m'\u001b[39m,\n\u001b[1;32m   1404\u001b[0m     epoch_num\u001b[38;5;241m=\u001b[39mepoch,\n\u001b[1;32m   1405\u001b[0m     step_num\u001b[38;5;241m=\u001b[39mstep,\n\u001b[1;32m   1406\u001b[0m     batch_size\u001b[38;5;241m=\u001b[39mbatch_size,\n\u001b[1;32m   1407\u001b[0m     _r\u001b[38;5;241m=\u001b[39m\u001b[38;5;241m1\u001b[39m):\n\u001b[1;32m   1408\u001b[0m   callbacks\u001b[38;5;241m.\u001b[39mon_train_batch_begin(step)\n\u001b[0;32m-> 1409\u001b[0m   tmp_logs \u001b[38;5;241m=\u001b[39m \u001b[38;5;28;43mself\u001b[39;49m\u001b[38;5;241;43m.\u001b[39;49m\u001b[43mtrain_function\u001b[49m\u001b[43m(\u001b[49m\u001b[43miterator\u001b[49m\u001b[43m)\u001b[49m\n\u001b[1;32m   1410\u001b[0m   \u001b[38;5;28;01mif\u001b[39;00m data_handler\u001b[38;5;241m.\u001b[39mshould_sync:\n\u001b[1;32m   1411\u001b[0m     context\u001b[38;5;241m.\u001b[39masync_wait()\n",
      "File \u001b[0;32m~/miniforge3/envs/tensorflow_env/lib/python3.8/site-packages/tensorflow/python/util/traceback_utils.py:150\u001b[0m, in \u001b[0;36mfilter_traceback.<locals>.error_handler\u001b[0;34m(*args, **kwargs)\u001b[0m\n\u001b[1;32m    148\u001b[0m filtered_tb \u001b[38;5;241m=\u001b[39m \u001b[38;5;28;01mNone\u001b[39;00m\n\u001b[1;32m    149\u001b[0m \u001b[38;5;28;01mtry\u001b[39;00m:\n\u001b[0;32m--> 150\u001b[0m   \u001b[38;5;28;01mreturn\u001b[39;00m \u001b[43mfn\u001b[49m\u001b[43m(\u001b[49m\u001b[38;5;241;43m*\u001b[39;49m\u001b[43margs\u001b[49m\u001b[43m,\u001b[49m\u001b[43m \u001b[49m\u001b[38;5;241;43m*\u001b[39;49m\u001b[38;5;241;43m*\u001b[39;49m\u001b[43mkwargs\u001b[49m\u001b[43m)\u001b[49m\n\u001b[1;32m    151\u001b[0m \u001b[38;5;28;01mexcept\u001b[39;00m \u001b[38;5;167;01mException\u001b[39;00m \u001b[38;5;28;01mas\u001b[39;00m e:\n\u001b[1;32m    152\u001b[0m   filtered_tb \u001b[38;5;241m=\u001b[39m _process_traceback_frames(e\u001b[38;5;241m.\u001b[39m__traceback__)\n",
      "File \u001b[0;32m~/miniforge3/envs/tensorflow_env/lib/python3.8/site-packages/tensorflow/python/eager/def_function.py:915\u001b[0m, in \u001b[0;36mFunction.__call__\u001b[0;34m(self, *args, **kwds)\u001b[0m\n\u001b[1;32m    912\u001b[0m compiler \u001b[38;5;241m=\u001b[39m \u001b[38;5;124m\"\u001b[39m\u001b[38;5;124mxla\u001b[39m\u001b[38;5;124m\"\u001b[39m \u001b[38;5;28;01mif\u001b[39;00m \u001b[38;5;28mself\u001b[39m\u001b[38;5;241m.\u001b[39m_jit_compile \u001b[38;5;28;01melse\u001b[39;00m \u001b[38;5;124m\"\u001b[39m\u001b[38;5;124mnonXla\u001b[39m\u001b[38;5;124m\"\u001b[39m\n\u001b[1;32m    914\u001b[0m \u001b[38;5;28;01mwith\u001b[39;00m OptionalXlaContext(\u001b[38;5;28mself\u001b[39m\u001b[38;5;241m.\u001b[39m_jit_compile):\n\u001b[0;32m--> 915\u001b[0m   result \u001b[38;5;241m=\u001b[39m \u001b[38;5;28;43mself\u001b[39;49m\u001b[38;5;241;43m.\u001b[39;49m\u001b[43m_call\u001b[49m\u001b[43m(\u001b[49m\u001b[38;5;241;43m*\u001b[39;49m\u001b[43margs\u001b[49m\u001b[43m,\u001b[49m\u001b[43m \u001b[49m\u001b[38;5;241;43m*\u001b[39;49m\u001b[38;5;241;43m*\u001b[39;49m\u001b[43mkwds\u001b[49m\u001b[43m)\u001b[49m\n\u001b[1;32m    917\u001b[0m new_tracing_count \u001b[38;5;241m=\u001b[39m \u001b[38;5;28mself\u001b[39m\u001b[38;5;241m.\u001b[39mexperimental_get_tracing_count()\n\u001b[1;32m    918\u001b[0m without_tracing \u001b[38;5;241m=\u001b[39m (tracing_count \u001b[38;5;241m==\u001b[39m new_tracing_count)\n",
      "File \u001b[0;32m~/miniforge3/envs/tensorflow_env/lib/python3.8/site-packages/tensorflow/python/eager/def_function.py:947\u001b[0m, in \u001b[0;36mFunction._call\u001b[0;34m(self, *args, **kwds)\u001b[0m\n\u001b[1;32m    944\u001b[0m   \u001b[38;5;28mself\u001b[39m\u001b[38;5;241m.\u001b[39m_lock\u001b[38;5;241m.\u001b[39mrelease()\n\u001b[1;32m    945\u001b[0m   \u001b[38;5;66;03m# In this case we have created variables on the first call, so we run the\u001b[39;00m\n\u001b[1;32m    946\u001b[0m   \u001b[38;5;66;03m# defunned version which is guaranteed to never create variables.\u001b[39;00m\n\u001b[0;32m--> 947\u001b[0m   \u001b[38;5;28;01mreturn\u001b[39;00m \u001b[38;5;28;43mself\u001b[39;49m\u001b[38;5;241;43m.\u001b[39;49m\u001b[43m_stateless_fn\u001b[49m\u001b[43m(\u001b[49m\u001b[38;5;241;43m*\u001b[39;49m\u001b[43margs\u001b[49m\u001b[43m,\u001b[49m\u001b[43m \u001b[49m\u001b[38;5;241;43m*\u001b[39;49m\u001b[38;5;241;43m*\u001b[39;49m\u001b[43mkwds\u001b[49m\u001b[43m)\u001b[49m  \u001b[38;5;66;03m# pylint: disable=not-callable\u001b[39;00m\n\u001b[1;32m    948\u001b[0m \u001b[38;5;28;01melif\u001b[39;00m \u001b[38;5;28mself\u001b[39m\u001b[38;5;241m.\u001b[39m_stateful_fn \u001b[38;5;129;01mis\u001b[39;00m \u001b[38;5;129;01mnot\u001b[39;00m \u001b[38;5;28;01mNone\u001b[39;00m:\n\u001b[1;32m    949\u001b[0m   \u001b[38;5;66;03m# Release the lock early so that multiple threads can perform the call\u001b[39;00m\n\u001b[1;32m    950\u001b[0m   \u001b[38;5;66;03m# in parallel.\u001b[39;00m\n\u001b[1;32m    951\u001b[0m   \u001b[38;5;28mself\u001b[39m\u001b[38;5;241m.\u001b[39m_lock\u001b[38;5;241m.\u001b[39mrelease()\n",
      "File \u001b[0;32m~/miniforge3/envs/tensorflow_env/lib/python3.8/site-packages/tensorflow/python/eager/function.py:2453\u001b[0m, in \u001b[0;36mFunction.__call__\u001b[0;34m(self, *args, **kwargs)\u001b[0m\n\u001b[1;32m   2450\u001b[0m \u001b[38;5;28;01mwith\u001b[39;00m \u001b[38;5;28mself\u001b[39m\u001b[38;5;241m.\u001b[39m_lock:\n\u001b[1;32m   2451\u001b[0m   (graph_function,\n\u001b[1;32m   2452\u001b[0m    filtered_flat_args) \u001b[38;5;241m=\u001b[39m \u001b[38;5;28mself\u001b[39m\u001b[38;5;241m.\u001b[39m_maybe_define_function(args, kwargs)\n\u001b[0;32m-> 2453\u001b[0m \u001b[38;5;28;01mreturn\u001b[39;00m \u001b[43mgraph_function\u001b[49m\u001b[38;5;241;43m.\u001b[39;49m\u001b[43m_call_flat\u001b[49m\u001b[43m(\u001b[49m\n\u001b[1;32m   2454\u001b[0m \u001b[43m    \u001b[49m\u001b[43mfiltered_flat_args\u001b[49m\u001b[43m,\u001b[49m\u001b[43m \u001b[49m\u001b[43mcaptured_inputs\u001b[49m\u001b[38;5;241;43m=\u001b[39;49m\u001b[43mgraph_function\u001b[49m\u001b[38;5;241;43m.\u001b[39;49m\u001b[43mcaptured_inputs\u001b[49m\u001b[43m)\u001b[49m\n",
      "File \u001b[0;32m~/miniforge3/envs/tensorflow_env/lib/python3.8/site-packages/tensorflow/python/eager/function.py:1860\u001b[0m, in \u001b[0;36mConcreteFunction._call_flat\u001b[0;34m(self, args, captured_inputs, cancellation_manager)\u001b[0m\n\u001b[1;32m   1856\u001b[0m possible_gradient_type \u001b[38;5;241m=\u001b[39m gradients_util\u001b[38;5;241m.\u001b[39mPossibleTapeGradientTypes(args)\n\u001b[1;32m   1857\u001b[0m \u001b[38;5;28;01mif\u001b[39;00m (possible_gradient_type \u001b[38;5;241m==\u001b[39m gradients_util\u001b[38;5;241m.\u001b[39mPOSSIBLE_GRADIENT_TYPES_NONE\n\u001b[1;32m   1858\u001b[0m     \u001b[38;5;129;01mand\u001b[39;00m executing_eagerly):\n\u001b[1;32m   1859\u001b[0m   \u001b[38;5;66;03m# No tape is watching; skip to running the function.\u001b[39;00m\n\u001b[0;32m-> 1860\u001b[0m   \u001b[38;5;28;01mreturn\u001b[39;00m \u001b[38;5;28mself\u001b[39m\u001b[38;5;241m.\u001b[39m_build_call_outputs(\u001b[38;5;28;43mself\u001b[39;49m\u001b[38;5;241;43m.\u001b[39;49m\u001b[43m_inference_function\u001b[49m\u001b[38;5;241;43m.\u001b[39;49m\u001b[43mcall\u001b[49m\u001b[43m(\u001b[49m\n\u001b[1;32m   1861\u001b[0m \u001b[43m      \u001b[49m\u001b[43mctx\u001b[49m\u001b[43m,\u001b[49m\u001b[43m \u001b[49m\u001b[43margs\u001b[49m\u001b[43m,\u001b[49m\u001b[43m \u001b[49m\u001b[43mcancellation_manager\u001b[49m\u001b[38;5;241;43m=\u001b[39;49m\u001b[43mcancellation_manager\u001b[49m\u001b[43m)\u001b[49m)\n\u001b[1;32m   1862\u001b[0m forward_backward \u001b[38;5;241m=\u001b[39m \u001b[38;5;28mself\u001b[39m\u001b[38;5;241m.\u001b[39m_select_forward_and_backward_functions(\n\u001b[1;32m   1863\u001b[0m     args,\n\u001b[1;32m   1864\u001b[0m     possible_gradient_type,\n\u001b[1;32m   1865\u001b[0m     executing_eagerly)\n\u001b[1;32m   1866\u001b[0m forward_function, args_with_tangents \u001b[38;5;241m=\u001b[39m forward_backward\u001b[38;5;241m.\u001b[39mforward()\n",
      "File \u001b[0;32m~/miniforge3/envs/tensorflow_env/lib/python3.8/site-packages/tensorflow/python/eager/function.py:497\u001b[0m, in \u001b[0;36m_EagerDefinedFunction.call\u001b[0;34m(self, ctx, args, cancellation_manager)\u001b[0m\n\u001b[1;32m    495\u001b[0m \u001b[38;5;28;01mwith\u001b[39;00m _InterpolateFunctionError(\u001b[38;5;28mself\u001b[39m):\n\u001b[1;32m    496\u001b[0m   \u001b[38;5;28;01mif\u001b[39;00m cancellation_manager \u001b[38;5;129;01mis\u001b[39;00m \u001b[38;5;28;01mNone\u001b[39;00m:\n\u001b[0;32m--> 497\u001b[0m     outputs \u001b[38;5;241m=\u001b[39m \u001b[43mexecute\u001b[49m\u001b[38;5;241;43m.\u001b[39;49m\u001b[43mexecute\u001b[49m\u001b[43m(\u001b[49m\n\u001b[1;32m    498\u001b[0m \u001b[43m        \u001b[49m\u001b[38;5;28;43mstr\u001b[39;49m\u001b[43m(\u001b[49m\u001b[38;5;28;43mself\u001b[39;49m\u001b[38;5;241;43m.\u001b[39;49m\u001b[43msignature\u001b[49m\u001b[38;5;241;43m.\u001b[39;49m\u001b[43mname\u001b[49m\u001b[43m)\u001b[49m\u001b[43m,\u001b[49m\n\u001b[1;32m    499\u001b[0m \u001b[43m        \u001b[49m\u001b[43mnum_outputs\u001b[49m\u001b[38;5;241;43m=\u001b[39;49m\u001b[38;5;28;43mself\u001b[39;49m\u001b[38;5;241;43m.\u001b[39;49m\u001b[43m_num_outputs\u001b[49m\u001b[43m,\u001b[49m\n\u001b[1;32m    500\u001b[0m \u001b[43m        \u001b[49m\u001b[43minputs\u001b[49m\u001b[38;5;241;43m=\u001b[39;49m\u001b[43margs\u001b[49m\u001b[43m,\u001b[49m\n\u001b[1;32m    501\u001b[0m \u001b[43m        \u001b[49m\u001b[43mattrs\u001b[49m\u001b[38;5;241;43m=\u001b[39;49m\u001b[43mattrs\u001b[49m\u001b[43m,\u001b[49m\n\u001b[1;32m    502\u001b[0m \u001b[43m        \u001b[49m\u001b[43mctx\u001b[49m\u001b[38;5;241;43m=\u001b[39;49m\u001b[43mctx\u001b[49m\u001b[43m)\u001b[49m\n\u001b[1;32m    503\u001b[0m   \u001b[38;5;28;01melse\u001b[39;00m:\n\u001b[1;32m    504\u001b[0m     outputs \u001b[38;5;241m=\u001b[39m execute\u001b[38;5;241m.\u001b[39mexecute_with_cancellation(\n\u001b[1;32m    505\u001b[0m         \u001b[38;5;28mstr\u001b[39m(\u001b[38;5;28mself\u001b[39m\u001b[38;5;241m.\u001b[39msignature\u001b[38;5;241m.\u001b[39mname),\n\u001b[1;32m    506\u001b[0m         num_outputs\u001b[38;5;241m=\u001b[39m\u001b[38;5;28mself\u001b[39m\u001b[38;5;241m.\u001b[39m_num_outputs,\n\u001b[0;32m   (...)\u001b[0m\n\u001b[1;32m    509\u001b[0m         ctx\u001b[38;5;241m=\u001b[39mctx,\n\u001b[1;32m    510\u001b[0m         cancellation_manager\u001b[38;5;241m=\u001b[39mcancellation_manager)\n",
      "File \u001b[0;32m~/miniforge3/envs/tensorflow_env/lib/python3.8/site-packages/tensorflow/python/eager/execute.py:54\u001b[0m, in \u001b[0;36mquick_execute\u001b[0;34m(op_name, num_outputs, inputs, attrs, ctx, name)\u001b[0m\n\u001b[1;32m     52\u001b[0m \u001b[38;5;28;01mtry\u001b[39;00m:\n\u001b[1;32m     53\u001b[0m   ctx\u001b[38;5;241m.\u001b[39mensure_initialized()\n\u001b[0;32m---> 54\u001b[0m   tensors \u001b[38;5;241m=\u001b[39m \u001b[43mpywrap_tfe\u001b[49m\u001b[38;5;241;43m.\u001b[39;49m\u001b[43mTFE_Py_Execute\u001b[49m\u001b[43m(\u001b[49m\u001b[43mctx\u001b[49m\u001b[38;5;241;43m.\u001b[39;49m\u001b[43m_handle\u001b[49m\u001b[43m,\u001b[49m\u001b[43m \u001b[49m\u001b[43mdevice_name\u001b[49m\u001b[43m,\u001b[49m\u001b[43m \u001b[49m\u001b[43mop_name\u001b[49m\u001b[43m,\u001b[49m\n\u001b[1;32m     55\u001b[0m \u001b[43m                                      \u001b[49m\u001b[43minputs\u001b[49m\u001b[43m,\u001b[49m\u001b[43m \u001b[49m\u001b[43mattrs\u001b[49m\u001b[43m,\u001b[49m\u001b[43m \u001b[49m\u001b[43mnum_outputs\u001b[49m\u001b[43m)\u001b[49m\n\u001b[1;32m     56\u001b[0m \u001b[38;5;28;01mexcept\u001b[39;00m core\u001b[38;5;241m.\u001b[39m_NotOkStatusException \u001b[38;5;28;01mas\u001b[39;00m e:\n\u001b[1;32m     57\u001b[0m   \u001b[38;5;28;01mif\u001b[39;00m name \u001b[38;5;129;01mis\u001b[39;00m \u001b[38;5;129;01mnot\u001b[39;00m \u001b[38;5;28;01mNone\u001b[39;00m:\n",
      "\u001b[0;31mKeyboardInterrupt\u001b[0m: "
=======
      "Epoch 108/200\n",
      "48000/48000 [==============================] - 9s 194us/sample - loss: 0.2279 - accuracy: 0.9662 - val_loss: 0.2505 - val_accuracy: 0.9582\n",
      "Epoch 109/200\n",
      "48000/48000 [==============================] - 6s 134us/sample - loss: 0.2263 - accuracy: 0.9666 - val_loss: 0.2335 - val_accuracy: 0.9663\n",
      "Epoch 110/200\n",
      "48000/48000 [==============================] - 6s 130us/sample - loss: 0.2253 - accuracy: 0.9670 - val_loss: 0.2406 - val_accuracy: 0.9621\n",
      "Epoch 111/200\n",
      "48000/48000 [==============================] - 6s 131us/sample - loss: 0.2253 - accuracy: 0.9667 - val_loss: 0.2373 - val_accuracy: 0.9627\n",
      "Epoch 112/200\n",
      "48000/48000 [==============================] - 8s 172us/sample - loss: 0.2297 - accuracy: 0.9659 - val_loss: 0.2304 - val_accuracy: 0.9655\n",
      "Epoch 113/200\n",
      "48000/48000 [==============================] - 14s 289us/sample - loss: 0.2257 - accuracy: 0.9672 - val_loss: 0.2470 - val_accuracy: 0.9594\n",
      "Epoch 114/200\n",
      "48000/48000 [==============================] - 13s 269us/sample - loss: 0.2267 - accuracy: 0.9663 - val_loss: 0.2532 - val_accuracy: 0.9581\n",
      "Epoch 115/200\n",
      "48000/48000 [==============================] - 15s 310us/sample - loss: 0.2280 - accuracy: 0.9656 - val_loss: 0.2414 - val_accuracy: 0.9622\n",
      "Epoch 116/200\n",
      "48000/48000 [==============================] - 13s 267us/sample - loss: 0.2251 - accuracy: 0.9666 - val_loss: 0.2323 - val_accuracy: 0.9656\n",
      "Epoch 117/200\n",
      "48000/48000 [==============================] - 6s 131us/sample - loss: 0.2253 - accuracy: 0.9662 - val_loss: 0.2423 - val_accuracy: 0.9607\n",
      "Epoch 118/200\n",
      "48000/48000 [==============================] - 7s 137us/sample - loss: 0.2245 - accuracy: 0.9668 - val_loss: 0.2338 - val_accuracy: 0.9646\n",
      "Epoch 119/200\n",
      "48000/48000 [==============================] - 8s 175us/sample - loss: 0.2234 - accuracy: 0.9662 - val_loss: 0.2389 - val_accuracy: 0.9618\n",
      "Epoch 120/200\n",
      "48000/48000 [==============================] - 7s 148us/sample - loss: 0.2237 - accuracy: 0.9677 - val_loss: 0.2477 - val_accuracy: 0.9593\n",
      "Epoch 121/200\n",
      "48000/48000 [==============================] - 7s 147us/sample - loss: 0.2252 - accuracy: 0.9663 - val_loss: 0.2324 - val_accuracy: 0.9649\n",
      "Epoch 122/200\n",
      "48000/48000 [==============================] - 10s 198us/sample - loss: 0.2232 - accuracy: 0.9671 - val_loss: 0.2403 - val_accuracy: 0.9620\n",
      "Epoch 123/200\n",
      "48000/48000 [==============================] - 7s 152us/sample - loss: 0.2232 - accuracy: 0.9667 - val_loss: 0.2378 - val_accuracy: 0.9628\n",
      "Epoch 124/200\n",
      "48000/48000 [==============================] - 8s 168us/sample - loss: 0.2244 - accuracy: 0.9667 - val_loss: 0.2339 - val_accuracy: 0.9631\n",
      "Epoch 125/200\n",
      "48000/48000 [==============================] - 7s 137us/sample - loss: 0.2251 - accuracy: 0.9659 - val_loss: 0.2270 - val_accuracy: 0.9657\n",
      "Epoch 126/200\n",
      "48000/48000 [==============================] - 13s 277us/sample - loss: 0.2227 - accuracy: 0.9664 - val_loss: 0.2446 - val_accuracy: 0.9597\n",
      "Epoch 127/200\n",
      "48000/48000 [==============================] - 12s 241us/sample - loss: 0.2250 - accuracy: 0.9666 - val_loss: 0.2244 - val_accuracy: 0.9685\n",
      "Epoch 128/200\n",
      "48000/48000 [==============================] - 7s 155us/sample - loss: 0.2241 - accuracy: 0.9657 - val_loss: 0.2361 - val_accuracy: 0.9635\n",
      "Epoch 129/200\n",
      "48000/48000 [==============================] - 8s 174us/sample - loss: 0.2224 - accuracy: 0.9673 - val_loss: 0.2279 - val_accuracy: 0.9657\n",
      "Epoch 130/200\n",
      "48000/48000 [==============================] - 15s 310us/sample - loss: 0.2233 - accuracy: 0.9669 - val_loss: 0.2321 - val_accuracy: 0.9641\n",
      "Epoch 131/200\n",
      "48000/48000 [==============================] - 12s 258us/sample - loss: 0.2220 - accuracy: 0.9671 - val_loss: 0.2521 - val_accuracy: 0.9579\n",
      "Epoch 132/200\n",
      "48000/48000 [==============================] - 13s 270us/sample - loss: 0.2245 - accuracy: 0.9661 - val_loss: 0.2528 - val_accuracy: 0.9581\n",
      "Epoch 133/200\n",
      "48000/48000 [==============================] - 18s 374us/sample - loss: 0.2231 - accuracy: 0.9670 - val_loss: 0.2279 - val_accuracy: 0.9660\n",
      "Epoch 134/200\n",
      "48000/48000 [==============================] - 14s 293us/sample - loss: 0.2234 - accuracy: 0.9659 - val_loss: 0.2374 - val_accuracy: 0.9639\n",
      "Epoch 135/200\n",
      "48000/48000 [==============================] - 6s 134us/sample - loss: 0.2241 - accuracy: 0.9661 - val_loss: 0.2427 - val_accuracy: 0.9632\n",
      "Epoch 136/200\n",
      "48000/48000 [==============================] - 10s 203us/sample - loss: 0.2234 - accuracy: 0.9660 - val_loss: 0.2388 - val_accuracy: 0.9611\n",
      "Epoch 137/200\n",
      "48000/48000 [==============================] - 9s 186us/sample - loss: 0.2191 - accuracy: 0.9686 - val_loss: 0.2455 - val_accuracy: 0.9609\n",
      "Epoch 138/200\n",
      "48000/48000 [==============================] - 6s 132us/sample - loss: 0.2229 - accuracy: 0.9662 - val_loss: 0.2463 - val_accuracy: 0.9638\n",
      "Epoch 139/200\n",
      "48000/48000 [==============================] - 11s 224us/sample - loss: 0.2198 - accuracy: 0.9675 - val_loss: 0.2502 - val_accuracy: 0.9587\n",
      "Epoch 140/200\n",
      "48000/48000 [==============================] - 15s 308us/sample - loss: 0.2234 - accuracy: 0.9666 - val_loss: 0.2423 - val_accuracy: 0.9615\n",
      "Epoch 141/200\n",
      "48000/48000 [==============================] - 14s 288us/sample - loss: 0.2231 - accuracy: 0.9661 - val_loss: 0.2403 - val_accuracy: 0.9607\n",
      "Epoch 142/200\n",
      "48000/48000 [==============================] - 9s 180us/sample - loss: 0.2205 - accuracy: 0.9674 - val_loss: 0.2330 - val_accuracy: 0.9654\n",
      "Epoch 143/200\n",
      "48000/48000 [==============================] - 7s 140us/sample - loss: 0.2243 - accuracy: 0.9653 - val_loss: 0.2242 - val_accuracy: 0.9654\n",
      "Epoch 144/200\n",
      "48000/48000 [==============================] - 7s 136us/sample - loss: 0.2213 - accuracy: 0.9664 - val_loss: 0.2178 - val_accuracy: 0.9688\n",
      "Epoch 145/200\n",
      "48000/48000 [==============================] - 6s 129us/sample - loss: 0.2223 - accuracy: 0.9666 - val_loss: 0.2234 - val_accuracy: 0.9677\n",
      "Epoch 146/200\n",
      "48000/48000 [==============================] - 6s 134us/sample - loss: 0.2219 - accuracy: 0.9662 - val_loss: 0.2477 - val_accuracy: 0.9572\n",
      "Epoch 147/200\n",
      "48000/48000 [==============================] - 9s 179us/sample - loss: 0.2192 - accuracy: 0.9670 - val_loss: 0.2314 - val_accuracy: 0.9665\n",
      "Epoch 148/200\n",
      "48000/48000 [==============================] - 10s 213us/sample - loss: 0.2198 - accuracy: 0.9682 - val_loss: 0.2340 - val_accuracy: 0.9638\n",
      "Epoch 149/200\n",
      "48000/48000 [==============================] - 10s 217us/sample - loss: 0.2221 - accuracy: 0.9669 - val_loss: 0.2613 - val_accuracy: 0.9540\n",
      "Epoch 150/200\n",
      "48000/48000 [==============================] - 11s 226us/sample - loss: 0.2219 - accuracy: 0.9665 - val_loss: 0.2532 - val_accuracy: 0.9581\n",
      "Epoch 151/200\n",
      "48000/48000 [==============================] - 7s 144us/sample - loss: 0.2180 - accuracy: 0.9674 - val_loss: 0.2471 - val_accuracy: 0.9598\n",
      "Epoch 152/200\n",
      "48000/48000 [==============================] - 7s 139us/sample - loss: 0.2224 - accuracy: 0.9657 - val_loss: 0.2274 - val_accuracy: 0.9673\n",
      "Epoch 153/200\n",
      "48000/48000 [==============================] - 12s 247us/sample - loss: 0.2190 - accuracy: 0.9676 - val_loss: 0.2349 - val_accuracy: 0.9630\n",
      "Epoch 154/200\n",
      "48000/48000 [==============================] - 18s 369us/sample - loss: 0.2207 - accuracy: 0.9669 - val_loss: 0.2339 - val_accuracy: 0.9643\n",
      "Epoch 155/200\n",
      "48000/48000 [==============================] - 8s 165us/sample - loss: 0.2205 - accuracy: 0.9665 - val_loss: 0.2375 - val_accuracy: 0.9624\n",
      "Epoch 156/200\n",
      "48000/48000 [==============================] - 13s 269us/sample - loss: 0.2190 - accuracy: 0.9672 - val_loss: 0.2511 - val_accuracy: 0.9583\n",
      "Epoch 157/200\n",
      "48000/48000 [==============================] - 9s 181us/sample - loss: 0.2206 - accuracy: 0.9660 - val_loss: 0.2306 - val_accuracy: 0.9657\n",
      "Epoch 158/200\n",
      "48000/48000 [==============================] - 7s 155us/sample - loss: 0.2185 - accuracy: 0.9673 - val_loss: 0.2344 - val_accuracy: 0.9635\n",
      "Epoch 159/200\n",
      "48000/48000 [==============================] - 10s 204us/sample - loss: 0.2229 - accuracy: 0.9657 - val_loss: 0.2322 - val_accuracy: 0.9651\n",
      "Epoch 160/200\n",
      "48000/48000 [==============================] - 9s 184us/sample - loss: 0.2205 - accuracy: 0.9664 - val_loss: 0.2278 - val_accuracy: 0.9659\n",
      "Epoch 161/200\n",
      "48000/48000 [==============================] - 10s 208us/sample - loss: 0.2178 - accuracy: 0.9675 - val_loss: 0.2234 - val_accuracy: 0.9671\n",
      "Epoch 162/200\n",
      "48000/48000 [==============================] - 7s 137us/sample - loss: 0.2180 - accuracy: 0.9666 - val_loss: 0.2332 - val_accuracy: 0.9626\n",
      "Epoch 163/200\n",
      "48000/48000 [==============================] - 7s 140us/sample - loss: 0.2191 - accuracy: 0.9667 - val_loss: 0.2867 - val_accuracy: 0.9459\n",
      "Epoch 164/200\n",
      "48000/48000 [==============================] - 15s 304us/sample - loss: 0.2211 - accuracy: 0.9658 - val_loss: 0.2412 - val_accuracy: 0.9618\n",
      "Epoch 165/200\n",
      "48000/48000 [==============================] - 18s 385us/sample - loss: 0.2196 - accuracy: 0.9669 - val_loss: 0.2428 - val_accuracy: 0.9598\n",
      "Epoch 166/200\n",
      "48000/48000 [==============================] - 7s 136us/sample - loss: 0.2196 - accuracy: 0.9664 - val_loss: 0.2362 - val_accuracy: 0.9613\n",
      "Epoch 167/200\n",
      "48000/48000 [==============================] - 11s 235us/sample - loss: 0.2159 - accuracy: 0.9680 - val_loss: 0.2386 - val_accuracy: 0.9604\n",
      "Epoch 168/200\n",
      "48000/48000 [==============================] - 10s 205us/sample - loss: 0.2194 - accuracy: 0.9667 - val_loss: 0.2356 - val_accuracy: 0.9625\n",
      "Epoch 169/200\n",
      "48000/48000 [==============================] - 10s 207us/sample - loss: 0.2160 - accuracy: 0.9684 - val_loss: 0.2242 - val_accuracy: 0.9657\n",
      "Epoch 170/200\n",
      "48000/48000 [==============================] - 10s 209us/sample - loss: 0.2181 - accuracy: 0.9666 - val_loss: 0.2209 - val_accuracy: 0.9668\n",
      "Epoch 171/200\n",
      "48000/48000 [==============================] - 11s 235us/sample - loss: 0.2221 - accuracy: 0.9652 - val_loss: 0.2470 - val_accuracy: 0.9613\n",
      "Epoch 172/200\n",
      "48000/48000 [==============================] - 7s 136us/sample - loss: 0.2177 - accuracy: 0.9673 - val_loss: 0.2339 - val_accuracy: 0.9622\n",
      "Epoch 173/200\n",
      "48000/48000 [==============================] - 6s 135us/sample - loss: 0.2177 - accuracy: 0.9670 - val_loss: 0.2393 - val_accuracy: 0.9613\n",
      "Epoch 174/200\n",
      "48000/48000 [==============================] - 8s 174us/sample - loss: 0.2182 - accuracy: 0.9671 - val_loss: 0.2315 - val_accuracy: 0.9638\n",
      "Epoch 175/200\n",
      "48000/48000 [==============================] - 8s 173us/sample - loss: 0.2175 - accuracy: 0.9674 - val_loss: 0.2437 - val_accuracy: 0.9610\n",
      "Epoch 176/200\n",
      "48000/48000 [==============================] - 6s 135us/sample - loss: 0.2173 - accuracy: 0.9676 - val_loss: 0.2470 - val_accuracy: 0.9593\n",
      "Epoch 177/200\n",
      "48000/48000 [==============================] - 7s 136us/sample - loss: 0.2172 - accuracy: 0.9680 - val_loss: 0.2324 - val_accuracy: 0.9628\n",
      "Epoch 178/200\n",
      "48000/48000 [==============================] - 10s 213us/sample - loss: 0.2155 - accuracy: 0.9675 - val_loss: 0.2291 - val_accuracy: 0.9649\n",
      "Epoch 179/200\n",
      "48000/48000 [==============================] - 7s 145us/sample - loss: 0.2192 - accuracy: 0.9664 - val_loss: 0.2454 - val_accuracy: 0.9583\n",
      "Epoch 180/200\n",
      "48000/48000 [==============================] - 10s 201us/sample - loss: 0.2181 - accuracy: 0.9668 - val_loss: 0.2414 - val_accuracy: 0.9588\n",
      "Epoch 181/200\n",
      "48000/48000 [==============================] - 12s 260us/sample - loss: 0.2169 - accuracy: 0.9670 - val_loss: 0.2177 - val_accuracy: 0.9672\n",
      "Epoch 182/200\n",
      "48000/48000 [==============================] - 11s 222us/sample - loss: 0.2186 - accuracy: 0.9672 - val_loss: 0.2160 - val_accuracy: 0.9671\n",
      "Epoch 183/200\n",
      "48000/48000 [==============================] - 7s 136us/sample - loss: 0.2180 - accuracy: 0.9669 - val_loss: 0.2153 - val_accuracy: 0.9686\n",
      "Epoch 184/200\n",
      "48000/48000 [==============================] - 10s 198us/sample - loss: 0.2154 - accuracy: 0.9674 - val_loss: 0.2237 - val_accuracy: 0.9661\n",
      "Epoch 185/200\n",
      "48000/48000 [==============================] - 9s 189us/sample - loss: 0.2179 - accuracy: 0.9670 - val_loss: 0.2241 - val_accuracy: 0.9634\n",
      "Epoch 186/200\n",
      "48000/48000 [==============================] - 7s 138us/sample - loss: 0.2122 - accuracy: 0.9688 - val_loss: 0.2469 - val_accuracy: 0.9573\n",
      "Epoch 187/200\n",
      "48000/48000 [==============================] - 8s 165us/sample - loss: 0.2169 - accuracy: 0.9665 - val_loss: 0.2369 - val_accuracy: 0.9601\n",
      "Epoch 188/200\n",
      "48000/48000 [==============================] - 12s 244us/sample - loss: 0.2155 - accuracy: 0.9677 - val_loss: 0.2401 - val_accuracy: 0.9615\n",
      "Epoch 189/200\n",
      "48000/48000 [==============================] - 7s 137us/sample - loss: 0.2172 - accuracy: 0.9671 - val_loss: 0.2516 - val_accuracy: 0.9582\n",
      "Epoch 190/200\n",
      "48000/48000 [==============================] - 7s 140us/sample - loss: 0.2173 - accuracy: 0.9676 - val_loss: 0.2375 - val_accuracy: 0.9621\n",
      "Epoch 191/200\n",
      "48000/48000 [==============================] - 8s 160us/sample - loss: 0.2163 - accuracy: 0.9673 - val_loss: 0.2308 - val_accuracy: 0.9632\n",
      "Epoch 192/200\n",
      "48000/48000 [==============================] - 14s 284us/sample - loss: 0.2174 - accuracy: 0.9674 - val_loss: 0.2248 - val_accuracy: 0.9650\n",
      "Epoch 193/200\n",
      "48000/48000 [==============================] - 18s 375us/sample - loss: 0.2185 - accuracy: 0.9662 - val_loss: 0.2378 - val_accuracy: 0.9606\n",
      "Epoch 194/200\n",
      "48000/48000 [==============================] - 7s 149us/sample - loss: 0.2159 - accuracy: 0.9683 - val_loss: 0.2420 - val_accuracy: 0.9593\n",
      "Epoch 195/200\n",
      "48000/48000 [==============================] - 9s 187us/sample - loss: 0.2162 - accuracy: 0.9667 - val_loss: 0.2384 - val_accuracy: 0.9628\n",
      "Epoch 196/200\n",
      "48000/48000 [==============================] - 10s 201us/sample - loss: 0.2160 - accuracy: 0.9670 - val_loss: 0.2530 - val_accuracy: 0.9579\n",
      "Epoch 197/200\n",
      "48000/48000 [==============================] - 8s 167us/sample - loss: 0.2157 - accuracy: 0.9679 - val_loss: 0.2180 - val_accuracy: 0.9680\n",
      "Epoch 198/200\n",
      "48000/48000 [==============================] - 9s 178us/sample - loss: 0.2151 - accuracy: 0.9674 - val_loss: 0.2625 - val_accuracy: 0.9554\n",
      "Epoch 199/200\n",
      "48000/48000 [==============================] - 8s 175us/sample - loss: 0.2147 - accuracy: 0.9679 - val_loss: 0.2294 - val_accuracy: 0.9613\n",
      "Epoch 200/200\n",
      "48000/48000 [==============================] - 7s 137us/sample - loss: 0.2157 - accuracy: 0.9672 - val_loss: 0.2198 - val_accuracy: 0.9664\n"
>>>>>>> upstream/main
     ]
    }
   ],
   "source": [
    "# will take a while\n",
    "history_deepermnist = deepermodel_images.fit(x_train, y_tr_one_hot, epochs=200, batch_size= 32, validation_split = 0.2)"
   ]
  },
  {
   "cell_type": "code",
   "execution_count": null,
   "metadata": {
    "cell_style": "split",
    "slideshow": {
     "slide_type": "slide"
    }
   },
   "outputs": [],
   "source": [
    "#evaluate test accuracy\n",
    "deepermodel_images.evaluate(x_test, y_tt_one_hot, verbose = 2)"
   ]
  },
  {
   "cell_type": "code",
   "execution_count": null,
   "metadata": {
    "cell_style": "split",
    "slideshow": {
     "slide_type": "fragment"
    }
   },
   "outputs": [],
   "source": [
    "train_deepmnist_history = pd.DataFrame(history_deepermnist.history)\n",
    "train_deepmnist_history.index.name = 'epochs'\n",
    "\n",
    "col_list = ['loss', 'val_loss']\n",
    "train_deepmnist_history[col_list].plot()\n",
    "plt.ylabel('Categorical cross entropy')\n",
    "plt.title('Training loss history')\n",
    "plt.show()"
   ]
  },
  {
   "cell_type": "code",
   "execution_count": null,
   "metadata": {
    "cell_style": "split",
    "slideshow": {
     "slide_type": "slide"
    }
   },
   "outputs": [],
   "source": [
    "col_list = ['accuracy', 'val_accuracy']\n",
    "train_deepmnist_history[col_list].plot()\n",
    "plt.ylabel('Accuracy')\n",
    "plt.title('Training loss history')\n",
    "plt.show()"
   ]
  },
  {
   "cell_type": "markdown",
   "metadata": {
    "cell_style": "split",
    "slideshow": {
     "slide_type": "fragment"
    }
   },
   "source": [
    "Not overfitting even while adding much more complexity:\n",
    "- in this case, not gaining much either"
   ]
  },
  {
   "cell_type": "markdown",
   "metadata": {
    "cell_style": "split",
    "slideshow": {
     "slide_type": "fragment"
    }
   },
   "source": [
    "To do better:\n",
    "- try a different regularization technique\n",
    "- may need to think harder about network architecture"
   ]
  },
  {
   "cell_type": "markdown",
   "metadata": {
    "cell_style": "split",
    "slideshow": {
     "slide_type": "slide"
    }
   },
   "source": [
    "#### Dropout Regularization\n",
    "- Architecture based strategy.\n",
    "\n",
    "On each forward/backprop iteration:\n",
    "- given layer with dropout\n",
    "- shut off activations to randomly selected nodes in layer"
   ]
  },
  {
   "cell_type": "markdown",
   "metadata": {
    "cell_style": "split",
    "slideshow": {
     "slide_type": "fragment"
    }
   },
   "source": [
    "![drop_out](images/drop_out.png)"
   ]
  },
  {
   "cell_type": "markdown",
   "metadata": {
    "cell_style": "split",
    "slideshow": {
     "slide_type": "slide"
    }
   },
   "source": [
    "<img src = \"Images/dropout_network.gif\" >"
   ]
  },
  {
   "cell_type": "markdown",
   "metadata": {
    "cell_style": "split",
    "slideshow": {
     "slide_type": "fragment"
    }
   },
   "source": [
    "- Set $p^{[l]}$  uniform probability of node dropout for given layer\n",
    "- each train cycle: kills different activations"
   ]
  },
  {
   "cell_type": "markdown",
   "metadata": {
    "cell_style": "split",
    "slideshow": {
     "slide_type": "fragment"
    }
   },
   "source": [
    "Dead nodes dont contribute to weight updates in backprop."
   ]
  },
  {
   "cell_type": "markdown",
   "metadata": {
    "cell_style": "center",
    "slideshow": {
     "slide_type": "fragment"
    }
   },
   "source": [
    "after many train cycles: have learned weights:\n",
    "- contributions from many different networks learning different things"
   ]
  },
  {
   "cell_type": "markdown",
   "metadata": {
    "cell_style": "split",
    "slideshow": {
     "slide_type": "slide"
    }
   },
   "source": [
    "<img src = \"Images/Deeper_network.jpg\">"
   ]
  },
  {
   "cell_type": "markdown",
   "metadata": {
    "cell_style": "split",
    "slideshow": {
     "slide_type": "fragment"
    }
   },
   "source": [
    "Validation/test phase:\n",
    "- use all nodes and learned weights.\n",
    "- make prediction."
   ]
  },
  {
   "cell_type": "markdown",
   "metadata": {
    "cell_style": "center",
    "slideshow": {
     "slide_type": "slide"
    }
   },
   "source": [
    "**Why it works as regularization**\n",
    "- network learns not to trust in any one subset of weights: unlikely any particular weight subset gets too big.\n",
    "- distributes weights in way that is robust to network noise (random dropout): generalizes well. "
   ]
  },
  {
   "cell_type": "markdown",
   "metadata": {
    "slideshow": {
     "slide_type": "slide"
    }
   },
   "source": [
    "#### Dropout in Keras\n",
    "\n",
    "- Simply add it as though it were a layer. It will apply to the immediately preceding layer."
   ]
  },
  {
   "cell_type": "code",
   "execution_count": null,
   "metadata": {
    "slideshow": {
     "slide_type": "fragment"
    }
   },
   "outputs": [],
   "source": [
    "from tensorflow.keras.layers import Dropout"
   ]
  },
  {
   "cell_type": "markdown",
   "metadata": {
    "cell_style": "center",
    "slideshow": {
     "slide_type": "slide"
    }
   },
   "source": [
    "Dropout() takes in the dropout probability as a constructor argument:\n",
    "- Dropout($p$) after some of the hidden layers.\n",
    "- $p \\in [0.2, 0.5]$ as good range to try."
   ]
  },
  {
   "cell_type": "code",
   "execution_count": null,
   "metadata": {
    "slideshow": {
     "slide_type": "subslide"
    }
   },
   "outputs": [],
   "source": [
    "from tensorflow.keras.optimizers import Adam\n",
    "opt = Adam(learning_rate=0.003, beta_1=0.9, beta_2=0.999, epsilon=1e-07)"
   ]
  },
  {
   "cell_type": "markdown",
   "metadata": {
    "slideshow": {
     "slide_type": "slide"
    }
   },
   "source": [
    "**Define model**"
   ]
  },
  {
   "cell_type": "code",
   "execution_count": null,
   "metadata": {
    "cell_style": "split",
    "slideshow": {
     "slide_type": "fragment"
    }
   },
   "outputs": [],
   "source": [
    "model = Sequential()\n",
    "model.add(Flatten(input_shape=(28, 28)))\n",
    "model.add(Dense(20, activation='relu'))\n",
    "model.add(Dropout(0.2)) # dropout on previous activations\n",
    "model.add(Dense(12, activation='relu'))\n",
    "model.add(Dense(12, activation='relu'))\n",
    "model.add(Dropout(0.1)) # dropout\n",
    "model.add(Dense(12, activation='relu'))\n",
    "model.add(Dense(8, activation='relu'))\n",
    "model.add(Dense(10, activation ='softmax'))\n",
    "\n",
    "# compile model\n",
    "model.compile(optimizer=opt, \n",
    "              loss='categorical_crossentropy',\n",
    "              metrics=['accuracy'])"
   ]
  },
  {
   "cell_type": "markdown",
   "metadata": {
    "cell_style": "split",
    "slideshow": {
     "slide_type": "fragment"
    }
   },
   "source": [
    "Some tips:\n",
    "- Dropout earlier in network or inputs. Don't put on final layers.\n",
    "- Try faster learning rates in optimizer"
   ]
  },
  {
   "cell_type": "code",
   "execution_count": null,
   "metadata": {
    "scrolled": true,
    "slideshow": {
     "slide_type": "slide"
    }
   },
   "outputs": [],
   "source": [
    "# will take a while\n",
    "history_dropoutmnist = model.fit(x_train, y_tr_one_hot, epochs=200, batch_size= 32, validation_split = 0.2, verbose =2)"
   ]
  },
  {
   "cell_type": "markdown",
   "metadata": {
    "cell_style": "split",
    "slideshow": {
     "slide_type": "slide"
    }
   },
   "source": [
    "Accuracy on train set will be lower in any given cycle:\n",
    "- some activation killed randomly on training.\n",
    "\n",
    "Performance on validation will be high:\n",
    "- uses full network with learned weights for validation"
   ]
  },
  {
   "cell_type": "markdown",
   "metadata": {
    "cell_style": "split",
    "slideshow": {
     "slide_type": "slide"
    }
   },
   "source": [
    "Not overtraining despite high model capacity:\n",
    "- many hidden layers"
   ]
  },
  {
   "cell_type": "code",
   "execution_count": null,
   "metadata": {
    "cell_style": "split",
    "slideshow": {
     "slide_type": "fragment"
    }
   },
   "outputs": [],
   "source": [
    "train_dropoutmnist_history = pd.DataFrame(history_dropoutmnist.history)\n",
    "train_dropoutmnist_history.index.name = 'epochs'\n",
    "\n",
    "col_list = ['loss', 'val_loss']\n",
    "train_dropoutmnist_history[col_list].plot()\n",
    "plt.ylabel('Categorical cross entropy')\n",
    "plt.title('Training loss history')\n",
    "plt.show()"
   ]
  },
  {
   "cell_type": "code",
   "execution_count": null,
   "metadata": {
    "cell_style": "split",
    "slideshow": {
     "slide_type": "slide"
    }
   },
   "outputs": [],
   "source": [
    "col_list = ['accuracy', 'val_accuracy']\n",
    "train_dropoutmnist_history[col_list].plot()\n",
    "plt.ylabel('Accuracy')\n",
    "plt.title('Training loss history')\n",
    "plt.show()"
   ]
  },
  {
   "cell_type": "markdown",
   "metadata": {
    "cell_style": "split",
    "slideshow": {
     "slide_type": "fragment"
    }
   },
   "source": [
    "Evaluate on test set."
   ]
  },
  {
   "cell_type": "code",
   "execution_count": null,
   "metadata": {
    "cell_style": "split",
    "slideshow": {
     "slide_type": "fragment"
    }
   },
   "outputs": [],
   "source": [
    "model.evaluate(x_test, y_tt_one_hot, verbose =0)"
   ]
  },
  {
   "cell_type": "markdown",
   "metadata": {
    "slideshow": {
     "slide_type": "slide"
    }
   },
   "source": [
    "#### Dropout regularization in conjunction with L2:\n",
    "\n",
    "- can be used to train very deep networks\n",
    "- model complex relationships without overfitting\n",
    "- works best in these cases with a lot of data"
   ]
  },
  {
   "cell_type": "markdown",
   "metadata": {
    "slideshow": {
     "slide_type": "slide"
    }
   },
   "source": [
    "Next up:\n",
    "- doing much better with a more suitable network architecture\n",
    "- Convolutional Neural Networks (CNNs)"
   ]
  }
 ],
 "metadata": {
  "celltoolbar": "Slideshow",
  "colab": {
   "collapsed_sections": [],
   "name": "intro-to-keras.ipynb",
   "provenance": []
  },
  "kernelspec": {
   "display_name": "tensorflow_env",
   "language": "python",
   "name": "tensorflow_env"
  },
  "language_info": {
   "codemirror_mode": {
    "name": "ipython",
    "version": 3
   },
   "file_extension": ".py",
   "mimetype": "text/x-python",
   "name": "python",
   "nbconvert_exporter": "python",
   "pygments_lexer": "ipython3",
   "version": "3.8.15"
  }
 },
 "nbformat": 4,
 "nbformat_minor": 4
}
