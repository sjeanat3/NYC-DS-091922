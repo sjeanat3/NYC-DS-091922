{
 "cells": [
  {
   "cell_type": "markdown",
   "metadata": {},
   "source": [
    "# Logistic Regression Code Appendix\n",
    "\n",
    "Resources: https://scikit-learn.org/stable/modules/generated/sklearn.linear_model.LogisticRegression.html\n",
    "\n",
    "Python Code:\n",
    "\n",
    "``` Python\n",
    "# Import dependency\n",
    "from sklearn.linear_model import LogisticRegression\n",
    "\n",
    "# Create the logistic regression object\n",
    "log = LogisticRegression()\n",
    "\n",
    "# Train the logistic regression model\n",
    "clf = log.fit(X, y)\n",
    "\n",
    "# Predict the target class based on p > 0.5 criteria\n",
    "clf.predict(X)\n",
    "\n",
    "# Predict the probability with the training data set\n",
    "clf.predict_proba(X)\n",
    "\n",
    "# Calculate the model fit\n",
    "clf.score(X, y)\n",
    "```"
   ]
  },
  {
   "cell_type": "code",
   "execution_count": 21,
   "metadata": {},
   "outputs": [],
   "source": [
    "import pandas as pd\n",
    "from sklearn.linear_model import LogisticRegression\n",
    "from sklearn.model_selection import train_test_split\n",
    "from sklearn.metrics import log_loss\n",
    "from sklearn.preprocessing import LabelEncoder, OneHotEncoder\n",
    "from sklearn.preprocessing import StandardScaler"
   ]
  },
  {
   "cell_type": "code",
   "execution_count": 22,
   "metadata": {},
   "outputs": [
    {
     "data": {
      "text/html": [
       "<div>\n",
       "<style scoped>\n",
       "    .dataframe tbody tr th:only-of-type {\n",
       "        vertical-align: middle;\n",
       "    }\n",
       "\n",
       "    .dataframe tbody tr th {\n",
       "        vertical-align: top;\n",
       "    }\n",
       "\n",
       "    .dataframe thead th {\n",
       "        text-align: right;\n",
       "    }\n",
       "</style>\n",
       "<table border=\"1\" class=\"dataframe\">\n",
       "  <thead>\n",
       "    <tr style=\"text-align: right;\">\n",
       "      <th></th>\n",
       "      <th>Rating</th>\n",
       "      <th>CostPerSlice</th>\n",
       "      <th>HeatSource</th>\n",
       "      <th>BrickOven</th>\n",
       "      <th>Neighborhood</th>\n",
       "    </tr>\n",
       "  </thead>\n",
       "  <tbody>\n",
       "    <tr>\n",
       "      <th>0</th>\n",
       "      <td>0.03</td>\n",
       "      <td>1.75</td>\n",
       "      <td>Gas</td>\n",
       "      <td>False</td>\n",
       "      <td>LittleItaly</td>\n",
       "    </tr>\n",
       "    <tr>\n",
       "      <th>1</th>\n",
       "      <td>4.89</td>\n",
       "      <td>2.75</td>\n",
       "      <td>Coal</td>\n",
       "      <td>True</td>\n",
       "      <td>SoHo</td>\n",
       "    </tr>\n",
       "    <tr>\n",
       "      <th>2</th>\n",
       "      <td>4.73</td>\n",
       "      <td>4.00</td>\n",
       "      <td>Wood</td>\n",
       "      <td>True</td>\n",
       "      <td>LittleItaly</td>\n",
       "    </tr>\n",
       "    <tr>\n",
       "      <th>3</th>\n",
       "      <td>0.13</td>\n",
       "      <td>1.75</td>\n",
       "      <td>Gas</td>\n",
       "      <td>False</td>\n",
       "      <td>LittleItaly</td>\n",
       "    </tr>\n",
       "    <tr>\n",
       "      <th>4</th>\n",
       "      <td>2.45</td>\n",
       "      <td>2.25</td>\n",
       "      <td>Wood</td>\n",
       "      <td>True</td>\n",
       "      <td>Chinatown</td>\n",
       "    </tr>\n",
       "  </tbody>\n",
       "</table>\n",
       "</div>"
      ],
      "text/plain": [
       "   Rating  CostPerSlice HeatSource BrickOven Neighborhood\n",
       "0    0.03          1.75        Gas     False  LittleItaly\n",
       "1    4.89          2.75       Coal      True         SoHo\n",
       "2    4.73          4.00       Wood      True  LittleItaly\n",
       "3    0.13          1.75        Gas     False  LittleItaly\n",
       "4    2.45          2.25       Wood      True    Chinatown"
      ]
     },
     "execution_count": 22,
     "metadata": {},
     "output_type": "execute_result"
    }
   ],
   "source": [
    "# Loading the fake pizza dataset from the web\n",
    "pizza = pd.read_csv('https://jaredlander.com/data/Fake%20Pizza%20Data.csv')\n",
    "pizza.head()"
   ]
  },
  {
   "cell_type": "code",
   "execution_count": 23,
   "metadata": {},
   "outputs": [
    {
     "name": "stdout",
     "output_type": "stream",
     "text": [
      "<class 'pandas.core.frame.DataFrame'>\n",
      "RangeIndex: 201 entries, 0 to 200\n",
      "Data columns (total 5 columns):\n",
      " #   Column        Non-Null Count  Dtype  \n",
      "---  ------        --------------  -----  \n",
      " 0   Rating        200 non-null    float64\n",
      " 1   CostPerSlice  200 non-null    float64\n",
      " 2   HeatSource    200 non-null    object \n",
      " 3   BrickOven     200 non-null    object \n",
      " 4   Neighborhood  200 non-null    object \n",
      "dtypes: float64(2), object(3)\n",
      "memory usage: 8.0+ KB\n"
     ]
    }
   ],
   "source": [
    "pizza.info()"
   ]
  },
  {
   "cell_type": "code",
   "execution_count": 24,
   "metadata": {},
   "outputs": [],
   "source": [
    "le = LabelEncoder()\n",
    "pizza['BrickOven'] = le.fit_transform(pizza['BrickOven'])"
   ]
  },
  {
   "cell_type": "code",
   "execution_count": 25,
   "metadata": {},
   "outputs": [],
   "source": [
    "pizza.dropna(subset = ['Rating'], axis = 0, inplace = True)"
   ]
  },
  {
   "cell_type": "code",
   "execution_count": 26,
   "metadata": {},
   "outputs": [],
   "source": [
    "y = pizza['BrickOven']\n",
    "X = pizza[['Rating', 'HeatSource', 'CostPerSlice']]"
   ]
  },
  {
   "cell_type": "code",
   "execution_count": 27,
   "metadata": {},
   "outputs": [],
   "source": [
    "X_train, X_test, y_train, y_test = train_test_split(X, y, test_size = 0.20, random_state = 42)"
   ]
  },
  {
   "cell_type": "code",
   "execution_count": 28,
   "metadata": {},
   "outputs": [],
   "source": [
    "ohe = OneHotEncoder(handle_unknown = 'error', drop = 'first', sparse = False)\n",
    "hs_col = ['HeatSource']\n",
    "heat_source_train = ohe.fit_transform(X_train[hs_col])\n",
    "heat_source_test = ohe.transform(X_test[hs_col])\n",
    "\n",
    "columns = ohe.get_feature_names()\n",
    "\n",
    "\n",
    "heat_source_train = pd.DataFrame(heat_source_train, columns = columns)\n",
    "heat_source_test = pd.DataFrame(heat_source_test, columns = columns)\n",
    "\n",
    "X_train = pd.concat([X_train.reset_index(), heat_source_train], axis = 1)\n",
    "\n",
    "X_test = pd.concat([X_test.reset_index(), heat_source_test], axis = 1)"
   ]
  },
  {
   "cell_type": "code",
   "execution_count": 29,
   "metadata": {},
   "outputs": [],
   "source": [
    "X_train = X_train.drop(columns = ['HeatSource'])\n",
    "X_test = X_test.drop(columns = ['HeatSource'])"
   ]
  },
  {
   "cell_type": "code",
   "execution_count": 30,
   "metadata": {},
   "outputs": [],
   "source": [
    "ss = StandardScaler()\n",
    "X_train = ss.fit_transform(X_train)\n",
    "X_test = ss.transform(X_test)"
   ]
  },
  {
   "cell_type": "code",
   "execution_count": 31,
   "metadata": {},
   "outputs": [
    {
     "data": {
      "text/plain": [
       "array([[-0.06884719, -0.35134088, -0.38438693,  0.52915026, -0.37796447],\n",
       "       [-1.4204484 ,  0.79871562, -0.68035376,  0.52915026, -0.37796447],\n",
       "       [-1.16702317,  0.82636121,  1.68738092,  0.52915026, -0.37796447],\n",
       "       [ 0.99553877,  0.82083209,  2.57528143,  0.52915026, -0.37796447],\n",
       "       [ 0.48868831,  0.21815825, -0.9763206 ,  0.52915026, -0.37796447],\n",
       "       [ 0.26905312, -0.30157882, -1.56825427,  0.52915026, -0.37796447],\n",
       "       [-0.50811758,  0.01911001, -0.9763206 , -1.88982237,  2.64575131],\n",
       "       [ 1.19827895, -1.60092149,  0.68109368, -1.88982237,  2.64575131],\n",
       "       [ 1.26585901,  0.0467556 ,  0.20754674,  0.52915026, -0.37796447],\n",
       "       [-0.91359794, -1.51245561, -1.27228744,  0.52915026, -0.37796447],\n",
       "       [-0.55880263,  0.03569737,  0.50351358,  0.52915026, -0.37796447],\n",
       "       [ 1.40101913,  0.33979884,  1.09544725,  0.52915026, -0.37796447],\n",
       "       [ 1.11380387,  0.39509002,  0.20754674,  0.52915026, -0.37796447],\n",
       "       [-0.35606244,  0.31768237, -0.08842009,  0.52915026, -0.37796447],\n",
       "       [ 1.46859919,  0.50014326,  0.20754674,  0.52915026, -0.37796447],\n",
       "       [ 1.31654405,  0.85953591, -0.68035376,  0.52915026, -0.37796447],\n",
       "       [-0.72775278, -0.70520441, -0.08842009,  0.52915026, -0.37796447],\n",
       "       [ 0.89416868,  0.91482709, -0.38438693,  0.52915026, -0.37796447],\n",
       "       [-0.28848238, -1.02589325,  0.79948042,  0.52915026, -0.37796447],\n",
       "       [-0.5250126 ,  0.2623912 , -1.27228744,  0.52915026, -0.37796447],\n",
       "       [ 0.42110825,  0.6383712 , -0.08842009,  0.52915026, -0.37796447],\n",
       "       [-1.40355338,  0.91482709, -1.27228744, -1.88982237, -0.37796447],\n",
       "       [ 0.82658862,  0.93694356,  0.20754674,  0.52915026, -0.37796447],\n",
       "       [-0.10263722, -0.67202971,  1.68738092,  0.52915026, -0.37796447],\n",
       "       [-0.57569764,  0.43379385, -1.56825427, -1.88982237, -0.37796447],\n",
       "       [-0.66017272,  0.57755091, -0.38438693,  0.52915026, -0.37796447],\n",
       "       [-0.25469235,  0.83741944,  1.68738092,  0.52915026, -0.37796447],\n",
       "       [-0.54190761, -0.41769029,  1.39141409,  0.52915026, -0.37796447],\n",
       "       [ 0.43800327, -1.20835413,  0.20754674,  0.52915026, -0.37796447],\n",
       "       [ 0.55626837, -1.47375178, -0.68035376,  0.52915026, -0.37796447],\n",
       "       [-1.52181849, -1.73914944, -0.38438693,  0.52915026, -0.37796447],\n",
       "       [-1.36976335,  0.95353092,  2.2793146 , -1.88982237,  2.64575131],\n",
       "       [-0.74464779,  0.91482709, -0.08842009,  0.52915026, -0.37796447],\n",
       "       [-0.40674749,  0.95353092,  1.09544725, -1.88982237,  2.64575131],\n",
       "       [ 0.86037865, -1.35764031, -0.08842009,  0.52915026, -0.37796447],\n",
       "       [ 0.08320795, -1.3852859 ,  0.20754674,  0.52915026, -0.37796447],\n",
       "       [ 0.60695342, -0.19099646, -1.27228744,  0.52915026, -0.37796447],\n",
       "       [ 0.64074345, -1.71703297,  1.74657429,  0.52915026, -0.37796447],\n",
       "       [ 1.09690886, -0.83790324, -0.38438693, -1.88982237,  2.64575131],\n",
       "       [-0.38985247, -1.7889115 , -1.56825427,  0.52915026, -0.37796447]])"
      ]
     },
     "execution_count": 31,
     "metadata": {},
     "output_type": "execute_result"
    }
   ],
   "source": [
    "X_test"
   ]
  },
  {
   "cell_type": "code",
   "execution_count": 32,
   "metadata": {},
   "outputs": [],
   "source": [
    "# # Define y\n",
    "# y_train = \n",
    "# y_test =\n",
    "\n",
    "# # Define X\n",
    "# X = pizza.drop(columns=['BrickOven', 'Neighborhood'], axis=1)\n",
    "# heat_dummies = pd.DataFrame(pd.get_dummies(pizza['HeatSource'], drop_first=True))\n",
    "# X = pd.concat([X, heat_dummies], axis = 1)\n",
    "# X = X.drop(columns = ['HeatSource'])"
   ]
  },
  {
   "cell_type": "code",
   "execution_count": 33,
   "metadata": {},
   "outputs": [],
   "source": [
    "# Create the logistic regression object\n",
    "log = LogisticRegression()"
   ]
  },
  {
   "cell_type": "code",
   "execution_count": 34,
   "metadata": {},
   "outputs": [],
   "source": [
    "# Train the model\n",
    "clf = log.fit(X_train, y_train)"
   ]
  },
  {
   "cell_type": "code",
   "execution_count": 35,
   "metadata": {},
   "outputs": [
    {
     "data": {
      "text/plain": [
       "array([0, 0, 0, 0, 0, 0, 1, 1, 0, 0, 0, 0, 0, 0, 0, 0, 0, 0, 0, 0, 0, 1,\n",
       "       0, 0, 1, 0, 0, 0, 0, 0, 0, 1, 0, 1, 0, 0, 0, 0, 1, 0])"
      ]
     },
     "execution_count": 35,
     "metadata": {},
     "output_type": "execute_result"
    }
   ],
   "source": [
    "# Predict the class of the target\n",
    "clf.predict(X_test)"
   ]
  },
  {
   "cell_type": "code",
   "execution_count": 36,
   "metadata": {},
   "outputs": [
    {
     "data": {
      "text/plain": [
       "array([[0.8674775 , 0.1325225 ],\n",
       "       [0.92558837, 0.07441163],\n",
       "       [0.84548906, 0.15451094],\n",
       "       [0.84748707, 0.15251293],\n",
       "       [0.92826175, 0.07173825],\n",
       "       [0.91727439, 0.08272561],\n",
       "       [0.00821332, 0.99178668],\n",
       "       [0.00204347, 0.99795653],\n",
       "       [0.89415226, 0.10584774],\n",
       "       [0.78838554, 0.21161446],\n",
       "       [0.84840742, 0.15159258],\n",
       "       [0.882548  , 0.117452  ],\n",
       "       [0.91185753, 0.08814247],\n",
       "       [0.89649101, 0.10350899],\n",
       "       [0.92145697, 0.07854303],\n",
       "       [0.95267405, 0.04732595],\n",
       "       [0.80716317, 0.19283683],\n",
       "       [0.94583824, 0.05416176],\n",
       "       [0.72379701, 0.27620299],\n",
       "       [0.9265967 , 0.0734033 ],\n",
       "       [0.92367942, 0.07632058],\n",
       "       [0.06444963, 0.93555037],\n",
       "       [0.93361481, 0.06638519],\n",
       "       [0.70974236, 0.29025764],\n",
       "       [0.06034836, 0.93965164],\n",
       "       [0.91600436, 0.08399564],\n",
       "       [0.8646084 , 0.1353916 ],\n",
       "       [0.75009884, 0.24990116],\n",
       "       [0.76524279, 0.23475721],\n",
       "       [0.79537983, 0.20462017],\n",
       "       [0.67681326, 0.32318674],\n",
       "       [0.00393661, 0.99606339],\n",
       "       [0.92312564, 0.07687436],\n",
       "       [0.00711777, 0.99288223],\n",
       "       [0.77944794, 0.22055206],\n",
       "       [0.73282041, 0.26717959],\n",
       "       [0.91852888, 0.08147112],\n",
       "       [0.57701224, 0.42298776],\n",
       "       [0.0048995 , 0.9951005 ],\n",
       "       [0.79074931, 0.20925069]])"
      ]
     },
     "execution_count": 36,
     "metadata": {},
     "output_type": "execute_result"
    }
   ],
   "source": [
    "# Predict the probability of the target\n",
    "clf.predict_proba(X_test)"
   ]
  },
  {
   "cell_type": "code",
   "execution_count": 37,
   "metadata": {},
   "outputs": [
    {
     "data": {
      "text/plain": [
       "0.8"
      ]
     },
     "execution_count": 37,
     "metadata": {},
     "output_type": "execute_result"
    }
   ],
   "source": [
    "clf.score(X_test, y_test)"
   ]
  },
  {
   "cell_type": "code",
   "execution_count": 38,
   "metadata": {},
   "outputs": [
    {
     "data": {
      "text/plain": [
       "0.482837564776135"
      ]
     },
     "execution_count": 38,
     "metadata": {},
     "output_type": "execute_result"
    }
   ],
   "source": [
    "log_loss(y_test, clf.predict_proba(X_test))"
   ]
  },
  {
   "cell_type": "code",
   "execution_count": 39,
   "metadata": {},
   "outputs": [],
   "source": [
    "# Create the logistic regression object\n"
   ]
  },
  {
   "cell_type": "code",
   "execution_count": 40,
   "metadata": {},
   "outputs": [],
   "source": [
    "# Train the model\n"
   ]
  },
  {
   "cell_type": "code",
   "execution_count": 41,
   "metadata": {},
   "outputs": [],
   "source": [
    "# Predict the class of the target\n"
   ]
  },
  {
   "cell_type": "code",
   "execution_count": 42,
   "metadata": {},
   "outputs": [],
   "source": [
    "# Predict the probability of the target\n"
   ]
  }
 ],
 "metadata": {
  "hide_input": false,
  "kernelspec": {
   "display_name": "Python 3",
   "language": "python",
   "name": "python3"
  },
  "language_info": {
   "codemirror_mode": {
    "name": "ipython",
    "version": 3
   },
   "file_extension": ".py",
   "mimetype": "text/x-python",
   "name": "python",
   "nbconvert_exporter": "python",
   "pygments_lexer": "ipython3",
   "version": "3.8.5"
  },
  "latex_envs": {
   "LaTeX_envs_menu_present": true,
   "autoclose": false,
   "autocomplete": true,
   "bibliofile": "biblio.bib",
   "cite_by": "apalike",
   "current_citInitial": 1,
   "eqLabelWithNumbers": true,
   "eqNumInitial": 1,
   "hotkeys": {
    "equation": "Ctrl-E",
    "itemize": "Ctrl-I"
   },
   "labels_anchors": false,
   "latex_user_defs": false,
   "report_style_numbering": false,
   "user_envs_cfg": false
  },
  "nbTranslate": {
   "displayLangs": [
    "*"
   ],
   "hotkey": "alt-t",
   "langInMainMenu": true,
   "sourceLang": "en",
   "targetLang": "fr",
   "useGoogleTranslate": true
  },
  "toc": {
   "base_numbering": 1,
   "nav_menu": {},
   "number_sections": true,
   "sideBar": true,
   "skip_h1_title": false,
   "title_cell": "Table of Contents",
   "title_sidebar": "Contents",
   "toc_cell": false,
   "toc_position": {},
   "toc_section_display": true,
   "toc_window_display": false
  }
 },
 "nbformat": 4,
 "nbformat_minor": 5
}
