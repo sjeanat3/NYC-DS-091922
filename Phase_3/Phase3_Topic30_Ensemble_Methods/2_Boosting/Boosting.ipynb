{
 "cells": [
  {
   "cell_type": "markdown",
   "metadata": {
    "slideshow": {
     "slide_type": "slide"
    }
   },
   "source": [
    "<div style=\"color:white;\n",
    "           display:fill;\n",
    "           border-radius:5px;\n",
    "           background-color:#5642C5;\n",
    "           font-size:200%;\n",
    "           font-family:Arial;letter-spacing:0.5px\">\n",
    "\n",
    "<p width = 20%, style=\"padding: 10px;\n",
    "              color:white;\">\n",
    "Ensemble Learning: Gradient Boosting\n",
    "              \n",
    "</p>\n",
    "</div>\n",
    "\n",
    "Data Science Cohort Live NYC Nov 2022\n",
    "<p>Phase 3: Topic 30</p>\n",
    "<br>\n",
    "<br>\n",
    "\n",
    "<div align = \"right\">\n",
    "<img src=\"Images/flatiron-school-logo.png\" align = \"right\" width=\"200\"/>\n",
    "</div>\n",
    "    \n",
    "    "
   ]
  },
  {
   "cell_type": "code",
   "execution_count": 7,
   "metadata": {
    "slideshow": {
     "slide_type": "skip"
    }
   },
   "outputs": [
    {
     "ename": "ModuleNotFoundError",
     "evalue": "No module named 'sympy'",
     "output_type": "error",
     "traceback": [
      "\u001b[0;31m---------------------------------------------------------------------------\u001b[0m",
      "\u001b[0;31mModuleNotFoundError\u001b[0m                       Traceback (most recent call last)",
      "\u001b[0;32m<ipython-input-7-f3b5e8a7e105>\u001b[0m in \u001b[0;36m<module>\u001b[0;34m\u001b[0m\n\u001b[0;32m----> 1\u001b[0;31m \u001b[0;32mimport\u001b[0m \u001b[0msympy\u001b[0m\u001b[0;34m\u001b[0m\u001b[0;34m\u001b[0m\u001b[0m\n\u001b[0m",
      "\u001b[0;31mModuleNotFoundError\u001b[0m: No module named 'sympy'"
     ]
    }
   ],
   "source": [
    "import sympy"
   ]
  },
  {
   "cell_type": "markdown",
   "metadata": {
    "slideshow": {
     "slide_type": "slide"
    }
   },
   "source": [
    "#### Boosting\n",
    "- Besides bagging: other major framework for ensemble tree learning\n",
    "- Different philosophies of learning."
   ]
  },
  {
   "cell_type": "markdown",
   "metadata": {
    "slideshow": {
     "slide_type": "slide"
    }
   },
   "source": [
    "The Ralph Nader philosophy of learning:"
   ]
  },
  {
   "cell_type": "markdown",
   "metadata": {
    "cell_style": "split",
    "slideshow": {
     "slide_type": "fragment"
    }
   },
   "source": [
    "<img src = \"Images\\mistake_nader.jpg\" />"
   ]
  },
  {
   "cell_type": "markdown",
   "metadata": {
    "cell_style": "split",
    "slideshow": {
     "slide_type": "fragment"
    }
   },
   "source": [
    "<img src = \"Images\\nader.jpeg\" />\n",
    "<center> Nader giving you life lessons about learning theory AND the true source of income inequality in this country. </center>"
   ]
  },
  {
   "cell_type": "markdown",
   "metadata": {
    "slideshow": {
     "slide_type": "slide"
    }
   },
   "source": [
    "Boosting is essentially this:\n",
    "- at each step learner trains on mistakes of previous step.\n",
    "- uses knowledge of mistakes to correct predictions in next step."
   ]
  },
  {
   "cell_type": "markdown",
   "metadata": {
    "slideshow": {
     "slide_type": "slide"
    }
   },
   "source": [
    "**More technically**\n",
    "- Trying to approximate collection of targets $\\{y_i\\}$ with a function $F(x_i)$.\n",
    "\n",
    "Boosting: sequentially update F via step-by-step learning from errors."
   ]
  },
  {
   "cell_type": "markdown",
   "metadata": {
    "slideshow": {
     "slide_type": "fragment"
    }
   },
   "source": [
    "<img src = \"Images/boosting_update.png\" width = 500 />"
   ]
  },
  {
   "cell_type": "markdown",
   "metadata": {
    "cell_style": "split",
    "slideshow": {
     "slide_type": "slide"
    }
   },
   "source": [
    "But there's a general problem with this:\n",
    "- what if what we learn from last mistake is gleaned from a set of situations that are too specific?"
   ]
  },
  {
   "cell_type": "markdown",
   "metadata": {
    "cell_style": "split",
    "slideshow": {
     "slide_type": "fragment"
    }
   },
   "source": [
    "**More technically**\n",
    "\n",
    "Weighting last mistake with respect to the specific training data too strongly.\n",
    "\n",
    "- Our corrections to how we predict will then be too specific to the training data."
   ]
  },
  {
   "cell_type": "markdown",
   "metadata": {
    "cell_style": "center",
    "slideshow": {
     "slide_type": "slide"
    }
   },
   "source": [
    "**I just overfitted**"
   ]
  },
  {
   "cell_type": "markdown",
   "metadata": {
    "slideshow": {
     "slide_type": "fragment"
    }
   },
   "source": [
    "Yes I learned from a specific set of mistakes:\n",
    "- but have I learned a sufficiently general lesson?"
   ]
  },
  {
   "cell_type": "markdown",
   "metadata": {
    "slideshow": {
     "slide_type": "fragment"
    }
   },
   "source": [
    "Want to learn from last mistakes in a way that is **generalizable**"
   ]
  },
  {
   "cell_type": "markdown",
   "metadata": {
    "cell_style": "center",
    "slideshow": {
     "slide_type": "slide"
    }
   },
   "source": [
    "One possibility: \n",
    "- don't weight lesson from any one mistake too strongly.\n",
    "- perhaps even learn from different mistakes in a \"weak\" manner\n",
    "- BUT do this a bunch of times in sequence.\n"
   ]
  },
  {
   "cell_type": "markdown",
   "metadata": {
    "cell_style": "center",
    "slideshow": {
     "slide_type": "fragment"
    }
   },
   "source": [
    "The hope is that eventually:\n",
    "\n",
    "- Gain wisdom via each generation learning from the previous \n",
    "- But in a weak way: take some of the \"lessons\" but not all."
   ]
  },
  {
   "cell_type": "markdown",
   "metadata": {
    "slideshow": {
     "slide_type": "slide"
    }
   },
   "source": [
    "<center><b> Can such a sequence of weak learners create a single strong learner? </b></center>"
   ]
  },
  {
   "cell_type": "markdown",
   "metadata": {
    "slideshow": {
     "slide_type": "fragment"
    }
   },
   "source": [
    "The answer is yes."
   ]
  },
  {
   "cell_type": "markdown",
   "metadata": {
    "slideshow": {
     "slide_type": "slide"
    }
   },
   "source": [
    "#### Gradient Boosting"
   ]
  },
  {
   "cell_type": "markdown",
   "metadata": {
    "cell_style": "split",
    "slideshow": {
     "slide_type": "fragment"
    }
   },
   "source": [
    "<img src = \"Images/boosting_update.png\" width = 500 />"
   ]
  },
  {
   "cell_type": "markdown",
   "metadata": {
    "cell_style": "split",
    "slideshow": {
     "slide_type": "fragment"
    }
   },
   "source": [
    "Getting better approximations on $F$ iteratively.\n",
    "- Looks a lot like gradient descent.\n",
    "\n"
   ]
  },
  {
   "cell_type": "markdown",
   "metadata": {
    "slideshow": {
     "slide_type": "slide"
    }
   },
   "source": [
    "Use regression as example:\n",
    "\n",
    "- Least squares objective function:"
   ]
  },
  {
   "cell_type": "code",
   "execution_count": 3,
   "metadata": {
    "slideshow": {
     "slide_type": "slide"
    }
   },
   "outputs": [
    {
     "ename": "ModuleNotFoundError",
     "evalue": "No module named 'sympy'",
     "output_type": "error",
     "traceback": [
      "\u001b[0;31m---------------------------------------------------------------------------\u001b[0m",
      "\u001b[0;31mModuleNotFoundError\u001b[0m                       Traceback (most recent call last)",
      "\u001b[0;32m<ipython-input-3-9ecea8889946>\u001b[0m in \u001b[0;36m<module>\u001b[0;34m\u001b[0m\n\u001b[0;32m----> 1\u001b[0;31m \u001b[0;32mfrom\u001b[0m \u001b[0msympy\u001b[0m \u001b[0;32mimport\u001b[0m \u001b[0;34m*\u001b[0m\u001b[0;34m\u001b[0m\u001b[0;34m\u001b[0m\u001b[0m\n\u001b[0m\u001b[1;32m      2\u001b[0m \u001b[0;32mfrom\u001b[0m \u001b[0msympy\u001b[0m\u001b[0;34m.\u001b[0m\u001b[0mabc\u001b[0m \u001b[0;32mimport\u001b[0m \u001b[0mx\u001b[0m\u001b[0;34m,\u001b[0m \u001b[0my\u001b[0m\u001b[0;34m\u001b[0m\u001b[0;34m\u001b[0m\u001b[0m\n\u001b[1;32m      3\u001b[0m \u001b[0;34m\u001b[0m\u001b[0m\n\u001b[1;32m      4\u001b[0m \u001b[0mx\u001b[0m\u001b[0;34m,\u001b[0m \u001b[0my\u001b[0m\u001b[0;34m,\u001b[0m \u001b[0mi\u001b[0m\u001b[0;34m,\u001b[0m \u001b[0mN\u001b[0m\u001b[0;34m,\u001b[0m \u001b[0mh\u001b[0m\u001b[0;34m,\u001b[0m \u001b[0mF\u001b[0m \u001b[0;34m=\u001b[0m \u001b[0msymbols\u001b[0m\u001b[0;34m(\u001b[0m\u001b[0;34m\"x, y, i, N, h_0, F\"\u001b[0m\u001b[0;34m)\u001b[0m\u001b[0;34m\u001b[0m\u001b[0;34m\u001b[0m\u001b[0m\n\u001b[1;32m      5\u001b[0m \u001b[0mL\u001b[0m \u001b[0;34m=\u001b[0m \u001b[0msummation\u001b[0m\u001b[0;34m(\u001b[0m\u001b[0;34m(\u001b[0m\u001b[0mIndexed\u001b[0m\u001b[0;34m(\u001b[0m\u001b[0;34m'y'\u001b[0m\u001b[0;34m,\u001b[0m\u001b[0mi\u001b[0m\u001b[0;34m)\u001b[0m \u001b[0;34m-\u001b[0m \u001b[0mF\u001b[0m\u001b[0;34m)\u001b[0m\u001b[0;34m**\u001b[0m\u001b[0;36m2\u001b[0m \u001b[0;34m,\u001b[0m\u001b[0;34m(\u001b[0m\u001b[0mi\u001b[0m\u001b[0;34m,\u001b[0m\u001b[0;36m1\u001b[0m\u001b[0;34m,\u001b[0m\u001b[0mN\u001b[0m\u001b[0;34m)\u001b[0m\u001b[0;34m)\u001b[0m\u001b[0;34m/\u001b[0m\u001b[0;36m2\u001b[0m\u001b[0;34m\u001b[0m\u001b[0;34m\u001b[0m\u001b[0m\n",
      "\u001b[0;31mModuleNotFoundError\u001b[0m: No module named 'sympy'"
     ]
    }
   ],
   "source": [
    "from sympy import *\n",
    "from sympy.abc import x, y\n",
    "\n",
    "x, y, i, N, h, F = symbols(\"x, y, i, N, h_0, F\")\n",
    "L = summation((Indexed('y',i) - F)**2 ,(i,1,N))/2"
   ]
  },
  {
   "cell_type": "code",
   "execution_count": 24,
   "metadata": {
    "cell_style": "split",
    "slideshow": {
     "slide_type": "slide"
    }
   },
   "outputs": [
    {
     "ename": "NameError",
     "evalue": "name 'L' is not defined",
     "output_type": "error",
     "traceback": [
      "\u001b[0;31m---------------------------------------------------------------------------\u001b[0m",
      "\u001b[0;31mNameError\u001b[0m                                 Traceback (most recent call last)",
      "\u001b[0;32m<ipython-input-24-a9dfae9159c1>\u001b[0m in \u001b[0;36m<module>\u001b[0;34m\u001b[0m\n\u001b[0;32m----> 1\u001b[0;31m \u001b[0mL\u001b[0m\u001b[0;34m\u001b[0m\u001b[0;34m\u001b[0m\u001b[0m\n\u001b[0m",
      "\u001b[0;31mNameError\u001b[0m: name 'L' is not defined"
     ]
    }
   ],
   "source": [
    "L"
   ]
  },
  {
   "cell_type": "markdown",
   "metadata": {
    "cell_style": "split",
    "slideshow": {
     "slide_type": "fragment"
    }
   },
   "source": [
    "Take gradient with respect to the function $F$"
   ]
  },
  {
   "cell_type": "code",
   "execution_count": null,
   "metadata": {
    "cell_style": "split",
    "slideshow": {
     "slide_type": "fragment"
    }
   },
   "outputs": [],
   "source": [
    "gradL = diff(L, F)\n",
    "gradL"
   ]
  },
  {
   "cell_type": "markdown",
   "metadata": {
    "slideshow": {
     "slide_type": "slide"
    }
   },
   "source": [
    "Thus:"
   ]
  },
  {
   "cell_type": "markdown",
   "metadata": {
    "cell_style": "center",
    "slideshow": {
     "slide_type": "fragment"
    }
   },
   "source": [
    "$$ \\nabla_FL = \\sum_{i=1}^N \\Big(F(x_i)- y_i\\Big) $$\n",
    "\n",
    "or $$ - \\nabla_FL = \\sum_{i=1}^N  \\Big(y_i - F(x_i)\\Big) $$\n",
    "**This is  error we input to learner at each step**"
   ]
  },
  {
   "cell_type": "markdown",
   "metadata": {
    "cell_style": "split",
    "slideshow": {
     "slide_type": "slide"
    }
   },
   "source": [
    "Input into a regressor:\n",
    "\n",
    "Want to learn from errors at given stage $m$:"
   ]
  },
  {
   "cell_type": "markdown",
   "metadata": {
    "cell_style": "split",
    "slideshow": {
     "slide_type": "fragment"
    }
   },
   "source": [
    "<img src = \"Images/train_mistakes.png\" />"
   ]
  },
  {
   "cell_type": "markdown",
   "metadata": {
    "cell_style": "split",
    "slideshow": {
     "slide_type": "slide"
    }
   },
   "source": [
    "Now we have a statistical model that can predict error from previous step:\n",
    "\n",
    "- Learned function:\n",
    "$$h_m(x_i)$$"
   ]
  },
  {
   "cell_type": "markdown",
   "metadata": {
    "cell_style": "split",
    "slideshow": {
     "slide_type": "fragment"
    }
   },
   "source": [
    "<img src = \"Images/error_prediction.png\" />"
   ]
  },
  {
   "cell_type": "markdown",
   "metadata": {
    "cell_style": "center",
    "slideshow": {
     "slide_type": "slide"
    }
   },
   "source": [
    "Adding this to previous estimator: previous estimator + training error\n",
    "    \n",
    "$$ F_{m+1}(x_i) = F_m(x_i) + h_m(x_i) $$\n",
    "\n",
    "Corrects for error in previous stage."
   ]
  },
  {
   "cell_type": "markdown",
   "metadata": {
    "slideshow": {
     "slide_type": "fragment"
    }
   },
   "source": [
    "This is good, right?"
   ]
  },
  {
   "cell_type": "markdown",
   "metadata": {
    "slideshow": {
     "slide_type": "slide"
    }
   },
   "source": [
    "Not necessarily. If regressor is good at fitting error:\n",
    "\n",
    "- this is a super-strong learner:\n",
    "- Accounts too strongly for specific training errors  at step $m$.\n",
    "\n",
    "**Will introduce variance problems**"
   ]
  },
  {
   "cell_type": "markdown",
   "metadata": {
    "slideshow": {
     "slide_type": "slide"
    }
   },
   "source": [
    "A way to make learner weak: \n",
    "- simpler decision trees\n",
    "- the learning rate $\\alpha$"
   ]
  },
  {
   "cell_type": "markdown",
   "metadata": {
    "slideshow": {
     "slide_type": "slide"
    }
   },
   "source": [
    "#### Weaker vs. stronger learners: decision tree depth"
   ]
  },
  {
   "cell_type": "markdown",
   "metadata": {
    "cell_style": "split",
    "slideshow": {
     "slide_type": "slide"
    }
   },
   "source": [
    "<center><b>Strong Learner </b> </center>\n",
    "<img src = \"Images/deep_tree.png\" />\n",
    "<center> Will train on errors at each step very well. But probably too well. </center>"
   ]
  },
  {
   "cell_type": "markdown",
   "metadata": {
    "cell_style": "split",
    "slideshow": {
     "slide_type": "fragment"
    }
   },
   "source": [
    "<center><b>Weak learner </b></center>\n",
    "<center><img src = \"Images/dec_stump.png\" width = 250/></center>\n",
    "\n",
    "<center> Decision boundary learned by stump: </center>\n",
    "<center><img src = \"Images/dectree_stump_boundary.png\" width = 250/></center>"
   ]
  },
  {
   "cell_type": "markdown",
   "metadata": {
    "slideshow": {
     "slide_type": "slide"
    }
   },
   "source": [
    "#### The learning rate"
   ]
  },
  {
   "cell_type": "markdown",
   "metadata": {
    "cell_style": "split",
    "slideshow": {
     "slide_type": "fragment"
    }
   },
   "source": [
    "Instead of:\n",
    "    \n",
    "$$ F_{m+1}(x_i) = F_m(x_i) + h_m(x_i) $$\n",
    "\n",
    "with $ h_m(x_i)$ learned by tree."
   ]
  },
  {
   "cell_type": "markdown",
   "metadata": {
    "cell_style": "split",
    "slideshow": {
     "slide_type": "fragment"
    }
   },
   "source": [
    "Weight learning from mth mistake weakly:\n",
    "\n",
    "$$ F_{m+1}(x_i) = F_m(x_i) + \\alpha h_m(x_i) $$\n",
    "\n",
    "where $\\alpha$ is small. \n",
    "\n",
    "- Weakens effect of learning from error."
   ]
  },
  {
   "cell_type": "markdown",
   "metadata": {
    "slideshow": {
     "slide_type": "slide"
    }
   },
   "source": [
    "The learning rate $\\alpha$ controls how much we weight learners:\n",
    "\n",
    "- We weight how we factor in our learning from mistakes of a given step weakly.\n"
   ]
  },
  {
   "cell_type": "markdown",
   "metadata": {
    "slideshow": {
     "slide_type": "slide"
    }
   },
   "source": [
    "The learning rate (one factor controlling weakness of learners): connects to gradient descent"
   ]
  },
  {
   "cell_type": "markdown",
   "metadata": {
    "cell_style": "center",
    "slideshow": {
     "slide_type": "fragment"
    }
   },
   "source": [
    "$$ F_{m+1}(x_i) = F_m(x_i) + \\alpha h_m(x_i) $$"
   ]
  },
  {
   "cell_type": "markdown",
   "metadata": {
    "cell_style": "center",
    "slideshow": {
     "slide_type": "fragment"
    }
   },
   "source": [
    "$$ F_{m+1}(x_i) = F_m(x_i) + \\alpha \\Big(y_i - F_m(x_i)\\Big)_{estimated} $$\n"
   ]
  },
  {
   "cell_type": "markdown",
   "metadata": {
    "slideshow": {
     "slide_type": "slide"
    }
   },
   "source": [
    "But we know that:\n",
    "$$ - \\nabla_F L|_{x_i} = \\sum_i^{N} \\Big(y_i - F_m(x_i)\\Big) $$"
   ]
  },
  {
   "cell_type": "markdown",
   "metadata": {
    "cell_style": "center",
    "slideshow": {
     "slide_type": "slide"
    }
   },
   "source": [
    "$$ F_{m+1}(x_i) = F_m(x_i) + \\alpha \\Big(y_i - F_m(x_i)\\Big)_{estimated} $$"
   ]
  },
  {
   "cell_type": "markdown",
   "metadata": {
    "cell_style": "center",
    "slideshow": {
     "slide_type": "fragment"
    }
   },
   "source": [
    "$$ F_{m+1}(x_i) = F_m(x_i) - \\alpha \\nabla_F L|_{x_i} $$"
   ]
  },
  {
   "cell_type": "markdown",
   "metadata": {
    "cell_style": "center",
    "slideshow": {
     "slide_type": "slide"
    }
   },
   "source": [
    "$$ F_{m+1}(x_i) = F_m(x_i) - \\alpha \\nabla_F L|_{x_i} $$"
   ]
  },
  {
   "cell_type": "markdown",
   "metadata": {
    "cell_style": "center",
    "slideshow": {
     "slide_type": "fragment"
    }
   },
   "source": [
    "Doing gradient descent:\n",
    "- iteratively adding onto (or boosting) estimator to lower loss.\n",
    "- Parameter $\\alpha$ controlling gradient step also representing weakness of learning at each stage.\n"
   ]
  },
  {
   "cell_type": "markdown",
   "metadata": {
    "slideshow": {
     "slide_type": "slide"
    }
   },
   "source": [
    "That's why its called gradient boosting!\n",
    "\n",
    "General framework: with different $L$ applies to classification, etc."
   ]
  },
  {
   "cell_type": "markdown",
   "metadata": {
    "slideshow": {
     "slide_type": "slide"
    }
   },
   "source": [
    "A summary of the learning process in more detail:"
   ]
  },
  {
   "cell_type": "markdown",
   "metadata": {
    "slideshow": {
     "slide_type": "fragment"
    }
   },
   "source": [
    "<center><img src = \"Images/update_detailed_process.png\" width = 1000/></center>"
   ]
  },
  {
   "cell_type": "code",
   "execution_count": 8,
   "metadata": {
    "slideshow": {
     "slide_type": "skip"
    }
   },
   "outputs": [],
   "source": [
    "import pandas as pd\n",
    "import numpy as np\n",
    "import matplotlib.pyplot as plt\n",
    "from scipy.stats import norm\n",
    "from sklearn.tree import DecisionTreeRegressor, plot_tree\n",
    "\n",
    "%matplotlib inline"
   ]
  },
  {
   "cell_type": "markdown",
   "metadata": {
    "slideshow": {
     "slide_type": "slide"
    }
   },
   "source": [
    "#### Fit a noisy sinusoid with boosting:"
   ]
  },
  {
   "cell_type": "code",
   "execution_count": 9,
   "metadata": {
    "scrolled": true,
    "slideshow": {
     "slide_type": "slide"
    }
   },
   "outputs": [
    {
     "data": {
<<<<<<< HEAD
      "image/png": "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\n",
=======
      "image/png": "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\n",
>>>>>>> upstream/main
      "text/plain": [
       "<Figure size 432x288 with 1 Axes>"
      ]
     },
     "metadata": {
      "needs_background": "light"
     },
     "output_type": "display_data"
    }
   ],
   "source": [
    "import numpy as np\n",
    "X = np.linspace(0,40,1000)\n",
    "y = np.sin(X) + norm.rvs(loc = 0, scale = .4, size = 1000)\n",
    "fig, ax = plt.subplots()\n",
    "ax.scatter(X, y);"
   ]
  },
  {
   "cell_type": "markdown",
   "metadata": {
    "slideshow": {
     "slide_type": "slide"
    }
   },
   "source": [
    "#### Starting point: the dummy model\n",
    "\n",
    "Dummy regressor: average of our $\\{y_i\\}$ as a model of our data."
   ]
  },
  {
   "cell_type": "code",
   "execution_count": 10,
   "metadata": {
    "cell_style": "center",
    "scrolled": false,
    "slideshow": {
     "slide_type": "slide"
    }
   },
   "outputs": [],
   "source": [
    "%%capture dummyapprox\n",
    "fig, ax = plt.subplots()\n",
    "ax.scatter(X, y, label = 'Data')\n",
    "f0 = y.mean()\n",
    "ax.hlines(f0, 0, 40, linestyle = '--', color = 'r', label = 'Dummy Regressor')\n",
    "ax.set_ylabel('y')\n",
    "ax.set_xlabel('X')\n",
    "ax.legend()\n",
    "plt.show()"
   ]
  },
  {
   "cell_type": "code",
   "execution_count": 11,
   "metadata": {
    "cell_style": "center",
    "slideshow": {
     "slide_type": "fragment"
    }
   },
   "outputs": [
    {
     "data": {
<<<<<<< HEAD
      "image/png": "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\n",
=======
      "image/png": "iVBORw0KGgoAAAANSUhEUgAAAYAAAAEGCAYAAABsLkJ6AAAAOXRFWHRTb2Z0d2FyZQBNYXRwbG90bGliIHZlcnNpb24zLjUuMSwgaHR0cHM6Ly9tYXRwbG90bGliLm9yZy/YYfK9AAAACXBIWXMAAAsTAAALEwEAmpwYAABQLUlEQVR4nO29f3xU1Z3//zozuZAJIgGNLQ4i2H4WXEUSSBVLf4irxArUCCp1tQ/pflo/bb/2U2ibFru2gmsrNgrsrlu3frYt2+raiGhWpZ9FFPpttUUNJkhR0KoIjq5EIChkQiYz5/PHzBnu3Lnn3HPv3J+Z83w8fEiS+XHuueeeH+8frzehlEKhUCgU1Ucs6AYoFAqFIhjUAqBQKBRViloAFAqFokpRC4BCoVBUKWoBUCgUiiqlJugG2OHUU0+lkyZNCroZCoVCESm2b9/+PqW0wfj7SC0AkyZNQldXV9DNUCgUikhBCHnL7PfKBKRQKBRViloAFAqFokpRC4BCoVBUKWoBUCgUiipFLQAKhUJRpUQqCshrOrtTaN+0B+/0pXF6fQJtLVPQ2pQMulkKhULhCWoBKNDZncLNj+xEOpMFAKT60rj5kZ0AoBYBhUIxLFEmoALtm/YUJ39GOpNF+6Y9AbVIoVAovEUtAAXe6Uvb+r1CoVBEHbUAFDi9PmHr9wqFQhF11AJQoK1lChJavOR3CS2OtpYpAbVIoVAovEU5gQswR6+KAlIoFNWCWgB0tDYl1YSvUCiqBmUCUigUiipFLQAKhUJRpagFQKFQKKqUwHwAhJAzAPwKwEcB5ADcRyn9x6Dao1B4gZIXUdjB7/ESpBN4CMC3KaUvEkJGA9hOCNlMKX05wDYpFK6h5EUUdghivARmAqKUvkspfbHw7w8BvAJAPRWKYYOSF/Gfzu4UZq/agsnLN2L2qi3o7E4F3SRpghgvoQgDJYRMAtAE4LmAm6JQuEYU5UWibLKK+okriPESuBOYEHISgA0AllJKPzD5+42EkC5CSFdvb6//DVQoHBI1eRE2gab60qA4MYFGZRcd9RNXEOMl0AWAEKIhP/k/QCl9xOw1lNL7KKXNlNLmhoYGfxuoUFRA1ORFoj6BRvHEpSeI8RJkFBAB8HMAr1BKVwfVDoXCK6ImLxL1CfT0+gRSJm0N64nLSBDjJUgfwGwAXwSwkxDSU/jd9ymlvw2uSQqFu0RJXiTqE2hby5QSHwAQ7hOXGX6Pl8AWAErpMwBIUN+vUChKifoEGrUTVxgIRRRQ2IhyJIRC4ZThMIFG6cQVBgilNOg2SNPc3Ey7uro8/Q5jKBmQP6ZcN2sibm+d5ul3VxvDZaEdLtehGL4QQrZTSpvLfq8WgFJmr9piagclANYsblQPtkuYLbQJLY47Fk6LVB+bXYcWIziptgZ9/Rm1IChCAW8BCDwPIGzwIh4oEJlwuCgQ9ZBDhtl1ZHIUh/szkYylV4QDvzKalQ/AAC8SAohOOFwUiHrIIUOmvWxhU6cABQ+9GXFMQsOxwSFksnnrTKovjWUdPeh665DrZmh1AjDQ1jKFG5oUlXC4KBC1LFkesu0N68IWZe2c4YIxA7svnSlO/gwK4IFt+1y/P2oBMNDalMR1syaWLQJRCoeLAlHLkjXCJs5UX1oqljmMC1vUpR+GC2ZmRDO8MEOrBcCE21unYc3iRiTrEyAAkvWJSDonw7yza21K4o6F00r6eNHMJNo37Qltmxn6iRPIP5hWi0AYF7bh4oeJOnZOh26fJJUPgEOU44mjooqo7+OotBkwnzgpgDghyHKi6tikGqZrGS5+mKgj8juavdZN1AlgGBLFnV2U2sybILOUlpm1GGE0r/AmEwqE+gQ23DAzh5pNzF6YSNUCMAyJ4s4uSm3mTZzMVJjk/D1sC5rZxMMI44I1XDEzh65e3Ii1Ppihq9oENFwzOKMo6sVrc4wQdHanQnVfRJo5zKw1eflGmBmDwrSg6aUfzPpeha/6B8/k7HXfV+0JgBcBcUvnzlA7T2WIYoQNbzeapTR0O1GzHZtxdxaVMNfWpiSeXX4x14kdpgVLhrAHP4SNqj0B8GzOD2zbV9y5hdkRacXImljx+sbWaZh33ni0b9qDZR09oTztsLZ8+6EdZY7UMO5ErYIEoqasGcVTo5EoBRKI8NMyUbUnAJHkg56w2W2tYA9BXzpT/N3RgSF0vLA/9PHerU1J5DhRNFHbicqcEsJEFE+NRqIUSMDD79yMqj0B2Am9itLkw9OmMRLGXTUwPHaijCiFEhuloMckNBACLOvoQfumPaE7MZoRpUACHrxFbMVjuzzp/6o9AZjteIaDBESQSSVuwPMF9A8Ohe7EMtxg/oA1ixtxfCgXekE7o72/vk4zfR0LJIgCvGeyL53x5BqqdgEwO6JfN2ti5I/BdharMC5s7L4ktNKhebg/E8pJaDgiY0oJ2tlqZio5OjAELV6+jQtjIAEP0TPphSmrahcA4MSO581V8/Ds8otxe+u0SNltzWhrmVL2EMQIyn4X9oVtIJMr+13U7LlRxcqUEgYNIZ6pc9SIGsRJ+SIQlbEjeiZlTdZ2qFofAI8o2W3NogUAlHmy44Rg8SfOwNbdvZHIeWjftMc0hh7IPwSzV20JdfujjpUfRnRC8Oue8BapI7rgB9n3hInWpiRWPr4Lh/vNr8PtnBi1AEQMNukzFUpjyGqtFitz+mZyFPdv24dkfSIUVc2swtysdjpRCO+LQpIhr41WIaxhcLZaLVJRDiSYd9543L9tn+nf3HYGV7UJKGqYqVDqSWey3J0DEA5nnoz5wOwIbyTMR/owmEisELWxtSmJRTOTxfsQJwSLZp44GYchyU0UthrlkNbO7hQ2bOePkz7BCccJ6gQQIWR1w0UEHf7JMx8s1YUb8hQ1jYT1SB8GE4kVVo7eDdtTxfuQpfkTJNuV1mkxaHFSUrTE7wnWKGMRJ6TY/raWKbhj4bTQnsA6u1NY8diu4mQeI0CO5n2O/YNDFT/jdlALQISQmfDqExqOD+WEg8jviVNvahBN7WwXOrZOE55kGGE90vP6N9WXxuTlG0MxIYnMOFYbjf5MDjGSzzAPsvA9+z6z7N87Fk7Ds8sv9rU9MnR2p9C2fkeJmZb9U8bJO5YT6uoUtQBECKvkNYL8EbE+oaFWi3EnUT8nTmN6vhXpTBYja2JIaHHhe8J8pBfdJ725BQjOh8FrI2ufFTkK1I2oQfcP53rQOnmsTjJhOwW0b9pjmpgpgxYnuHXBOa62R/kAIoRIvhc44RPoS2cwkMnh+hDkNTgxWx1JZ8rCca+fNTEy4blW9wkI3odhFi5slzCY4HiLFVtkw+aHcRrKObZOQ/tV05UctJcYoyLmTG0IVeik0e6pjwIyks5k8eBz+3HtBcGGfzqZJE6vT0QqHNdIa1MSXW8dKhEWNCPwCdTZRrRIGExwoipsYfTDiNrLg5navKgqV9ULgH7CH5PQ8OHxIWQLx7NUX7okFCsMx3b23a1NyWJBchFZStHx/H60X+3+zkEWnqkhWViMoqSYaYetu3st59cgJ9BKTBFA3hwRhvtkdzINetG1214ARVOuF3NQ1ZqAjGFwfelMcfLnkc5k8e2HdoRCa1x2IGdyFCse2+Vxa/iIQvKiXBjeCqv7E9RCxyQcKskq9cocYZfO7hRXv4tH0KcWXrU4Wdw2HVbtCcBpSCVbwYM+EdhRM3U7dtgORpVJoxmKnWhYaJzx1LWsowfru/Zh78F0aExxMtQLIpmSAV2DXYe8GXGSd0SGof9FGeM8+geHAo3EMjv12sXNU0zVLgBudGKQNkU3BpJfWNnzRRMTBfDs64eKPwe98IrQmxR51Ce0wMIT3cgjyVKKZR09WNrRE9hCxnDyDHtpTpHBqgynDG6eYqrWBORWJwZlU2Tmk/qEdVyw27HDbmN3Ygoygoangmk0KfJ2piKtGq9xa6wa5UeCMtNV+gwHNY6YCOXaxY2W0WJG3DYdVu0CIBOqJ0OQNsXWpiRGjRQf4uIx92OH3cbJxMRE4fycfETyCbKLWJDjxYvvDnIxduMZDtIpbLaJq9NiGFun+Rb+XLUmIKC0bq4TwhCxYjWAR4+sCZ2pxIgdf4Yev4/xvKSjZQ/1QCa4I6HFMWdqA2av2hKIP4MXdbVoZhJP7HjXsa8oyFNw11uH8OBz+x1F1wDBLshGSQggn2WdyVLfRBsDXQAIIb8AMB/AAUrpuX59rxvOMACBJSOV2JpFyQAI1uRgBU/Z1A5++mG4daQFDY8TghylxbySDdtTgRUtFznkb2+dBgCOIoT8zizXh24fGxxyPPkHuYETzUGZHMXNj7w0/BcAAOsA3APgV35+qRvOsGQhWclvygaOxdgfk9AC23GKMF5HJTlJfu1A7Z5UElq8ZJMwe9WWQJOTZCSq7faln5OocczInFjYxiIZssROqzkonclh0vKNnjvaA10AKKW/J4RM8vt7K50wtFhwSTB2F6++dKb4oKT60mhbvwMrH99VIuLFPtfPB8ONRZjh1w60rWUKlnb0CF+jn3CM/RiUjr6ZqYF3+pBZ5PSnGj8nUTtjhgBl2fxbd/eGZgMke8+9PiWG3glMCLmRENJFCOnq7e115TMrnjAqk1CpiErLwmVytKTYd9v6HWh7eIfvmil2Jj1ReQACcRk9N2ltSlpGVLHJ/9nlFxcfWBY5xDvleLmAsV2z2W7ZzIHb1jIFWkw8wHOUFsuohlFWJFmfwJur5qGtZQo2bE+FTg+oszuFmETNC4aXjvbQLwCU0vsopc2U0uaGhgZXPnPO1Mo+J5Ol+PZDOwIZSDLFUuyQydESXXfAn8gOO5MepSc06PUQANfNmujrJCQTUaWfqIxFfIx4bUKx2jUbJ9XWpiROqhUbBoJynMp+b1//IDcyK2gRPjYe7PotvKgHDERgAXAbq4o7smQpDWQ34dThZRevzRJ2Q/j6MzlksxRscxonBNfNmlh0XvpFa1MS18+aKHyNfqISTcB+qJpa3UezSbXPohZDUOZP2TFzbDBfYEikFBoUKx/f5cj0SQBP5pqqWwCc3gAzgthNVKolIovXuzw7iWyMHE4Uz8hSig3bU74twPoEsK27ewtS2+WPj3FHz5uACeCLCUV0H/VhqfrENtF7RtbEsKyjx9ccDNb3yzp6MLLmRJy8U7yaTK3o7E4JCx2Jnm0KeGJ1CHQBIIQ8COBPAKYQQt4mhPxPL7/P6gY4IdWX9nUw8cTV3Mz29TOy4/hQzvF7mTif1/1vlgB2/7Z9SGfK257OZPH9R15C021PYvLyjVxbr5+Oa96umYCi44X9ZTbyOVMbTN8TI/n75ac93Uy0cSCTw5rFjY43QxQIxAwk+k7mN9q7ah73NV5YHQJdACil11JKx1NKNUrpBErpz738Pq9uup+mIDMFzTsWTsOtC86xdN7J4GexFbe0abzuf7vt7M/kio52M5OdnwusfrwApfELLOlITzqTxdbdvWVjbGydBqNYrh8nYJEdv5JM4CCS10TfqR8PooVNqYFWgNObrsUIhnJUWHzFq1huXuy2/rvYa2T13UfECShQVtTb78Q2t2yxXsfSuz1ZLJrpb7EbOzUkgPz1GsfY5OUbua/1ElHoLGufMcRVhiAc2bwQW2YGZfk6YxIatDgpW5wZSg3UIbKJPFqM4KTammKsfF//IDKD4h2gFw+CMfGFHbu73jpUjG1m2ZC8wWKkPqGh59a5UklBXuOkOhIPLycip1IVPDa+9K7vzmtAvo/MJkdeH3g9kVp9Lxuz33qop+yEwiOoDGCegu/gUBZtD+8oPsN96Qy0GEGMwPSa3OzzqloAZCSU44SUVdCaxNn96PHiQeAdf/WlBu3ufPrSGTTd9iRuXXBOYLLEDDcjmryciNpappQ8oJXith9KFpmFjFX6MkouDA6VPzN+TKQyVePaN+3hTv76DOBUXxpxQkrMKEFIQZvp/xjJ5CjqExqOD+U8rZhXVQuAVU1dAuDaC86wPSi8ehC42jMVfu7h/gzaHt4BIDhN/c7ulGsnAF92dC5H3wYhzzFnaoNlneKaGCmboMw2GWPrNMw7bzzaN+3Bso4e16/DuADVarGy7HXWh7zrYZFW7PPMTtOA/4tA+6Y9Uhu3I+kM1ixu9PSkTqhPceVu0NzcTLu6ulz7vFs6d5Y9EEbzT1vLFKGN0UutjkpL91nBIg/8RiSERQDUjYjjmIXJjeFHURKv74Mf/hezsV4JZuJ9bl2H2fhgnw3Ys/mz8cErwMJMon4yeflGqfvAnk83zLWEkO2U0uay31fjAqBXobSCyeX+x7Z90B/UYgBWeyzZavYgOFXNNIMAeFMQduYVVhOqFiMAgaXJxa+HV/aBrQQv9XU6u1NY1tHj+TUAlW0qrJ5LM5OIDAktLnzPWg+fY+NJhhA5EyB7zutNfHxOFlreAlB1iWBWqflG0pksntjxLuIGGQLjz5W0x6zCFGAe8nndrImWSTAja+Rua1Ap/VbOyEyOijWWC/hV69iPfspS6ll8vZPauU5x6oyXeS770hlHYcPpTFYooeJVKKtZDoOs/0fv4/NSqqWqfACAs9hzs4kmk6UVhx7K2CV59XT1xdONyCZXBZXSL+OMNPGLBYZM8AABEIsRZGVDUQS4HdYqmpTdjMQC8vLjTnBTHdYM0TV6FUHm5TW51eaqOwG4ebMr/Sy7YlXstCCa/GUZNaLycphOcWvh8avWsTGZiu0m9XtKivzDxGQK6hMaKsnLc3Oc1nP6iQU9uJFAyPjw+JCj04vV9bqd7a6HAp5IW3gdmuwGVXcCcDOmmw0cpzZb3gBh9W6Z02fO1IaKSvaZcWwwi2UdPeh661AggmorH99VcTikn7WOjScxMz9GJkdRN6IG3T/M+yV4yVMyuPWAd3ancHRgyPRv182aiCd2vCudQChDNufsZCx6LpO6yB+regxO8SIqSGauSdYnhJFMZrBQXTeouhNApVLQRiqx2fIeclL4XL3ujBf2boq8KYnp1ngt8KX3d1CKMnlnuwRZ2EOUoWql/2/E2A9uhrXyMsQJgAc8GldOdr48jau1ixuLonmtTUlPT65uyyxY1VZgYnx2agMAwKgR7tX5rqoFoLM7hY7n97v+uU4HjtmgdzPKRxZ9gRivdHXMHGKgcGwm8UsVlQdv8a7V8mqZdk6Zo0bUlGk7eW3/p/BunDk5vfA0rvT9cEvnTunwYKe4bbbhubKS9QksmpnEhu0p2z4YN+t8V5UJyI5ejl2cDByzIt1BapUD3unqmPk7eNmOMgTlwAbyi9mx4+VmFS1GTBVCrTiSzpTIcyzr6CmKnVV6H/weU/EKyqXyAh6AfJ8/4ILvywo3I75WPr5LGBSw8aV3HTmJlRSEQ8LolJGxLfuNF/3E+8y+dAb1Cc3Wg1Cf0ALNYDaLCGIOSid+jdPrE55lqsrUMeZRp8VMK8aJGD3SPfOEHqehrPUJDaNG1hRlIKx2225uLERjwekzrqQgHMB2VqJbT4hU6Lkpbt4UmZBDKwjy4XhO7btexL3X12ncB6IvneGavoy/12IEhOQdrCyxRp+17XVCD+/BrRtR43jhZJmqvIiwSq6pEod7fyZnO0LITfOEHid9m9DiWPH5c8r6j7fJSmixUBSMN+JlkuCw9wHIJn45nfzdttma2UJnf2ycdAUkVhDbaYasV7o6Vv1LgbJrTGhxXDdrYrEv6hMaQE74LFhijZ/+Cx7MhGeGzL0TOZUrpZJaEZkchR0fpVdJc3Y/V/Rc8pyzQznq6vipM6kYZ5eEFsfd10zHm6vmeVJBbtifAGSTMZI2bKVMCItJMrutLGhmFpJZnwhKo5zsXBN7vRe76M7ulNRphOJEWJzZbmf2qi3Cz2EVwgB3I4RkxhBrr5l0x3WzJhbVKM1Y8dguT+WWKw27ld0cebF50J+8ZAMkmLQDi8bSjyeA7wt0I7lT324Z01lCi2EgkysTpWTPgtc6V8N+AZDZQcUJkc72/OTHxmHXOx+WJGOl+tKextTL7gIpgA3bU2g+cxxam5K2zEleCcOx3bMMVm2Q6QdWIQxwbxGQ+d45UxvQ2pRE11uH8OBz+5GlFHFCcO0FZ+D21mno7E5xbfF96QzmTx+PDdtTnkn/WhV6F8GznRPkTXtemeCMfhF2SrSaVts37UHXW4dK+jPVl8a3Onq4UTkMt/xfMgEneoG7oGpzDHsTkMwOKkspWpuSWDQzKTyuUwDPvn7IdBdKkY+r9sIEYWcXaNQ615uTRHooXtU2Xvn4LqkFiOU+iHIRZPvB7Xhume/dursXnd2pkrA+feH61qakMJP1iR3vlmg4ja3TXDUtOj1JJLQ4rr3gDNPSixQo1uf1wjxhdvJiO2MRqb40Hti2r+y9MvFZbpmwZBaS2oKJqLUpiWeXX+yZmUfEsF8AZOqGsgG1dXdvRbHRXhWbtlv7VD/49IPr7mumCxc4t23ond0p2+JXIlt+W8sUaV+Im5FUMv3PTIEiaQ9R5nJfOlOysRhwWQzJKikpTgjWLm7E2kKxdX0s/u2t03DHwmmmvgAv6wKL/CJWshBOnmM3T1wyCwmry+FXPXEzhv0CYLWz1990N45/XoRQigp7myEafLUCx5TbD7PTz+K1o7UpKf1gi047djH2vxmnF3wXZrDTldUpQI/b96K1KYn2q6dz/54rnIJFu1GeL8Cr8GreOD69PpF3bLukyAu4H8whu2nLZClWPr7Lle90wrBfAAD+zj5OSMlNd+P450UUhF5TnElC8xYD3i6mszuFtvU7LBOVwiKWx3uv7ATqpsIlcOIktXZxo6lkQVvLFOG9X9bRg0nLN9qyxbs9sYoWoIRgY9DZnSo6183wKvKHN4n2D+aT8Nqvml5xRjgBSuQm3EJm08AIqkQoUCULAM8cwGz/DLumFiNaBVmQPIwSCkwbKGVYDKxkBFY8tksqC9rNh9mpNLCoHbLzuldSEUa/Sn2hXOGyjh4cOnac+z5q+L8enmXG6b0Q1Zjg9V9/JmeqCcXGn2hB9Sorm/W1cXE63J8pOvrZouz0LHDdrIme2dzZpiHMDPsoIJF9zWgmMJNmmHRKAtveOCy1o8zkKLreOuRbCGKqL40N21NSR1eZMEy3w/icWmFE7ZBJNPK6RjAzlRijVJzIQADgFjR3IlxolVEs6j+2E9W/xyoE1o+sbLN+ZSG/rB6xk/MeAdB85riK2yeisztlGblUX8FGqVKG9QmgsztVLH5uhtmkrreBtrVMwfNvyk3+DLcjgaycmW7Yir0QIQOchR4azXJGRKYKwJvr4OF1EZONL71r+z1Wjmi7kVQiMxTLtPWSFY/x7eP6KmpO9hoU7gc+GLFSIIgRFPtQdHLzimF9Alj5+C5hMobVyitrNtHDIoHcSiaRiXuWsRWP5UgxxAiw+hpvaqI6ESLLGcxyejq7U+gX7LLZzt+P+q5+iKw5sQ1bOaLtaAOJrtNqoXYLWTkT2RwBI16JHzJEz2aM5E9/vLwFt/NZTNvg2SeHAKsH6IOBjHCVdaql42YyicyAltnV8aImctS7XZATn4roWqxOOm5HzrAd2aTlGzF5+UYsLcg8V7Lr9BpR/7EJxU7NaJ5O/93XTA+dbo4+R8DOvQlKJJLtLXl5C16G2DKG9QJgRY6Kj5giRDHVfiaTyNq7W5uSaL9quml4pFcDjYXgymJ1LTL94dbDbNT/MVuIzfSLtBgploVM1iewdnGj41KGVuYuM0Tx/uw+yyzK+tOUlU6/G/DMH3b6jmWS7101D2sWN0rb1isJVrBCNneFt9HzcnEChvkCIDMARLt83uAbW6dh8flnmP7NzXJtVgtJnJDiQy2zg29tSiLH8Wd4MdBYZqwsMZIPl+TZP2UWVrcWX1n7Ptt1ssmx/erp6P7h3JI4+lsXnOMousyJOFlrUxIn1fItu+/0pYWOYLNJ3utMVbNIN3YqNTu5xoh1FbXWpiR6bp1bTGxj12bGsUFndYxlsJO7YoZXIbaMYb0ArPi8cxVEwNxsosUJbl1wDrbu7jV9j5vl2njH7+tnTURCixed03aUMLnhlXC/MLZdJ+mxwaxQ2dPKpORm9I+sfZ/tOkWTo52YcD1MnMwuIuf76fUJ7hhgSrJ+yxHwHNcsymfUiJriZiwvjQzUxEgxfDZOCBbNPCGgqD9NsMI6e1fNw5ur5plu6pz2syyy9102p8dNhvUCwLIfRVmhoiMmM5uU7PCuymdT8iYIN/XQ2cShP8nUajHTSkKyZhyRicBtSeVKThVm12PWHwwClEwClcCc71bYeUD1iWRe26dFu8ZUXxqHjx33tA6xXXjXyKJ8+tIZHB0YQjx2QpQunckVbeh6zSXRaQLgL46slvPZP/i/mLR8IyYt34izbt6IWzrlhAxFyJiBtBiRzulxk2EdBQTkH7xlgqgHkT4Le7/+JlipW1aSvMNTBDw+dCLyReTYlpksrKSB3YyKEEWQyITWml1Pa1MS7Zv2lJnuKMA9ldlF1vnu5AFliqEPbNvnmoPfyJypDSVqtUb6MznESH7z45aSp2j8WiETUWUVjaffMIgK6/C+a0xCK1MLzVEU+1FG5ZfXB1L3nORzErxQExYxrE8ADN5D5CSJRaRu6XQXJdq12DGjyE4WVtFRbimD8kxYPHVJI7zr8ap4CjMdyJh/kvUJxxPm7a3TcN2siZavszOe9BFLosmfkaP5KmZumHysdt1WVJqBz3inL205NnhjkhC+WuiDz+23/G6rPri9dRrW6PwRRrw2Q/GoigXA7KbrSwvK2r6t1C2dHtlENlBZW7TsZCFr3nDDFMSTTXhg2z6MrIkVo2XqE5qUSYJNcrxdFKut6ySZRrZyHKNSc4nVacWOCcBu2xluhitXEsIoMu3ZQeTfYL/nRTWJ/CYyp1WZPmBmQN7z53XEjxmBmoAIIZcB+EcAcQD/Rild5cX3GCUexiQ0HBscMk19Fz1wogFdSUq8yAYq+r5RI2tsH7llzRvpTBYrHttVsSmIJ5vQl84gocWxRle9SWRC4BVjZyS0OOZMbXBcWN3OSavOhdqxooe9PqHZ0pBxmpHslrmSt/DYmdB4pj1Z9NF3xnFiFiFkvH+ies8yyrJWJw99n8U4JlAvw1F5EOqyaqL0FxMSB/AqgEsBvA3gBQDXUkpf5r2nubmZdnV1OfvCiy4q/vPFfX0YHMriiamfxv0z5qE2M4B161dgRE0cMybWn3jPkiX5/95/H7jqKmx742DJR97fdDmeOPszGP9BL9Y8cTdq4jEMZXMYURPHxHEJnHrr94EFC4A9e4D/9b/K23TLLcAll2DJ/74PX+3857I//+QzN+DFCWdjxtuv4Lu///eSv9XEY/jwjnbM+cJc4KmngNtvL//8n/0MmDIFePxx4O67AaDkGpbN/zbePbkB81/5Pa7v/m3Z27/WejNu/dJn0bpjM7BuXfnn//a3QF0d8NOfAg89VP733/0u//+77sKLP70fg0MnHsqBmpFYcs3KfBRN5lng6adL33vKKcCGDfl/33wzXuz4vyXvf3f0qVi24Dv5fvrDL3Dx8Xew71C6+Jo3xiXx/cu+AQD4xy334oq6o6Wf39gIrF2b//f112Pb70slQ15MTsVPPrsEAHDvoz/G2PQHxb/FCMH5X74a+MEP8r/43OeAtGECmD8f+E6+ffqxx7hrzHTcc/bc4tgz8vC0S/CnTy/A35/fgMtv+0bZ3/G1rwGLFwP792Pb7MvL/vx/zr8ST3/8Apx18G38eNM9ZX+/91NfwJVtS9BKeoGlS8s//8c/Bj75SeCPfwS+//3ir98/ehxv9B7Diou/gpc/chZm7+3BN/74m7K3f7/lJhyaMBk9M44Xx14Jv/41cMYZQEcHcO+9AErH5tdab8bhujG4audTuGrnU2VvX3L1Cgxotbj+xY2Yv/sPqInF0DxpbLGNV1z1I7zTl8a3X3ocXziwA6eeNPLEmxMJdP7439C+aQ8WbfwFLkr9GWPrNLz3wQAA4HDiZHztyvw1f/f/X4fPfbgXk08ddeL9EyYA99+f//fSpUBPT3FOAcrH3nn97xU/GwBePu0s3HbJjQCANY/fhfEfvg8AIITgYw2jcOqlFwF33JF/8aJFwMFCv7DnyQGEkO2U0mbj74M0AZ0P4C+U0jcopYMAfgPgCj++WD+RyPyeMaJGbKccyuaKn/NG7zFse/2g8PWMGz45Sep1xu/6p6dfs22msboGI3btku8fPY4X9/Vh2xsHS0wwvL6V3SXy3k8AXPOJM3DqSSO5r2HywSLs9EuOUrzy7gfWLxRw6V9/xNLunepL4x82voz3j/JVRgH79xSAY5v7vkNpbi6JkWODQ9LPAODsOhhDuRMW/FNPGlkMzb3p4o+XTv4A3vtgoMRePziURe+Hx/GRk2sR0+32YwQ45/QxpZM/h4njEiXvBfJ9fHp9bcnkL4JSin2H/DUDBXkCuArAZZTSLxd+/iKACyilNxledyOAGwFg4sSJM9966y3b32U8svbrzD96rGrSWpkh7H6enknLN0q9rpLvACCsTWsGAfDmqnnSn922fkdZxMb1gqLosu3nOWfZ+5lmvdnRWuY77N5b9rmVRM/c0rlTymHr9rhksJq0dtpvd5zaGZ+88eP29/DGUj7HgDqOijIzY4pMS2bYed7s4PgEQAi5iRAy1vUWmSfmld15Sul9lNJmSmlzQ4NzeVy9d/4Ix+FjJb/LHEiy1abs2ECd6tfbdRzZqUoF2LMT88Tz7t+2D3OmNnALqcjAi95oa5ki1Ky3I5Whdw7KUEnehJ0sadE91keKGdtdp8VQ53IFOLuV1uz6AURZzDzsRt9Z5R04ua88H5bd59PrzF8jMiagjwJ4gRDyECHkMkJcq7X3NgC9nsIEAO+49NlFzBxkvHAvmTjy1qYk7r5mekVhjGY4DYWz8x0sQkZWZVKLEfQPDklH1IgceFt391akKSPSpOE5Qe0qVuolD0aNkLsXTnWU3AjvtdIrymSp5W7a7gRlt9Ka3QnNroS4k4QpmTbZua+iEFDRd4UhGc9yuaWU3kII+QGAuQC+BOAeQshDAH5OKX29gu9+AcD/IIRMBpAC8AUAf1vB55liZ4DLvpYNNpEpxe7N1EcquR36CcibCZhEbb3DSCke7JoqqZBkFr3R2Z3i9pdIWlpEZ3cKxwblzSmpvjQmL99oy3QgO9ZE99hqEfGiAlzShgy23fEpG6HGPttp2HVbyxSpZ0H2HvFCQJd29BRDnPWy9AT5SmTNZ45znDznFlLnLUopJYT8N4D/BjAEYCyAhwkhmyml33XyxZTSIULITQA2IR8G+gtKqevVke3ottt5GFqbksIFQFR8XfSZrU1JTF6+kfsgMM1zu/Zn2R0nmzOOpDNlbbDKEubVHGAs7ejB0o6eim3nQH7CWPHYLuGpw+lx2smOXr/zA6wXyXpOX9kJ7600btzJjlO2noCde+zEt1bJ+GHv4/mMGLLjR3Qf+tKZokKsWdZ10JLaMj6A/00I2Q7gJwCeBTCNUvo1ADMBLKrkyymlv6WU/hWl9GOU0h9V8lk8zLRvYnDn+CWy27O6pU7sw6KBx4arTGSLHruThRN52lsXnMOtb6unUs0hNmGIJn+WF9C48smitkvTbU9KfafbGkZGOrtTODpQfv+0OMH86eOlv6sSe7FTrRkZHxKboNs37ZEyH9oxh42t01wRqxMp4wL25gOr+5DJUdeyrt1GZpt6KoCFlNIWSul6SmkGACilOQDzPW2dWxgmpXicYPEnzqhYeMnKbs+yee1mGx87bj25H+7PoO3hHdKTqFvOJdHntDYlsfoaOR12dkR2okAqM2EQUNy/bV/JInG4P4OlHT2YZHE/Ku0rqwWkfdMeU/NMTYxgw/aUtKRCJRIKlUxEVvLWh48dR9vDO6SvQ/aEzpR43aCzO1UWtqnHzgle5j54XT3OKZZXSSn9IaXUNPaSUvqK+01yl/ZNe8rKQmayFFt391ascS6Twm4nskBmZ6vHjn6IG3orMrui1qakrTqxTk4DMjt0UelIq+816ys7kQ9WCwiv/elMjmtLNluwjDLT+jaOrdO4O3WnEWcy3wvk+974zPFORnbue/tVlVUh0+slLe3oEZp/7JzgZeW+3VAWdZthrwXklXCYHr1apwgr84CTlH47jmujLo8McUJsn5Ls2tDtRtK4dZrhfa9ZxJEd56TVIumk/bwFq7UpWVyw9G0cyOQw77zxFYXeimARU3tXzZO+nlRfumwhk63IV4n4HuBML8munpFIah3Ih0P7UejdDsNeDprnBPa7chRDNGG7rf1uxBhFY5WIpMUJd9cl0u5xch123iMbxSEDm5TMJHz1181LHnKiyWTW/oQWR60WEzrReU54XhQKC731MtJEFIVlhtFRLnPaJahcfM+pXpKdcckz7elZ+Xjl+lpuMuwXAN7D5la8baWJHjIiUTwqLT/ZfOY44QIgmvxFomt2Iq8YdhcywF7IrAj2Gam+NJZxIpV442jF589x5Ehl7ddPzEC5kBmvrXpEp1yz0Fm3sKqNwcNuzQmKyqNlnJ747YxLme+QzcHxi2G/APAeNrceCjuTnXHhMU6kdib/sXUabl1gf/IxfjcP0ZFbJH3LjsJ2duhOFmSeymilsDtgXNTcHkeiiVm0sBHk7x17b2d36kRssAGvs0qd7qqBExW4CAGshn19Qquo4Axg7zll2B2XTr4jaALTAnJCRWqgLqIfjExa2uj0MmI2YTfd9qTtHYFbWiGiwidWSTaiPIW9hbaJtHmcSlnzsNI3YqYswP6pwa7Wklt0dqewrKPHtJ/1+kc87ZwYycsLu1Xxy9g22X7krE1IaDEARGoBiREgHitNprKbCOZko3D9rIm2KnTJaBnVJzT03DpX+jPdgqcFNOxPAG5jpmsfw4kMWh7HCzvkZR09OL0+gTlTGxwdB93a1YmOq1YPFm+nY9ydjq6tKbPxOjWbVAKLlmLRXrJVv4BginQA4kRD1iaRzTlH4VoWtx6ZiVQvqjZnagM6nt9f1s60RZSWnhwFcpyoIjsyH4B18peeDdtTaD5znK0+E322FiO2IuT8YNhHAbkNT1vIKuu+P5MriYt+QEIF0oibvgveQiITbcErck2R7x9eOOvYOs2TQtcykRr6idzOpO6lGUVUvayzO8UVXmNtsnMdTjWLjFiZfQiAay84A2sWNwIAHti2D0MO1D1lcCKEKCtlDdjvs/ZNe7jzQJwQtF9dWRirF1TVCaBSOyLg3o7QySOxaKZ7Dr1KnONWu1PeJFE3osaTB0Dmnugncju2WiuFWDuITIf6XbqogLj+Htm1ObNaz5XcA6u+psiHO8rIXFeKk8XZbp+5pSXmVJfKa6rmBFBp4WqG33Kteh7Yts8yi1UWnromgLJdqdlOlZf0cnp9wpfcC4ZVRidQHi1lJynuwef3uxK7bRx/femMabLUisd2cSd/o7qpVdy5GZXWeg5q/LulnGk3IdLO9YpeG+S8IaJqFoBKC1cz3MiodYoxQsWNRYBlQ7e1TMGKx3ZhaUdPySLJBNyMC6dI39+qMLdbiOoAlGD4s9nix8uazeYoVj5euUahbMRMn4kIH8O4i2xtSqL96ukFh6oclZqCghr/bki3APJZu0DenGXnBMh7baXh2l5SNSYgt3alxnBAwNqcM/tj4/DiviOuhSoC9p1gIuxGSKQzWTz43H5kKUW8kLtgjJv3MveCITupZnK0rMC9PgzTKorIjdhtN04/p9cnSiJwWN97WaTFiJPxL0tckAezYXvKNf8Ru/dWwQAUKPrqRNLNVsq0iz9xRijNP0AVLQBuZgQbJw9R6Fd9QsMDX7nQdilGGdwyqTiJ52YPapbSksmdZdWOSWio1WKehCEy7Fx/XzqDScs3li1U7P7JUIkPqdIYcbYbNcsb8bpIixH9+JcNZdZiBCfV1qCvP2MaOp3Q4lg0M4kN21OmY9HNDQ9DRtqa+TQ6Xthv6q8BrJP3ZApNBUXVLABeZQSzAWm2A2Ahj+x1bmWuMvwICZWB2a6PD50QM+tLZ5DQ4lizuNGz3Y+TSdUYEimTvs8SkUTZz1ZUIl/BCohs3d1b8SnSbXOETAUvsxwYo0OckPxue0xC416jG05sPa1NSXS9dUjKYc0Tt+sfHHKtsEwQVI0PgOf0dOtI2XPrXKxd3Cj8fCcRJex4bzzk+xESaoe+dMYVH4sd2lqmlDkHZdArbFotICx2u1Ifktn4kyFOCNYsbsTtrdNc2TyMcjkSSzR2kvUJrF3ciO4fzi37TuZ/WrO4EceHcjjcnyk6x0V31A3fl57bW6dh7WI5CXMjqb601OknrA5goIpOAIA4/d6Pz3dyFMxRir2r5rkSwsqjrWUKN+u0UrxOjc9aZGCLSPWluZmqQGns9jKLpCwZjONDxnyS1Tl+RTZyWY5ISo3LwjvZjK3TMGdqQ0nyo9mYNVtYKfgZxF6YggB5RV89svcjrA5goIpOAGHAyWTIdg/6iB23qwq1NiVx3ayJrn2eEdlKXHZp37QH9h/bUniPrxYnuPuaE4k7XkQ23brgHMsTDMuuBuzb+s1wezfKTjbGHfTh/gzu37bPMuyat4CKrtRtk4oTH1hCi0vfj7A6gAG1ALgOL7uzsztlq6gIkDc/9A8O2aoo5pTbW6dh9sfGefLZlZTHFOHmRGAMpRwRj2GZrhCLWfijG2a4Gos4fpZdDVReyMWLSCwgP8HJBCKZmcxEGemiXBM3sTuOmHnXqjQmIF93IyjUAuAiomSz9k177JtYCIq2Ubdi/0U88JULcf2sibbDCmXwwh/g1kSQf0hLr/nYYLas0LubPqQTTmXrMwyboMwWIS1GUCeRB+Cmz8tIZ3dKOlTWeAoWLaxeLbpG7IwjfW0Cs7rORo4NDoWuCIwepQbqIjynohPbLU8m1w91Squ4Zqe4pWTKkFFftEKmEAvgfr/bEaTTf7fRFzRnagM3dJJhVznTLnauBcj7B1h48KRTEvjj64eKm6NRI+L40ZUn2uql74thNw+GnUyc3L+gUGqgHiOqjJSlVOhsNKLFCHdS8zqkzG19fT1e2J+B0hDcsXWa1G6UFNrDHOBWpPrSmLx8o2uTkOx91Gejmk2GMvZrrxynDLtjUq9Sanxmjg1m0fXWoWJbvQrcMPbloplJbN3dKzWp273eMNcIUAuAC8hURhJFNhhZfP4ZXD0Yr9UprTT8nQ5mr9LhzSYIqx2pcUe28vFdUouG0SRUycQkm8NAkc+CReH/+jwEO4mFXm4c3C6E8uBz+23p8NvFLKeDZRrL9OnpNk8ARpn0MKF8AC4gG0VAYe0UStYnsHV3r+nk70ZtVB5Wujp96QzaWqZg7eJGR1owNTHi2wMgyg9IaHHMmdpQdNQ3rnzSdmikG/4MnqaOmU84ncni/m37KjqVeblxcFsfSD8GRZLZThHldMj4v3j+CR4U+ToEYfQFqAXABWR3V8n6BEaN5B+6mINLFBrn1SQqs4gZnaFAqetUFBVhpwBIJTD/hVmFtrF1WlFuQK/K6cSFUOmO2iwxbO3iRsvyiE7wKvqHwQsFrYTZq7bgls6drij4GhHpgln56uoTWvHUuWhmUjqyL0up50EcTlAmIBeQOQKzh1Bkb2ZyzLzi8JWGAYqQmdDYLkmUhzBp+Ubu+70+Blv5L1hsuhu4saM2M19VKhdCAHzyY+Ow92DaU8cpQy9OZzUZ1ic0fDAgt+CyoknGl7rhz7DSBRPVY9ZX9OKd1Hl47YtxgjoBuAAvPG9snVYWMiiKewbANcN4vYuTndCMC4XxiD5qBP9Y7PUOqJIi5Xbw8l60tUyp6KGkAPYeTHuWNKhHH/bMvlsEIbBlKuJ9XqWnL6vQU1F79NFJThbqsOkCqROAS4ysiRUnHzPxK4ZIlI43gRkLgXiBrFiZfqEwc6ZpMYJ4jCBrss0LWzSKE4xqom7T2pTEtx7qqUhj2a9Jxu6C64asNuCOmimAsnBa9rMoBLvSEOmw6QKpBaBCzMwOAwJ7t9ngYxMKzzzkRzk5fbt4GjnGna/ZBJDJUdQnNO4DEqVoFCME8CWeu9ISun5NMn4sNMZx6NbpyyjpXvIMm/Q/QX6DU6lmVth0gdQCUCG8iIJvP7QDyzp6ilK3el18BgXw30cGsLSjB+2b9qCeE8MeI8SXMDKjTdoqCYc3ARxJZ5B0sf6CLG0tU9D28A5TB7Ab+DWxViL6ppcPcdv+bxwPvPHqFqxGwNbdvZ76M0Qnb2MOTyUjiyB8ukBqAagQ3iTIHmD9TjjVl84XHyEn9MXZ69hkaWY+YREEgH8DSCYDk7fjHpPQPKu/YInhCY0BiMeJ6aKgxUjJvbDCr93btRecYdtZTYBioRV9opVb44Zn7tMMfWsn4dFIjOSvwcsiQmZYPcN2rycGmIoUeim46BTlBK4Qu7vCTI4KJ5xsjnJjwb3U1tcj0jTSwytK3pfOYGlHD0bWxEwd4V5hVtwlh7wGPnOyszjv+oSGk2prpCd/Fv7nB3aF+ZL1Cby5ah5GjSy/HrfGDc/cx/qW3eM1ixuxd9U82yGho0bEsfqafO0Ar53XRtw42bGnIFmfwOrFjSWaWnFCcP2siZ4mtzlFnQAqpJJKTzx4NuAgnXtsIul661CxHrAVflQF0yMySfXcOrf4s125C31lN79gZUR5mdkMfXKgW3Wv7XyGWd/OXrXFtpO034foLR6VPsNmQR+tTclQTvhGAjkBEEKuJoTsIoTkCCFlAkVRQp/Q4zVBO/dSfWncv22fLfu0nycXWc1+O9ErfpxceLQ2JS37Wh+aWM9JxHNj3Mj0rTEsFCjdGV8vMIFQCrQ9HEy2rDEpzw6xgmJv+6Y9oUvykiEoE9CfASwE8PuAvt9VWpuStlLD4xYa8PUJzRcZXB5B6607RVY+WDZSaK/PpggjMjUk2MajsztlKk/slgaTTN/yqnsx7aXmM8cJ6wZkstS3zYIIkRxEfUIreX7Zad0PuXYvCMQERCl9BQCIB7rzQWFnVxkDcDIngkJvbvBaBpfHnKkNrmXMAv6dXEQhtgw2qVqdYfw40VkhU0Mi1ZfG7FVb0D84ZKogO5SjWFaIMqtkDMn0rejkOGn5Rql+DyJRymgSNDt1sbYfGchw5TrCmOlrReh9AISQGwHcCAATJ4bPi86wM3AzOYq6ETXo/uFcYbRNUAPJSe1iHn6eXAC+fLBessAKL0X37CB7UhG9jhp2qIDzcWUlzWyVhyFjOAwiUcpWGKjFRYQt09cKz0xAhJCnCCF/NvnvCjufQym9j1LaTCltbmho8Kq5FWN34Kb60sXY/raWKTi9PoF3+tKhsCW6OYiDsp/rMbNNi/BSdE8WJyVErfDaH+OGKmgQCy9vvOcoRbI+YSsMNGyZvlZ4tgBQSi+hlJ5r8t9/evWdQeJk8N/8yE5TxcOlHT2eFVKXIWqD2Aq7kgVxQnypwyzCUQlRCbzcoVbiTAX8DbXVI3Jw2+kvffGeqKDyAFzCTN5XJIwG5HdkDz6333Ry8qqQugxuDmI/nXo87Xi7k16WUt/qMPNwOlHrY8/N8Hpxb21KFoXo7PhRYiQvFhfEwitycNvpL1a8J+gTvB2CCgO9khDyNoALAWwkhGwKoh1uox/8zy6/GD+6cprlqUAU5udnCKUeN30AftlEzZLX2tbvQNNtT1a0kw7qHjidqLOUIqHFce0FZwQaSQbYOxXnaH7TE8TCa7Z5Y6bLOVMbbJ1mghovTgkqCuhRAI8G8d1eYVase+vu3ooTxIJwKrn5nX6Zk3iZqm5o1QRxD2SSk2LEPGkwncli6+5e3LFwWmCRZEC5wKAd/I6oMYrDtW/ag6UdPY6kLaLkCA59FFAUMNNJCVPhESff6Yaqpp87Tq9VRv1GZvI8uVbDkXTGdIJ6py/tWUF1O7A2NN32pO3FOAwhoU5Oj1HyoSkfgAtUUogkWZ/gllIMKhzRjWgOP2oY6HHjoUtoscDNJnqYSZFngjiSzkhnPwfNvPPGc//Gu74whYTKEuR4cYJaAFzA6U6FZWneuuCcsomHIK8eGJQEAStPaUWdFisThNNiBHdfM93Xtle6aCW0OO5YeB7XFuw1ouLnvImQwnzshW0S6uxO4cHn9pv+LU4Irps10bSiHpO19tMpXMmpI0jZEKcoE5ALODWZLP7EGSWDJUh7rZHWpqSU7bY/k4MWN+zhAkjwNmaqMmlkntqnFiM4qbbGVHrY7343MyGypC0AOHa8XOKBYbw6UTU6P5GtnJWjFLe3TkPzmePK7p0XstZW2H2W8xuHaE36egh1WHgiCJqbm2lXV1fQzSjDrrokI04IcpSGYsI3o7M7hbb1O0wlBhi84iVx4v8pwMgtnTtNC4sz6hMaRo2sCXzRnb1qi+mkU5/QcHwoZ2tcMd2dIJEZNwyze8DbePhxbXaf5bAsuFYQQrZTSsuEN9UJwAWMu0/ZJVVfDEa/w5EpxuIHrU1JrHx8l9B5xwtjDaKIjZGtu3uF96IvnSnuUP3cZRrhmR2c1J0NQwSKWV0GM7QYwbHBobJ7wJt8/bg2du+tZLgZLF9H/94ooXwALuE0AYbBwt5ki7H4RZ9F5IbI2hN0TLTdCSNqMf9ef5ZTZPo9TohpQZ50JhtYEhujtSmJu6+ZLv36oMd5JagFwAOcOiSZFhCvGEsQWD10FOJFIMgdqZMJI6iY/0qjroDwOH+t+j2hxXH3NdO5mwuWzGZ8j9+igrzoPDPCcPJygloAPKC1KYlFM5NlEyP7mbfDGZPQuA6ooAZYW8sUS58uRXDSAyJk2m4kqJh/2aJCWoyYlgwdW6eFxhnJKxUKlLaT19csmiaIaCw9ty44R3r8hOHk5QTlA/AIM/szBYq1Uo32XWYP5RHkAKvVYkhnzMpc50kW/BSBFIG3wE6IQ9Ax/61NSa5DGMgvsu1X500TYfAR8WBt0UcBmTlLRWMmLElsXW8dEgYSMKImAsdQC4BH2HHssaMmz9ka1MR0IiKCP/mzXAaZgiF+wtpuhzDsoNtapmBpR4/p37I0XzErCpONzAQetjFjBgtRtQppdVM/y09UGKhHiHZyRpIF2VnenVjrU1F1IzLXUJ/QSoqChwU7/Q+EI2yV4UQ2ISrhiFHFajwRAG+umudfg2zCCwNVPgCPsOPYY7sfM5L1icAeahm/wxEHoYp+IGp7WeIaToSthkHK1ywz3Iog5cP1iDKao4zVszAmIe8wDhNqAfAIo2NPVGiaHX2DjnwwIuN3CKvzS7Sgtl813fR+hCWcz45TWE/Q7Q9bCLObWI3zY4NDkbxOtQB4CCv3mNDi3KQSvdMrDJEPemROMf0hHfhmbSfIT0rtm/Zw70dYwvlYXomdUEQg2PaHLYTZTayehUyWRvI6lRPYY0Tqgsn6cg2aMNlwzfR1Boey6Nc5hcOaCWmUU9bruht/1hO2E41dF12Q7ectPmFZVCtBRp47itepTgAewxsUBMCzyy8O1aRphj7DuefWuRg7amTZa8K6y2NtNyvsbZbAFrTJzQw7Ppag2x8VaWqn6MeTGVG8TrUAeAxvUIxJaJF0lkVxl8drGwVCZXIzQ+TLWLu4MVTtD6Mfyw2Mju05UxuGzXUqE5DHmCW78ESwgHCZUczgyeWGeffDa3MYlDOtCGuCnRlRiOu3i5lU94btKSyamcTW3b2Rv061AHiM2UPRr9M6Z/hdA9UpUZqQGLz6usyBHeY+502qALg1BIKuI2H8/rCo2zqB59jeurs39JsHGdQC4APGh2Ly8o2mrwuzGYURxV2emTQBEF4HthGzSXX2qi3ciJswXYuo2E2Y2skjiiZPO6gFwGPMdj9RNKPoCVu0kgyswpkxnT+Mk6YMUZmYRKGhUehzq2c1yqcbQDmBPYWXGDOcnEhRyvyMyqQpQ1QibqLe5yLH9nBIfFMLgIeI7IdhS/pyQtQegKhMmjJEJeIm6n0uStAcDolvygTkIaLdTxTNKEaidryPogObR1R8McOhz3nPatRPN4BaADwl6rZ+K/QD/eSRMXzjgrE4s15DDASvvPJKgC0zZ0otcP9VSXyQHkI2RxGPEZycqEHdiA/wyisfBN0820ypBf7tivG63wRzHbW1tZgwYQI0rVy2IioLlROGw/OtFgAPGQ67HxH6B+AbF4zFjI+djpq60RhZE8fU8ScH3LpyDvcP4r0jA9CyOYyIx/CRMbUYWzci6GZFGkopDh48iLfffhuTJ082fc1wOO2aMRyeb+UD8BAz++GimXnbYRScplbo7dBn1muoqRuNeCw/sYaNw/2DSB1OYzCb1zEazOaQOpzG4f7BgFsWbQghOOWUUzAwMBB0U3wnjAKOdlEnAI/R736iHhNtRH+8j4FgZE08tLvq944MIGdQVstRiveODISyvVGCCKTOhztRP92oE4CPDIeoASNFgayxCUwdf3JoJ1O285f9vUJRDagFwEd40QF2Shcq+MTjcTQ2NuKcc87B9OnTsXr1auRy+Ql+RNx8qPe+sx//8R//4WczFYrQoBYAH+FFBxAg0r4AJ3iRQJZIJNDT04Ndu3Zh8+bN+O1vf4uVK1cCAD4yphYxg6kiRgj6D/23WgB8IEoJg9WEWgB8pK1lSpkGPZCXJY6yGcgufiSQnXbaabjvvvtwzz33gFKKIwfewVeumYcvfO6zWPy5z2LXiy8gOTaBH634Af7whz+gsbERa9aswd69e/HpT38aM2bMwIwZM/DHP/7RtTZVK1FLGKwmlBPYR1qbklja0WP6tyglj1SKXwlkZ511FnK5HA4cOIDTTjsNW59+CrW1tXjttddw7bXX4trPd2HVqlW466678MQTTwAA+vv7sXnz5pLXdXV1udamaoR3v7/90A4A0QyAGC4EsgAQQtoBLAAwCOB1AF+ilPYF0Ra/SQ6D5JFK8TODkhYifzKZDG666Sb09PQgHo/j1VdfNX297OsU8vDua5bSSEfBDQeCMgFtBnAupfQ8AK8CuDmgdvhOVDRcvMQvfZg33ngD8Xgcp512GtasWYOPfOQj2LFjB7q6ujA4aB7/L/s6hTyi+xr1KLioE8gCQCl9klI6VPhxG4AJQbQjCIZD8kil+LEI9vb24qtf/SpuuukmEEJw5MgRjB8/HrFYDL/+9a+RzeZNEqNHj8aHH35YfB/vdQrnmN1vPdVk/gwbYfAB/B2ADt4fCSE3ArgRACZOnOhXmzwl6skjleKVPkw6nUZjYyMymQxqamrwxS9+Ed/61rcAAF//+texaNEirF+/HnPmzMGoUaMAAOeddx5qamowffp0LFmyhPs6hXPYff32QzuQNSTjAdVl/gwbhJrcEFc+mJCnAHzU5E9/Tyn9z8Jr/h5AM4CFVKIhzc3NVDnkwskrr7yCs88+O+hmKAJC5v4bM+GB/Mmv2k7AQUAI2U4pbTb+3rMTAKX0EosG3QBgPoC/kZn8FQpFtBnOyqBRJagooMsAfA/AZyml/UG0QaFQ+E+1mz/DRlBRQPcAGA1gMyGkhxDyrwG1Q6FQKKqWQE4AlNKPB/G9CoVCoTiBkoJQKBSKKkUtAAqFQlGlqAVAMWwQyUGHiSVLlmDy5MlobGzE9OnT8fTTTwfdJEWVEoZEMIXCFZgcNAAcOHAAf/u3f4sjR44UJaHDRHt7O6666ips3boVN954I1577bWKPzObzSIe52fcusXQ0BBqatTUMRxQJwCFN1x0Ufl/P/1p/m/9/eZ/X7cu//f33y//m02MctDr1q3DTTfdVPz7/Pnz8bvf/Q4AcNJJJ+F73/seZs6ciUsuuQTPP/88LrroIpx11ll47LHHAADr1q1Da2srFixYgMmTJ+Oee+7B6tWr0dTUhFmzZuHQoUN4/fXXMWPGjOJ3vPbaa5g5c6awnRdeeCFSqbwscjabRVtbGz7xiU/gvPPOw89+9jMAQC6Xw9e//nWcc845mD9/Pi6//HI8/PDDAIBJkybhtttuw6c+9SmsX78eTz75JC688ELMmDEDV199NY4ePQoAWL58Of76r/8a5513Hr7zne8AANavX49zzz0X06dPx2c+8xkAwMDAAL70pS9h2rRpaGpqwtatW4vXf/XVV2PBggWYO3eu7fuhCCdqGVcMW/Ry0CKOHTuGiy66CHfeeSeuvPJK3HLLLdi8eTNefvll3HDDDfj85z8PAPjzn/+M7u5uDAwM4OMf/zjuvPNOdHd3Y9myZfjVr36FpUuXYsyYMejp6UFjYyN++ctfYsmSJcLv/q//+i+0trYCAH7+859jzJgxeOGFF3D8+HHMnj0bc+fOxfbt27F3717s3LkTBw4cwNlnn42/+7u/K35GbW0tnnnmGbz//vtYuHAhnnrqKYwaNQp33nknVq9ejZtuugmPPvoodu/eDUII+vr6AAC33XYbNm3ahGQyWfzdv/zLvwAAdu7cid27d2Pu3LlFRdQ//elPeOmllzBu3Dibd0IRVtQCoPCGwu7alLo68d9PPVX8dxvIJJmPGDECl112GQBg2rRpGDlyJDRNw7Rp07B3797i6+bMmYPRo0dj9OjRGDNmDBYsWFB8z0svvQQA+PKXv4xf/vKXWL16NTo6OvD888+bfmdbWxu++93v4sCBA9i2bRsA4Mknn8RLL71U3N0fOXIEr732Gp555hlcffXViMVi+OhHP4o5c+aUfNbixYsBANu2bcPLL7+M2bNnAwAGBwdx4YUX4uSTT0ZtbS2+/OUvY968eZg/fz4AYPbs2ViyZAmuueYaLFy4EADwzDPP4Bvf+AYAYOrUqTjzzDOLC8Cll16qJv9hhloAFMMWvRx0TU1NiUN4YGCg+G9N00AK5SJjsRhGjhxZ/PfQ0FDxdez3otctWrQIK1euxMUXX4yZM2filFNOMW1be3s7Fi5ciH/6p3/CDTfcgO3bt4NSin/+539GS0tLyWs3btwovE4mWEcpxaWXXooHH3yw7DXPP/88nn76afzmN7/BPffcgy1btuBf//Vf8dxzz2Hjxo1obGxET0+PcMFUwnildHanIi9roXwAimGJUQ560qRJ6OnpQS6Xw/79+7k780qpra1FS0sLvva1r+FLX/qS8LWxWAzf/OY3kcvlsGnTJrS0tODee+9FJpMBALz66qs4duwYPvWpT2HDhg3I5XJ47733ir4LI7NmzcKzzz6Lv/zlLwDy1c1effVVHD16FEeOHMHll1+OtWvXFh3lr7/+Oi644ALcdtttOPXUU7F//3585jOfwQMPPFD8/n379mHKlOqpVSHLcClzqU4AimGDSA569uzZmDx5MqZNm4Zzzz23xFnrNtdddx0eeeQRKWcpIQS33HILfvKTn2Dz5s3Yu3cvZsyYAUopGhoa0NnZiUWLFuHpp5/Gueeei7/6q7/CBRdcgDFjxpR9VkNDA9atW4drr70Wx48fBwDcfvvtGD16NK644goMDAyAUoo1a9YAyJuhXnvtNVBK8Td/8zeYPn06pk6diq9+9auYNm0aampqsG7dupKTjyKPX2VNvcYzOWgvUHLQ4UXJQZ/grrvuwpEjR/AP//APrn3m0aNHcdJJJ+HgwYM4//zz8eyzz+KjHzVTWw+Garv/k5dvhNnMSQC8uWqe382xxHc5aIWiGrnyyivx+uuvY8uWLa5+7vz589HX14fBwUH84Ac/CNXkX42cPkxqe6sFQKFwkUcffdSTz+XZ/RXB0NYyxbS4TdRqe6sFQOEalNJiNI2ieoiSGdkthktxG7UAKFyhtrYWBw8exCmnnKIWgSqCUoqDBw+itrY26Kb4znAobqMWAIUrTJgwAW+//TZ6e3uDborCZ2prazFhwoSgm6FwgFoAFK6gaRomT54cdDMUCoUNVCKYQqFQVClqAVAoFIoqRS0ACoVCUaVEKhOYENIL4C2Hbz8VwPsuNsctVLvsodplD9Uue4S1XUBlbTuTUtpg/GWkFoBKIIR0maVCB41qlz1Uu+yh2mWPsLYL8KZtygSkUCgUVYpaABQKhaJKqaYF4L6gG8BBtcseql32UO2yR1jbBXjQtqrxASgUCoWilGo6ASgUCoVCh1oAFAqFokqpigWAEHIZIWQPIeQvhJDlQbeHQQjZSwjZSQjpIYQEVuqMEPILQsgBQsifdb8bRwjZTAh5rfD/sSFp1wpCSKrQZz2EkMsDaNcZhJCthJBXCCG7CCHfLPw+0D4TtCvQPiOE1BJCnieE7Ci0a2Xh90H3F69dgY+xQjvihJBuQsgThZ9d769h7wMghMQBvArgUgBvA3gBwLWU0pcDbRjyCwCAZkppoIknhJDPADgK4FeU0nMLv/sJgEOU0lWFRXMspfR7IWjXCgBHKaV3+dkWQ7vGAxhPKX2REDIawHYArQCWIMA+E7TrGgTYZySvDz6KUnqUEKIBeAbANwEsRLD9xWvXZQh4jBXa9y0AzQBOppTO9+KZrIYTwPkA/kIpfYNSOgjgNwCuCLhNoYJS+nsAhwy/vgLAvxf+/e/ITyS+wmlX4FBK36WUvlj494cAXgGQRMB9JmhXoNA8Rws/aoX/KILvL167AocQMgHAPAD/pvu16/1VDQtAEsB+3c9vIwQPRQEK4ElCyHZCyI1BN8bARyil7wL5iQXAaQG3R89NhJCXCiYi301TegghkwA0AXgOIeozQ7uAgPusYM7oAXAAwGZKaSj6i9MuIPgxthbAdwHkdL9zvb+qYQEwK08VilUewGxK6QwAnwPw/xVMHgox9wL4GIBGAO8CuDuohhBCTgKwAcBSSukHQbXDiEm7Au8zSmmWUtoIYAKA8wkh5/rdBjM47Qq0vwgh8wEcoJRu9/q7qmEBeBvAGbqfJwB4J6C2lEApfafw/wMAHkXeXBUW3ivYlJlt+UDA7QEAUErfKzy0OQD/BwH1WcFmvAHAA5TSRwq/DrzPzNoVlj4rtKUPwO+Qt7MH3l9m7QpBf80G8PmCj/A3AC4mhNwPD/qrGhaAFwD8D0LIZELICABfAPBYwG0CIWRUwVEHQsgoAHMB/Fn8Ll95DMANhX/fAOA/A2xLEfYAFLgSAfRZwXn4cwCvUEpX6/4UaJ/x2hV0nxFCGggh9YV/JwBcAmA3gu8v03YF3V+U0psppRMopZOQn6+2UEqvhxf9RSkd9v8BuBz5SKDXAfx90O0ptOksADsK/+0Ksl0AHkT+qJtB/sT0PwGcAuBpAK8V/j8uJO36NYCdAF4qPBDjA2jXp5A3I74EoKfw3+VB95mgXYH2GYDzAHQXvv/PAH5Y+H3Q/cVrV+BjTNfGiwA84VV/DfswUIVCoVCYUw0mIIVCoVCYoBYAhUKhqFLUAqBQKBRViloAFAqFokpRC4BCoVBUKWoBUCgcUlDffJMQMq7w89jCz2cG3TaFQga1ACgUDqGU7kdeNmBV4VerANxHKX0ruFYpFPKoPACFogIK0gvbAfwCwFcANNG86qxCEXpqgm6AQhFlKKUZQkgbgP8CMFdN/ooooUxACkXlfA55yYpQKFwqFLKoBUChqABCSCPy1eZmAVhmEBJTKEKNWgAUCocU1DfvRV53fx+AdgCBlhFUKOygFgCFwjlfAbCPUrq58PNPAUwlhHw2wDYpFNKoKCCFQqGoUtQJQKFQKKoUtQAoFApFlaIWAIVCoahS1AKgUCgUVYpaABQKhaJKUQuAQqFQVClqAVAoFIoq5f8B+HUZ30uim4AAAAAASUVORK5CYII=\n",
>>>>>>> upstream/main
      "text/plain": [
       "<Figure size 432x288 with 1 Axes>"
      ]
     },
     "metadata": {
      "needs_background": "light"
     },
     "output_type": "display_data"
    }
   ],
   "source": [
    "dummyapprox()"
   ]
  },
  {
   "cell_type": "markdown",
   "metadata": {
    "slideshow": {
     "slide_type": "slide"
    }
   },
   "source": [
    "#### Now walk through process of \"boosting\" this prediction with weak learner sequence."
   ]
  },
  {
   "cell_type": "code",
   "execution_count": 12,
   "metadata": {
    "slideshow": {
     "slide_type": "slide"
    }
   },
   "outputs": [],
   "source": [
    "def simple_boosting_algorithm(X, y, n_learners, learner,\n",
    "                              learning_rate):\n",
    "    y = y.ravel()\n",
    "    # calculates the dummy model\n",
    "    f0 = y.mean()\n",
    "    \n",
    "    # calculates error of first step\n",
    "    residuals = y - f0\n",
    "    \n",
    "    # This next line fills an array of len(y) with the mean of y.\n",
    "    f = np.full(len(y), fill_value=f0)\n",
    "\n",
    "    # start sequential training \n",
    "\n",
    "    for i in range(n_learners):\n",
    "        # error of previous model\n",
    "        residuals = y - f\n",
    "        \n",
    "        # fit error with decision tree\n",
    "        mod = learner.fit(X.reshape(-1, 1), residuals)\n",
    "\n",
    "        # update f\n",
    "        f = learning_rate * mod.predict(X.reshape(-1, 1)) + f\n",
    "        fit_df = pd.DataFrame({'x': X, 'F': f})\n",
    "    return fit_df\n",
    "    \n",
    "   "
   ]
  },
  {
   "cell_type": "code",
   "execution_count": null,
   "metadata": {},
   "outputs": [],
   "source": []
  },
  {
   "cell_type": "code",
   "execution_count": 13,
   "metadata": {
    "scrolled": false,
    "slideshow": {
     "slide_type": "skip"
    }
   },
   "outputs": [
    {
     "ename": "ModuleNotFoundError",
     "evalue": "No module named 'bokeh'",
     "output_type": "error",
     "traceback": [
      "\u001b[0;31m---------------------------------------------------------------------------\u001b[0m",
      "\u001b[0;31mModuleNotFoundError\u001b[0m                       Traceback (most recent call last)",
      "\u001b[0;32m<ipython-input-13-e91991156f23>\u001b[0m in \u001b[0;36m<module>\u001b[0;34m\u001b[0m\n\u001b[0;32m----> 1\u001b[0;31m \u001b[0;32mfrom\u001b[0m \u001b[0mbokeh\u001b[0m\u001b[0;34m.\u001b[0m\u001b[0mlayouts\u001b[0m \u001b[0;32mimport\u001b[0m \u001b[0mcolumn\u001b[0m\u001b[0;34m,\u001b[0m\u001b[0mrow\u001b[0m\u001b[0;34m\u001b[0m\u001b[0;34m\u001b[0m\u001b[0m\n\u001b[0m\u001b[1;32m      2\u001b[0m \u001b[0;32mfrom\u001b[0m \u001b[0mbokeh\u001b[0m\u001b[0;34m.\u001b[0m\u001b[0mmodels\u001b[0m \u001b[0;32mimport\u001b[0m \u001b[0mColumnDataSource\u001b[0m\u001b[0;34m,\u001b[0m \u001b[0mSlider\u001b[0m\u001b[0;34m,\u001b[0m \u001b[0mTextInput\u001b[0m\u001b[0;34m,\u001b[0m \u001b[0mSelect\u001b[0m\u001b[0;34m\u001b[0m\u001b[0;34m\u001b[0m\u001b[0m\n\u001b[1;32m      3\u001b[0m \u001b[0;32mfrom\u001b[0m \u001b[0mbokeh\u001b[0m\u001b[0;34m.\u001b[0m\u001b[0mplotting\u001b[0m \u001b[0;32mimport\u001b[0m \u001b[0mfigure\u001b[0m\u001b[0;34m,\u001b[0m \u001b[0moutput_file\u001b[0m\u001b[0;34m,\u001b[0m \u001b[0mshow\u001b[0m\u001b[0;34m\u001b[0m\u001b[0;34m\u001b[0m\u001b[0m\n\u001b[1;32m      4\u001b[0m \u001b[0;32mfrom\u001b[0m \u001b[0mbokeh\u001b[0m\u001b[0;34m.\u001b[0m\u001b[0mio\u001b[0m \u001b[0;32mimport\u001b[0m \u001b[0mshow\u001b[0m\u001b[0;34m,\u001b[0m \u001b[0moutput_notebook\u001b[0m\u001b[0;34m\u001b[0m\u001b[0;34m\u001b[0m\u001b[0m\n\u001b[1;32m      5\u001b[0m \u001b[0;32mfrom\u001b[0m \u001b[0mbokeh\u001b[0m\u001b[0;34m.\u001b[0m\u001b[0mthemes\u001b[0m \u001b[0;32mimport\u001b[0m \u001b[0mTheme\u001b[0m\u001b[0;34m\u001b[0m\u001b[0;34m\u001b[0m\u001b[0m\n",
      "\u001b[0;31mModuleNotFoundError\u001b[0m: No module named 'bokeh'"
     ]
    }
   ],
   "source": [
    "\n",
    "from bokeh.layouts import column,row\n",
    "from bokeh.models import ColumnDataSource, Slider, TextInput, Select\n",
    "from bokeh.plotting import figure, output_file, show\n",
    "from bokeh.io import show, output_notebook\n",
    "from bokeh.themes import Theme\n",
    "import yaml\n",
    "import numpy as np\n",
    "output_notebook()\n",
    "\n",
    "def bk_app(doc):\n",
    "    \n",
    "    func_approx =simple_boosting_algorithm(X=X,\n",
    "                      y=y,\n",
    "                      n_learners= 1,\n",
    "                      learner=DecisionTreeRegressor(max_depth= 1),\n",
    "                      learning_rate=0.02)\n",
    "\n",
    "    source = ColumnDataSource(func_approx)\n",
    "\n",
    "    # Create plots and widgets\n",
    "    plot = figure()\n",
    "\n",
    "    plot.circle(X, y, size = 6, color = 'blue', legend_label= 'Data')\n",
    "    plot.line('x', 'F', source = source, line_width=3, line_alpha=1, color = 'red', legend_label = 'Boosting') \n",
    "\n",
    "    # Create Slider object\n",
    "     \n",
    "    tree_depth = Slider(start=1, end=10, value=1,\n",
    "                    step=1, title='Tree Depth')  \n",
    "    \n",
    "    n_est = TextInput(title=\"Number of estimators\", value = '1')\n",
    "    \n",
    "    lr = Select(title=\"Learning rate\", value='5e-1',\n",
    "               options=['1e-4', '1e-3', '5e-3', '1e-2', '5e-2', '1e-1', '5e-1', '1'])\n",
    "\n",
    "    # Adding callback code\n",
    "    def callback(attr, old, new):\n",
    "        N = n_est.value\n",
    "        depth = tree_depth.value\n",
    "        learn_rate = float(lr.value)\n",
    "        \n",
    "        func_approx =simple_boosting_algorithm(X=X,\n",
    "                              y=y,\n",
    "                              n_learners= int(N),\n",
    "                              learner=DecisionTreeRegressor(max_depth= depth),\n",
    "                              learning_rate= float(learn_rate))\n",
    "\n",
    "        source.data = func_approx\n",
    "\n",
    "\n",
    "    tree_depth.on_change('value', callback)\n",
    "    n_est.on_change('value', callback)\n",
    "    lr.on_change('value', callback)\n",
    "\n",
    "    doc.add_root(row(\n",
    "        plot,\n",
    "        column(tree_depth, n_est, lr),\n",
    "    ))\n",
    "\n",
    "    doc.theme = Theme(json=yaml.load(\"\"\"\n",
    "        attrs:\n",
    "            Figure:\n",
    "                background_fill_color: white\n",
    "                outline_line_color: white\n",
    "                toolbar_location: above\n",
    "                height: 450\n",
    "                width: 450\n",
    "    \"\"\", Loader=yaml.FullLoader))\n",
    "\n"
   ]
  },
  {
   "cell_type": "markdown",
   "metadata": {
    "slideshow": {
     "slide_type": "slide"
    }
   },
   "source": [
    "The effects of sequential boosting with weak learners:"
   ]
  },
  {
   "cell_type": "code",
<<<<<<< HEAD
   "execution_count": 14,
=======
   "execution_count": 11,
>>>>>>> upstream/main
   "metadata": {
    "scrolled": false,
    "slideshow": {
     "slide_type": "fragment"
    }
   },
   "outputs": [
    {
<<<<<<< HEAD
     "ename": "NameError",
     "evalue": "name 'show' is not defined",
     "output_type": "error",
     "traceback": [
      "\u001b[0;31m---------------------------------------------------------------------------\u001b[0m",
      "\u001b[0;31mNameError\u001b[0m                                 Traceback (most recent call last)",
      "\u001b[0;32m<ipython-input-14-f6db316cc8fe>\u001b[0m in \u001b[0;36m<module>\u001b[0;34m\u001b[0m\n\u001b[0;32m----> 1\u001b[0;31m \u001b[0mshow\u001b[0m\u001b[0;34m(\u001b[0m\u001b[0mbk_app\u001b[0m\u001b[0;34m,\u001b[0m \u001b[0mnotebook_url\u001b[0m\u001b[0;34m=\u001b[0m\u001b[0;34m\"http://localhost:8888\"\u001b[0m\u001b[0;34m)\u001b[0m\u001b[0;34m\u001b[0m\u001b[0;34m\u001b[0m\u001b[0m\n\u001b[0m",
      "\u001b[0;31mNameError\u001b[0m: name 'show' is not defined"
     ]
=======
     "data": {
      "application/vnd.bokehjs_exec.v0+json": "",
      "text/html": [
       "<script id=\"1003\">\n",
       "  (function() {\n",
       "    const xhr = new XMLHttpRequest()\n",
       "    xhr.responseType = 'blob';\n",
       "    xhr.open('GET', \"http://localhost:51038/autoload.js?bokeh-autoload-element=1003&bokeh-absolute-url=http://localhost:51038&resources=none\", true);\n",
       "    xhr.onload = function (event) {\n",
       "      const script = document.createElement('script');\n",
       "      const src = URL.createObjectURL(event.target.response);\n",
       "      script.src = src;\n",
       "      document.body.appendChild(script);\n",
       "    };\n",
       "    xhr.send();\n",
       "  })();\n",
       "</script>"
      ]
     },
     "metadata": {
      "application/vnd.bokehjs_exec.v0+json": {
       "server_id": "048aa36290fb4fba860d5b93cd3f4c8b"
      }
     },
     "output_type": "display_data"
>>>>>>> upstream/main
    }
   ],
   "source": [
    "show(bk_app, notebook_url=\"http://localhost:8888\")"
   ]
  },
  {
   "cell_type": "markdown",
   "metadata": {
    "cell_style": "split",
    "slideshow": {
     "slide_type": "slide"
    }
   },
   "source": [
    "Gradient boosting:\n",
    "    \n",
    "- Tuning hyperparameters can be very important for performance."
   ]
  },
  {
   "cell_type": "markdown",
   "metadata": {
    "cell_style": "split",
    "slideshow": {
     "slide_type": "slide"
    }
   },
   "source": [
    "- Number of estimators (convergence/overfitting)\n",
    "- learning rate (too high...overfit)\n",
    "- tree depth (too large...overfit)\n",
    "\n",
    "Critical hyperparameters in balance between underfitting/overfitting"
   ]
  },
  {
   "cell_type": "markdown",
   "metadata": {
    "slideshow": {
     "slide_type": "slide"
    }
   },
   "source": [
    "Playing around with hyperparameters"
   ]
  },
  {
   "cell_type": "code",
<<<<<<< HEAD
   "execution_count": 15,
=======
   "execution_count": 12,
>>>>>>> upstream/main
   "metadata": {
    "scrolled": true,
    "slideshow": {
     "slide_type": "fragment"
    }
   },
   "outputs": [
    {
<<<<<<< HEAD
     "ename": "NameError",
     "evalue": "name 'show' is not defined",
     "output_type": "error",
     "traceback": [
      "\u001b[0;31m---------------------------------------------------------------------------\u001b[0m",
      "\u001b[0;31mNameError\u001b[0m                                 Traceback (most recent call last)",
      "\u001b[0;32m<ipython-input-15-f6db316cc8fe>\u001b[0m in \u001b[0;36m<module>\u001b[0;34m\u001b[0m\n\u001b[0;32m----> 1\u001b[0;31m \u001b[0mshow\u001b[0m\u001b[0;34m(\u001b[0m\u001b[0mbk_app\u001b[0m\u001b[0;34m,\u001b[0m \u001b[0mnotebook_url\u001b[0m\u001b[0;34m=\u001b[0m\u001b[0;34m\"http://localhost:8888\"\u001b[0m\u001b[0;34m)\u001b[0m\u001b[0;34m\u001b[0m\u001b[0;34m\u001b[0m\u001b[0m\n\u001b[0m",
      "\u001b[0;31mNameError\u001b[0m: name 'show' is not defined"
     ]
=======
     "data": {
      "application/vnd.bokehjs_exec.v0+json": "",
      "text/html": [
       "<script id=\"1004\">\n",
       "  (function() {\n",
       "    const xhr = new XMLHttpRequest()\n",
       "    xhr.responseType = 'blob';\n",
       "    xhr.open('GET', \"http://localhost:51040/autoload.js?bokeh-autoload-element=1004&bokeh-absolute-url=http://localhost:51040&resources=none\", true);\n",
       "    xhr.onload = function (event) {\n",
       "      const script = document.createElement('script');\n",
       "      const src = URL.createObjectURL(event.target.response);\n",
       "      script.src = src;\n",
       "      document.body.appendChild(script);\n",
       "    };\n",
       "    xhr.send();\n",
       "  })();\n",
       "</script>"
      ]
     },
     "metadata": {
      "application/vnd.bokehjs_exec.v0+json": {
       "server_id": "b9aea5db5d344727a5f4402e86e82cc3"
      }
     },
     "output_type": "display_data"
>>>>>>> upstream/main
    }
   ],
   "source": [
    "show(bk_app, notebook_url=\"http://localhost:8888\")"
   ]
  },
  {
   "cell_type": "markdown",
   "metadata": {
    "cell_style": "split",
    "slideshow": {
     "slide_type": "slide"
    }
   },
   "source": [
    "Why do all this?\n",
    "\n",
    "- Decision trees can be very fast.\n",
    "- Weak learners (particularly stumps) are even **faster**."
   ]
  },
  {
   "cell_type": "markdown",
   "metadata": {
    "cell_style": "split",
    "slideshow": {
     "slide_type": "fragment"
    }
   },
   "source": [
    "In principal:\n",
    "- can tune and fit models really quickly."
   ]
  },
  {
   "cell_type": "markdown",
   "metadata": {
    "cell_style": "center",
    "slideshow": {
     "slide_type": "slide"
    }
   },
   "source": [
    "Our naive implementation: \n",
    "- can be a little sensitive to overfitting \n",
    "- certainly overfits more than random forests."
   ]
  },
  {
   "cell_type": "markdown",
   "metadata": {
    "slideshow": {
     "slide_type": "slide"
    }
   },
   "source": [
    "\n",
    "Gets much better with extra randomization: \n",
    "- Random feature subset selection on individual trees \n",
    "- Randomly sampling subset of training data to improve on error at each stage.\n"
   ]
  },
  {
   "cell_type": "markdown",
   "metadata": {
    "slideshow": {
     "slide_type": "slide"
    }
   },
   "source": [
    "Even better with regularization on trees:"
   ]
  },
  {
   "cell_type": "markdown",
   "metadata": {
    "cell_style": "split",
    "slideshow": {
     "slide_type": "fragment"
    }
   },
   "source": [
    "$$ L = \\sum_{i=1}^N l(y_i, \\hat{y}_i) + \\gamma \\sum_{m=1}^M \\Omega(h_m)$$\n",
    "- $\\Omega$: complexity of tree at the mth step. \n",
    "- $\\gamma$: controls penalty on complexity \n",
    "\n",
    "**Penalizing building more complex trees but also allows for it if necessary**"
   ]
  },
  {
   "cell_type": "markdown",
   "metadata": {
    "cell_style": "split",
    "slideshow": {
     "slide_type": "fragment"
    }
   },
   "source": [
    "$\\gamma$ controls tree pruning. If branch doesn't minimize error (maximize imformation gain) **enough** then cut it.\n",
    "\n",
    "<img src = \"Images/pruning_reg.webp\" />"
   ]
  },
  {
   "cell_type": "markdown",
   "metadata": {
    "cell_style": "center",
    "slideshow": {
     "slide_type": "slide"
    }
   },
   "source": [
    "#### Use above strategies + a lot of algorithm optimization\n",
    "\n",
    "- XGBoost (Extreme Gradient Boosting)\n",
    "\n"
   ]
  },
  {
   "cell_type": "markdown",
   "metadata": {
    "cell_style": "center",
    "slideshow": {
     "slide_type": "fragment"
    }
   },
   "source": [
    "<img src = \"Images/xgboost.png\" />\n",
    "<center>Package integrates well with scikit-learn</center>"
   ]
  },
  {
   "cell_type": "markdown",
   "metadata": {
    "slideshow": {
     "slide_type": "slide"
    }
   },
   "source": [
    "Load in the XGB classifier/regressor"
   ]
  },
  {
   "cell_type": "code",
   "execution_count": 16,
   "metadata": {
    "slideshow": {
     "slide_type": "fragment"
    }
   },
   "outputs": [],
   "source": [
    "from xgboost import XGBRegressor\n",
    "from xgboost import XGBClassifier"
   ]
  },
  {
   "cell_type": "code",
   "execution_count": 17,
   "metadata": {
    "slideshow": {
     "slide_type": "fragment"
    }
   },
   "outputs": [],
   "source": [
    "from sklearn.model_selection import train_test_split\n",
    "from sklearn.model_selection import GridSearchCV"
   ]
  },
  {
   "cell_type": "code",
   "execution_count": 18,
   "metadata": {
    "slideshow": {
     "slide_type": "fragment"
    }
   },
   "outputs": [],
   "source": [
    "X_train, X_test, y_train, y_test = train_test_split(X, y, test_size = .3)"
   ]
  },
  {
   "cell_type": "markdown",
   "metadata": {
    "slideshow": {
     "slide_type": "slide"
    }
   },
   "source": [
    "#### Hyperparameters to tune and ranges"
   ]
  },
  {
   "cell_type": "markdown",
   "metadata": {
    "slideshow": {
     "slide_type": "fragment"
    }
   },
   "source": [
    "| Hyperparameter | Description  | Typical ranges | <center> Comments </center> |\n",
    "| --- | --- | --- | --- |\n",
    "| n_estimator | Number of trees <br> (iterations in sequence) | 50-500 | <center> Can get into low thousands. <br> Increasing beyond certain point: <br> overfitting or no benefit. </center>  |\n",
    "| max_depth | Maximum tree depth of learners | 3-6 |<center> Increment by 1. <br> Changing depth: huge effect. </center>| \n",
    "| learning_rate | The learning rate | 1e-3 to 1 | <center> Proper regularization/randomization <br> allows for faster learning rates <br> ~ 0.1-1 </center>   |\n",
    "|  <font color='red'>gamma </font>| Tree complexity regularization | 0 - 100 | <center> Primary knob for tree regularization </center>   |\n",
    "| <font color='red'>colsample_bytree </font> | <center> Fraction of features <br> randomly sampled by tree </center> | 0.5 - 1 | <center> Regularizing effect  <br>colsample_bylevel, colsample_bynode:<br> add extra degrees of randomization </center>|"
   ]
  },
  {
   "cell_type": "markdown",
   "metadata": {
    "slideshow": {
     "slide_type": "slide"
    }
   },
   "source": [
    "XGB estimators fits neatly and seamlessly into scikit-learn model pipelines, grid search, etc."
   ]
  },
  {
   "cell_type": "code",
   "execution_count": 19,
   "metadata": {
    "slideshow": {
     "slide_type": "fragment"
    }
   },
   "outputs": [],
   "source": [
    "from xgboost import XGBRegressor\n",
    "from xgboost import XGBClassifier"
   ]
  },
  {
   "cell_type": "code",
   "execution_count": 20,
   "metadata": {
    "slideshow": {
     "slide_type": "fragment"
    }
   },
   "outputs": [],
   "source": [
    "params = {'max_depth': [3,4, 5], 'learning_rate': [.1, .3, .5],\n",
    "          'gamma': [0,5,10], 'n_estimators': [50,100, 150] }\n",
    "cv = GridSearchCV(estimator = XGBRegressor(objective='reg:squarederror'), scoring='neg_mean_absolute_error',\n",
    "                  param_grid = params, cv = 5)\n",
    "cv.fit(X_train.reshape(-1,1), y_train);"
   ]
  },
  {
   "cell_type": "code",
   "execution_count": 21,
   "metadata": {
    "cell_style": "center",
    "scrolled": true,
    "slideshow": {
     "slide_type": "slide"
    }
   },
   "outputs": [
    {
     "data": {
      "text/plain": [
       "XGBRegressor(base_score=0.5, booster='gbtree', colsample_bylevel=1,\n",
<<<<<<< HEAD
       "             colsample_bynode=1, colsample_bytree=1, gamma=0, gpu_id=-1,\n",
       "             importance_type='gain', interaction_constraints='',\n",
       "             learning_rate=0.1, max_delta_step=0, max_depth=3,\n",
       "             min_child_weight=1, missing=nan, monotone_constraints='()',\n",
       "             n_estimators=150, n_jobs=0, num_parallel_tree=1, random_state=0,\n",
       "             reg_alpha=0, reg_lambda=1, scale_pos_weight=1, subsample=1,\n",
       "             tree_method='exact', validate_parameters=1, verbosity=None)"
=======
       "             colsample_bynode=1, colsample_bytree=1, enable_categorical=False,\n",
       "             gamma=0, gpu_id=-1, importance_type=None,\n",
       "             interaction_constraints='', learning_rate=0.1, max_delta_step=0,\n",
       "             max_depth=3, min_child_weight=1, missing=nan,\n",
       "             monotone_constraints='()', n_estimators=100, n_jobs=8,\n",
       "             num_parallel_tree=1, predictor='auto', random_state=0, reg_alpha=0,\n",
       "             reg_lambda=1, scale_pos_weight=1, subsample=1, tree_method='exact',\n",
       "             validate_parameters=1, verbosity=None)"
>>>>>>> upstream/main
      ]
     },
     "execution_count": 21,
     "metadata": {},
     "output_type": "execute_result"
    }
   ],
   "source": [
    "cv.best_estimator_"
   ]
  },
  {
   "cell_type": "code",
   "execution_count": 22,
   "metadata": {
    "cell_style": "split",
    "slideshow": {
     "slide_type": "fragment"
    }
   },
   "outputs": [
    {
     "data": {
      "text/plain": [
<<<<<<< HEAD
       "-0.33723744739153017"
=======
       "-0.3521079489740862"
>>>>>>> upstream/main
      ]
     },
     "execution_count": 22,
     "metadata": {},
     "output_type": "execute_result"
    }
   ],
   "source": [
    "cv.best_score_"
   ]
  },
  {
   "cell_type": "code",
   "execution_count": 25,
   "metadata": {
    "cell_style": "split",
    "slideshow": {
     "slide_type": "fragment"
    }
   },
   "outputs": [],
   "source": [
    "best_mod = cv.best_estimator_\n",
    "best_mod.fit(X_train.reshape(-1,1), y_train);\n",
    "y_pred = best_mod.predict(X_test.reshape(-1, 1))"
   ]
  },
  {
   "cell_type": "code",
   "execution_count": 32,
   "metadata": {
    "cell_style": "split",
    "scrolled": false,
    "slideshow": {
     "slide_type": "slide"
    }
   },
   "outputs": [
    {
     "data": {
<<<<<<< HEAD
      "image/png": "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\n",
=======
      "image/png": "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\n",
>>>>>>> upstream/main
      "text/plain": [
       "<Figure size 432x288 with 1 Axes>"
      ]
     },
     "metadata": {
      "needs_background": "light"
     },
     "output_type": "display_data"
    }
   ],
   "source": [
    "fig, ax = plt.subplots()\n",
    "ax.scatter(X_test, y_test, c ='g', label = 'Test data')\n",
    "ax.scatter(X_test, y_pred, c ='r', label = 'Prediction')\n",
    "ax.legend()\n",
    "plt.show()"
   ]
  },
  {
   "cell_type": "markdown",
   "metadata": {
    "cell_style": "split",
    "slideshow": {
     "slide_type": "fragment"
    }
   },
   "source": [
    "Clearly doing pretty well with variance\n",
    "- CV average MAE at scale of intrinsic noise in model.\n",
    "- Also doing decently with bias. Sine wave amplitude ~ 1."
   ]
  },
  {
   "cell_type": "markdown",
   "metadata": {
    "slideshow": {
     "slide_type": "slide"
    }
   },
   "source": [
    "#### How about something a little more complicated?"
   ]
  },
  {
   "cell_type": "code",
   "execution_count": 33,
   "metadata": {
    "slideshow": {
     "slide_type": "slide"
    }
   },
   "outputs": [],
   "source": [
    "# load data\n",
    "file_path = \"Data/WHO_life.csv\"\n",
    "who_df = pd.read_csv(file_path).drop(columns = ['Adult Mortality', 'infant deaths',\n",
    "                                            'Year', 'Status', ' thinness 5-9 years', 'Country', \n",
    "                                            'under-five deaths ']).dropna()\n",
    "# clean column names\n",
    "who_df.columns = who_df.columns.str.strip()\n",
    "\n",
    "X_who, y_who = who_df.drop(columns = ['Life expectancy']), who_df['Life expectancy']"
   ]
  },
  {
   "cell_type": "code",
   "execution_count": 34,
   "metadata": {
    "cell_style": "center",
    "scrolled": true,
    "slideshow": {
     "slide_type": "slide"
    }
   },
   "outputs": [
    {
     "data": {
      "text/html": [
       "<div>\n",
       "<style scoped>\n",
       "    .dataframe tbody tr th:only-of-type {\n",
       "        vertical-align: middle;\n",
       "    }\n",
       "\n",
       "    .dataframe tbody tr th {\n",
       "        vertical-align: top;\n",
       "    }\n",
       "\n",
       "    .dataframe thead th {\n",
       "        text-align: right;\n",
       "    }\n",
       "</style>\n",
       "<table border=\"1\" class=\"dataframe\">\n",
       "  <thead>\n",
       "    <tr style=\"text-align: right;\">\n",
       "      <th></th>\n",
       "      <th>Alcohol</th>\n",
       "      <th>percentage expenditure</th>\n",
       "      <th>Hepatitis B</th>\n",
       "      <th>Measles</th>\n",
       "      <th>BMI</th>\n",
       "      <th>Polio</th>\n",
       "      <th>Total expenditure</th>\n",
       "      <th>Diphtheria</th>\n",
       "      <th>HIV/AIDS</th>\n",
       "      <th>GDP</th>\n",
       "      <th>Population</th>\n",
       "      <th>thinness  1-19 years</th>\n",
       "      <th>Income composition of resources</th>\n",
       "      <th>Schooling</th>\n",
       "    </tr>\n",
       "  </thead>\n",
       "  <tbody>\n",
       "    <tr>\n",
       "      <th>0</th>\n",
       "      <td>0.01</td>\n",
       "      <td>71.279624</td>\n",
       "      <td>65.0</td>\n",
       "      <td>1154</td>\n",
       "      <td>19.1</td>\n",
       "      <td>6.0</td>\n",
       "      <td>8.16</td>\n",
       "      <td>65.0</td>\n",
       "      <td>0.1</td>\n",
       "      <td>584.259210</td>\n",
       "      <td>33736494.0</td>\n",
       "      <td>17.2</td>\n",
       "      <td>0.479</td>\n",
       "      <td>10.1</td>\n",
       "    </tr>\n",
       "    <tr>\n",
       "      <th>1</th>\n",
       "      <td>0.01</td>\n",
       "      <td>73.523582</td>\n",
       "      <td>62.0</td>\n",
       "      <td>492</td>\n",
       "      <td>18.6</td>\n",
       "      <td>58.0</td>\n",
       "      <td>8.18</td>\n",
       "      <td>62.0</td>\n",
       "      <td>0.1</td>\n",
       "      <td>612.696514</td>\n",
       "      <td>327582.0</td>\n",
       "      <td>17.5</td>\n",
       "      <td>0.476</td>\n",
       "      <td>10.0</td>\n",
       "    </tr>\n",
       "    <tr>\n",
       "      <th>2</th>\n",
       "      <td>0.01</td>\n",
       "      <td>73.219243</td>\n",
       "      <td>64.0</td>\n",
       "      <td>430</td>\n",
       "      <td>18.1</td>\n",
       "      <td>62.0</td>\n",
       "      <td>8.13</td>\n",
       "      <td>64.0</td>\n",
       "      <td>0.1</td>\n",
       "      <td>631.744976</td>\n",
       "      <td>31731688.0</td>\n",
       "      <td>17.7</td>\n",
       "      <td>0.470</td>\n",
       "      <td>9.9</td>\n",
       "    </tr>\n",
       "    <tr>\n",
       "      <th>3</th>\n",
       "      <td>0.01</td>\n",
       "      <td>78.184215</td>\n",
       "      <td>67.0</td>\n",
       "      <td>2787</td>\n",
       "      <td>17.6</td>\n",
       "      <td>67.0</td>\n",
       "      <td>8.52</td>\n",
       "      <td>67.0</td>\n",
       "      <td>0.1</td>\n",
       "      <td>669.959000</td>\n",
       "      <td>3696958.0</td>\n",
       "      <td>17.9</td>\n",
       "      <td>0.463</td>\n",
       "      <td>9.8</td>\n",
       "    </tr>\n",
       "    <tr>\n",
       "      <th>4</th>\n",
       "      <td>0.01</td>\n",
       "      <td>7.097109</td>\n",
       "      <td>68.0</td>\n",
       "      <td>3013</td>\n",
       "      <td>17.2</td>\n",
       "      <td>68.0</td>\n",
       "      <td>7.87</td>\n",
       "      <td>68.0</td>\n",
       "      <td>0.1</td>\n",
       "      <td>63.537231</td>\n",
       "      <td>2978599.0</td>\n",
       "      <td>18.2</td>\n",
       "      <td>0.454</td>\n",
       "      <td>9.5</td>\n",
       "    </tr>\n",
       "  </tbody>\n",
       "</table>\n",
       "</div>"
      ],
      "text/plain": [
       "   Alcohol  percentage expenditure  Hepatitis B  Measles   BMI  Polio  \\\n",
       "0     0.01               71.279624         65.0     1154  19.1    6.0   \n",
       "1     0.01               73.523582         62.0      492  18.6   58.0   \n",
       "2     0.01               73.219243         64.0      430  18.1   62.0   \n",
       "3     0.01               78.184215         67.0     2787  17.6   67.0   \n",
       "4     0.01                7.097109         68.0     3013  17.2   68.0   \n",
       "\n",
       "   Total expenditure  Diphtheria  HIV/AIDS         GDP  Population  \\\n",
       "0               8.16        65.0       0.1  584.259210  33736494.0   \n",
       "1               8.18        62.0       0.1  612.696514    327582.0   \n",
       "2               8.13        64.0       0.1  631.744976  31731688.0   \n",
       "3               8.52        67.0       0.1  669.959000   3696958.0   \n",
       "4               7.87        68.0       0.1   63.537231   2978599.0   \n",
       "\n",
       "   thinness  1-19 years  Income composition of resources  Schooling  \n",
       "0                  17.2                            0.479       10.1  \n",
       "1                  17.5                            0.476       10.0  \n",
       "2                  17.7                            0.470        9.9  \n",
       "3                  17.9                            0.463        9.8  \n",
       "4                  18.2                            0.454        9.5  "
      ]
     },
     "execution_count": 34,
     "metadata": {},
     "output_type": "execute_result"
    }
   ],
   "source": [
    "X_who.head()"
   ]
  },
  {
   "cell_type": "code",
   "execution_count": 35,
   "metadata": {
    "cell_style": "split",
    "slideshow": {
     "slide_type": "fragment"
    }
   },
   "outputs": [
    {
     "data": {
      "text/plain": [
       "0    65.0\n",
       "1    59.9\n",
       "2    59.9\n",
       "3    59.5\n",
       "4    59.2\n",
       "Name: Life expectancy, dtype: float64"
      ]
     },
     "execution_count": 35,
     "metadata": {},
     "output_type": "execute_result"
    }
   ],
   "source": [
    "y_who.head()"
   ]
  },
  {
   "cell_type": "code",
   "execution_count": 36,
   "metadata": {
    "slideshow": {
     "slide_type": "fragment"
    }
   },
   "outputs": [],
   "source": [
    "# Train test split\n",
    "X_who_train, X_who_test, y_who_train, y_who_test = train_test_split(X_who, y_who, test_size = 0.3)"
   ]
  },
  {
   "cell_type": "code",
   "execution_count": 37,
   "metadata": {
    "slideshow": {
     "slide_type": "slide"
    }
   },
   "outputs": [],
   "source": [
    "params = {'max_depth': [3,4, 5], 'learning_rate': [.1, .3, .5],\n",
    "          'gamma': [0,5,10], 'colsample_bynode': [.5, .75, 1], 'n_estimators': [50,100, 150] }\n",
    "cv = GridSearchCV(estimator = XGBRegressor(objective='reg:squarederror'), scoring='neg_mean_absolute_error',\n",
    "                  param_grid = params, cv = 5)\n",
    "cv.fit(X_who_train, y_who_train);"
   ]
  },
  {
   "cell_type": "code",
   "execution_count": 38,
   "metadata": {
    "cell_style": "center",
    "slideshow": {
     "slide_type": "slide"
    }
   },
   "outputs": [
    {
     "data": {
      "text/plain": [
<<<<<<< HEAD
       "-1.6238704524500638"
=======
       "-1.6829698581304249"
>>>>>>> upstream/main
      ]
     },
     "execution_count": 38,
     "metadata": {},
     "output_type": "execute_result"
    }
   ],
   "source": [
    "cv.best_score_"
   ]
  },
  {
   "cell_type": "code",
   "execution_count": 39,
   "metadata": {
    "cell_style": "center",
    "slideshow": {
     "slide_type": "fragment"
    }
   },
   "outputs": [
    {
     "data": {
      "text/plain": [
       "XGBRegressor(base_score=0.5, booster='gbtree', colsample_bylevel=1,\n",
<<<<<<< HEAD
       "             colsample_bynode=1, colsample_bytree=1, gamma=0, gpu_id=-1,\n",
       "             importance_type='gain', interaction_constraints='',\n",
       "             learning_rate=0.1, max_delta_step=0, max_depth=5,\n",
       "             min_child_weight=1, missing=nan, monotone_constraints='()',\n",
       "             n_estimators=150, n_jobs=0, num_parallel_tree=1, random_state=0,\n",
       "             reg_alpha=0, reg_lambda=1, scale_pos_weight=1, subsample=1,\n",
       "             tree_method='exact', validate_parameters=1, verbosity=None)"
=======
       "             colsample_bynode=0.5, colsample_bytree=1, enable_categorical=False,\n",
       "             gamma=0, gpu_id=-1, importance_type=None,\n",
       "             interaction_constraints='', learning_rate=0.1, max_delta_step=0,\n",
       "             max_depth=5, min_child_weight=1, missing=nan,\n",
       "             monotone_constraints='()', n_estimators=150, n_jobs=8,\n",
       "             num_parallel_tree=1, predictor='auto', random_state=0, reg_alpha=0,\n",
       "             reg_lambda=1, scale_pos_weight=1, subsample=1, tree_method='exact',\n",
       "             validate_parameters=1, verbosity=None)"
>>>>>>> upstream/main
      ]
     },
     "execution_count": 39,
     "metadata": {},
     "output_type": "execute_result"
    }
   ],
   "source": [
    "best_regressor = cv.best_estimator_\n",
    "best_regressor"
   ]
  },
  {
   "cell_type": "code",
   "execution_count": 40,
   "metadata": {
    "cell_style": "split",
    "slideshow": {
     "slide_type": "slide"
    }
   },
   "outputs": [],
   "source": [
    "best_regressor.fit(X_who_train, y_who_train)\n",
    "y_pred_train = best_regressor.predict(\n",
    "    X_who_train)\n",
    "y_pred_test = best_regressor.predict(X_who_test)"
   ]
  },
  {
   "cell_type": "code",
   "execution_count": 41,
   "metadata": {
    "cell_style": "split",
    "slideshow": {
     "slide_type": "slide"
    }
   },
   "outputs": [],
   "source": [
    "from sklearn.metrics import mean_absolute_error\n",
    "from sklearn.metrics import mean_squared_error\n",
    "from sklearn.metrics import r2_score\n"
   ]
  },
  {
   "cell_type": "code",
   "execution_count": 42,
   "metadata": {
    "cell_style": "split",
    "slideshow": {
     "slide_type": "slide"
    }
   },
   "outputs": [
    {
     "name": "stdout",
     "output_type": "stream",
     "text": [
<<<<<<< HEAD
      "1.6173235467467646\n"
=======
      "1.711768367266414\n"
>>>>>>> upstream/main
     ]
    }
   ],
   "source": [
    "MAE = mean_absolute_error(y_who_test, \n",
    "                          y_pred_test)\n",
    "print(MAE)"
   ]
  },
  {
   "cell_type": "code",
   "execution_count": 43,
   "metadata": {
    "cell_style": "split",
    "slideshow": {
     "slide_type": "fragment"
    }
   },
   "outputs": [
    {
     "name": "stdout",
     "output_type": "stream",
     "text": [
<<<<<<< HEAD
      "2.2517947293198506\n"
=======
      "2.3691056645296333\n"
>>>>>>> upstream/main
     ]
    }
   ],
   "source": [
    "RMSE = np.sqrt(mean_squared_error(y_who_test,\n",
    "                                  y_pred_test))\n",
    "print(RMSE)"
   ]
  },
  {
   "cell_type": "markdown",
   "metadata": {
    "slideshow": {
     "slide_type": "slide"
    }
   },
   "source": [
    "Train and test: $R^2$ score"
   ]
  },
  {
   "cell_type": "code",
   "execution_count": 44,
   "metadata": {
    "cell_style": "split",
    "slideshow": {
     "slide_type": "fragment"
    }
   },
   "outputs": [
    {
     "data": {
      "text/plain": [
<<<<<<< HEAD
       "0.9916537345255168"
=======
       "0.9896355610015164"
>>>>>>> upstream/main
      ]
     },
     "execution_count": 44,
     "metadata": {},
     "output_type": "execute_result"
    }
   ],
   "source": [
    "r2_score(y_who_train, y_pred_train)"
   ]
  },
  {
   "cell_type": "code",
   "execution_count": 45,
   "metadata": {
    "cell_style": "split",
    "slideshow": {
     "slide_type": "fragment"
    }
   },
   "outputs": [
    {
     "data": {
      "text/plain": [
<<<<<<< HEAD
       "0.9398070133474405"
=======
       "0.9249631924646295"
>>>>>>> upstream/main
      ]
     },
     "execution_count": 45,
     "metadata": {},
     "output_type": "execute_result"
    }
   ],
   "source": [
    "r2_score(y_who_test, y_pred_test)"
   ]
  },
  {
   "cell_type": "markdown",
   "metadata": {
    "slideshow": {
     "slide_type": "slide"
    }
   },
   "source": [
    "Comparing this to our simple multiple linear regression:\n",
    "- $R^2 = 0.76$ \n",
    "- MAE of ~3.5.\n",
    "- Had to carefully remove correlated features.\n",
    "- Standardize for feature weight importance or regularization.\n"
   ]
  },
  {
   "cell_type": "code",
   "execution_count": 46,
   "metadata": {
    "cell_style": "center",
    "scrolled": true,
    "slideshow": {
     "slide_type": "slide"
    }
   },
   "outputs": [
    {
     "data": {
<<<<<<< HEAD
      "image/png": "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\n",
=======
      "image/png": "iVBORw0KGgoAAAANSUhEUgAAAggAAAEWCAYAAAADyG8VAAAAOXRFWHRTb2Z0d2FyZQBNYXRwbG90bGliIHZlcnNpb24zLjUuMSwgaHR0cHM6Ly9tYXRwbG90bGliLm9yZy/YYfK9AAAACXBIWXMAAAsTAAALEwEAmpwYAAA5G0lEQVR4nO3deZwcVbn/8c83YQkhJAEC3ASFkUWQJSQwgCwiKKDiAvxAA6IYvcJFBUQuSq4gBhFF4V6UTQzIqoIKsisE2cIWyYSELKxKgkKQTQgEAoHk+f1xTieVXmZ6wvR0MvN9v179SvWpc06dqh6op09V16OIwMzMzKyoT7MHYGZmZssfBwhmZmZWwQGCmZmZVXCAYGZmZhUcIJiZmVkFBwhmZmZWwQGCmZmZVXCAYLaCkDRA0mxJny+UrSHpH5IOLJS1SrpR0suSXpH0sKRTJa2Z14+WtFDSvPx6UtLX2tnu7pIW5bqvSXpM0pcbu7fLL0l3SnqzcPzmSdqpC/r8aleNsY7tjZZ0T3dtrz357+vpZo/DKjlAMFtBRMQ84HDg55LWycU/Bdoi4ioASTsDdwL3AptHxGDg48A7wDaF7u6PiAERMQA4EPippJHtbH5OrjsQ+BZwgaTNumznMkkrdXWfDdr+kaXjl1/3N3RgHWj2cVtWK+q4ewsHCGYrkIgYD9wEnCVpd+BzwDcKVX4KXBwRP46I53Kbf0TE9yPizhp9Pgg8Anygju1HRPwJ+DcwHEBSH0ljJP1d0kuSfi9prVIbSYdKeiqv+16eBdkzrxsr6SpJv5b0KjBa0iBJv5L0rKRnJP1QUt9cfxNJd0maK+lFSb/L5ZJ0pqTn87ppkrbK6wZJukzSC3kcJ0rqk9eNlnRvbvtvYGx9n0QlSatKOiPP6Dwn6XxJq+V1a+ZZnRfyzM6Nkt6T150KfAg4J89GnCOpRVIUT6DFWYZq425v+3WMfbakb+fj9no+/utJ+nOeNfpLYQaqNLbDJc3Jn9N/lx2Hn+V1c/Lyqnnd7pKelnS8pH8BVwB/BoYVZmOGSdpB0v1KM2DP5mOySmEbIekISU/k43muJBXWHybpkTz2hyVtm8uHSbo6fw6zJB1daLODpDZJr+bj93+d/RvoaRwgmK14vgXsDlwFHBcRzwJIWh3YCbi6M51J2h54P9BWR90+kj4DDAH+louPBvYDPgwMA14Gzs31twDOAw4BhgKDgPXLut0378tg4DfApaQZj02AkcDeQGn6/RRgPLAm8B7g7Fy+N7Bb3o/BwCjgpbzu7LzdjfIYDwWKl0h2BJ4E1gVOlfR5SdM6OhZV/CRvf0Qe+/rASXldH+BiYENgA2A+cA5ARJwA3M2SWYkj69zeUuPuYPv1OADYK/fxadKJ+7ukz7oP6XMu2gPYlHTsxygHfcAJwAfzOLYBdgBOLLT7D2At0rE4FPgEeYYqv+YAC0l/50NIf9MfBb5etv1PAdvnbXwO+BiApM+SAr1DSTNenwFeykHhDcBD+dh8FDhG0sdyfz8Hfh4RA4GNgd/XddR6sojwyy+/VrAX8BfgDWBQoew9QJAuLZTKfgq8ArwOnJjLRpNOwK8A83KbswHV2NbuwKJc/y3S/7yPKax/BPho4f1Q4G1gJdIJ6orCuv7AAmDP/H4sMKGwfr28jdUKZQcDd+Tly4BxwHvKxvgR4HHSialPobxv7m+LQtl/AXcWjsU/Onns78zH/pX8ehBQPsYbF+rtBMyq0ccI4OWyPr9aeN+SP5eVqtUpH/cybH80cE/h/WzgkML7q4FfFN4fBVxbNrbyv7Nf5eW/A/sU1n0MmF34W1oA9Cv7+3q6g2N+DHBN4X0Auxbe/x4Yk5dvAb5ZpY8dyz9r4H9IM24AE4CTgSGN+G92RXx5BsFsBSPpC6T/Sf+F9K2x5GXSiXxoqSAivhPpPoRrSCfskokRMTjSfQX/AWwJ/Kidzc7J/QwEziKdkEs2BK7J08GvkAKGhaST/TDgn4XxvMGSb/Yl/ywsbwisDDxb6O+XpG/JAN8hnQwfkDRT0ldyv7eTvpGfCzwnaZykgaRvoKsATxW28RRLz2IUt1+vo/PxGxwR2wLrkIKfyYVx35zLkdRf0i/zJY5XSSejwcqXTpZRcdztbr9OzxWW51d5P6Cd7T9F+qzJ/5Yf72GF9y9ExJvtDUTS+/NlmH/l4/Uj0mdZ9K/C8huF8b2XFKSU25B0KeOVwjH6LunvFOA/SbMnj0qaJOlT7Y2xN3CAYLYCkbQucCZwGOmb8Ock7QYQEa8DfwX+X2f6jHSvwtWkaeWO6r4FHA9sLWm/XPxP4BOFE+bgiOgXEc8Az5JmNkrjXw1Yu7zbwvI/Sd/4hxT6GhgRW+bt/ysiDouIYXn/z5O0SV53VkRsRwp23g98G3iRNJuxYWEbGwDP1Nj+snqRdBLdsjDuQTkAA/hvYDNgx0hT2Lvl8tJ18/IxvJ7/7V8o+4+yOsU2HW2/Ed5bWN4AmJOX51B5vOcU3pfva7Xj/wvgUWDTfLy+y5Jj1ZF/ki4RVCufVfZ3ukZE7AMQEU9ExMGkYPQnwFX5sl2v5QDBbMVyDmmq945I9x58h/SLglXz+u8AX1G6aXBdgHwz3PtqdShpbWB/YGY9A4iIBcD/suT69vmka/cb5v7WkbRvXncV8GlJO+ebzE6mnf/R530aD/yvpIH5noeNJX049/3ZvD+QZkwCWChpe0k7SlqZdHJ9E1gYEQtJ08+nKv0kdEPgWODX9exrvSJiEXABcGbhuK9fuL69BukE/orSDZzfL+viOdI9EqX+XiAFMV+Q1DfPlFQ76dW7/Ub4Xp4Z2ZJ0T8fvcvkVwIn572AI6e+kveP9HLC2pEGFsjWAV4F5kjYHav4Mt4oLgeMkbadkk/y5PwC8mm+QXC0f163yPThI+oKkdfKxfCX3tbAT2+1xHCCYrSDyN/ZdSd+MAYiIC4GnySfriLiHNP2/G/B4Yar5Tpbc0AewU+mucdIlgRdI15nrdRGwgaRPk27uuh4YL+k1YCLpei8RMTP3eyVpNuE14HnSLEEth5IuCzxMCgKuYsllk+2Bv+ZxX0+61jyLdOnjglz/KdJljDNym6NIQcOTwD3Ab/P4q5J0iKS6gqUyx5Nu3JyYp8X/Qpo1APgZsBrpm/5E0mdS9HPgwHxH/lm57DDSZ/0SaVbkvnex/Ua4K2/vNuCMSL+wAfgh6YbXacB00j0aP6zVSUQ8SgoqnsxT/8OA44DPk/5eLmBJ8NGhiPgD6abN3+b21wJr5WDx06T7P2aRPosLSTewQvo58Mz8t/Vz4KCOLoX0dIroitk1M7OOSRpA+na2aT6x2wpGUgvpBLtyRLzT5OFYA3kGwcwaStKn81T06qRv9dNJd82b2XLMAYKZNdq+pJvU5pB+N39QeOrSbLnnSwxmZmZWwTMIZmZmVsGJMqzHGDJkSLS0tDR7GGZmK5TJkye/GBEVD9VygGA9RktLC21tHaYTMDOzAklPVSv3JQYzMzOr4ADBzMzMKjhAsB5j+jNzaRlzEy1jbmr2UMzMVngOEHqo/LjQ4vvRks7p4m0MlvT1wvthkq7KyyMk7VNY9xlJY+rst0XSfElTJT0k6T5JjXxkrJmZlXGAYO/GYGBxgBARcyLiwPx2BLBPYd31EXFaJ/r+e0SMiIhtgEtJ2dzMzKybOEDohXKWtatzzvNJknbJ5WMlXS7pdklPSDoslw+QdJukByVNL2TqOw3YOH/TPz1/85+Rs/b9ABiV140qzmDkjHwz8uzAhDqGPJCUhMfMzLqJf+bYc60maWrh/Vqk7HeQMpWdGRH3SNoAuAX4QF43HPggsDowRdJNpOx7+0fEqzl960RJ1wNjgK0iYgQsTuJCRCyQdBLQGhFH5nWjC2M5CfhYRDwjaXCN8W+cx78G0J+cHbCcpMOBwwH6Dqz4Ga+ZmS0jBwg91/zSiRsWn6Bb89s9gS0klVYPlLRGXr4uIuYD8yXdAewA3AT8SNJuwCJgfWC9dzG2e4FLJP0e+GONOn8vBB6jgHGkdKxLiYhxeR2rDt3Uzw03M+siDhB6pz7ATjkQWCwHDOUn2QAOAdYBtouItyXNBvot68Yj4ghJOwKfBKZKGhERL7XT5Hrg4mXdnpmZdZ7vQeidxgNHlt5IGlFYt6+kfpLWBnYHJgGDgOdzcLAHsGGu+xrpEkA1NddJ2jgi/hoRJwEvAu/tYLy7An/voI6ZmXUhzyD0TkcD50qaRvobmAAckdc9QLqksAFwSkTMkfQb4AZJbcBU4FGAiHhJ0r2SZgB/Bs4tbOMOYEy+j+DHZds/XdKmgIDbgIeqjLF0D4KABcBXO9qprdcfRNtpn+yompmZ1cHpnm0xSWOBeRFxRrPHsixaW1vDuRjMzDpH0uSIaC0v9yUGMzMzq+BLDLZYRIxt9hjMzGz54BkEMzMzq+AAwczMzCo4QDAzM7MKDhDMzMysggOEHk7SwpwwaYakP0jq38X93ymp4ucxZXWOKW5X0p/aycGwzKY/M5eWMTctfpmZ2bJzgNDzzc9pk7ciPXDoiI4aNMAxpIRLAETEPhHxShPGYWZmdXKA0LvcDWwiaS1J10qaJmmipOHQbrrn3SXdWOpE0jll2RlL5b+Q1CZppqSTc9nRwDDgjpz8CUmzc1ZIJB2bZzdmSDoml7VIekTSBbmv8ZJWa+iRMTOzpThA6CUkrQR8ApgOnAxMiYjhwHeBywpVh5OSKO0EnCRpWCc2c0J+Gtdw4MOShkfEWcAcYI+I2KNsTNsBXyalcv4gcJikkXn1psC5EbEl8ApwQGf218zM3h0HCD3fajmnQRvwD+BXpORHlwNExO3A2pIG5frXRcT8iHiRlE9hh05s63OSHgSmAFsCW3RQf1fgmoh4PSLmkVI/fyivmxURU/PyZKClWgeSDs+zFm0L35jbiaGamVl7/CTFnm9+RIwoFijndS4TZf8Wy99h6WCyItWzpPcBxwHbR8TLki6pVq+8WTvr3iosLwSqXmKIiHHAOIBVh27qxCJmZl3EMwi90wTgEEj3FwAvRsSreV21dM9PAVtIWjXPNHy0Sp8DgdeBuZLWI13OKKmV+nkCsJ+k/pJWB/Yn3SdhZmZN5hmE3mkscHFO9/wG8KXCuop0zwCSfg9MA54gXUJYSkQ8JGkKMBN4Eri3sHoc8GdJzxbvQ4iIB/NMwwO56MKImCKppSt20szMlp3TPdtiTvdsZtb7ON2zmZmZ1c2XGGwxp3s2M7MSzyCYmZlZBQcIZmZmVsEBgpmZmVVwgGBmZmYVfJOi9RildM9Fs0/7ZJNGY2a2YvMMgi1FUki6vPB+JUkvFLM5dtF2Fmd0NDOz5Y8DBCv3OrBVIb3yXsAzTRyPmZk1gQMEq+bPpJTPAAcDV5RWSFpd0kWSJkmaImnfXN4i6W5JD+bXzrl8qKQJkqZKmiHpQ+Ubk/QFSQ/kOr+U1De/Lsltpkv6Vjfst5mZZQ4QrJorgYMk9QOGA38trDsBuD0itgf2AE7PiZaeB/aKiG2BUcBZuf7ngVtyRsltgKnFDUn6QK6/S66zkJRIagSwfkRsFRFbAxdXG6jTPZuZNYZvUrQKETEtJ0w6GPhT2eq9gc9IOi6/70dK7DQHOEfSCNJJ/v15/STgIkkrA9dGxNSy/j4KbAdMylmoVyMFGzcAG0k6m5Q8anyNsTrds5lZAzhAsFquB84gpXxeu1Au4ICIeKxYOSd6eo40S9AHeBMgIiZI2o10yeJySadHxGVl/V0aEf9TPgBJ2wAfA74BfA74SpfsmZmZdciXGKyWi4AfRMT0svJbgKOUv+5LGpnLBwHPRsQi4ItA37x+Q+D5iLgA+BWwbVl/twEHSlo3119L0ob5Fw59IuJq4HtV2pmZWQN5BsGqioingZ9XWXUK8DNgWg4SZgOfAs4Drpb0WeAO0q8hIM1AfFvS28A84NCy7Tws6URgvKQ+wNukGYP5wMW5DKBihqHc1usPos3PPTAz6xKK8GVb6xlaW1ujra2t2cMwM1uhSJocEa3l5b7EYGZmZhUcIJiZmVkFBwhmZmZWwQGCmZmZVXCAYGZmZhUcIJiZmVkFPwfBeozpz8ylZcxNVdfN9vMRzMw6xTMIDSTpGEn9mz2O7iJpXv53mKSr8vIISfs0d2RmZtZZDhDKSOrKWZVjgF4TIJRExJyIODC/HQF0KkBQ4r9NM7Mm6nH/E5bUIulRSZdKmibpqtK3eEnbSbpL0mRJt0gamsvvlPQjSXcB35S0vaT7JD0k6QFJa0jqK+l0SZNyv/+V2+6e21+Vt/ubfII7GhgG3CHpjlz3Fzk18UxJJxfGvE9ue4+ksyTdmMtXl3RR3uYUSfvW2OdvF8Z1ci7bX9Jf8liGSnpc0n9IGi3pOkk3S3pM0vcL/Xwh7+9USb+UVMqnME/Sqfl4TJS0Xi5/n6T787ZPKfsMZkhaBfgBMCr3OUrSWC3JBEmu15Jfj0g6D3gQeG+1/TIzs+7R4wKEbDNgXEQMB14Fvq6Ubvhs4MCI2I6UjOjUQpvBEfHhXOd3wDcjYhtgT1JegP8E5kbE9sD2wGGS3pfbjiTNFmwBbATsEhFnkVIg7xERe+R6J+THWQ4HPixpuKR+wC+BT0TErsA6hTGdANyet7kHcLqk1Ys7KmlvYFNgB9K39e0k7RYR1wD/IuU1uAD4fkT8KzfbATgk1/+spFZJHwBG5bGPIKVsPiTXXx2YmI/HBOCwXP5z4Bd5fKW+F4uIBcBJwO8iYkRE/K68TpnNgMsiYmRertiv8gaSDs9BV9vCN+Z20L2ZmdWrp96k+M+IuDcv/xo4GrgZ2Aq4VSkRYV/g2UKb0slrM1JWwkkAEfEqLD4RD5dUmjofRDqBLQAeyMmNkDQVaAHuqTKuz0k6nHTch5ICij7AkxExK9e5Ajg8L+8NfKbwjbsfsAHwSKHPvfNrSn4/II9rAnAUMIN0cr+i0ObWiHgpj/ePwK7AO8B2wKR8fFYDns/1FwA35uXJwF55eRfggLx8OfCTKvvcGU9FxMQ69muxiBgHjANYdeimTixiZtZFemqAUH6iCEDAzIjYqUabUvZBVWlfKj8qIm5ZqlDaHXirULSQKsc1zzYcB2wfES9LuoR0wlc7+yHggIh4rIM6P46IX1ZZtz6wCFhPUp+cihlqH59LI6Ja1sS3Y0lWr/L96+xJ+R2WnrnqV1h+vbDc3n6ZmVmD9dRLDBtIKgUCB5O+zT8GrFMql7SypC2rtH0UGCZp+1xvDaUbF28BvpYvVSDp/eXT/VW8BqyRlweSToBz8zX8TxS2t5Gklvx+VKH9LcBRyl/pJY2sso1bgK9IGpDrrC9p3Tzmi4HPk2Ycji202UvSWpJWA/YD7gVuAw6UtG7uZy1JG3awf/cCB+XlQ2rUKR4DSOmht83b2BZ4X5U2Nferg/GYmVkX6akzCI8AX5L0S+AJ0nXyBfnywFmSBpH2/WfAzGLDXG8UcHY+gc4n3YdwIenSwYP5hP0C6eTannHAnyU9GxF7SJqSt/ck6eRKRMyX9HXgZkkvAg8U2p+Sxzgtb3M28Kmy8Y7P9w/cn+OIecAXgCOAuyPi7nzZY5Kk0kMC7iFdEtgE+G1EtAFIOhEYr/QLgrdJ9y881c7+fRP4raRvAlfXqHMHMCaP4ce53qGlMQGPV2vUzn49X60+wNbrD6LNzzswM+sSWjJz3DPkb+I3RsRWzR5LvSQNiIh5OQg4F3giIs5s0LZGA60RcWQj+m+m1tbWaGtra/YwzMxWKJIm5xvol9JTLzGsaA7L36hnkm5+9HV3MzNrqh43g2C9l2cQzMw6zzMIZmZmVjcHCGZmZlbBAYKZmZlV6Kk/c7ReqL10z+CUz2ZmneEZBOuQUuKnkLR5ft8iacYy9jVb0pBO1B8t6Zxl2ZaZmS07BwhWj9LTKA/qqKKZmfUMDhCsXflRx7uQsllWBAhKabDPkDQ9p2U+Kpd/VClF9XSllNWrFpodJenBvK40K7GWpGtzHxMlDe+O/TMzs+ocIFhH9gNujojHgX/n/AlFh5PyKYzM6bV/k1NYXwKMioitSfe6fK3Q5sWI2Bb4BSmBFcDJwJTcx3eBy+oZnNM9m5k1hgME68jBwJV5+cr8vmhP4PyIeAcgIv5NSpk9KwcVAJcCuxXa/DH/O5mU3wJSyunLcx+3A2vnnBntiohxEdEaEa19+3dY3czM6uRfMVhNktYGPgJsJSmAvqT0zucVq1GZ8rm9FNawJD12MXV0tTZ+zKeZWZN4BsHacyBwWURsGBEtEfFeYBbwnkKd8cAROb00ktYipbBukbRJrvNF4K4OtjWBnDJa0u6kyxCvdtWOmJlZ53gGwdpzMHBaWdnVpHsESi4E3k9KSf02cEFEnCPpy8AfcuAwCTi/g22NBS6WNA14A/hSZwfrdM9mZl3HyZqsx3CyJjOzznOyJjMzM6ubAwQzMzOr4ADBzMzMKjhAMDMzswoOEMzMzKyCAwQzMzOr4OcgWI8x/Zm5tIy5qeb62X5GgplZ3TyDYA0laT1Jv5X0pKTJku6XtL+k3SXNzRkfH5M0QdKnCu3GSnpG0lRJMyR9ppn7YWbW23gGwRpGkoBrgUsj4vO5bEPgM8DLwN0R8alcPgK4VtL8iLgtd3FmRJwh6QPA3ZLWjYhF3b0fZma9kWcQrJE+AiyIiMWPWY6IpyLi7PKKETEV+AFwZJV1jwDvAEMaN1QzMytygGCNtCXwYCfqPwhsXl4oaUdgEfBClXWHS2qT1LbwjbnLPFAzM1uaAwTrNpLOlfSQpEm1qpS9/5akqcAZwKiokjgkIsZFRGtEtPbtP6iLR2xm1nv5HgRrpJnAAaU3EfENSUOAWhmVRgKPFN6fGRFnNHB8ZmZWg2cQrJFuB/pJ+lqhrH+1ipKGA98Dzu2OgZmZWfs8g2ANExEhaT/gTEnfId1D8DpwfK7yIUlTSEHD88DRhV8wdNrW6w+izc86MDPrEg4QrKEi4lngoBqra940EBFjGzIgMzOriy8xmJmZWQUHCGZmZlbBAYKZmZlVcIBgZmZmFRwgmJmZWQX/isF6jI7SPYNTPpuZ1cszCNblJC0spGn+g6SqD0fKdUdLOicvHyHp0O4bqZmZ1eIAwRphfkSMiIitgAXAEfU0iojzI+Kyxg7NzMzq4QDBGu1uYBNJa0m6VtI0SRPzo5WXImmspOPy8ohcb5qkaySt2e0jNzPrxRwgWMNIWgn4BDAdOBmYEhHDge8CHc0UXAYcn+tPB75fYxtO92xm1gAOEKwRVstpmtuAfwC/AnYFLgeIiNuBtSVVfdRyLh8cEXflokuB3arVdbpnM7PG8K8YrBHmR8SIYoEkVakX3TMcMzPrLM8gWHeZABwCIGl34MWIeLVaxYiYC7ws6UO56IvAXdXqmplZY3gGwbrLWOBiSdOAN4AvdVD/S8D5+SeSTwJf7mgDTvdsZtZ1FOFZXusZWltbo62trdnDMDNboUiaHBGt5eW+xGBmZmYVHCCYmZlZBQcIZmZmVsEBgpmZmVVwgGBmZmYVHCCYmZlZBT8HwXqM6c/MpWXMTe3Wme3nJJiZ1cUzCD2cpIWSpkqaKekhScdK6pPXtUo6q4P2u0u6sca6Y/KDjErv573LsXY4HjMz6x6eQej5FudFkLQu8FtgEPD9iGgjJVRaVscAvyY9GfFdkbRSF4zHzMy6iGcQepGIeB44HDhSyeLZAUljJV0u6XZJT0g6rNB0gKSrJD0q6Te57dHAMOAOSXeUKko6Nc9UTJS0Xi5bR9LVkibl1y6FbY6TNB64rGw8O0i6T9KU/O9m3XOUzMwMHCD0OhHxJOlzX7fK6uHAJ4GdgJMkDcvlI0mzBVsAGwG7RMRZwBxgj4jYI9dbHZgYEduQkjOVgoyfA2dGxPbAAcCFhW1uB+wbEZ8vG8ujwG4RMRI4CfhRtf2RdLikNkltC9+YW88hMDOzOvgSQ+9ULfUywHURMR+Yn2cFdgBeAR6IiKcBJE0FWoB7qrRfAJTuV5gM7JWX9wS2KGR8Hihpjbx8fd5muUHApZI2JaWFXrnagCNiHDAOYNWhmzqxiJlZF3GA0MtI2ghYCDwPfKBsdfkJtvT+rULZQmr/3bwdS7J/Fev1AXYqDwRywPB6jb5OAe6IiP0ltQB31qhnZmYN4EsMvYikdYDzgXOiehrPfSX1k7Q2sDswqYMuXwPW6KAOwHjgyMI4RtTRZhDwTF4eXUd9MzPrQp5B6PlWy5cFVgbeAS4H/q9G3QeAm4ANgFMiYo6k97fT9zjgz5KeLdyHUM3RwLmSppH+5iYAR3Qw7p+SLjEcC9zeQV0Atl5/EG1+zoGZWZdQ9S+S1ttIGgvMi4gzmj2WZdXa2hptbf6VpJlZZ0iaHBGt5eW+xGBmZmYVfInBAIiIsc0eg5mZLT88g2BmZmYVHCCYmZlZBQcIZmZmVsH3IFiPUU+65yKnfjYzq80zCA0gae2cYnmqpH9JeqbwfpWyukulTG6nzzslVfwMZXkh6RJJB+blCyVtkZe/29yRmZnZsnCA0AAR8VJEjMhpls8nJSoakV8LyqofA3QYIKxIIuKrEfFwftvpAEGSZ7bMzJrMAUI3kfTRnLp4uqSLJK1aLWWypF/k7IQzJZ1cR7/bSbpL0mRJt0gaKmmQpMdKKZIlXVFK3yxpnqT/lfSgpNvy45eRtLGkm3M/d0vaPJdfIumsnHL5ycIsgSSdI+lhSTdRyA5Zmu2QdBr5SY45TXSLpBmFesflBzSV2vxI0l3AN6vtV1d8DmZmVh8HCN2jH3AJMCoitibd+/G1GimTT8hPtBoOfFjS8FqdSloZOBs4MCK2Ay4CTo2IuaTcB5dIOghYMyIuyM1WBx6MiG2Bu4Dv5/JxwFG5n+OA8wqbGgrsCnwKOC2X7Q9sBmxNSuu8c/n4ImIMMD/PnBxSx3EaHBEfBs6qtl81joHTPZuZNYCncrtHX2BWRDye318KfAP4WZW6n5N0OOmzGQpsAUyr0e9mwFbArTkzYl/gWYCIuFXSZ4FzgW0KbRYBv8vLvwb+KGkA6QT/h0JK5lULba6NiEXAw5LWy2W7AVdExEJgjqS68iV0oDSumvtVzumezcwawwFC96iV0ngpkt5H+va+fUS8LOkS0uxDzSbAzIjYqUpffUjpnOcDawFP1+gjSDNJr+R7JqoppntWYbmzJ+R3WHrWqnzfSsep5n6ZmVn38CWG7tEPaJG0SX7/RdL0PiydMnkg6SQ5N39T/0QH/T4GrCNpJ0iXHCRtmdd9C3gEOBi4KF+OgPSZH5iXPw/cExGvArPyjEPp/oLirEM1E4CDJPXN9wfUyub4dmHbzwHr5l95rEq6ZNHZ/TIzs27gGYTu8SbwZdIU/krAJNKvG6AsZbKkKcBM4Eng3vY6jYgF+abBsyQNIn2eP5P0NvBVYIeIeE3SBOBE0v0GrwNbSpoMzAVG5e4OAX4h6URSaugrgYfa2fw1wEeA6cDjLAl4yo0Dpkl6MCIOkfQD4K/ALODRzuxXPi41Od2zmVnXcbrnXkbSvIgY0OxxNILTPZuZdZ6c7tnMzMzq5QChl+mpswdmZta1HCCYmZlZBQcIZmZmVsEBgpmZmVVwgGBmZmYV/BwE6zGmPzOXljE3dXm/s/1sBTPrhTyDUIOkwZK+Xni/u6Qba9S9UNIW3Te6+uQnFt6RMziesyz1JI2SNC1nl/xp40dtZmbLAwcItQ0Gvt5RJYCI+GpEPNzY4SyTN4HvkfI7dLqepLWB04GPRsSWwHqSPtqIgZbLT5w0M7MmcYBQ22nAxpKmSjo9lw2QdJWkRyX9RjnVoKQ7JbXm5XmSTpX0kKSJpeyHki6RdJak+yQ9mR8lTF73bUmT8jf1k3PZ6pJuyv3MkDQql58m6eFc94z2diAiXo+Ie0gBwLLU2wh4PCJeyO//AhxQrCCpj6QnJK1TeP83SUMkrSPp6rxvkyTtkuvskI/DlPzvZrl8tKQ/SLoBGC9pqKQJ+TOYIelD7e2HmZl1HX9Lq20MsFUpw6Gk3YGRwJbAHFKehF2Ae8rarQ5MjIgT8pT8YcAP87qhwK7A5sD1wFWS9gY2BXYgZTG8XtJuwDrAnIj4ZN7+IElrAfsDm0dESBrc9bu9lL8Bm0tqIWWD3A9YpVghIhZJ+jUpl8PPgD2BhyLiRUm/Bc6MiHskbQDcQsow+SiwW0S8I2lP4EcsCTx2AoZHxL8l/TdwS0ScKqkv0L98gEqpsQ8H6DtwnS7deTOz3swBQuc8EBFPA0iaCrRQGSAsAEr3KkwG9iqsuzYiFgEPl2YWgL3za0p+P4AUMNwNnCHpJ8CNEXF3nnZ/E7hQ0k2F7TRETjn9NeB3wCLgPtKsQrmLgOtIAcJXgItz+Z7AFnmiBWCgpDWAQcClkjYlpYxeudDXrRHx77w8iSWZKK+NiKlVxjiOlBCKVYdu6sQiZmZdxJcYOuetwvJCqgdYb8eSDFjldYrtVfj3xxExIr82iYhfRcTjwHakbIk/lnRSRLxDmmm4mvRt/uZl2QlJ++dp+6mlSyO1RMQNEbFjROxESsP8RJU6/wSek/QRYEfgz3lVH2Cnwr6tHxGvAacAd0TEVsCnSemwS14v9DsB2A14Brhc0qHLsr9mZtZ5DhBqew1Yoxu2cwvwFUkDACStL2ldScOANyLi18AZwLa5zqCI+BNwDDBiWTYYEdcUTtrtpj+UtG7+d03STZsX1qh6IfBr4PcRsTCXjQeOLPRVGu8g0kkfYHQ7294QeD4iLgB+BWzb3ljNzKzr+BJDDRHxkqR7Jc0gfSPu+h/Yp+2Ml/QB4P48FT8P+AKwCXC6pEXA28DXSAHLdZL6kWYevtVR/5JmAwOBVSTtB+xd7RcX7dT7uaRtcrUf5JmNaq4nXVq4uFB2NHCupGmkv7UJwBHAT0mXGI4Fbm9n+LsD35b0Num4tDuDsPX6g2jzMwvMzLqElsyGmy27fKnizIho2i8NWltbo62t3QkRMzMrI2lyRFRcbvYMgr1rksaQZjgOafZYzMysa/geBHvXIuK0iNgwP0vBzMx6AAcIZmZmVsEBgpmZmVVwgGBmZmYVHCCYmZlZBf+KwbqFpIWkp0KK9ITJIyPivpznYRbww4j4Xq47BHgW+GVEHClpLDAvItpNTjX9mbm0jGnI4yoaaraf3WBmyyHPIFh3mZ+f3LgN8D/AjwvrngQ+VXj/WWBmdw7OzMyW5gDBmmEg8HLh/XzgkUJeiFHA77t9VGZmtpgvMVh3WS1nwOxHSnv9kbL1VwIHSfoX6RLEHGBYR5063bOZWWN4BsG6S+kSw+bAx4HLVMgDTcpMuRdwMCm9dF0iYlxEtEZEa9/+g7p2xGZmvZgDBOt2EXE/MARYp1C2AJgM/DcpnbWZmTWRLzFYt5O0OdAXeAnoX1j1v8BdOZNmU8ZmZmaJAwTrLqV7ECD91PFLEbGwGAhExEzexa8XnO7ZzKzrOECwbhERfWuUzwa2qlJ+CXBJXh7buJGZmVk1vgfBzMzMKjhAMDMzswoOEMzMzKyCAwQzMzOr4ADBzMzMKjhAMDMzswr+maP1GCtquuflgVNOm1k5zyD0QpJOkDRT0jRJUyXtWKPeaEnndNE2Z0sakpfv64o+zcyscTyD0MtI2gn4FLBtRLyVT9qrdOcYImLn7tyemZl1nmcQep+hwIsR8RZARLwYEXMkbS/pPkkPSXpA0hq5/jBJN0t6QtJPS51IOljSdEkzJP2ko/IiSfPyv7tLulPSVZIelfSbUoZHSfvksnsknSXpxkYdEDMzq+QAofcZD7xX0uOSzpP0YUmrkFIsfzMitgH2BObn+iOAUcDWwChJ75U0DPgJ8JG8fntJ+9Uq72A8I4FjgC2AjYBdJPUDfgl8IiJ2pZD1sZykwyW1SWpb+Mbczh0JMzOryQFCLxMR84DtgMOBF0iBwX8Bz0bEpFzn1Yh4Jze5LSLmRsSbwMPAhsD2wJ0R8UKu9xtgt3bK2/NARDwdEYuAqUALsDnwZETMynWuaGd/xkVEa0S09u0/qFPHwszMavM9CL1QRCwE7gTulDQd+AYQNaq/VVheSPqbqZWLeVlyNHemfzMz6yaeQehlJG0madNC0QjgEdK9BtvnOmtIai94/CvwYUlDJPUFDgbuaqe8sx4FNpLUkt+PWoY+zMzsXfAMQu8zADhb0mDgHeBvpMsNF+fy1Uj3H+xZq4OIeFbS/wB3kL7t/ykirgOoVd4ZETFf0teBmyW9CDxQT7ut1x9Em3/Pb2bWJRRRa2bZrHkkDYiIeflXDecCT0TEme21aW1tjba2tu4ZoJlZDyFpckS0lpf7EoMtrw6TNBWYCQwi/arBzMy6iS8x2HIpzxa0O2NgZmaN4xkEMzMzq+AAwczMzCo4QDAzM7MKDhDMzMysQoc3KUqaFxEDumMwPYmkC4H/i4iHJX03In5UWHdfIzMaStocuJL0dMQDI+LvjdrW8mT6M3NpGXNTs4dh1uvM9vNHeiTPIDRIRHw1Ih7Ob79btq7R6Y73A66LiJHtBQf5aYfdooMnM5qZ2XKm7gChg9S8FamCJfWTdHFO/TtF0h657mhJ10q6QdIsSUdKOjbXmShprVxv45xmeLKku/O34vIxDShsY5qkA3J5rVTE8yT9JPf5F0k75H16UtJnCuO7Lm/7MUnfL7Q/Nvc5Q9IxuWx1STflfZ8haVQuv1NSq6TTgNUkTZX0m9I48r+SdHpuN73QtuaxLtv/EfmYTZN0jaQ1Je1Dyo74VUl3VGkzT9IPJP0V2EnSF/JnNlXSLyX1za9LCuP6Vq3tFfc1Lw+RNLtwLP8g6QZgfDuf196S7pf0YK4/IJefJunhXPeMev5Ozcysa3T2W91IYEtgDnAvKTXvA6SMgKMiYpKkgaRH9X4TICK2zif38ZLen/vZKvfVj/So3+MjYqSkM4FDgZ8B44AjIuIJSTsC55HSCBd9D5gbEVsD5BNkKeXwdsDLebv7RcS1wOqkbIPHS7oG+CGwFynV8KXA9bnfHfIY3wAmSbqJNF3/ZWBH0mOE/yrpLlKK4jkR8ck8hqVSCkbEGElHRsSIKsfz/5FyIWwDDMnbmlDrWAP3lLW/DDgqIu6S9APg+xFxjKTzgXkRUe2kujowIyJOkvQB4Hhgl4h4W9J5wCGkhxOtHxFb5X0aXGt7pGCkPTsBwyPi3zlYK/+8hgAnAntGxOuSjgeOlXQOsD+weUREYQxmZtYNOhsgPBARTwMoPeWuBZhLWargvH5X4Oxc9qikp4BSgHBHRLwGvCZpLnBDLp8ODM/fIHcG/lD44rxqlfHsCRxUehMRL0vajZxyOI+jlHL4WmABcHNhW2/lE+P0vC8lt0bES7n9H4FdSQHCNRHxeqH8Q7m/M/LJ78aIuLvjw7jYrsAVObviczng2B54lerHenGAkAORwRFRSoZ0KfCHOra5ELg6L3+UFEhNysd5NeB50uexkaSzgZtIQdaybu/WiPh3Xq72eX2KFKDdm8ewCnB/PgZvAhfmAO3Gap1LOpyUS4K+A9epYzhmZlaPzgYItVLzVkvo0F7K3mI/iwrvF+U++wCv1PjWXb6N8m23t923Y0nyicXbjYhFWvoaeXmfUavfiHhc0nbAPsCPJY2PiB90MO56xlrtWHeFN3NAUtr+pRHxPxUDk7YBPkZKBf054Fvt9PkOSy5X9Stb93qxW6p/XrdGxMFVxrADKYg5CDiSyhkkImIcabaJVYdu6sQiZmZdpCtuUnyU6qmCJ5Cmq8mXFjYAHqunwzwLMUvSZ3N75RNWufGkEwe53pp0TcrhvSStpZTZcD/SFP8EYD9J/SWtTpr+vjtf0ngjIn4NnAFsW6W/tyWtXKV8AjAqX/NfhzTTUVfmwoiYC7ws6UO56It0fj9vAw6UtC5A3ucN87R/n4i4mnQZZ9sOtjebNBMBcGA726v2eU0kXaraJJf1l/T+PIs0KCL+RLqMMaKT+2ZmZu/Cu/5WGhELlG6uK08VfB5wfp6+fwcYHRFvqfJeu1oOAX4h6URgZdLP9h4qq/ND4FxJM0jfsk+OiD/q3accvge4HNgE+G1EtAFIuoQlJ/ALI2KKpI8Bp0taBLwNfK1Kf+OAaZIejIhDCuXXkK7RP0T6Zv2diPiXqtyQWcOXSMe4P/Ak6R6JuuWfYJ5IuoTQJ4//G6TP8OJcBlCaYai1vTOA30v6InB7O5us9XmNBq6QVLqMdCLwGnCdpH6kz7G9GQzA6Z7NzLqS0z2XySer1og4sqO6tnxxumczs86T0z2bmZlZvfzwmjIRcQlwSZOHYWZm1lSeQTAzM7MKDhDMzMysggMEMzMzq+AAwczMzCr4JkXrMZzu2cx6o0al2/YMQi+nnFmy8H50TpSEpLGSjstlV5TVGyLphdLDjZQyaJ5QWH+dpPvL2oyVdFxevkQpm+dDkh6XdJmk9Qt1v6IlWR9nSNq36/fezMxqcYBg9fgj6fHT/QtlBwLXR0QpZ8THyYmwcubFbYHBkt7XTr/fjohtgM2AKcAdklaR9B7gBGDXiBgOfBCY1pU7ZGZm7XOAYB3KuTEmAJ8uFB8EXAEpVwYpV8KDed0BpIyQV1LI3thO/xERZwL/Aj4BrEt61PK8vH5eRMzqin0xM7P6OECw1SRNLb2AWpkoryCf7HOCqveT8l0AjAQeKmTKPDjXvyIv1+tBYHNSbornSAm7Lpb06VoNJB0uqU1S28I35nZiU2Zm1h4HCDY/IkaUXsBJNerdCOwqaSAp/fNVhbTRHwf+DCBpPVKSq3si4nHgHUlb1TkWAeR+P066jPE4cKaksdUaRMS4iGiNiNa+/QfVuRkzM+uIAwSrS0TMJ91jsD+FywvZ3qRUzgCjgDVJ3/5nAy3UcZkhGwk8krcXEfFARPw4tz/gXe6CmZl1ggME64wrgGOB9YCJAJIGAStFxEu5zsHAxyOiJSJagO3oIEBQcjQwFLhZ0jBJ2xaqjACe6sodMTOz9vk5CNYZ44FLgV8V7jfYC/gLgKQWYANy8AAQEbMkvSppxyr9nS7pe0D/3GaPiFggaWXgjHyvw5vAC8ARHQ1u6/UH0dag3wObmfU2WvL/ebPOk3QhcGFETOywcoO1trZGW1tbs4dhZrZCkTQ5IlrLyz2DYO9KRHy12WMwM7Ou53sQzMzMrIIvMViPIek14LFmj6OKIcCLzR5EFR5X/ZbHMYHH1VkeV3UbRsQ65YW+xGA9yWPVrqM1m6Q2j6t+y+O4lscxgcfVWR5X5/gSg5mZmVVwgGBmZmYVHCBYTzKu2QOowePqnOVxXMvjmMDj6iyPqxN8k6KZmZlV8AyCmZmZVXCAYGZmZhUcINhyT9LHJT0m6W+SxlRZL0ln5fXTiomeOmrbxHHNljRd0lRJXfp86DrGtbmk+yW9Jem4zrRt4riaebwOyZ/fNEn3Sdqm3rZNHFczj9e+eUxTJbVJ2rXetk0cV9OOV6He9pIWSjqws20bJiL88mu5fQF9gb8DGwGrAA8BW5TV2Qf4MyDgg8Bf623bjHHldbOBIU06XusC2wOnAsd1pm0zxrUcHK+dgTXz8ieWo7+vquNaDo7XAJbc3zYceHQ5OV5Vx9Xs41WodzvwJ+DARh+vel+eQbDl3Q7A3yLiyYhYAFwJ7FtWZ1/gskgmAoMlDa2zbTPG1Ugdjisino+IScDbnW3bpHE1Uj3jui8iXs5vJwLvqbdtk8bVSPWMa17kMxywOhD1tm3SuBqp3n0+CrgaeH4Z2jaMAwRb3q0P/LPw/ulcVk+deto2Y1yQ/uc0XtJkSYd30ZjqHVcj2ja67+XleP0naVZoWdp217igycdL0v6SHgVuAr7SmbZNGBc08XhJWh/YHzi/s20bzY9atuWdqpSVR/616tTTdlm9m3EB7BIRcyStC9wq6dGImNBN42pE20b33fTjJWkP0om4dO16uTheVcYFTT5eEXENcI2k3YBTgD3rbduEcUFzj9fPgOMjYqG0VPVGHq+6eAbBlndPA+8tvH8PMKfOOvW0bca4iIjSv88D15CmE7trXI1o29C+m328JA0HLgT2jYiXOtO2CeNq+vEqjGMCsLGkIZ1t243javbxagWulDQbOBA4T9J+dbZtrO684cEvvzr7Is1yPQm8jyU36mxZVueTLH0z4AP1tm3SuFYH1igs3wd8vLvGVag7lqVvUmzq8WpnXE09XsAGwN+AnZd1n7p5XM0+Xpuw5GbAbYFn8n8DzT5etca1XPz3mOtfwpKbFBt2vOp9+RKDLdci4h1JRwK3kO7qvSgiZko6Iq8/n3Tn7z6k/1m+AXy5vbbNHhewHmmaE9L/BH4bETd317gk/QfQBgwEFkk6hnR39KvNPF61xkVKhdu04wWcBKxN+mYH8E5EtC4Hf19Vx0WT/76AA4BDJb0NzAdGRTrjNft4VR2XpGYfr0617Ypx1cuPWjYzM7MKvgfBzMzMKjhAMDMzswoOEMzMzKyCAwQzMzOr4ADBzMzMKjhAMLPlXs5yN7XwalmGPvaTtEUDhoekFkkzGtF3O9scIWmf7tym9S5+DoKZrQjmR8SId9nHfsCNwMP1NpC0UkS88y632+UkrQSMID2F70/NHY31VJ5BMLMVkqTtJN2VE+zcUsqUKekwSZMkPSTpakn9Je0MfAY4Pc9AbCzpTkmtuc2Q/KhbJI2W9AdJN5AS+Kwu6aLc5xRJ7WbUy+2vlXSDpFmSjpR0bG47UdJaud6dkn4m6T5JMyTtkMvXyu2n5frDc/lYSeMkjQcuA34AjMr7M0rSDrmvKfnfzQrj+aOkmyU9IemnhbF+XNKD+Vjdlss6tb/Wc3kGwcxWBKtJmpqXZwGfA84m5SB4QdIo4FRShr4/RsQFAJJ+CPxnRJwt6Xrgxoi4Kq9rb3s7AcMj4t+SfgTcHhFfkTQYeEDSXyLi9XbabwWMBPqRnqR5fESMlHQmcCgpQQ/A6hGxs1LyoItyu5OBKRGxn6SPkIKBEbn+dsCuETFf0migNSKOzPszENgtP4FvT+BHpKcHktuPBN4CHpN0NvAmcEFuM6sUuAAnLMP+Wg/kAMHMVgRLXWKQtBXpZHprPtH3BZ7Nq7fKgcFgYADpUbWddWtE/Dsv7w18RtJx+X0/Uh6ER9ppf0dEvAa8JmkucEMunw4ML9S7AlLyIEkD8wl5V/KJPSJul7S2pEG5/vURMb/GNgcBl0ralJT1b+XCutsiYi6ApIeBDYE1gQkRMStv693sr/VADhDMbEUkYGZE7FRl3SXAfhHxUP6WvXuNPt5hyWXWfmXrit+WBRwQEY91YnxvFZYXFd4vYun/75Y/676jNOXtfYs/hRSY7J9v4ryzxngW5jGoyvZh2fbXeiDfg2BmK6LHgHUk7QQgaWVJW+Z1awDPSloZOKTQ5rW8rmQ2acoeUprdWm4BjlKeqpA08t0Pf7FRuc9dgbn5W/4E8rgl7Q68GBGvVmlbvj+DSBkKAUbXse37gQ9Lel/eVukSQyP311YgDhDMbIUTEQtIJ/WfSHoImArsnFd/D/grcCvwaKHZlcC38413GwNnAF+TdB8pY2Qtp5Cm66cp/ZTxlC7clZfz9s8H/jOXjQVaJU0DTgO+VKPtHcAWpZsUgZ8CP5Z0L+mSS7si4gXgcOCP+Rj+Lq9q5P7aCsTZHM3MmkDSncBxEdHW7LGYVeMZBDMzM6vgGQQzMzOr4BkEMzMzq+AAwczMzCo4QDAzM7MKDhDMzMysggMEMzMzq/D/AVCjw2rXKqwBAAAAAElFTkSuQmCC\n",
>>>>>>> upstream/main
      "text/plain": [
       "<Figure size 432x288 with 1 Axes>"
      ]
     },
     "metadata": {
      "needs_background": "light"
     },
     "output_type": "display_data"
    }
   ],
   "source": [
    "feat_imp = pd.Series(best_regressor.feature_importances_,\n",
    "             index = X_who.columns).sort_values(ascending = False)\n",
    "fig, ax = plt.subplots()\n",
    "feat_imp.plot(kind = 'barh', ax = ax)\n",
    "ax.set_xlabel('Feature Importance')\n",
    "ax.set_title('XGB Regressor: Feature Importances')\n",
    "plt.show()"
   ]
  },
  {
   "cell_type": "markdown",
   "metadata": {
    "cell_style": "center",
    "slideshow": {
     "slide_type": "slide"
    }
   },
   "source": [
    "Exact same with classification:\n",
    "- XGBClassifier()\n",
    "- basically same hyperparameters\n",
    "- just different objective function\n"
   ]
  },
  {
   "cell_type": "markdown",
   "metadata": {
    "cell_style": "center",
    "slideshow": {
     "slide_type": "slide"
    }
   },
   "source": [
    "#### Gradient boosting\n",
    "\n",
    "- Needs tuning\n",
    "- But extremely fast and effective (as has been seen)\n",
    "- Along with random forest: workhorse of classification/regression in many professional workflows."
   ]
  }
 ],
 "metadata": {
  "celltoolbar": "Slideshow",
  "kernelspec": {
   "display_name": "Python (learn-env)",
   "language": "python",
   "name": "learn-env"
  },
  "language_info": {
   "codemirror_mode": {
    "name": "ipython",
    "version": 3
   },
   "file_extension": ".py",
   "mimetype": "text/x-python",
   "name": "python",
   "nbconvert_exporter": "python",
   "pygments_lexer": "ipython3",
   "version": "3.8.5"
  }
 },
 "nbformat": 4,
 "nbformat_minor": 2
}
